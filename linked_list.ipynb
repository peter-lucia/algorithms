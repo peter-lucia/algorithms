{
 "cells": [
  {
   "cell_type": "markdown",
   "source": [
    "# Linked List\n",
    "\n",
    "#### Reverse a linked list"
   ],
   "metadata": {
    "collapsed": false,
    "pycharm": {
     "name": "#%% md\n"
    }
   }
  },
  {
   "cell_type": "code",
   "execution_count": 8,
   "metadata": {
    "collapsed": true,
    "pycharm": {
     "name": "#%%\n"
    }
   },
   "outputs": [
    {
     "name": "stdout",
     "output_type": "stream",
     "text": [
      "Original:\n",
      "\n",
      "1\n",
      "2\n",
      "3\n",
      "4\n",
      "5\n",
      "\n",
      "Reversed:\n",
      "\n",
      "5\n",
      "4\n",
      "3\n",
      "2\n",
      "1\n"
     ]
    }
   ],
   "source": [
    "from typing import Optional\n",
    "\n",
    "# Definition for singly-linked list.\n",
    "class ListNode:\n",
    "    def __init__(self, val=0, next=None):\n",
    "        self.val = val\n",
    "        self.next = next\n",
    "class Solution:\n",
    "    def printList(self, head: Optional[ListNode]):\n",
    "        while head:\n",
    "            print(head.val)\n",
    "            head = head.next\n",
    "\n",
    "    def reverseList(self, head: Optional[ListNode]) -> Optional[ListNode]:\n",
    "        # need three pointers: head, prev, and tmp\n",
    "        prev = None\n",
    "        while head:\n",
    "            # backup node after head\n",
    "            tmp = head.next\n",
    "\n",
    "            # point head in opposite direction\n",
    "            head.next = prev\n",
    "\n",
    "            # move prev forward\n",
    "            prev = head\n",
    "\n",
    "            # restore backup\n",
    "            head = tmp\n",
    "\n",
    "        # Set head back to prev since it will be None at the end\n",
    "        head = prev\n",
    "        return head\n",
    "\n",
    "a = ListNode(1)\n",
    "b = ListNode(2)\n",
    "c = ListNode(3)\n",
    "d = ListNode(4)\n",
    "e = ListNode(5)\n",
    "\n",
    "a.next = b\n",
    "b.next = c\n",
    "c.next = d\n",
    "d.next = e\n",
    "\n",
    "print(\"Original:\\n\")\n",
    "sol = Solution()\n",
    "sol.printList(a)\n",
    "a = Solution().reverseList(a)\n",
    "print(\"\\nReversed:\\n\")\n",
    "sol.printList(a)"
   ]
  },
  {
   "cell_type": "code",
   "execution_count": null,
   "outputs": [],
   "source": [],
   "metadata": {
    "collapsed": false,
    "pycharm": {
     "name": "#%%\n"
    }
   }
  }
 ],
 "metadata": {
  "kernelspec": {
   "display_name": "Python 3",
   "language": "python",
   "name": "python3"
  },
  "language_info": {
   "codemirror_mode": {
    "name": "ipython",
    "version": 2
   },
   "file_extension": ".py",
   "mimetype": "text/x-python",
   "name": "python",
   "nbconvert_exporter": "python",
   "pygments_lexer": "ipython2",
   "version": "2.7.6"
  }
 },
 "nbformat": 4,
 "nbformat_minor": 0
}