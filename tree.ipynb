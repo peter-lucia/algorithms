{
 "cells": [
  {
   "cell_type": "markdown",
   "metadata": {
    "pycharm": {
     "name": "#%% md\n"
    }
   },
   "source": [
    "[1. Bottom-View-Balanced-Binary-Tree-(queue)](#Bottom-View-Balanced-Binary-Tree-(queue))\n",
    "\n",
    "[2. Bottom View Binary Tree (hashmap)](#Bottom-View-Binary-Tree-(hashmap))"
   ]
  },
  {
   "cell_type": "code",
   "execution_count": 84,
   "metadata": {
    "jupyter": {
     "outputs_hidden": false
    },
    "pycharm": {
     "name": "#%%\n"
    }
   },
   "outputs": [],
   "source": [
    "from collections import defaultdict\n",
    "from typing import Optional, List\n"
   ]
  },
  {
   "cell_type": "markdown",
   "metadata": {
    "pycharm": {
     "name": "#%% md\n"
    }
   },
   "source": [
    "## Bottom View Balanced Binary Tree (queue)\n",
    "* similar to bfs\n",
    "* Use a lookup to map the horizontal distance to the node\n",
    "* Horizontal distance decreases when we visit the left node\n",
    "* Horizontal distance increases when we visit the right node\n",
    "* Basically modify BFS to append left and right nodes to the queue (if they exist) while updating horizontal distances for each node\n",
    "* At the end, the lookup will have only the bottom view nodes since each horizontal distance at the end will be unique"
   ]
  },
  {
   "cell_type": "code",
   "execution_count": 1,
   "metadata": {
    "jupyter": {
     "outputs_hidden": false
    },
    "pycharm": {
     "name": "#%%\n"
    }
   },
   "outputs": [],
   "source": [
    "# Python3 program to print Bottom\n",
    "# Source: https://www.geeksforgeeks.org/bottom-view-binary-tree/\n",
    "\n",
    "# Tree node class\n",
    "class Node:\n",
    "    def __init__(self, key):\n",
    "        self.val = key\n",
    "        self.hd = 0 # horizontal distance from center root node\n",
    "        self.left = None\n",
    "        self.right = None\n",
    "\n",
    "def binary_tree_bottom_view(root):\n",
    "    \"\"\"\n",
    "    Use horizontal distance to determine order of bottom view\n",
    "\n",
    "    At the end we will have the following left to right bottom view\n",
    "    {\n",
    "        # horizontal dist: node.val\n",
    "        -2: 5,\n",
    "        -1: 10,\n",
    "         0: 4,\n",
    "         1: 14,\n",
    "         2: 25,\n",
    "    }\n",
    "    \"\"\"\n",
    "\n",
    "    if root is None:\n",
    "        return\n",
    "\n",
    "\n",
    "    lookup = dict()\n",
    "\n",
    "    # Queue to store tree nodes in level\n",
    "    # order traversal\n",
    "    queue = []\n",
    "\n",
    "    # Assign initialized horizontal distance\n",
    "    # value to root node and add it to the queue.\n",
    "    root.hd = 0\n",
    "\n",
    "    # In STL, append() is used enqueue an item\n",
    "    queue.append(root)\n",
    "\n",
    "    while queue:\n",
    "        node = queue.pop(0)\n",
    "\n",
    "        # We always want to update the lookup with\n",
    "        # this node's position and value\n",
    "        lookup[node.hd] = node\n",
    "\n",
    "        # Add left child to queue with hd = hd - 1\n",
    "        if node.left is not None:\n",
    "            node.left.hd = node.hd - 1\n",
    "            queue.append(node.left)\n",
    "\n",
    "        # Add right child to queue with hd = hd + 1\n",
    "        if node.right is not None:\n",
    "            node.right.hd = node.hd + 1\n",
    "            queue.append(node.right)\n",
    "\n",
    "    # Sort the map based on increasing hd for left to right bottom view\n",
    "    for i in sorted(lookup.keys()):\n",
    "        print(lookup[i].val, end = ' ')"
   ]
  },
  {
   "cell_type": "markdown",
   "metadata": {
    "pycharm": {
     "name": "#%% md\n"
    }
   },
   "source": [
    "Balanced Binary Trees\n",
    "* Access is O(logn) in the worst case\n",
    "* Space complexity is the same as the unbalanced binary tree O(n)\n",
    "```\n",
    "\n",
    "                      20\n",
    "                    /    \\\n",
    "                  8       22\n",
    "                /   \\    /   \\\n",
    "              5      3  4    25\n",
    "                    / \\\n",
    "                  10    14\n",
    "```"
   ]
  },
  {
   "cell_type": "code",
   "execution_count": 3,
   "metadata": {
    "jupyter": {
     "outputs_hidden": false
    },
    "pycharm": {
     "name": "#%%\n"
    }
   },
   "outputs": [
    {
     "name": "stdout",
     "output_type": "stream",
     "text": [
      "Bottom view of the given binary tree :\n",
      "5 10 4 14 25 "
     ]
    }
   ],
   "source": [
    "# Driver Code\n",
    "root = Node(20)\n",
    "root.left = Node(8)\n",
    "root.right = Node(22)\n",
    "root.left.left = Node(5)\n",
    "root.left.right = Node(3)\n",
    "root.right.left = Node(4)\n",
    "root.right.right = Node(25)\n",
    "root.left.right.left = Node(10)\n",
    "root.left.right.right = Node(14)\n",
    "print(\"Bottom view of the given binary tree :\")\n",
    "binary_tree_bottom_view(root)"
   ]
  },
  {
   "cell_type": "markdown",
   "metadata": {
    "pycharm": {
     "name": "#%% md\n"
    }
   },
   "source": [
    "Unbalanced binary trees\n",
    "* Access time complexity is O(n) in the worst case\n",
    "* Space complexity is the same as the balanced binary tree O(n)\n",
    "```\n",
    "                      20\n",
    "                    /    \\\n",
    "                  2       22\n",
    "                         /\n",
    "                        4\n",
    "                       /\n",
    "                      8\n",
    "```"
   ]
  },
  {
   "cell_type": "code",
   "execution_count": 4,
   "metadata": {
    "pycharm": {
     "name": "#%%\n"
    }
   },
   "outputs": [
    {
     "name": "stdout",
     "output_type": "stream",
     "text": [
      "8 4 22 "
     ]
    }
   ],
   "source": [
    "# This shows that the algorithm does not work on unbalanced binary trees\n",
    "root = Node(20)\n",
    "root.left = Node(2)\n",
    "root.right = Node(22)\n",
    "root.right.left = Node(4)\n",
    "root.right.left.left = Node(8)\n",
    "binary_tree_bottom_view(root)"
   ]
  },
  {
   "cell_type": "markdown",
   "metadata": {
    "pycharm": {
     "name": "#%% md\n"
    }
   },
   "source": [
    "#### Bottom View Binary Tree (hashmap)"
   ]
  },
  {
   "cell_type": "code",
   "execution_count": 1,
   "metadata": {
    "jupyter": {
     "outputs_hidden": false
    },
    "pycharm": {
     "name": "#%%\n"
    }
   },
   "outputs": [
    {
     "name": "stdout",
     "output_type": "stream",
     "text": [
      "Bottom view of the given binary tree:\n",
      "{'start-left': [2, 1], 'start-right-left-left': [8, 3]}\n",
      "2 8 "
     ]
    }
   ],
   "source": [
    "class Node:\n",
    "    def __init__(self, key = None,\n",
    "                      left = None,\n",
    "                     right = None):\n",
    "        self.val = key\n",
    "        self.left = left\n",
    "        self.right = right\n",
    "\n",
    "def bottom_view_hashmap(root):\n",
    "    \"\"\"\n",
    "    key = relative horizontal distance of the node from root node and\n",
    "    value = pair containing node's value and its level\n",
    "    {\n",
    "        # horizontal dist: (node.val, node's level)\n",
    "        -2: (5, 2),\n",
    "        -1: (10, 3,\n",
    "         0: (4, 2)\n",
    "         1: (14, 3),\n",
    "         2: (25, 2),\n",
    "    }\n",
    "    \"\"\"\n",
    "    lookup = dict()\n",
    "\n",
    "    bottom_view_hashmap_util(root, lookup, 0, 0, \"start\")\n",
    "\n",
    "    print(lookup)\n",
    "    # print the bottom view\n",
    "    for key in sorted(lookup.keys()):\n",
    "        print(lookup[key][0], end = \" \")\n",
    "\n",
    "def bottom_view_hashmap_util(root, lookup, hd, level, path):\n",
    "\n",
    "    if root is None:\n",
    "        return\n",
    "\n",
    "    # If current level is more than or equal\n",
    "    # to maximum level seen so far for the\n",
    "    # same horizontal distance or horizontal\n",
    "    # distance is seen for the first time,\n",
    "    # update the dictionary\n",
    "    if path in lookup:\n",
    "        if level >= lookup[path][1]:\n",
    "            lookup[path] = [root.val, level]\n",
    "    else:\n",
    "        lookup[path] = [root.val, level]\n",
    "\n",
    "    # this node has children, only its children should be in the lookup\n",
    "    if root.left or root.right:\n",
    "        del lookup[path]\n",
    "\n",
    "    # recurse for left subtree by decreasing\n",
    "    # horizontal distance and increasing\n",
    "    # level by 1\n",
    "    bottom_view_hashmap_util(root.left,\n",
    "                             lookup,\n",
    "                             hd - 1,\n",
    "                             level + 1,\n",
    "                             path + \"-left\")\n",
    "\n",
    "    # recurse for right subtree by increasing\n",
    "    # horizontal distance and increasing\n",
    "    # level by 1\n",
    "    bottom_view_hashmap_util(root.right,\n",
    "                             lookup,\n",
    "                             hd + 1,\n",
    "                             level + 1,\n",
    "                             path + \"-right\")\n",
    "\n",
    "\n",
    "\n",
    "#                 20\n",
    "#               /    \\\n",
    "#              2       22\n",
    "#                     /\n",
    "#                    4\n",
    "#                   /\n",
    "#                  8\n",
    "print(\"Bottom view of the given binary tree:\")\n",
    "root = Node(20)\n",
    "root.left = Node(2)\n",
    "root.right = Node(22)\n",
    "root.right.left = Node(4)\n",
    "root.right.left.left = Node(8)\n",
    "\n",
    "bottom_view_hashmap(root)"
   ]
  },
  {
   "cell_type": "code",
   "execution_count": 3,
   "metadata": {
    "pycharm": {
     "name": "#%%\n"
    }
   },
   "outputs": [
    {
     "name": "stdout",
     "output_type": "stream",
     "text": [
      "{'start-left-left': [5, 2], 'start-left-right-left': [10, 3], 'start-left-right-right': [14, 3], 'start-right-left': [4, 2], 'start-right-right': [25, 2]}\n",
      "5 10 14 4 25 "
     ]
    }
   ],
   "source": [
    "#                 20\n",
    "#               /    \\\n",
    "#              8       22\n",
    "#             / \\     /  \\\n",
    "#            5   3   4    25\n",
    "#               / \\\n",
    "#              10  14\n",
    "root = Node(20)\n",
    "root.left = Node(8)\n",
    "root.right = Node(22)\n",
    "root.left.left = Node(5)\n",
    "root.left.right = Node(3)\n",
    "root.right.left = Node(4)\n",
    "root.right.right = Node(25)\n",
    "root.left.right.left = Node(10)\n",
    "root.left.right.right = Node(14)\n",
    "bottom_view_hashmap(root)"
   ]
  },
  {
   "cell_type": "code",
   "execution_count": 5,
   "metadata": {
    "pycharm": {
     "name": "#%%\n"
    }
   },
   "outputs": [
    {
     "name": "stdout",
     "output_type": "stream",
     "text": [
      "{'start-left-right': [2, 2], 'start-right-left': [1, 2]}\n",
      "2 1 "
     ]
    }
   ],
   "source": [
    "#                 20\n",
    "#               /    \\\n",
    "#              8      4\n",
    "#               \\    /\n",
    "#                2  1\n",
    "root = Node(20)\n",
    "root.left = Node(8)\n",
    "root.right = Node(4)\n",
    "root.left.right = Node(2)\n",
    "root.right.left = Node(1)\n",
    "bottom_view_hashmap(root)\n",
    "# TODO: the lookup map needs to incorporate the nodes full path to be unique"
   ]
  },
  {
   "cell_type": "code",
   "execution_count": 6,
   "metadata": {
    "pycharm": {
     "name": "#%%\n"
    }
   },
   "outputs": [
    {
     "name": "stdout",
     "output_type": "stream",
     "text": [
      "2 has no children\n",
      "1 has no children\n",
      "2 1 "
     ]
    }
   ],
   "source": [
    "from typing import List\n",
    "def bottom_view_hashmap_dfs(start_node: Node):\n",
    "\n",
    "\n",
    "    def dfs(root: Node, leaves: List[Node]):\n",
    "\n",
    "        if root is None:\n",
    "            return\n",
    "\n",
    "\n",
    "        # pre-order traversal\n",
    "        if not root.left and not root.right:\n",
    "            print(f\"{root.val} has no children\")\n",
    "            leaves.append(root)\n",
    "\n",
    "        dfs(root.left, leaves)\n",
    "        dfs(root.right, leaves)\n",
    "\n",
    "\n",
    "\n",
    "\n",
    "    leaves = []\n",
    "    dfs(start_node, leaves)\n",
    "    for leaf in leaves:\n",
    "        print(f\"{leaf.val}\", end=\" \")\n",
    "\n",
    "#                 20\n",
    "#               /    \\\n",
    "#              8      4\n",
    "#               \\    /\n",
    "#                2  1\n",
    "root = Node(20)\n",
    "root.left = Node(8)\n",
    "root.right = Node(4)\n",
    "root.left.right = Node(2)\n",
    "root.right.left = Node(1)\n",
    "bottom_view_hashmap_dfs(root)\n"
   ]
  },
  {
   "cell_type": "markdown",
   "metadata": {
    "pycharm": {
     "name": "#%% md\n"
    }
   },
   "source": [
    "#### Top View Binary Tree\n",
    "Source: http://code2begin.blogspot.com/2018/07/top-view-of-binary-tree.html"
   ]
  },
  {
   "cell_type": "markdown",
   "metadata": {
    "pycharm": {
     "name": "#%% md\n"
    }
   },
   "source": [
    "#### Find Leaves of Binary Tree\n",
    "\n",
    "```text\n",
    "Input: root = [1,2,3,4,5]\n",
    "Output: [[4,5,3],[2],[1]]\n",
    "Explanation:\n",
    "[[3,5,4],[2],[1]] and [[3,4,5],[2],[1]] are also considered correct answers since per each level it does not matter the order on which elements are returned.\n",
    "\n",
    "Example 2:\n",
    "\n",
    "Input: root = [1]\n",
    "Output: [[1]]\n",
    "```"
   ]
  },
  {
   "cell_type": "markdown",
   "metadata": {
    "pycharm": {
     "name": "#%% md\n"
    }
   },
   "source": [
    "# Find leaves of a binary tree\n",
    "* https://leetcode.com/problems/find-leaves-of-binary-tree/\n"
   ]
  },
  {
   "cell_type": "code",
   "execution_count": 11,
   "metadata": {
    "jupyter": {
     "outputs_hidden": false
    },
    "pycharm": {
     "name": "#%%\n"
    }
   },
   "outputs": [
    {
     "name": "stdout",
     "output_type": "stream",
     "text": [
      "Bottom view: [8]\n",
      "Bottom view: [4]\n",
      "Bottom view: [22]\n",
      "Bottom view: [20]\n"
     ]
    },
    {
     "data": {
      "text/plain": [
       "[[2, 8], [4], [22], [20]]"
      ]
     },
     "execution_count": 11,
     "metadata": {},
     "output_type": "execute_result"
    }
   ],
   "source": [
    "\n",
    "from typing import Optional\n",
    "# Definition for a binary tree node.\n",
    "class TreeNode:\n",
    "    def __init__(self, val=0, left=None, right=None):\n",
    "        self.val = val\n",
    "        self.left = left\n",
    "        self.right = right\n",
    "class Solution:\n",
    "\n",
    "    def bottom_view_hashmap(self, root):\n",
    "        deleted_list = []\n",
    "        def util(root, lookup, hd, level, parent = None, is_left = True):\n",
    "            if root is None:\n",
    "                return\n",
    "\n",
    "            if hd in lookup:\n",
    "                # we've already seen this hd before, if the level is greater or equal,\n",
    "                # update the value at this horizontal distance to this node's value and its level\n",
    "                if level >= lookup[hd][1]:\n",
    "                    lookup[hd] = [root.val, level]\n",
    "            else:\n",
    "                # ensure the root's val and level are in the lookup\n",
    "                lookup[hd] = [root.val, level]\n",
    "\n",
    "            # this node has children, only its children should be in the lookup\n",
    "            if root.left or root.right:\n",
    "                del lookup[hd]\n",
    "\n",
    "            # recurse toward the left and right nodes. Will return None if they don't exist\n",
    "            # pass the parent node in and indicate if this node points left or right\n",
    "            # so we can chop off this node if it's a leaf\n",
    "            util(root.left, lookup, hd-1, level + 1, parent=root, is_left=True)\n",
    "            util(root.right, lookup, hd+1, level + 1, parent=root, is_left=False)\n",
    "\n",
    "\n",
    "            if not root.left and not root.right:\n",
    "                # add this node to deleted list then delete it\n",
    "                deleted_list.append((root.val, parent, is_left))\n",
    "\n",
    "        lookup = {}\n",
    "        util(root, lookup, 0, 0)\n",
    "        # the bottom view\n",
    "        print(f\"Bottom view: {[value[0] for _, value in lookup.items()]}\")\n",
    "        return deleted_list\n",
    "\n",
    "\n",
    "    def findLeaves(self, root: Optional[TreeNode]) -> List[List[int]]:\n",
    "\n",
    "        result = []\n",
    "        i = 0\n",
    "        while root:\n",
    "            temp_vals = []\n",
    "            # get the current bottom view\n",
    "            deletion_list = self.bottom_view_hashmap(root)\n",
    "            # add vals to result\n",
    "            for val, _, _ in deletion_list:\n",
    "                temp_vals.append(val)\n",
    "            result.append(temp_vals)\n",
    "            # delete the nodes in the deletion list\n",
    "            for val, parent, is_left in deletion_list:\n",
    "                if parent and is_left:\n",
    "                    parent.left = None\n",
    "                elif parent and not is_left:\n",
    "                    parent.right = None\n",
    "                if not parent:\n",
    "                    # we're at the root\n",
    "                    root = None\n",
    "        return result\n",
    "root = Node(20)\n",
    "root.left = Node(2)\n",
    "root.right = Node(22)\n",
    "root.right.left = Node(4)\n",
    "root.right.left.left = Node(8)\n",
    "Solution().findLeaves(root)"
   ]
  },
  {
   "cell_type": "code",
   "execution_count": 19,
   "metadata": {
    "pycharm": {
     "name": "#%%\n"
    }
   },
   "outputs": [
    {
     "data": {
      "text/plain": [
       "[[2, 1], [8, 4], [20]]"
      ]
     },
     "execution_count": 19,
     "metadata": {},
     "output_type": "execute_result"
    }
   ],
   "source": [
    "root = Node(20)\n",
    "root.left = Node(8)\n",
    "root.right = Node(4)\n",
    "root.left.right = Node(2)\n",
    "root.right.left = Node(1)\n",
    "Solution().findLeaves(root)"
   ]
  },
  {
   "cell_type": "code",
   "execution_count": 20,
   "metadata": {
    "pycharm": {
     "name": "#%%\n"
    }
   },
   "outputs": [],
   "source": [
    "import collections\n",
    "# Another solution similar to the last for findLeaves of a binary tree\n",
    "# https://leetcode.com/problems/find-leaves-of-binary-tree/\n",
    "# Definition for a binary tree node.\n",
    "# class TreeNode:\n",
    "#     def __init__(self, val=0, left=None, right=None):\n",
    "#         self.val = val\n",
    "#         self.left = left\n",
    "#         self.right = right\n",
    "class Solution:\n",
    "\n",
    "    def bottom_view_hashmap(self, root, lookup, level, path, parent, is_left, deleted_list):\n",
    "\n",
    "        if root is None:\n",
    "            return\n",
    "\n",
    "        if path in lookup:\n",
    "            if level >= lookup[path][1]:\n",
    "                lookup[path] = [root.val, level]\n",
    "        else:\n",
    "            lookup[path] = [root.val, level]\n",
    "\n",
    "\n",
    "\n",
    "        if root.left is None and root.right is None:\n",
    "            deleted_list.append(root.val)\n",
    "            if is_left:\n",
    "                parent.left = None\n",
    "\n",
    "            else:\n",
    "                parent.right = None\n",
    "            del lookup[path]\n",
    "            return\n",
    "\n",
    "        self.bottom_view_hashmap(root.left,\n",
    "                                lookup,\n",
    "                                level + 1,\n",
    "                                path + \"-left\",\n",
    "                                root,\n",
    "                                True,\n",
    "                                deleted_list)\n",
    "        self.bottom_view_hashmap(root.right,\n",
    "                                lookup,\n",
    "                                level + 1,\n",
    "                                path + \"-right\",\n",
    "                                root,\n",
    "                                False,\n",
    "                                deleted_list)\n",
    "\n",
    "\n",
    "    def findLeaves(self, root: TreeNode) -> List[List[int]]:\n",
    "        \"\"\"\n",
    "            Example:\n",
    "                      20                       20               20        20\n",
    "                    /    \\                   /    \\           /\n",
    "                  8       22               8       22       8\n",
    "                /   \\    /   \\              \\\n",
    "              5      3  4    25               3\n",
    "                    / \\\n",
    "                  10    14\n",
    "\n",
    "        - level 0 nodes: 5, 10, 14, 4, 25\n",
    "        - level 1 nodes: 3, 22\n",
    "        - level 2 nodes: 8\n",
    "        - level 3 nodes: 20\n",
    "        Output:\n",
    "        {\n",
    "            0: [5, 10, 14, 4, 25],\n",
    "            1: [3, 22],\n",
    "            2: [8],\n",
    "            3: [20]\n",
    "        }\n",
    "        \"\"\"\n",
    "        lookup = collections.defaultdict(list)\n",
    "        result = []\n",
    "        while root:\n",
    "            deleted_list = []\n",
    "            self.bottom_view_hashmap(root, lookup, 0, \"\", root, False, deleted_list)\n",
    "            result.append(deleted_list)\n",
    "            if not lookup:\n",
    "                break\n",
    "\n",
    "        return result"
   ]
  },
  {
   "cell_type": "code",
   "execution_count": 24,
   "metadata": {
    "pycharm": {
     "name": "#%%\n"
    }
   },
   "outputs": [
    {
     "data": {
      "text/plain": [
       "[[2, 1], [8, 4], [20]]"
      ]
     },
     "execution_count": 24,
     "metadata": {},
     "output_type": "execute_result"
    }
   ],
   "source": [
    "#              20\n",
    "#            /    \\\n",
    "#           8      4\n",
    "#            \\    /\n",
    "#             2  1\n",
    "root = Node(20)\n",
    "root.left = Node(8)\n",
    "root.right = Node(4)\n",
    "root.left.right = Node(2)\n",
    "root.right.left = Node(1)\n",
    "Solution().findLeaves(root)"
   ]
  },
  {
   "cell_type": "code",
   "execution_count": 25,
   "metadata": {
    "pycharm": {
     "name": "#%%\n"
    }
   },
   "outputs": [
    {
     "data": {
      "text/plain": [
       "[[2, 8], [4], [22], [20]]"
      ]
     },
     "execution_count": 25,
     "metadata": {},
     "output_type": "execute_result"
    }
   ],
   "source": [
    "#              20\n",
    "#            /    \\\n",
    "#           2      22\n",
    "#                 /\n",
    "#                4\n",
    "#               /\n",
    "#              8\n",
    "\n",
    "root = Node(20)\n",
    "root.left = Node(2)\n",
    "root.right = Node(22)\n",
    "root.right.left = Node(4)\n",
    "root.right.left.left = Node(8)\n",
    "Solution().findLeaves(root)"
   ]
  },
  {
   "cell_type": "markdown",
   "metadata": {
    "pycharm": {
     "name": "#%% md\n"
    }
   },
   "source": [
    "### Find minimum depth\n",
    "\n",
    "The minimum depth is the number of nodes along the shortest path from the root node down to the nearest leaf node.\n",
    "\n",
    "```\n",
    "       3\n",
    "     /   \\\n",
    "    9     20\n",
    "         /   \\\n",
    "       15     7\n",
    "\n",
    "Input: root = [3,9,20,null,null,15,7]\n",
    "Output: 2\n",
    "3 and 9 are the nodes in the shortest path\n",
    "\n",
    "Input: root = [2,null,3,null,4,null,5,null,6]\n",
    "Output: 5\n",
    "```\n",
    "\n",
    "This is a direct application of bfs"
   ]
  },
  {
   "cell_type": "code",
   "execution_count": 8,
   "metadata": {
    "jupyter": {
     "outputs_hidden": false
    },
    "pycharm": {
     "name": "#%%\n"
    }
   },
   "outputs": [
    {
     "data": {
      "text/plain": [
       "2"
      ]
     },
     "execution_count": 8,
     "metadata": {},
     "output_type": "execute_result"
    }
   ],
   "source": [
    "# Definition for a binary tree node.\n",
    "class TreeNode:\n",
    "    def __init__(self, val=0, left=None, right=None):\n",
    "        self.val = val\n",
    "        self.left = left\n",
    "        self.right = right\n",
    "\n",
    "    def __repr__(self):\n",
    "        return str({\n",
    "            \"val\": self.val if self.val else None,\n",
    "            \"left\": self.left.val if self.left else None,\n",
    "            \"right\": self.right.val if self.right else None,\n",
    "        })\n",
    "\n",
    "class Solution:\n",
    "    def minDepth(self, root: Optional[TreeNode]) -> int:\n",
    "\n",
    "        if root is None:\n",
    "            return 0\n",
    "\n",
    "        def bfs(visited: List[TreeNode], node: TreeNode):\n",
    "            queue = []\n",
    "            depth = 1\n",
    "            queue.append((node, depth))\n",
    "\n",
    "            while queue:\n",
    "                # if neighbor is not visited, add it to the queue\n",
    "                elem, depth = queue.pop(0)\n",
    "                visited.append(elem)\n",
    "\n",
    "                if elem.left is None and elem.right is None:\n",
    "                    return depth\n",
    "\n",
    "                if elem.left and elem.left not in visited:\n",
    "                    queue.append((elem.left, depth + 1))\n",
    "                if elem.right and elem.right not in visited:\n",
    "                    queue.append((elem.right, depth + 1))\n",
    "        visited = []\n",
    "        min_depth = bfs(visited, root)\n",
    "        return min_depth\n",
    "\n",
    "root = TreeNode(3)\n",
    "b = TreeNode(9)\n",
    "c = TreeNode(20)\n",
    "d = TreeNode(15)\n",
    "e = TreeNode(7)\n",
    "\n",
    "root.left = b\n",
    "root.right = c\n",
    "c.left = d\n",
    "c.right = e\n",
    "Solution().minDepth(root)"
   ]
  },
  {
   "cell_type": "code",
   "execution_count": 9,
   "metadata": {
    "jupyter": {
     "outputs_hidden": false
    },
    "pycharm": {
     "name": "#%%\n"
    }
   },
   "outputs": [
    {
     "data": {
      "text/plain": [
       "5"
      ]
     },
     "execution_count": 9,
     "metadata": {},
     "output_type": "execute_result"
    }
   ],
   "source": [
    "root = TreeNode(2)\n",
    "b = TreeNode(3)\n",
    "c = TreeNode(4)\n",
    "d = TreeNode(5)\n",
    "e = TreeNode(6)\n",
    "\n",
    "root.right = b\n",
    "b.right = c\n",
    "c.right = d\n",
    "d.right = e\n",
    "Solution().minDepth(root)"
   ]
  },
  {
   "cell_type": "markdown",
   "metadata": {
    "pycharm": {
     "name": "#%% md\n"
    }
   },
   "source": [
    "### Binary Search Tree Definition\n",
    "\n",
    "The left subtree of a node contains only nodes with keys lesser than the node’s key.\n",
    "The right subtree of a node contains only nodes with keys greater than the node’s key.\n",
    "The left and right subtree each must also be a binary search tree.\n",
    "Source: [https://www.geeksforgeeks.org/binary-search-tree-data-structure/](https://www.geeksforgeeks.org/binary-search-tree-data-structure/)"
   ]
  },
  {
   "cell_type": "markdown",
   "metadata": {
    "pycharm": {
     "name": "#%% md\n"
    }
   },
   "source": [
    "### BFS application on a binary tree"
   ]
  },
  {
   "cell_type": "code",
   "execution_count": 31,
   "metadata": {
    "pycharm": {
     "name": "#%%\n"
    }
   },
   "outputs": [],
   "source": [
    "# https://leetcode.com/problems/find-mode-in-binary-search-tree/submissions/\n",
    "from collections import defaultdict\n",
    "# Definition for a binary tree node.\n",
    "class TreeNode:\n",
    "    def __init__(self, val=0, left=None, right=None):\n",
    "        self.val = val\n",
    "        self.left = left\n",
    "        self.right = right\n",
    "class Solution:\n",
    "    def findMode(self, root: Optional[TreeNode]) -> List[int]:\n",
    "        # binary search tree has the following property:\n",
    "        # left_subtree (keys) ≤ node (key) < right_subtree (keys)\n",
    "        # or\n",
    "        # left_subtree (keys) < node (key) ≤ right_subtree (keys)\n",
    "\n",
    "        # Approach:\n",
    "        # use BFS to traverse the tree\n",
    "        # push all elements in the tree into a lookup\n",
    "        # {\n",
    "        #     val: num_elements\n",
    "        # }\n",
    "        # find the max occurrences and then all nodes that have the max # occurrences\n",
    "        lookup = defaultdict(int)\n",
    "\n",
    "        def bfs(node: TreeNode):\n",
    "\n",
    "            if not root:\n",
    "                return\n",
    "\n",
    "            queue = []\n",
    "            queue.append(node)\n",
    "\n",
    "            while queue:\n",
    "\n",
    "                elem = queue.pop(0)\n",
    "\n",
    "                lookup[elem.val] += 1\n",
    "\n",
    "                if elem.left is not None:\n",
    "                    queue.append(elem.left)\n",
    "\n",
    "                if elem.right is not None:\n",
    "                    queue.append(elem.right)\n",
    "\n",
    "        bfs(root)\n",
    "        max_occurrences = max(lookup.values())\n",
    "        result = []\n",
    "        for (val, occurrences) in lookup.items():\n",
    "            if occurrences == max_occurrences:\n",
    "                result.append(val)\n",
    "\n",
    "        return result\n",
    "\n",
    "#          1\n",
    "#           \\\n",
    "#            2\n",
    "#           /\n",
    "#          2\n",
    "\n",
    "root = TreeNode(1)\n",
    "root.right = TreeNode(2)\n",
    "root.right.left = TreeNode(2)\n",
    "\n",
    "assert Solution().findMode(root) == [2]\n",
    "\n",
    "#          1\n",
    "#           \\\n",
    "#            2\n",
    "#           / \\\n",
    "#          2   1\n",
    "\n",
    "root = TreeNode(1)\n",
    "root.right = TreeNode(2)\n",
    "root.right.left = TreeNode(2)\n",
    "root.right.right = TreeNode(1)\n",
    "\n",
    "result = Solution().findMode(root)\n",
    "for each in result:\n",
    "    assert each in [1,2]\n"
   ]
  },
  {
   "cell_type": "markdown",
   "metadata": {
    "pycharm": {
     "name": "#%% md\n"
    }
   },
   "source": [
    "### Tree Traversal\n",
    "Source: https://www.geeksforgeeks.org/tree-traversals-inorder-preorder-and-postorder/\n",
    "* DFS\n",
    "  * Pre-order\n",
    "  ```\n",
    "  Algorithm Preorder(tree)\n",
    "   1. Visit the root.\n",
    "   2. Traverse the left subtree, i.e., call Preorder(left-subtree)\n",
    "   3. Traverse the right subtree, i.e., call Preorder(right-subtree)\n",
    "  ```\n",
    "  * In-order\n",
    "  ```\n",
    "  Algorithm Inorder(tree)\n",
    "   1. Traverse the left subtree, i.e., call Inorder(left-subtree)\n",
    "   2. Visit the root.\n",
    "   3. Traverse the right subtree, i.e., call Inorder(right-subtree)\n",
    "  ```\n",
    "  * Post-order\n",
    "  ```\n",
    "  Algorithm Postorder(tree)\n",
    "   1. Traverse the left subtree, i.e., call Postorder(left-subtree)\n",
    "   2. Traverse the right subtree, i.e., call Postorder(right-subtree)\n",
    "   3. Visit the root.\n",
    "  ```\n",
    "* BFS\n",
    "  * Level-order"
   ]
  },
  {
   "cell_type": "markdown",
   "metadata": {
    "pycharm": {
     "name": "#%% md\n"
    }
   },
   "source": [
    "#### Example\n",
    "```\n",
    "        1\n",
    "          \\\n",
    "            2\n",
    "          /\n",
    "        3\n",
    "```"
   ]
  },
  {
   "cell_type": "code",
   "execution_count": 10,
   "metadata": {
    "jupyter": {
     "outputs_hidden": false
    },
    "pycharm": {
     "name": "#%%\n"
    }
   },
   "outputs": [],
   "source": [
    "root = TreeNode(1)\n",
    "two = TreeNode(2)\n",
    "three = TreeNode(3)\n",
    "root.right = two\n",
    "two.left = three"
   ]
  },
  {
   "cell_type": "markdown",
   "metadata": {
    "pycharm": {
     "name": "#%% md\n"
    }
   },
   "source": [
    "### Binary Tree In-order Traversal\n",
    "Visits the node after visiting the left subtree\n",
    "* https://leetcode.com/problems/binary-tree-inorder-traversal/"
   ]
  },
  {
   "cell_type": "code",
   "execution_count": 11,
   "metadata": {
    "jupyter": {
     "outputs_hidden": false
    },
    "pycharm": {
     "name": "#%%\n"
    }
   },
   "outputs": [
    {
     "data": {
      "text/plain": [
       "[1, 3, 2]"
      ]
     },
     "execution_count": 11,
     "metadata": {},
     "output_type": "execute_result"
    }
   ],
   "source": [
    "from typing import Optional, List\n",
    "# Definition for a binary tree node.\n",
    "class TreeNode:\n",
    "    def __init__(self, val=0, left=None, right=None):\n",
    "        self.val = val\n",
    "        self.left = left\n",
    "        self.right = right\n",
    "class Solution:\n",
    "    def inorderTraversal(self, root: Optional[TreeNode]) -> List[int]:\n",
    "\n",
    "        result = []\n",
    "        def traverse(node: Optional[TreeNode]):\n",
    "            if node:\n",
    "                traverse(node.left)\n",
    "                result.append(node.val)\n",
    "                traverse(node.right)\n",
    "        traverse(root)\n",
    "        return result\n",
    "\n",
    "Solution().inorderTraversal(root)"
   ]
  },
  {
   "cell_type": "markdown",
   "metadata": {
    "pycharm": {
     "name": "#%% md\n"
    }
   },
   "source": [
    "### Binary Tree Pre-order Traversal\n",
    "Visits the node before visiting the left and right sub-trees\n",
    "\n",
    "* https://leetcode.com/problems/binary-tree-preorder-traversal/"
   ]
  },
  {
   "cell_type": "code",
   "execution_count": 12,
   "metadata": {
    "jupyter": {
     "outputs_hidden": false
    },
    "pycharm": {
     "name": "#%%\n"
    }
   },
   "outputs": [
    {
     "data": {
      "text/plain": [
       "[1, 2, 3]"
      ]
     },
     "execution_count": 12,
     "metadata": {},
     "output_type": "execute_result"
    }
   ],
   "source": [
    "from typing import Optional\n",
    "class Solution:\n",
    "    def preorderTraversal(self, root: Optional[TreeNode]) -> List[int]:\n",
    "\n",
    "        result = []\n",
    "        def traverse(node: Optional[TreeNode]):\n",
    "            if node:\n",
    "                result.append(node.val)\n",
    "                traverse(node.left)\n",
    "                traverse(node.right)\n",
    "        traverse(root)\n",
    "        return result\n",
    "\n",
    "Solution().preorderTraversal(root)\n"
   ]
  },
  {
   "cell_type": "markdown",
   "metadata": {
    "pycharm": {
     "name": "#%% md\n"
    }
   },
   "source": [
    "### Binary Tree Post-order Traversal\n",
    "Visits the node after visiting the left and right subtrees\n",
    "* https://leetcode.com/problems/binary-tree-postorder-traversal/"
   ]
  },
  {
   "cell_type": "code",
   "execution_count": 13,
   "metadata": {
    "jupyter": {
     "outputs_hidden": false
    },
    "pycharm": {
     "name": "#%%\n"
    }
   },
   "outputs": [
    {
     "data": {
      "text/plain": [
       "[3, 2, 1]"
      ]
     },
     "execution_count": 13,
     "metadata": {},
     "output_type": "execute_result"
    }
   ],
   "source": [
    "class Solution:\n",
    "    def postorderTraversal(self, root: Optional[TreeNode]) -> List[int]:\n",
    "\n",
    "        result = []\n",
    "        def traverse(node: Optional[TreeNode]):\n",
    "            if node:\n",
    "                traverse(node.left)\n",
    "                traverse(node.right)\n",
    "                result.append(node.val)\n",
    "\n",
    "        traverse(root)\n",
    "        return result\n",
    "\n",
    "Solution().postorderTraversal(root)"
   ]
  },
  {
   "cell_type": "markdown",
   "metadata": {
    "jupyter": {
     "outputs_hidden": false
    },
    "pycharm": {
     "name": "#%% md\n"
    }
   },
   "source": [
    "### N-ary trees\n",
    "Each node can have up to n children\n",
    "```\n",
    "          1\n",
    "         //\\  \n",
    "       / /  \\  \n",
    "      2 3    6  \n",
    "```"
   ]
  },
  {
   "cell_type": "markdown",
   "metadata": {},
   "source": [
    "* A full n-ary tree allows each node to have between 0 and n children\n",
    "* A complete n-ary tree requires each node to have exactly n children except the leaves\n",
    "* A perfect n-ary tree requires that the level of all leaf nodes is the same"
   ]
  },
  {
   "cell_type": "markdown",
   "metadata": {},
   "source": [
    "### Trie\n",
    "* Insertion (Worst): O(n) \n",
    "* Search (Worst): O(n) "
   ]
  },
  {
   "cell_type": "code",
   "execution_count": 48,
   "metadata": {},
   "outputs": [],
   "source": [
    "class Trie:\n",
    "    def __init__(self):\n",
    "        self.child = {}\n",
    "        \n",
    "    def insert(self, word: str):\n",
    "        \"\"\"\n",
    "        Iterate over each character. \n",
    "        Ensure each character in the word is the sub key of a new dict\n",
    "        The last character of the word maps to a dict with 'end' as at least one of the keys.\n",
    "        \"\"\"\n",
    "        current = self.child\n",
    "        for c in word:\n",
    "            if c not in current:\n",
    "                current[c] = {}\n",
    "            current = current[c]\n",
    "        current['end'] = 1\n",
    "    \n",
    "    def search(self, word: str):\n",
    "        \"\"\"\n",
    "        Check that each character is in the trie and that the last character maps to a dict with 'end' as a key.\n",
    "        \"\"\"\n",
    "        current = self.child\n",
    "        for c in word:\n",
    "            if c not in current:\n",
    "                return False\n",
    "            current = current[c]\n",
    "        return 'end' in current\n",
    "    \n",
    "    def starts_with(self, prefix: str):\n",
    "        \"\"\"\n",
    "        Iterates over each character in the prefix. \n",
    "        Does not check if the last character maps to a dict with 'end' as the key.\n",
    "        \"\"\"\n",
    "        current = self.child\n",
    "        for c in prefix:\n",
    "            if c not in current:\n",
    "                return False\n",
    "            current = current[c]\n",
    "        return True\n",
    "    \n",
    "t = Trie()\n",
    "t.insert(\"apple\")"
   ]
  },
  {
   "cell_type": "code",
   "execution_count": 49,
   "metadata": {},
   "outputs": [
    {
     "data": {
      "text/plain": [
       "True"
      ]
     },
     "execution_count": 49,
     "metadata": {},
     "output_type": "execute_result"
    }
   ],
   "source": [
    "t.search(\"apple\")"
   ]
  },
  {
   "cell_type": "code",
   "execution_count": 50,
   "metadata": {},
   "outputs": [
    {
     "data": {
      "text/plain": [
       "False"
      ]
     },
     "execution_count": 50,
     "metadata": {},
     "output_type": "execute_result"
    }
   ],
   "source": [
    "t.search(\"app\")\n",
    "    "
   ]
  },
  {
   "cell_type": "code",
   "execution_count": 51,
   "metadata": {},
   "outputs": [
    {
     "data": {
      "text/plain": [
       "True"
      ]
     },
     "execution_count": 51,
     "metadata": {},
     "output_type": "execute_result"
    }
   ],
   "source": [
    "t.starts_with(\"app\")"
   ]
  },
  {
   "cell_type": "code",
   "execution_count": 52,
   "metadata": {},
   "outputs": [
    {
     "data": {
      "text/plain": [
       "{'a': {'p': {'p': {'l': {'e': {'end': 1}}}}}}"
      ]
     },
     "execution_count": 52,
     "metadata": {},
     "output_type": "execute_result"
    }
   ],
   "source": [
    "t.child"
   ]
  },
  {
   "cell_type": "code",
   "execution_count": 53,
   "metadata": {},
   "outputs": [],
   "source": [
    "t.insert(\"apricot\")\n",
    "t.insert(\"appendix\")"
   ]
  },
  {
   "cell_type": "code",
   "execution_count": 54,
   "metadata": {},
   "outputs": [
    {
     "name": "stdout",
     "output_type": "stream",
     "text": [
      "{'a': {'p': {'p': {'e': {'n': {'d': {'i': {'x': {'end': 1}}}}},\n",
      "                   'l': {'e': {'end': 1}}},\n",
      "             'r': {'i': {'c': {'o': {'t': {'end': 1}}}}}}}}\n"
     ]
    }
   ],
   "source": [
    "from pprint import pprint\n",
    "pprint(t.child)"
   ]
  },
  {
   "cell_type": "code",
   "execution_count": 55,
   "metadata": {},
   "outputs": [
    {
     "data": {
      "text/plain": [
       "True"
      ]
     },
     "execution_count": 55,
     "metadata": {},
     "output_type": "execute_result"
    }
   ],
   "source": [
    "t.search(\"apple\")"
   ]
  },
  {
   "cell_type": "code",
   "execution_count": 42,
   "metadata": {},
   "outputs": [
    {
     "data": {
      "text/plain": [
       "True"
      ]
     },
     "execution_count": 42,
     "metadata": {},
     "output_type": "execute_result"
    }
   ],
   "source": [
    "t.search(\"appendix\")"
   ]
  },
  {
   "cell_type": "code",
   "execution_count": 43,
   "metadata": {},
   "outputs": [
    {
     "data": {
      "text/plain": [
       "False"
      ]
     },
     "execution_count": 43,
     "metadata": {},
     "output_type": "execute_result"
    }
   ],
   "source": [
    "t.search(\"appendi\")"
   ]
  },
  {
   "cell_type": "code",
   "execution_count": 44,
   "metadata": {},
   "outputs": [],
   "source": [
    "t.insert(\"apples\")"
   ]
  },
  {
   "cell_type": "code",
   "execution_count": 45,
   "metadata": {},
   "outputs": [
    {
     "data": {
      "text/plain": [
       "True"
      ]
     },
     "execution_count": 45,
     "metadata": {},
     "output_type": "execute_result"
    }
   ],
   "source": [
    "t.search(\"apple\")"
   ]
  },
  {
   "cell_type": "code",
   "execution_count": 47,
   "metadata": {},
   "outputs": [
    {
     "name": "stdout",
     "output_type": "stream",
     "text": [
      "{'a': {'p': {'p': {'e': {'n': {'d': {'i': {'x': {'end': 1}}}}},\n",
      "                   'l': {'e': {'end': 1, 's': {'end': 1}}}},\n",
      "             'r': {'i': {'c': {'o': {'t': {'end': 1}}}}}}}}\n"
     ]
    }
   ],
   "source": [
    "pprint(t.child)"
   ]
  },
  {
   "cell_type": "markdown",
   "metadata": {
    "pycharm": {
     "name": "#%% md\n"
    }
   },
   "source": [
    "### Binary Tree Vertical Order Traversal\n",
    "\n",
    "Given the root of a binary tree, return the vertical order traversal of its nodes' values. (i.e., from top to bottom, column by column).\n",
    "\n",
    "If two nodes are in the same row and column, the order should be from left to right.\n",
    "\n"
   ]
  },
  {
   "cell_type": "code",
   "execution_count": 7,
   "metadata": {
    "pycharm": {
     "name": "#%%\n"
    }
   },
   "outputs": [
    {
     "data": {
      "text/plain": [
       "[[5], [8, 10], [20, 3, 4], [22, 14], [25]]"
      ]
     },
     "execution_count": 7,
     "metadata": {},
     "output_type": "execute_result"
    }
   ],
   "source": [
    "from typing import Optional, List\n",
    "from collections import defaultdict\n",
    "# Definition for a binary tree node.\n",
    "class TreeNode:\n",
    "    def __init__(self, val=0, left=None, right=None):\n",
    "        self.val = val\n",
    "        self.left = left\n",
    "        self.right = right\n",
    "class Solution:\n",
    "    def verticalOrder(self, root: Optional[TreeNode]) -> List[List[int]]:\n",
    "\n",
    "        # Keys in the lookup are the horizontal distances\n",
    "        # need horizontal distance\n",
    "        # need level\n",
    "\n",
    "        lookup = defaultdict(list)\n",
    "\n",
    "        def dfs(root: TreeNode, level: int, hd: int):\n",
    "            if root is None:\n",
    "                return\n",
    "\n",
    "            # since we sort the nodes at the end, pre-order, inorder, or post-order doesn't matter\n",
    "            lookup[hd].append((root.val, level))\n",
    "            dfs(root.left, level + 1, hd - 1)\n",
    "            dfs(root.right, level + 1, hd + 1)\n",
    "        dfs(root, 0, 0)\n",
    "\n",
    "        # sort the values\n",
    "        result = []\n",
    "        # ensure horizontal distances are in sorted order increasing\n",
    "        # this ensures the order of columns is returned from left to right\n",
    "        keys = sorted(lookup.keys())\n",
    "        for key in keys:\n",
    "            # ensure the nodes higher up in the tree for a single column come first\n",
    "            # before nodes lower in the tree\n",
    "            rw = sorted(lookup[key], key=lambda val: val[1])  # increasing\n",
    "            rw = [a[0] for a in rw]\n",
    "            result.append(rw)\n",
    "        return result\n",
    "\"\"\"\n",
    "\n",
    "                      20\n",
    "                    /    \\\n",
    "                  8       22\n",
    "                /   \\    /   \\\n",
    "              5      3  4    25\n",
    "                    / \\\n",
    "                  10    14\n",
    "\"\"\"\n",
    "# Driver Code\n",
    "root = TreeNode(20)\n",
    "root.left = TreeNode(8)\n",
    "root.right = TreeNode(22)\n",
    "root.left.left = TreeNode(5)\n",
    "root.left.right = TreeNode(3)\n",
    "root.right.left = TreeNode(4)\n",
    "root.right.right = TreeNode(25)\n",
    "root.left.right.left = TreeNode(10)\n",
    "root.left.right.right = TreeNode(14)\n",
    "Solution().verticalOrder(root)"
   ]
  },
  {
   "cell_type": "markdown",
   "metadata": {
    "pycharm": {
     "name": "#%% md\n"
    }
   },
   "source": [
    "#### AVL Tree and Balanced Binary Tree Definition\n",
    "- A balanced binary tree requires that at every node the height of the left and right subtrees can never have an absolute difference greater than 1.\n",
    "- AVL tree is a self-balancing Binary Search Tree (BST).\n",
    "\n",
    "Example:\n",
    "```\n",
    "Balanced\n",
    "    a\n",
    "   / \\\n",
    "  b   c\n",
    "- a's left subtree height is 1 and its right subtree height is 1. b and c both have subtree heights of 0\n",
    "\n",
    "\n",
    "Not balanced\n",
    "    a\n",
    "     \\\n",
    "      b\n",
    "       \\\n",
    "        c\n",
    "- a's left subtree height is 0 but its right subtree height is 2. |2 - 0| = 2 which is greater than 1.\n",
    "\n",
    "\n",
    "Not balanced\n",
    "         a\n",
    "       /  \\\n",
    "      c    b\n",
    "     / \\\n",
    "    d   e\n",
    "       /\n",
    "      f\n",
    "- a's left subtree height is 3, but its right subtree height is 1. |3 - 1| = 2 which is greater than 1.\n",
    "```\n"
   ]
  },
  {
   "cell_type": "code",
   "execution_count": 25,
   "metadata": {
    "pycharm": {
     "name": "#%%\n"
    }
   },
   "outputs": [
    {
     "name": "stdout",
     "output_type": "stream",
     "text": [
      "O(n) solution to check if a tree is balanced\n",
      "Tree is balanced.\n"
     ]
    }
   ],
   "source": [
    "# AVL Tree exercise: check if the tree is balanced\n",
    "# Source: https://www.geeksforgeeks.org/how-to-determine-if-a-binary-tree-is-balanced/\n",
    "print(\"O(n) solution to check if a tree is balanced\")\n",
    "class Node:\n",
    "    def __init__(self, data):\n",
    "        self.data = data\n",
    "        self.left = None\n",
    "        self.right = None\n",
    "\n",
    "def get_height_of_tree(root: Node):\n",
    "    if root is None:\n",
    "        return 0\n",
    "    return max(get_height_of_tree(root.left), get_height_of_tree(root.right)) + 1\n",
    "\n",
    "class Height:\n",
    "    def __init__(self, val: int):\n",
    "        self.val = val\n",
    "\n",
    "def is_tree_balanced(root: Node, height: Height):\n",
    "    if root is None:\n",
    "        return True\n",
    "\n",
    "    left_height = Height(height.val + 1)\n",
    "    right_height = Height(height.val + 1)\n",
    "    left_is_balanced = is_tree_balanced(root.left, left_height)\n",
    "    right_is_balanced = is_tree_balanced(root.right, right_height)\n",
    "\n",
    "    return abs(left_height.val - right_height.val) <= 1 and left_is_balanced and right_is_balanced\n",
    "\n",
    "\"\"\"\n",
    "Constructed binary tree is\n",
    "          1\n",
    "        /   \\\n",
    "       2     3\n",
    "      / \\   /\n",
    "     4   5 6\n",
    "    /\n",
    "   7\n",
    "\"\"\"\n",
    "\n",
    "root = Node(1)\n",
    "root.left = Node(2)\n",
    "root.right = Node(3)\n",
    "root.left.left = Node(4)\n",
    "root.left.right = Node(5)\n",
    "root.right.left = Node(6)\n",
    "root.left.left.left = Node(7)\n",
    "if is_tree_balanced(root, Height(0)):\n",
    "    print(\"Tree is balanced.\")\n",
    "else:\n",
    "    print(\"Tree is NOT balanced.\")"
   ]
  },
  {
   "cell_type": "markdown",
   "metadata": {
    "pycharm": {
     "name": "#%% md\n"
    }
   },
   "source": [
    "### 116. Populating Next Right Pointers in Each Node in a Perfect Binary Tree\n",
    "[https://leetcode.com/problems/populating-next-right-pointers-in-each-node/](https://leetcode.com/problems/populating-next-right-pointers-in-each-node/)"
   ]
  },
  {
   "cell_type": "code",
   "execution_count": 30,
   "metadata": {
    "pycharm": {
     "name": "#%%\n"
    }
   },
   "outputs": [
    {
     "name": "stdout",
     "output_type": "stream",
     "text": [
      "1\n",
      "2\n",
      "3\n",
      "4\n",
      "5\n",
      "6\n",
      "7\n"
     ]
    }
   ],
   "source": [
    "\n",
    "# Definition for a Node.\n",
    "class Node:\n",
    "    def __init__(self, val: int = 0, left: 'Node' = None, right: 'Node' = None, next: 'Node' = None):\n",
    "        self.val = val\n",
    "        self.left = left\n",
    "        self.right = right\n",
    "        self.next = next\n",
    "    def display(self):\n",
    "        def bfs(root):\n",
    "            queue = []\n",
    "            queue.append(root)\n",
    "            while queue:\n",
    "                node = queue.pop(0)\n",
    "                print(node.val)\n",
    "                if node.left:\n",
    "                    queue.append(node.left)\n",
    "                if node.right:\n",
    "                    queue.append(node.right)\n",
    "        bfs(self)\n",
    "\n",
    "class Solution:\n",
    "    def connect(self, root: 'Optional[Node]') -> 'Optional[Node]':\n",
    "        # Useful data structures for this problem:\n",
    "        # Since we are always given a perfect binary tree,\n",
    "        # we can use a hashmap and DFS with inorder traversal (left -> parent -> right)\n",
    "        # Hashmap mapping levels to nodes. Nodes must be ordered from left to right\n",
    "        # in the hashmap\n",
    "\n",
    "        #  0 -> 1\n",
    "        #  1 -> [2,3]\n",
    "        #  2 -> [4, 5, 6, 7]\n",
    "\n",
    "        lookup = defaultdict(list)\n",
    "\n",
    "        def dfs(node: Node, level: int):\n",
    "            if node is None:\n",
    "                return\n",
    "\n",
    "            dfs(node.left, level + 1)\n",
    "            lookup[level].append(node)\n",
    "            dfs(node.right, level + 1)\n",
    "\n",
    "        dfs(root, 0)\n",
    "\n",
    "        for key in lookup.keys():\n",
    "            values = lookup[key]\n",
    "            if len(values) > 1:\n",
    "                i = 0\n",
    "                j = 1\n",
    "\n",
    "                while j < len(values):\n",
    "                    values[i].next = values[j]\n",
    "                    i += 1\n",
    "                    j += 1\n",
    "            lookup[key] = values\n",
    "        return root\n",
    "#           1\n",
    "#        /    \\\n",
    "#       2      3\n",
    "#      / \\    / \\\n",
    "#     4   5  6   7\n",
    "root = Node(1)\n",
    "root.left = Node(2)\n",
    "root.right = Node(3)\n",
    "root.left.left = Node(4)\n",
    "root.left.right = Node(5)\n",
    "root.right.left = Node(6)\n",
    "root.right.right = Node(7)\n",
    "Solution().connect(root)\n",
    "root.display()"
   ]
  },
  {
   "cell_type": "code",
   "execution_count": 32,
   "metadata": {
    "pycharm": {
     "name": "#%%\n"
    }
   },
   "outputs": [
    {
     "name": "stdout",
     "output_type": "stream",
     "text": [
      "1\n",
      "2\n",
      "3\n",
      "4\n",
      "5\n",
      "6\n",
      "7\n"
     ]
    }
   ],
   "source": [
    "# Same problem as above with BFS\n",
    "\n",
    "class Solution:\n",
    "    def connect(self, root: 'Optional[Node]') -> 'Optional[Node]':\n",
    "        # Useful data structures for this problem:\n",
    "        # Since we are always given a perfect binary tree,\n",
    "        # we can use a hashmap and BFS (level order traversal) (left -> right)\n",
    "        # Hashmap mapping levels to nodes. Nodes are automatically ordered from left to right at each level\n",
    "        # in the hashmap\n",
    "\n",
    "        #  0 -> 1\n",
    "        #  1 -> [2,3]\n",
    "        #  2 -> [4, 5, 6, 7]\n",
    "\n",
    "        lookup = defaultdict(list)\n",
    "        if not root:\n",
    "            return root\n",
    "\n",
    "        def bfs(_node: Node):\n",
    "            queue = []\n",
    "            queue.append((0, _node))\n",
    "            while queue:\n",
    "                (level, node) = queue.pop(0)\n",
    "                lookup[level].append(node)\n",
    "                # at each level, nodes are always processed from left to right\n",
    "                if node.left:\n",
    "                    queue.append((level + 1, node.left))\n",
    "                if node.right:\n",
    "                    queue.append((level + 1, node.right))\n",
    "\n",
    "        bfs(root)\n",
    "        for key in lookup.keys():\n",
    "            values = lookup[key]\n",
    "            if len(values) > 1:\n",
    "                i = 0\n",
    "                j = 1\n",
    "                while j < len(values):\n",
    "                    values[i].next = values[j]\n",
    "                    i += 1\n",
    "                    j += 1\n",
    "            lookup[key] = values\n",
    "\n",
    "        return root\n",
    "\n",
    "\n",
    "root = Node(1)\n",
    "root.left = Node(2)\n",
    "root.right = Node(3)\n",
    "root.left.left = Node(4)\n",
    "root.left.right = Node(5)\n",
    "root.right.left = Node(6)\n",
    "root.right.right = Node(7)\n",
    "Solution().connect(root)\n",
    "root.display()"
   ]
  },
  {
   "cell_type": "code",
   "execution_count": 34,
   "metadata": {
    "pycharm": {
     "name": "#%%\n"
    }
   },
   "outputs": [
    {
     "name": "stdout",
     "output_type": "stream",
     "text": [
      "1\n",
      "2\n",
      "3\n",
      "4\n",
      "5\n",
      "6\n",
      "7\n"
     ]
    }
   ],
   "source": [
    "# A third solution to the above problem where we don't need to use a hashmap\n",
    "\n",
    "\"\"\"\n",
    "# Definition for a Node.\n",
    "class Node:\n",
    "    def __init__(self, val: int = 0, left: 'Node' = None, right: 'Node' = None, next: 'Node' = None):\n",
    "        self.val = val\n",
    "        self.left = left\n",
    "        self.right = right\n",
    "        self.next = next\n",
    "\"\"\"\n",
    "\n",
    "class Solution:\n",
    "    def connect(self, root: 'Optional[Node]') -> 'Optional[Node]':\n",
    "        # Useful data structures for this problem:\n",
    "        # Since we are always given a perfect binary tree,\n",
    "        # we can use a hashmap and BFS (level order traversal) (left -> right)\n",
    "        # Hashmap mapping levels to nodes. Nodes are automatically ordered from left to right at each level\n",
    "        # in the hashmap\n",
    "\n",
    "        #  0 -> 1\n",
    "        #  1 -> [2,3]\n",
    "        #  2 -> [4, 5, 6, 7]\n",
    "\n",
    "        lookup = defaultdict(list)\n",
    "        if not root:\n",
    "            return root\n",
    "\n",
    "        def bfs(_node: Node):\n",
    "            queue = []\n",
    "            queue.append((0, _node))\n",
    "            while queue:\n",
    "                level, node = queue.pop(0)\n",
    "                if queue and queue[0][0] == level:\n",
    "                    node.next = queue[0][1]\n",
    "                # at each level, nodes are always processed from left to right\n",
    "                if node.left:\n",
    "                    queue.append((level + 1, node.left))\n",
    "                if node.right:\n",
    "                    queue.append((level + 1, node.right))\n",
    "\n",
    "        bfs(root)\n",
    "        return root\n",
    "root = Node(1)\n",
    "root.left = Node(2)\n",
    "root.right = Node(3)\n",
    "root.left.left = Node(4)\n",
    "root.left.right = Node(5)\n",
    "root.right.left = Node(6)\n",
    "root.right.right = Node(7)\n",
    "Solution().connect(root)\n",
    "root.display()"
   ]
  },
  {
   "cell_type": "markdown",
   "metadata": {
    "pycharm": {
     "name": "#%% md\n"
    }
   },
   "source": [
    "### DFS Application: 1026. Maximum Difference Between Node and Ancestor\n",
    "[https://leetcode.com/problems/maximum-difference-between-node-and-ancestor/](https://leetcode.com/problems/maximum-difference-between-node-and-ancestor/)"
   ]
  },
  {
   "cell_type": "code",
   "execution_count": 6,
   "metadata": {
    "pycharm": {
     "name": "#%%\n"
    }
   },
   "outputs": [],
   "source": [
    "from typing import Optional\n",
    "# Definition for a binary tree node.\n",
    "class TreeNode:\n",
    "    def __init__(self, val=0, left=None, right=None):\n",
    "        self.val = val\n",
    "        self.left = left\n",
    "        self.right = right\n",
    "\n",
    "class Solution:\n",
    "\n",
    "    def dfs(self, root: TreeNode, v: int, max_a: int, min_a: int):\n",
    "\n",
    "        if root is None:\n",
    "            return v\n",
    "\n",
    "        if root.left is not None:\n",
    "            _v = max(v, abs(max_a - root.left.val), abs(min_a - root.left.val))\n",
    "            _max_a = max(max_a, root.left.val)\n",
    "            _min_a = min(min_a, root.left.val)\n",
    "            max_left = self.dfs(root.left, _v, _max_a, _min_a)\n",
    "        if root.right is not None:\n",
    "            _v = max(v, abs(max_a - root.right.val), abs(min_a - root.right.val))\n",
    "            _max_a = max(max_a, root.right.val)\n",
    "            _min_a = min(min_a, root.right.val)\n",
    "            max_right = self.dfs(root.right, _v, _max_a, _min_a)\n",
    "\n",
    "        if root.left is not None and root.right is not None:\n",
    "            return max(max_left, max_right)\n",
    "        if root.left is not None:\n",
    "            return max_left\n",
    "        if root.right is not None:\n",
    "            return max_right\n",
    "        return v\n",
    "\n",
    "    def maxAncestorDiff(self, root: Optional[TreeNode]) -> int:\n",
    "        # Use BFS (level order traversal)\n",
    "        # Greedy approach: at each level calculate max v\n",
    "        v = 0\n",
    "        max_a = root.val\n",
    "        min_a = root.val\n",
    "        return self.dfs(root, v, max_a, min_a)\n",
    "\n",
    "#            1\n",
    "#             \\\n",
    "#              2\n",
    "#               \\\n",
    "#                0\n",
    "#               /\n",
    "#              3\n",
    "root = TreeNode(1)\n",
    "root.right = TreeNode(2)\n",
    "root.right.right = TreeNode(0)\n",
    "root.right.right.left = TreeNode(3)\n",
    "# The max abs value difference between an ancestor and descendant is 3 (bottom two nodes)\n",
    "assert Solution().maxAncestorDiff(root) == 3"
   ]
  },
  {
   "cell_type": "markdown",
   "metadata": {
    "pycharm": {
     "name": "#%% md\n"
    }
   },
   "source": [
    "### Max Path Sum in a binary tree\n",
    "Source: [https://www.geeksforgeeks.org/find-maximum-path-sum-in-a-binary-tree/](https://www.geeksforgeeks.org/find-maximum-path-sum-in-a-binary-tree/)\n",
    "\n",
    "Example:\n",
    "```\n",
    "Input: Root of below tree\n",
    "       1\n",
    "      / \\\n",
    "     2   3\n",
    "Output: 6\n",
    "```\n",
    "For each node there can be four ways that the max path goes through the node:\n",
    "1. Node only\n",
    "2. Max path through left child + Node\n",
    "3. Node + Max path through right child\n",
    "4. Max path through left child + Node + Max path through right child\n",
    "\n",
    "Important: Each recursive call can only return a single path through at most one child node (max of 1,2, or 3).\n",
    "The instance variable max of the solution class holds the overall max value possible, which includes 4, where the path 'peaks' at the node and traverses both children nodes.\n",
    "\n",
    "Time complexity: O(n) since we need to traverse over all nodes in the binary tree.\n",
    "Space complexity: O(1)\n",
    "\n"
   ]
  },
  {
   "cell_type": "code",
   "execution_count": 13,
   "metadata": {
    "pycharm": {
     "name": "#%%\n"
    }
   },
   "outputs": [
    {
     "name": "stdout",
     "output_type": "stream",
     "text": [
      "Max path sum is 42\n"
     ]
    }
   ],
   "source": [
    "class Node:\n",
    "    def __init__(self, val: int):\n",
    "        self.val = val\n",
    "        self.left = None\n",
    "        self.right = None\n",
    "\n",
    "class Solution():\n",
    "    def __init__(self):\n",
    "        self.max_sum = float(\"-inf\")\n",
    "\n",
    "    def find_max_sum(self, root: Node) -> int:\n",
    "        \"\"\"\n",
    "        Recursively retuns the max path sum with at most one child node.\n",
    "        Updates class instance max sum incorporating max sums of paths through\n",
    "        both children nodes and the current node.\n",
    "        \"\"\"\n",
    "\n",
    "        if root is None:\n",
    "            return 0\n",
    "\n",
    "        max_sum_left = self.find_max_sum(root.left)\n",
    "        max_sum_right = self.find_max_sum(root.right)\n",
    "\n",
    "        max_sum_left_with_node = max_sum_left + root.val\n",
    "        max_sum_right_with_node = root.val + max_sum_right\n",
    "\n",
    "        max_single_child_path = max(root.val,\n",
    "                                    max_sum_left_with_node,\n",
    "                                    max_sum_right_with_node)\n",
    "\n",
    "        max_all_children_and_node = max(max_single_child_path,\n",
    "                                        max_sum_left + max_sum_right + root.val)\n",
    "\n",
    "        self.max_sum = max(self.max_sum, max_all_children_and_node)\n",
    "\n",
    "        return max_single_child_path\n",
    "\n",
    "# ' denotes the maximum path sum\n",
    "#             '10\n",
    "#             /  \\\n",
    "#           '2   '10\n",
    "#          /  \\     \\\n",
    "#        '20   1     -25\n",
    "#                   /   \\\n",
    "#                  3     4\n",
    "root = Node(10)\n",
    "root.left = Node(2)\n",
    "root.right = Node(10)\n",
    "root.left.left = Node(20)\n",
    "root.left.right = Node(1)\n",
    "root.right.right = Node(-25)\n",
    "root.right.right.left = Node(3)\n",
    "root.right.right.right = Node(4)\n",
    "s = Solution()\n",
    "s.find_max_sum(root)\n",
    "print(f\"Max path sum is {s.max_sum}\")"
   ]
  },
  {
   "cell_type": "markdown",
   "metadata": {
    "pycharm": {
     "name": "#%% md\n"
    }
   },
   "source": [
    "### Check if a given array can represent preorder traversal of a binary search tree\n",
    "Given an array of numbers, return true if the given array can represent preorder traversal of a binary search tree. Otherwise, return false.\n",
    "The expected time complexity is O(n).\n",
    "\n",
    "Input:  pre[] = {2, 4, 3}\n",
    "Output: true\n",
    "Given array can represent preorder traversal\n",
    "of below tree\n",
    "```\n",
    "    2\n",
    "     \\\n",
    "      4\n",
    "     /\n",
    "    3\n",
    "```\n",
    "\n",
    "Reminder of the definition of a binary search tree:\n",
    "The left subtree of a node contains only nodes with keys lesser than the node’s key.\n",
    "The right subtree of a node contains only nodes with keys greater than the node’s key.\n",
    "The left and right subtree each must also be a binary search tree.\n",
    "Source: [https://www.geeksforgeeks.org/binary-search-tree-data-structure/](https://www.geeksforgeeks.org/binary-search-tree-data-structure/)"
   ]
  },
  {
   "cell_type": "code",
   "execution_count": 7,
   "metadata": {
    "pycharm": {
     "name": "#%%\n"
    }
   },
   "outputs": [],
   "source": [
    "from typing import List\n",
    "class Node:\n",
    "    def __init__(self, val: int):\n",
    "        self.val = val\n",
    "        self.left = None\n",
    "        self.right = None\n",
    "\n",
    "def is_array_preorder_traversal(root: Node, arr: List[int]) -> bool:\n",
    "    # TODO\n",
    "\n",
    "\n",
    "\n",
    "root = Node(2)\n",
    "root.right = Node(4)\n",
    "root.right.left = Node(3)\n",
    "assert is_array_preorder_traversal(root, [2,4,3]) == True\n",
    "root = Node(40)\n",
    "root.left = Node(30)\n",
    "root.left.right = Node(35)\n",
    "root.right = Node(80)\n",
    "root.right.right = Node(100)\n",
    "assert is_array_preorder_traversal(root, [40, 30, 35, 80, 100]) == True"
   ]
  },
  {
   "cell_type": "markdown",
   "metadata": {
    "pycharm": {
     "name": "#%% md\n"
    }
   },
   "source": [
    "### Validate a Binary Search Tree\n",
    "\n",
    "Given the root of a binary tree, determine if it is a valid binary search tree (BST).\n",
    "\n",
    "A valid BST is defined as follows:\n",
    "\n",
    "The left subtree of a node contains only nodes with keys less than the node's key.\n",
    "The right subtree of a node contains only nodes with keys greater than the node's key.\n",
    "Both the left and right subtrees must also be binary search trees.\n",
    "\n",
    "Source: [https://leetcode.com/problems/validate-binary-search-tree/solution/](https://leetcode.com/problems/validate-binary-search-tree/solution/)\n",
    "\n"
   ]
  },
  {
   "cell_type": "code",
   "execution_count": 13,
   "metadata": {
    "pycharm": {
     "name": "#%%\n"
    }
   },
   "outputs": [],
   "source": [
    "from typing import Optional\n",
    "\n",
    "import math\n",
    "# Definition for a binary tree node.\n",
    "class TreeNode:\n",
    "    def __init__(self, val=0, left=None, right=None):\n",
    "        self.val = val\n",
    "        self.left = left\n",
    "        self.right = right\n",
    "class Solution:\n",
    "    def isValidBST(self, root: Optional[TreeNode]) -> bool:\n",
    "        # Approach\n",
    "\n",
    "        # Use inorder traversal DFS\n",
    "        # Left -> Node -> Right means that for inorder traversal\n",
    "        # each node's value should be smaller than the next\n",
    "\n",
    "        self.prev = -math.inf\n",
    "\n",
    "        def dfs(node: TreeNode):\n",
    "            if node is None:\n",
    "                return True\n",
    "\n",
    "            if not dfs(node.left):\n",
    "                return False\n",
    "\n",
    "            if self.prev >= node.val:\n",
    "                return False\n",
    "\n",
    "            self.prev = node.val\n",
    "\n",
    "            if not dfs(node.right):\n",
    "                return False\n",
    "\n",
    "            return True\n",
    "\n",
    "        return dfs(root)\n",
    "\n",
    "#               4\n",
    "#             /  \\\n",
    "#            2    5\n",
    "#          /  \\     \\\n",
    "#         1    3     7\n",
    "#                   /  \\\n",
    "#                  6    8\n",
    "root = Node(4)\n",
    "root.left = Node(2)\n",
    "root.right = Node(5)\n",
    "root.left.left = Node(1)\n",
    "root.left.right = Node(3)\n",
    "root.right.right = Node(7)\n",
    "root.right.right.left = Node(6)\n",
    "root.right.right.right = Node(8)\n",
    "assert Solution().isValidBST(root) == True\n",
    "\n",
    "#               4\n",
    "#             /  \\\n",
    "#            2    5\n",
    "#          /  \\     \\\n",
    "#         1    3     7\n",
    "#                   /  \\\n",
    "#                 <5>   8\n",
    "root = Node(4)\n",
    "root.left = Node(2)\n",
    "root.right = Node(5)\n",
    "root.left.left = Node(1)\n",
    "root.left.right = Node(3)\n",
    "root.right.right = Node(7)\n",
    "root.right.right.left = Node(5)\n",
    "root.right.right.right = Node(8)\n",
    "assert Solution().isValidBST(root) == False  # since the <5> is in the right subtree of an ancestor with value 5"
   ]
  },
  {
   "cell_type": "markdown",
   "metadata": {
    "pycharm": {
     "name": "#%% md\n"
    }
   },
   "source": [
    "### Check if a binary tree is a subtree of another binary tree\n",
    "\n",
    "Source: [https://leetcode.com/problems/subtree-of-another-tree/](https://leetcode.com/problems/subtree-of-another-tree/)\n",
    "\n",
    "Example: Tree 1 is a subtree of Tree 2\n",
    "\n",
    "```\n",
    "        Tree1\n",
    "          x\n",
    "        /    \\\n",
    "      a       b\n",
    "       \\\n",
    "        c\n",
    "\n",
    "\n",
    "        Tree2\n",
    "              z\n",
    "            /   \\\n",
    "          x      e\n",
    "        /    \\     \\\n",
    "      a       b      k\n",
    "       \\\n",
    "        c\n",
    "```"
   ]
  },
  {
   "cell_type": "code",
   "execution_count": 4,
   "metadata": {
    "pycharm": {
     "name": "#%%\n"
    }
   },
   "outputs": [],
   "source": [
    "from typing import Optional, List\n",
    "# Definition for a binary tree node.\n",
    "class TreeNode:\n",
    "    def __init__(self, val=0, left=None, right=None):\n",
    "        self.val = val\n",
    "        self.left = left\n",
    "        self.right = right\n",
    "class Solution:\n",
    "    def isSubtree(self, root: Optional[TreeNode], subRoot: Optional[TreeNode]) -> bool:\n",
    "\n",
    "        # Approach (DFS)\n",
    "        # Time complexity: O(n) to visit all nodes\n",
    "        # Space complexity: O(n) to store four arrays of all inorder and preorder values\n",
    "        # For each tree, get array of values for each node while traversing:\n",
    "        #   1. preorder\n",
    "        #   2. inorder\n",
    "        # If the preorder & inorder vals for the candidate subtree are subarrays\n",
    "        # of the preorder and inorder vals for the tree, return True, otherwise return False\n",
    "        # Note: if a node is none, append special character to preorder and inorder value arrays\n",
    "        #       to prevent a match when the subtree has children in the larger tree\n",
    "\n",
    "        root_vals_inorder = []\n",
    "        root_vals_preorder = []\n",
    "\n",
    "        subroot_vals_inorder = []\n",
    "        subroot_vals_preorder = []\n",
    "\n",
    "\n",
    "        def dfs(node: TreeNode, vals_preorder: List[int], vals_inorder: List[int]):\n",
    "            if node is None:\n",
    "                # prevent match when subtree has children in the larger tree\n",
    "                vals_preorder.append('#')\n",
    "                vals_inorder.append('#')\n",
    "                return\n",
    "\n",
    "            vals_preorder.append(node.val)\n",
    "            dfs(node.left, vals_preorder, vals_inorder)\n",
    "            vals_inorder.append(node.val)\n",
    "            dfs(node.right, vals_preorder, vals_inorder)\n",
    "\n",
    "\n",
    "        dfs(root, root_vals_preorder, root_vals_inorder)\n",
    "        dfs(subRoot, subroot_vals_preorder, subroot_vals_inorder)\n",
    "\n",
    "        root_vals_preorder = \"\".join(str(each) for each in root_vals_preorder)\n",
    "        root_vals_inorder = \"\".join(str(each) for each in root_vals_inorder)\n",
    "        subroot_vals_preorder = \"\".join(str(each) for each in subroot_vals_preorder)\n",
    "        subroot_vals_inorder = \"\".join(str(each) for each in subroot_vals_inorder)\n",
    "\n",
    "        return (subroot_vals_inorder in root_vals_inorder and\n",
    "                subroot_vals_preorder in root_vals_preorder)\n",
    "\n",
    "root = TreeNode(3)\n",
    "root.left = TreeNode(4)\n",
    "root.right = TreeNode(5)\n",
    "root.left.left = TreeNode(1)\n",
    "root.left.right = TreeNode(2)\n",
    "\n",
    "subroot = TreeNode(4)\n",
    "subroot.left = TreeNode(1)\n",
    "subroot.right = TreeNode(2)\n",
    "assert Solution().isSubtree(root, subroot) == True\n",
    "\n",
    "root.left.right.left = TreeNode(0)\n",
    "assert Solution().isSubtree(root, subroot) == False"
   ]
  },
  {
   "cell_type": "markdown",
   "metadata": {
    "pycharm": {
     "name": "#%% md\n"
    }
   },
   "source": [
    "### Check whether a binary tree is a full binary tree or not\n",
    "Source: [https://www.geeksforgeeks.org/check-whether-binary-tree-full-binary-tree-not/](https://www.geeksforgeeks.org/check-whether-binary-tree-full-binary-tree-not/)\n",
    "\n",
    "A full binary tree is defined as a binary tree in which all nodes have either zero or two child nodes.\n",
    "Time Complexity: O(n) to visit all nodes\n",
    "Space complexity: O(n) recursive call stack can include potentially all nodes"
   ]
  },
  {
   "cell_type": "code",
   "execution_count": 11,
   "metadata": {
    "pycharm": {
     "name": "#%%\n"
    }
   },
   "outputs": [
    {
     "data": {
      "text/plain": [
       "True"
      ]
     },
     "execution_count": 11,
     "metadata": {},
     "output_type": "execute_result"
    }
   ],
   "source": [
    "class TreeNode:\n",
    "    def __init__(self, val=0, left=None, right=None):\n",
    "        self.val = val\n",
    "        self.left = left\n",
    "        self.right = right\n",
    "\n",
    "class Solution:\n",
    "\n",
    "    def is_full_binary_tree(self, root: TreeNode) -> bool:\n",
    "        def dfs(root: TreeNode):\n",
    "            if root is None:\n",
    "                return True\n",
    "\n",
    "            dfs(root.left)\n",
    "            dfs(root.right)\n",
    "\n",
    "            if root.left is None and root.right is not None:\n",
    "                return False\n",
    "            if root.left is not None and root.right is None:\n",
    "                return False\n",
    "\n",
    "            return True\n",
    "        return dfs(root)\n",
    "\n",
    "root = TreeNode(1)\n",
    "root.left = TreeNode(2)\n",
    "root.left.left = TreeNode(4)\n",
    "root.left.right = TreeNode(5)\n",
    "root.right = TreeNode(3)\n",
    "\n",
    "Solution().is_full_binary_tree(root)\n",
    "\n"
   ]
  },
  {
   "cell_type": "markdown",
   "metadata": {
    "pycharm": {
     "name": "#%% md\n"
    }
   },
   "source": [
    "### Remove nodes on root to leaf paths of length < K\n",
    "Source: [https://www.geeksforgeeks.org/remove-nodes-root-leaf-paths-length-k/](https://www.geeksforgeeks.org/remove-nodes-root-leaf-paths-length-k/)\n",
    "\n",
    "Example:\n",
    "\n",
    "```\n",
    "Input: Root of Binary Tree, k = 4\n",
    "               1\n",
    "           /      \\\n",
    "         2          3\n",
    "      /     \\         \\\n",
    "    4         5        6\n",
    "  /                   /\n",
    " 7                   8\n",
    "\n",
    "Output: The tree should be changed to following\n",
    "           1\n",
    "        /     \\\n",
    "      2          3\n",
    "     /             \\\n",
    "   4                 6\n",
    " /                  /\n",
    "7                  8\n",
    "```"
   ]
  },
  {
   "cell_type": "code",
   "execution_count": 43,
   "metadata": {
    "pycharm": {
     "name": "#%%\n"
    }
   },
   "outputs": [
    {
     "name": "stdout",
     "output_type": "stream",
     "text": [
      "paths to delete:\n",
      "[1, 2, 5]\n",
      "paths to keep:\n",
      "[1, 2, 4, 7]\n",
      "[1, 3, 6, 8]\n",
      "DFS preorder list after deletion\n",
      "1\n",
      "2\n",
      "4\n",
      "7\n",
      "3\n",
      "6\n",
      "8\n",
      "\n",
      "BFS level ordering of nodes after deletion\n",
      "1\n",
      "2\n",
      "3\n",
      "4\n",
      "6\n",
      "7\n",
      "8\n"
     ]
    }
   ],
   "source": [
    "class TreeNode:\n",
    "    def __init__(self, val, left: TreeNode = None, right: TreeNode = None):\n",
    "        self.val = val\n",
    "        self.left = left\n",
    "        self.right = right\n",
    "\n",
    "    def dfs_display(self, node: TreeNode):\n",
    "        # preorder display\n",
    "        print(node.val)\n",
    "        if node.left:\n",
    "            self.dfs_display(node.left)\n",
    "        if node.right:\n",
    "            self.dfs_display(node.right)\n",
    "\n",
    "    def bfs_display(self, node: TreeNode):\n",
    "\n",
    "        queue = []\n",
    "        queue.append(node)\n",
    "\n",
    "        while queue:\n",
    "            n = queue.pop(0)\n",
    "            print(n.val)\n",
    "\n",
    "            if n.left:\n",
    "                queue.append(n.left)\n",
    "            if n.right:\n",
    "                queue.append(n.right)\n",
    "\n",
    "class Solution:\n",
    "\n",
    "    def remove_paths_less_than_k(self, root: TreeNode, k: int) -> TreeNode:\n",
    "\n",
    "        # Use DFS to increase depth counter as we traverse downward\n",
    "        # If we get to where depth > k and we are at a leaf node, add the\n",
    "        # resultant path to the list of paths to delete\n",
    "\n",
    "        self.paths_to_delete = []\n",
    "        self.paths_to_keep = []\n",
    "\n",
    "        nodes_to_remove = set()\n",
    "\n",
    "        def dfs(node: TreeNode, prev: List[TreeNode], depth: int):\n",
    "            if node is None:\n",
    "                return\n",
    "\n",
    "            depth += 1\n",
    "\n",
    "            if depth < k and node.left is None and node.right is None:\n",
    "                # mark path so that it can be deleted\n",
    "                self.paths_to_delete.append(prev + [node])\n",
    "                return\n",
    "\n",
    "            if depth >= k:\n",
    "                self.paths_to_keep.append(prev + [node])\n",
    "\n",
    "\n",
    "            dfs(node.left, prev + [node], depth)\n",
    "            dfs(node.right, prev + [node], depth)\n",
    "\n",
    "        prev = []\n",
    "        dfs(node=root, prev=prev, depth=0)\n",
    "        print(\"paths to delete:\")\n",
    "        for paths in self.paths_to_delete:\n",
    "            print([p.val for p in paths])\n",
    "        print(\"paths to keep:\")\n",
    "        for paths in self.paths_to_keep:\n",
    "            print([p.val for p in paths])\n",
    "\n",
    "        nodes_to_remove = set()\n",
    "        for path in self.paths_to_delete:\n",
    "            for node in path:\n",
    "                nodes_to_remove.add(node)\n",
    "        for path in self.paths_to_keep:\n",
    "            for node in path:\n",
    "                if node in nodes_to_remove:\n",
    "                    nodes_to_remove.remove(node)\n",
    "\n",
    "        def dfs_remove_nodes(node: TreeNode):\n",
    "            if node is None:\n",
    "                return\n",
    "\n",
    "            if node.left in nodes_to_remove:\n",
    "                node.left = None\n",
    "            else:\n",
    "                dfs_remove_nodes(node.left)\n",
    "            if node.right in nodes_to_remove:\n",
    "                node.right = None\n",
    "            else:\n",
    "                dfs_remove_nodes(node.right)\n",
    "        dfs_remove_nodes(root)\n",
    "        return root\n",
    "\n",
    "root = TreeNode(1)\n",
    "root.left = TreeNode(2)\n",
    "root.left.right = TreeNode(5)\n",
    "root.left.left = TreeNode(4)\n",
    "root.left.left.left = TreeNode(7)\n",
    "\n",
    "root.right = TreeNode(3)\n",
    "root.right.right = TreeNode(6)\n",
    "root.right.right.left = TreeNode(8)\n",
    "\n",
    "head = Solution().remove_paths_less_than_k(root, 4)\n",
    "print(\"DFS preorder list after deletion\")\n",
    "head.dfs_display(head)\n",
    "print(\"\\nBFS level ordering of nodes after deletion\")\n",
    "head.bfs_display(head)\n",
    "\n"
   ]
  },
  {
   "cell_type": "code",
   "execution_count": 54,
   "outputs": [
    {
     "name": "stdout",
     "output_type": "stream",
     "text": [
      "DFS display of tree with paths shorter than 4 removed:\n",
      "1\n",
      "2\n",
      "4\n",
      "7\n",
      "3\n",
      "6\n",
      "8\n",
      "\n",
      "BFS display of tree with paths shorter than 4 removed:\n",
      "1\n",
      "2\n",
      "3\n",
      "4\n",
      "6\n",
      "7\n",
      "8\n"
     ]
    }
   ],
   "source": [
    "class TreeNode:\n",
    "    def __init__(self, val, left: TreeNode = None, right: TreeNode = None):\n",
    "        self.val = val\n",
    "        self.left = left\n",
    "        self.right = right\n",
    "\n",
    "    def dfs_display(self, node: TreeNode):\n",
    "        # preorder display\n",
    "        print(node.val)\n",
    "        if node.left:\n",
    "            self.dfs_display(node.left)\n",
    "        if node.right:\n",
    "            self.dfs_display(node.right)\n",
    "\n",
    "    def bfs_display(self, node: TreeNode):\n",
    "\n",
    "        queue = []\n",
    "        queue.append(node)\n",
    "\n",
    "        while queue:\n",
    "            n = queue.pop(0)\n",
    "            print(n.val)\n",
    "\n",
    "            if n.left:\n",
    "                queue.append(n.left)\n",
    "            if n.right:\n",
    "                queue.append(n.right)\n",
    "\n",
    "class Solution:\n",
    "\n",
    "    def remove_paths_less_than_k(self, root: TreeNode, k: int) -> TreeNode:\n",
    "        # Traverse the tree in postorder fashion\n",
    "        # so that if a leaf node path length is\n",
    "        # shorter than k, then that node and all\n",
    "        # of its descendants till the node which\n",
    "        # are not on some other path are removed.\n",
    "\n",
    "        def dfs(node: TreeNode, height: int):\n",
    "            if node is None:\n",
    "                return\n",
    "\n",
    "            node.left = dfs(node.left, height + 1)\n",
    "            node.right = dfs(node.right, height + 1)\n",
    "\n",
    "            if height < k and node.left is None and node.right is None:\n",
    "                # assign the node's value to None so it is deleted\n",
    "                # This will propogate up until it hits a path where\n",
    "                # not all nodes should be deleted\n",
    "                return None\n",
    "\n",
    "            return node\n",
    "\n",
    "        return dfs(node=root, height=1)\n",
    "\n",
    "root = TreeNode(1)\n",
    "root.left = TreeNode(2)\n",
    "root.left.right = TreeNode(5)\n",
    "root.left.left = TreeNode(4)\n",
    "root.left.left.left = TreeNode(7)\n",
    "\n",
    "root.right = TreeNode(3)\n",
    "root.right.right = TreeNode(6)\n",
    "root.right.right.left = TreeNode(8)\n",
    "\n",
    "result = Solution().remove_paths_less_than_k(root, 4)\n",
    "print(\"DFS display of tree with paths shorter than 4 removed:\")\n",
    "result.dfs_display(result)\n",
    "print()\n",
    "print(\"BFS display of tree with paths shorter than 4 removed:\")\n",
    "result.bfs_display(result)"
   ],
   "metadata": {
    "collapsed": false,
    "pycharm": {
     "name": "#%%\n"
    }
   }
  },
  {
   "cell_type": "markdown",
   "source": [
    "### Lowest common ancestor in Binary Seach Tree\n",
    "\n",
    "Given values of two values n1 and n2 in a Binary Search Tree, find the Lowest Common Ancestor (LCA).\n",
    "You may assume that both the values exist in the tree.\n",
    "\n",
    "Example:\n",
    "\n",
    "```\n",
    "                     20\n",
    "                  /      \\\n",
    "                 8        22\n",
    "                /  \\\n",
    "               4    12\n",
    "                   /  \\\n",
    "                  10  14\n",
    "```\n",
    "Input: LCA of 10 and 14\n",
    "Output:  12\n",
    "Explanation: 12 is the closest node to both 10 and 14\n",
    "which is a ancestor of both the nodes."
   ],
   "metadata": {
    "collapsed": false,
    "pycharm": {
     "name": "#%% md\n"
    }
   }
  },
  {
   "cell_type": "code",
   "execution_count": 9,
   "outputs": [],
   "source": [
    "class TreeNode:\n",
    "    def __init__(self, val, left=None, right=None):\n",
    "        self.val = val\n",
    "        self.left = left\n",
    "        self.right = right\n",
    "\n",
    "class Solution:\n",
    "    def lowestCommonAncestor(self, root: 'TreeNode', p: 'TreeNode', q: 'TreeNode') -> 'TreeNode':\n",
    "        # Use DFS postorder traversal to decide whether p and q\n",
    "        # are in the left and right subtree of the current node.\n",
    "        # the first time we find them both in the left and right\n",
    "        # subtrees, we return that node, as this will be the lowest\n",
    "        # common ancestor of p and q.\n",
    "        # We will need to return whether p or q is the current node\n",
    "        # or whether p or q are in the left or right subtrees\n",
    "        # as soon as we find p and q\n",
    "        # Time complexity: O(V)\n",
    "        # Space complexity: O(h) which is the maximum height of the tree\n",
    "        # This is because we store the height of the tree\n",
    "        # in the recursive call stack\n",
    "        # If the tree is a linked list, this would be O(V)\n",
    "\n",
    "        self.lca = None\n",
    "\n",
    "        def dfs(node: TreeNode):\n",
    "            if node is None:\n",
    "                return False, False\n",
    "\n",
    "            has_p = False\n",
    "            has_q = False\n",
    "\n",
    "            left_subtree_has_p, left_subtree_has_q = dfs(node.left)\n",
    "            right_subtree_has_p, right_subtree_has_q = dfs(node.right)\n",
    "\n",
    "            if node.val == p.val:\n",
    "                has_p = True\n",
    "            if node.val == q.val:\n",
    "                has_q = True\n",
    "\n",
    "            has_p = left_subtree_has_p or right_subtree_has_p or has_p\n",
    "            has_q = left_subtree_has_q or right_subtree_has_q or has_q\n",
    "\n",
    "            if has_p and has_q and self.lca is None:\n",
    "                self.lca = node\n",
    "\n",
    "            return has_p, has_q\n",
    "\n",
    "        dfs(root)\n",
    "        return self.lca\n",
    "\"\"\"\n",
    "               1\n",
    "           /      \\\n",
    "         2          3\n",
    "      /     \\         \\\n",
    "    4         5        6\n",
    "  /                   /\n",
    " 7                   8\n",
    "\"\"\"\n",
    "\n",
    "root = TreeNode(1)\n",
    "root.left = TreeNode(2)\n",
    "root.left.right = TreeNode(5)\n",
    "root.left.left = TreeNode(4)\n",
    "root.left.left.left = TreeNode(7)\n",
    "\n",
    "root.right = TreeNode(3)\n",
    "root.right.right = TreeNode(6)\n",
    "root.right.right.left = TreeNode(8)\n",
    "assert Solution().lowestCommonAncestor(root, root.left.left, root.left.right) == root.left"
   ],
   "metadata": {
    "collapsed": false,
    "pycharm": {
     "name": "#%%\n"
    }
   }
  },
  {
   "cell_type": "code",
   "execution_count": null,
   "outputs": [],
   "source": [],
   "metadata": {
    "collapsed": false,
    "pycharm": {
     "name": "#%%\n"
    }
   }
  }
 ],
 "metadata": {
  "kernelspec": {
   "display_name": "Python 3 (ipykernel)",
   "language": "python",
   "name": "python3"
  },
  "language_info": {
   "codemirror_mode": {
    "name": "ipython",
    "version": 3
   },
   "file_extension": ".py",
   "mimetype": "text/x-python",
   "name": "python",
   "nbconvert_exporter": "python",
   "pygments_lexer": "ipython3",
   "version": "3.8.7"
  }
 },
 "nbformat": 4,
 "nbformat_minor": 4
}