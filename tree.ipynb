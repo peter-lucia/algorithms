{
 "cells": [
  {
   "cell_type": "markdown",
   "metadata": {
    "collapsed": true,
    "pycharm": {
     "name": "#%% md\n"
    }
   },
   "source": [
    "#### Bottom View Binary Tree (queue)"
   ]
  },
  {
   "cell_type": "code",
   "execution_count": 9,
   "outputs": [],
   "source": [
    "# Python3 program to print Bottom\n",
    "# Source: https://www.geeksforgeeks.org/bottom-view-binary-tree/\n",
    "\n",
    "# Tree node class\n",
    "class Node:\n",
    "    def __init__(self, key):\n",
    "        self.data = key\n",
    "        self.hd = 1000000 # horizontal distance\n",
    "        self.left = None\n",
    "        self.right = None\n",
    "\n",
    "# Method that prints the bottom view.\n",
    "def bottom_view_queue(root):\n",
    "\n",
    "    if (root == None):\n",
    "        return\n",
    "\n",
    "    # Initialize a variable 'hd' with 0\n",
    "    # for the root element.\n",
    "    hd = 0\n",
    "\n",
    "    # TreeMap which stores key value pair\n",
    "    # sorted on key value\n",
    "    m = dict()\n",
    "\n",
    "    # Queue to store tree nodes in level\n",
    "    # order traversal\n",
    "    queue = []\n",
    "\n",
    "    # Assign initialized horizontal distance\n",
    "    # value to root node and add it to the queue.\n",
    "    root.hd = hd\n",
    "\n",
    "    # In STL, append() is used enqueue an item\n",
    "    queue.append(root)\n",
    "\n",
    "    while queue:\n",
    "        temp = queue[0]\n",
    "        queue.pop(0)\n",
    "\n",
    "        # Extract the horizontal distance value\n",
    "        # from the dequeued tree node.\n",
    "        hd = temp.hd\n",
    "\n",
    "        # Put the dequeued tree node to TreeMap\n",
    "        # having key as horizontal distance. Every\n",
    "        # time we find a node having same horizontal\n",
    "        # distance we need to replace the data in\n",
    "        # the map.\n",
    "        m[hd] = temp.data\n",
    "\n",
    "        # If the dequeued node has a left child, add\n",
    "        # it to the queue with a horizontal distance hd-1.\n",
    "        if temp.left is not None:\n",
    "            temp.left.hd = hd - 1\n",
    "            queue.append(temp.left)\n",
    "\n",
    "        # If the dequeued node has a right child, add\n",
    "        # it to the queue with a horizontal distance\n",
    "        # hd+1.\n",
    "        if temp.right is not None:\n",
    "            temp.right.hd = hd + 1\n",
    "            queue.append(temp.right)\n",
    "\n",
    "    # Traverse the map elements using the iterator.\n",
    "    for i in sorted(m.keys()):\n",
    "        print(m[i], end = ' ')"
   ],
   "metadata": {
    "collapsed": false,
    "pycharm": {
     "name": "#%%\n"
    }
   }
  },
  {
   "cell_type": "markdown",
   "source": [
    "                      20\n",
    "                    /    \\\n",
    "                  8       22\n",
    "                /   \\    /   \\\n",
    "              5      3 4     25\n",
    "                    / \\\n",
    "                  10    14"
   ],
   "metadata": {
    "collapsed": false,
    "pycharm": {
     "name": "#%% md\n"
    }
   }
  },
  {
   "cell_type": "code",
   "execution_count": 10,
   "outputs": [
    {
     "name": "stdout",
     "output_type": "stream",
     "text": [
      "Bottom view of the given binary tree :\n",
      "5 10 4 14 25 "
     ]
    }
   ],
   "source": [
    "# Driver Code\n",
    "root = Node(20)\n",
    "root.left = Node(8)\n",
    "root.right = Node(22)\n",
    "root.left.left = Node(5)\n",
    "root.left.right = Node(3)\n",
    "root.right.left = Node(4)\n",
    "root.right.right = Node(25)\n",
    "root.left.right.left = Node(10)\n",
    "root.left.right.right = Node(14)\n",
    "\n",
    "print(\"Bottom view of the given binary tree :\")\n",
    "\n",
    "bottom_view_queue(root)"
   ],
   "metadata": {
    "collapsed": false,
    "pycharm": {
     "name": "#%%\n"
    }
   }
  },
  {
   "cell_type": "markdown",
   "source": [
    "#### Bottom View Binary Tree (hashmap)"
   ],
   "metadata": {
    "collapsed": false,
    "pycharm": {
     "name": "#%% md\n"
    }
   }
  },
  {
   "cell_type": "code",
   "execution_count": 11,
   "outputs": [
    {
     "name": "stdout",
     "output_type": "stream",
     "text": [
      "Bottom view of the given binary tree:\n",
      "5 10 4 14 25 "
     ]
    }
   ],
   "source": [
    "class Node:\n",
    "\n",
    "    def __init__(self, key = None,\n",
    "                      left = None,\n",
    "                     right = None):\n",
    "        self.data = key\n",
    "        self.left = left\n",
    "        self.right = right\n",
    "\n",
    "def bottom_view_hashmap(root):\n",
    "\n",
    "    # Create a dictionary where\n",
    "    # key -> relative horizontal distance\n",
    "    # of the node from root node and\n",
    "    # value -> pair containing node's\n",
    "    # value and its level\n",
    "    d = dict()\n",
    "\n",
    "    bottom_view_hashmap_util(root, d, 0, 0)\n",
    "\n",
    "    # Traverse the dictionary in sorted\n",
    "    # order of their keys and print\n",
    "    # the bottom view\n",
    "    for i in sorted(d.keys()):\n",
    "        print(d[i][0], end = \" \")\n",
    "\n",
    "def bottom_view_hashmap_util(root, d, hd, level):\n",
    "\n",
    "    # Base case\n",
    "    if root is None:\n",
    "        return\n",
    "\n",
    "    # If current level is more than or equal\n",
    "    # to maximum level seen so far for the\n",
    "    # same horizontal distance or horizontal\n",
    "    # distance is seen for the first time,\n",
    "    # update the dictionary\n",
    "    if hd in d:\n",
    "        if level >= d[hd][1]:\n",
    "            d[hd] = [root.data, level]\n",
    "    else:\n",
    "        d[hd] = [root.data, level]\n",
    "\n",
    "    # recur for left subtree by decreasing\n",
    "    # horizontal distance and increasing\n",
    "    # level by 1\n",
    "    bottom_view_hashmap_util(root.left, d, hd - 1,\n",
    "                                   level + 1)\n",
    "\n",
    "    # recur for right subtree by increasing\n",
    "    # horizontal distance and increasing\n",
    "    # level by 1\n",
    "    bottom_view_hashmap_util(root.right, d, hd + 1,\n",
    "                                    level + 1)\n",
    "\n",
    "root = Node(20)\n",
    "root.left = Node(8)\n",
    "root.right = Node(22)\n",
    "root.left.left = Node(5)\n",
    "root.left.right = Node(3)\n",
    "root.right.left = Node(4)\n",
    "root.right.right = Node(25)\n",
    "root.left.right.left = Node(10)\n",
    "root.left.right.right = Node(14)\n",
    "\n",
    "print(\"Bottom view of the given binary tree:\")\n",
    "bottom_view_hashmap(root)"
   ],
   "metadata": {
    "collapsed": false,
    "pycharm": {
     "name": "#%%\n"
    }
   }
  },
  {
   "cell_type": "markdown",
   "source": [
    "#### Top View Binary Tree\n",
    "Source: http://code2begin.blogspot.com/2018/07/top-view-of-binary-tree.html"
   ],
   "metadata": {
    "collapsed": false,
    "pycharm": {
     "name": "#%% md\n"
    }
   }
  },
  {
   "cell_type": "code",
   "execution_count": null,
   "outputs": [],
   "source": [],
   "metadata": {
    "collapsed": false,
    "pycharm": {
     "name": "#%%\n"
    }
   }
  }
 ],
 "metadata": {
  "kernelspec": {
   "display_name": "Python 3",
   "language": "python",
   "name": "python3"
  },
  "language_info": {
   "codemirror_mode": {
    "name": "ipython",
    "version": 2
   },
   "file_extension": ".py",
   "mimetype": "text/x-python",
   "name": "python",
   "nbconvert_exporter": "python",
   "pygments_lexer": "ipython2",
   "version": "2.7.6"
  }
 },
 "nbformat": 4,
 "nbformat_minor": 0
}