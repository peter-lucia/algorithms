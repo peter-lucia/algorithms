{
 "cells": [
  {
   "cell_type": "code",
   "execution_count": 1,
   "metadata": {
    "collapsed": false,
    "jupyter": {
     "outputs_hidden": false
    },
    "pycharm": {
     "name": "#%%\n"
    }
   },
   "outputs": [],
   "source": [
    "from collections import defaultdict\n",
    "from typing import Optional, List\n"
   ]
  },
  {
   "cell_type": "markdown",
   "metadata": {
    "pycharm": {
     "name": "#%% md\n"
    }
   },
   "source": [
    "#### Bottom View Balanced Binary Tree (queue)\n",
    "* similar to bfs\n",
    "* Use a lookup to map the horizontal distance to the node\n",
    "* Horizontal distance decreases when we visit the left node\n",
    "* Horizontal distance increases when we visit the right node\n",
    "* Basically modify BFS to append left and right nodes to the queue (if they exist) while updating horizontal distances for each node\n",
    "* At the end, the lookup will have only the bottom view nodes since each horizontal distance at the end will be unique"
   ]
  },
  {
   "cell_type": "code",
   "execution_count": 2,
   "metadata": {
    "collapsed": false,
    "jupyter": {
     "outputs_hidden": false
    },
    "pycharm": {
     "name": "#%%\n"
    }
   },
   "outputs": [],
   "source": [
    "# Python3 program to print Bottom\n",
    "# Source: https://www.geeksforgeeks.org/bottom-view-binary-tree/\n",
    "\n",
    "# Tree node class\n",
    "class Node:\n",
    "    def __init__(self, key):\n",
    "        self.val = key\n",
    "        self.hd = 0 # horizontal distance from center root node\n",
    "        self.left = None\n",
    "        self.right = None\n",
    "\n",
    "def binary_tree_bottom_view(root):\n",
    "    \"\"\"\n",
    "    Use horizontal distance to determine order of bottom view\n",
    "\n",
    "    At the end we will have the following left to right bottom view\n",
    "    {\n",
    "        # horizontal dist: node.val\n",
    "        -2: 5,\n",
    "        -1: 10,\n",
    "         0: 4,\n",
    "         1: 14,\n",
    "         2: 25,\n",
    "    }\n",
    "    \"\"\"\n",
    "\n",
    "    if root is None:\n",
    "        return\n",
    "\n",
    "\n",
    "    lookup = dict()\n",
    "\n",
    "    # Queue to store tree nodes in level\n",
    "    # order traversal\n",
    "    queue = []\n",
    "\n",
    "    # Assign initialized horizontal distance\n",
    "    # value to root node and add it to the queue.\n",
    "    root.hd = 0\n",
    "\n",
    "    # In STL, append() is used enqueue an item\n",
    "    queue.append(root)\n",
    "\n",
    "    while queue:\n",
    "        node = queue.pop(0)\n",
    "\n",
    "        # We always want to update the lookup with\n",
    "        # this node's position and value\n",
    "        lookup[node.hd] = node\n",
    "\n",
    "        # Add left child to queue with hd = hd - 1\n",
    "        if node.left is not None:\n",
    "            node.left.hd = node.hd - 1\n",
    "            queue.append(node.left)\n",
    "\n",
    "        # Add right child to queue with hd = hd + 1\n",
    "        if node.right is not None:\n",
    "            node.right.hd = node.hd + 1\n",
    "            queue.append(node.right)\n",
    "\n",
    "    # Sort the map based on increasing hd for left to right bottom view\n",
    "    for i in sorted(lookup.keys()):\n",
    "        print(lookup[i].val, end = ' ')"
   ]
  },
  {
   "cell_type": "markdown",
   "metadata": {
    "pycharm": {
     "name": "#%% md\n"
    }
   },
   "source": [
    "Balanced Binary Trees\n",
    "* Access is O(logn) in the worst case\n",
    "* Space complexity is the same as the unbalanced binary tree O(n)\n",
    "```\n",
    "\n",
    "                      20\n",
    "                    /    \\\n",
    "                  8       22\n",
    "                /   \\    /   \\\n",
    "              5      3  4    25\n",
    "                    / \\\n",
    "                  10    14\n",
    "```"
   ]
  },
  {
   "cell_type": "code",
   "execution_count": 3,
   "metadata": {
    "collapsed": false,
    "jupyter": {
     "outputs_hidden": false
    },
    "pycharm": {
     "name": "#%%\n"
    }
   },
   "outputs": [
    {
     "name": "stdout",
     "output_type": "stream",
     "text": [
      "Bottom view of the given binary tree :\n",
      "5 10 4 14 25 "
     ]
    }
   ],
   "source": [
    "# Driver Code\n",
    "root = Node(20)\n",
    "root.left = Node(8)\n",
    "root.right = Node(22)\n",
    "root.left.left = Node(5)\n",
    "root.left.right = Node(3)\n",
    "root.right.left = Node(4)\n",
    "root.right.right = Node(25)\n",
    "root.left.right.left = Node(10)\n",
    "root.left.right.right = Node(14)\n",
    "print(\"Bottom view of the given binary tree :\")\n",
    "binary_tree_bottom_view(root)"
   ]
  },
  {
   "cell_type": "markdown",
   "source": [
    "Unbalanced binary trees\n",
    "* Access time complexity is O(n) in the worst case\n",
    "* Space complexity is the same as the balanced binary tree O(n)\n",
    "```\n",
    "                      20\n",
    "                    /    \\\n",
    "                  2       22\n",
    "                         /\n",
    "                        4\n",
    "                       /\n",
    "                      8\n",
    "```"
   ],
   "metadata": {
    "collapsed": false,
    "pycharm": {
     "name": "#%% md\n"
    }
   }
  },
  {
   "cell_type": "code",
   "execution_count": 4,
   "outputs": [
    {
     "name": "stdout",
     "output_type": "stream",
     "text": [
      "8 4 22 "
     ]
    }
   ],
   "source": [
    "# This shows that the algorithm does not work on unbalanced binary trees\n",
    "root = Node(20)\n",
    "root.left = Node(2)\n",
    "root.right = Node(22)\n",
    "root.right.left = Node(4)\n",
    "root.right.left.left = Node(8)\n",
    "binary_tree_bottom_view(root)"
   ],
   "metadata": {
    "collapsed": false,
    "pycharm": {
     "name": "#%%\n"
    }
   }
  },
  {
   "cell_type": "markdown",
   "metadata": {
    "pycharm": {
     "name": "#%% md\n"
    }
   },
   "source": [
    "#### Bottom View Binary Tree (hashmap)"
   ]
  },
  {
   "cell_type": "code",
   "execution_count": 5,
   "metadata": {
    "collapsed": false,
    "jupyter": {
     "outputs_hidden": false
    },
    "pycharm": {
     "name": "#%%\n"
    }
   },
   "outputs": [
    {
     "name": "stdout",
     "output_type": "stream",
     "text": [
      "Bottom view of the given binary tree:\n",
      "2 8 "
     ]
    }
   ],
   "source": [
    "class Node:\n",
    "    def __init__(self, key = None,\n",
    "                      left = None,\n",
    "                     right = None):\n",
    "        self.val = key\n",
    "        self.left = left\n",
    "        self.right = right\n",
    "\n",
    "def bottom_view_hashmap(root):\n",
    "\n",
    "    # key = relative horizontal distance of the node from root node and\n",
    "    # value = pair containing node's value and its level\n",
    "    \"\"\"\n",
    "    {\n",
    "        # horizontal dist: (node.val, node's level)\n",
    "        -2: (5, 2),\n",
    "        -1: (10, 3,\n",
    "         0: (4, 2)\n",
    "         1: (14, 3),\n",
    "         2: (25, 2),\n",
    "    }\n",
    "    \"\"\"\n",
    "    lookup = dict()\n",
    "\n",
    "    bottom_view_hashmap_util(root, lookup, 0, 0)\n",
    "\n",
    "    # print the bottom view\n",
    "    for i in sorted(lookup.keys()):\n",
    "        print(lookup[i][0], end = \" \")\n",
    "\n",
    "def bottom_view_hashmap_util(root, lookup, hd, level):\n",
    "\n",
    "    if root is None:\n",
    "        return\n",
    "\n",
    "    # If current level is more than or equal\n",
    "    # to maximum level seen so far for the\n",
    "    # same horizontal distance or horizontal\n",
    "    # distance is seen for the first time,\n",
    "    # update the dictionary\n",
    "    if f\"{hd},{level}\" in lookup:\n",
    "        if level >= lookup[hd][1]:\n",
    "            lookup[f\"{hd},{level}\"] = [root.val, level]\n",
    "    else:\n",
    "        lookup[f\"{hd},{level}\"] = [root.val, level]\n",
    "\n",
    "    # this node has children, only its children should be in the lookup\n",
    "    if root.left or root.right:\n",
    "        del lookup[f\"{hd},{level}\"]\n",
    "\n",
    "    # recurse for left subtree by decreasing\n",
    "    # horizontal distance and increasing\n",
    "    # level by 1\n",
    "    bottom_view_hashmap_util(root.left,\n",
    "                             lookup,\n",
    "                             hd - 1,\n",
    "                             level + 1)\n",
    "\n",
    "    # recurse for right subtree by increasing\n",
    "    # horizontal distance and increasing\n",
    "    # level by 1\n",
    "    bottom_view_hashmap_util(root.right,\n",
    "                             lookup,\n",
    "                             hd + 1,\n",
    "                             level + 1)\n",
    "\n",
    "\n",
    "\n",
    "print(\"Bottom view of the given binary tree:\")\n",
    "root = Node(20)\n",
    "root.left = Node(2)\n",
    "root.right = Node(22)\n",
    "root.right.left = Node(4)\n",
    "root.right.left.left = Node(8)\n",
    "\n",
    "bottom_view_hashmap(root)"
   ]
  },
  {
   "cell_type": "code",
   "execution_count": 6,
   "outputs": [
    {
     "name": "stdout",
     "output_type": "stream",
     "text": [
      "10 5 4 14 25 "
     ]
    }
   ],
   "source": [
    "root = Node(20)\n",
    "root.left = Node(8)\n",
    "root.right = Node(22)\n",
    "root.left.left = Node(5)\n",
    "root.left.right = Node(3)\n",
    "root.right.left = Node(4)\n",
    "root.right.right = Node(25)\n",
    "root.left.right.left = Node(10)\n",
    "root.left.right.right = Node(14)\n",
    "bottom_view_hashmap(root)"
   ],
   "metadata": {
    "collapsed": false,
    "pycharm": {
     "name": "#%%\n"
    }
   }
  },
  {
   "cell_type": "code",
   "execution_count": 7,
   "outputs": [
    {
     "ename": "KeyError",
     "evalue": "0",
     "output_type": "error",
     "traceback": [
      "\u001B[0;31m---------------------------------------------------------------------------\u001B[0m",
      "\u001B[0;31mKeyError\u001B[0m                                  Traceback (most recent call last)",
      "\u001B[0;32m/var/folders/bz/q9y5vqhx4wbfqm0j4hhrtkdr0000gn/T/ipykernel_59484/2486811991.py\u001B[0m in \u001B[0;36m<module>\u001B[0;34m\u001B[0m\n\u001B[1;32m      4\u001B[0m \u001B[0mroot\u001B[0m\u001B[0;34m.\u001B[0m\u001B[0mleft\u001B[0m\u001B[0;34m.\u001B[0m\u001B[0mright\u001B[0m \u001B[0;34m=\u001B[0m \u001B[0mNode\u001B[0m\u001B[0;34m(\u001B[0m\u001B[0;36m2\u001B[0m\u001B[0;34m)\u001B[0m\u001B[0;34m\u001B[0m\u001B[0;34m\u001B[0m\u001B[0m\n\u001B[1;32m      5\u001B[0m \u001B[0mroot\u001B[0m\u001B[0;34m.\u001B[0m\u001B[0mright\u001B[0m\u001B[0;34m.\u001B[0m\u001B[0mleft\u001B[0m \u001B[0;34m=\u001B[0m \u001B[0mNode\u001B[0m\u001B[0;34m(\u001B[0m\u001B[0;36m1\u001B[0m\u001B[0;34m)\u001B[0m\u001B[0;34m\u001B[0m\u001B[0;34m\u001B[0m\u001B[0m\n\u001B[0;32m----> 6\u001B[0;31m \u001B[0mbottom_view_hashmap\u001B[0m\u001B[0;34m(\u001B[0m\u001B[0mroot\u001B[0m\u001B[0;34m)\u001B[0m\u001B[0;34m\u001B[0m\u001B[0;34m\u001B[0m\u001B[0m\n\u001B[0m",
      "\u001B[0;32m/var/folders/bz/q9y5vqhx4wbfqm0j4hhrtkdr0000gn/T/ipykernel_59484/3145701699.py\u001B[0m in \u001B[0;36mbottom_view_hashmap\u001B[0;34m(root)\u001B[0m\n\u001B[1;32m     23\u001B[0m     \u001B[0mlookup\u001B[0m \u001B[0;34m=\u001B[0m \u001B[0mdict\u001B[0m\u001B[0;34m(\u001B[0m\u001B[0;34m)\u001B[0m\u001B[0;34m\u001B[0m\u001B[0;34m\u001B[0m\u001B[0m\n\u001B[1;32m     24\u001B[0m \u001B[0;34m\u001B[0m\u001B[0m\n\u001B[0;32m---> 25\u001B[0;31m     \u001B[0mbottom_view_hashmap_util\u001B[0m\u001B[0;34m(\u001B[0m\u001B[0mroot\u001B[0m\u001B[0;34m,\u001B[0m \u001B[0mlookup\u001B[0m\u001B[0;34m,\u001B[0m \u001B[0;36m0\u001B[0m\u001B[0;34m,\u001B[0m \u001B[0;36m0\u001B[0m\u001B[0;34m)\u001B[0m\u001B[0;34m\u001B[0m\u001B[0;34m\u001B[0m\u001B[0m\n\u001B[0m\u001B[1;32m     26\u001B[0m \u001B[0;34m\u001B[0m\u001B[0m\n\u001B[1;32m     27\u001B[0m     \u001B[0;31m# print the bottom view\u001B[0m\u001B[0;34m\u001B[0m\u001B[0;34m\u001B[0m\u001B[0;34m\u001B[0m\u001B[0m\n",
      "\u001B[0;32m/var/folders/bz/q9y5vqhx4wbfqm0j4hhrtkdr0000gn/T/ipykernel_59484/3145701699.py\u001B[0m in \u001B[0;36mbottom_view_hashmap_util\u001B[0;34m(root, lookup, hd, level)\u001B[0m\n\u001B[1;32m     60\u001B[0m     \u001B[0;31m# horizontal distance and increasing\u001B[0m\u001B[0;34m\u001B[0m\u001B[0;34m\u001B[0m\u001B[0;34m\u001B[0m\u001B[0m\n\u001B[1;32m     61\u001B[0m     \u001B[0;31m# level by 1\u001B[0m\u001B[0;34m\u001B[0m\u001B[0;34m\u001B[0m\u001B[0;34m\u001B[0m\u001B[0m\n\u001B[0;32m---> 62\u001B[0;31m     bottom_view_hashmap_util(root.right,\n\u001B[0m\u001B[1;32m     63\u001B[0m                              \u001B[0mlookup\u001B[0m\u001B[0;34m,\u001B[0m\u001B[0;34m\u001B[0m\u001B[0;34m\u001B[0m\u001B[0m\n\u001B[1;32m     64\u001B[0m                              \u001B[0mhd\u001B[0m \u001B[0;34m+\u001B[0m \u001B[0;36m1\u001B[0m\u001B[0;34m,\u001B[0m\u001B[0;34m\u001B[0m\u001B[0;34m\u001B[0m\u001B[0m\n",
      "\u001B[0;32m/var/folders/bz/q9y5vqhx4wbfqm0j4hhrtkdr0000gn/T/ipykernel_59484/3145701699.py\u001B[0m in \u001B[0;36mbottom_view_hashmap_util\u001B[0;34m(root, lookup, hd, level)\u001B[0m\n\u001B[1;32m     52\u001B[0m     \u001B[0;31m# horizontal distance and increasing\u001B[0m\u001B[0;34m\u001B[0m\u001B[0;34m\u001B[0m\u001B[0;34m\u001B[0m\u001B[0m\n\u001B[1;32m     53\u001B[0m     \u001B[0;31m# level by 1\u001B[0m\u001B[0;34m\u001B[0m\u001B[0;34m\u001B[0m\u001B[0;34m\u001B[0m\u001B[0m\n\u001B[0;32m---> 54\u001B[0;31m     bottom_view_hashmap_util(root.left,\n\u001B[0m\u001B[1;32m     55\u001B[0m                              \u001B[0mlookup\u001B[0m\u001B[0;34m,\u001B[0m\u001B[0;34m\u001B[0m\u001B[0;34m\u001B[0m\u001B[0m\n\u001B[1;32m     56\u001B[0m                              \u001B[0mhd\u001B[0m \u001B[0;34m-\u001B[0m \u001B[0;36m1\u001B[0m\u001B[0;34m,\u001B[0m\u001B[0;34m\u001B[0m\u001B[0;34m\u001B[0m\u001B[0m\n",
      "\u001B[0;32m/var/folders/bz/q9y5vqhx4wbfqm0j4hhrtkdr0000gn/T/ipykernel_59484/3145701699.py\u001B[0m in \u001B[0;36mbottom_view_hashmap_util\u001B[0;34m(root, lookup, hd, level)\u001B[0m\n\u001B[1;32m     40\u001B[0m     \u001B[0;31m# update the dictionary\u001B[0m\u001B[0;34m\u001B[0m\u001B[0;34m\u001B[0m\u001B[0;34m\u001B[0m\u001B[0m\n\u001B[1;32m     41\u001B[0m     \u001B[0;32mif\u001B[0m \u001B[0;34mf\"{hd},{level}\"\u001B[0m \u001B[0;32min\u001B[0m \u001B[0mlookup\u001B[0m\u001B[0;34m:\u001B[0m\u001B[0;34m\u001B[0m\u001B[0;34m\u001B[0m\u001B[0m\n\u001B[0;32m---> 42\u001B[0;31m         \u001B[0;32mif\u001B[0m \u001B[0mlevel\u001B[0m \u001B[0;34m>=\u001B[0m \u001B[0mlookup\u001B[0m\u001B[0;34m[\u001B[0m\u001B[0mhd\u001B[0m\u001B[0;34m]\u001B[0m\u001B[0;34m[\u001B[0m\u001B[0;36m1\u001B[0m\u001B[0;34m]\u001B[0m\u001B[0;34m:\u001B[0m\u001B[0;34m\u001B[0m\u001B[0;34m\u001B[0m\u001B[0m\n\u001B[0m\u001B[1;32m     43\u001B[0m             \u001B[0mlookup\u001B[0m\u001B[0;34m[\u001B[0m\u001B[0;34mf\"{hd},{level}\"\u001B[0m\u001B[0;34m]\u001B[0m \u001B[0;34m=\u001B[0m \u001B[0;34m[\u001B[0m\u001B[0mroot\u001B[0m\u001B[0;34m.\u001B[0m\u001B[0mval\u001B[0m\u001B[0;34m,\u001B[0m \u001B[0mlevel\u001B[0m\u001B[0;34m]\u001B[0m\u001B[0;34m\u001B[0m\u001B[0;34m\u001B[0m\u001B[0m\n\u001B[1;32m     44\u001B[0m     \u001B[0;32melse\u001B[0m\u001B[0;34m:\u001B[0m\u001B[0;34m\u001B[0m\u001B[0;34m\u001B[0m\u001B[0m\n",
      "\u001B[0;31mKeyError\u001B[0m: 0"
     ]
    }
   ],
   "source": [
    "root = Node(20)\n",
    "root.left = Node(8)\n",
    "root.right = Node(4)\n",
    "root.left.right = Node(2)\n",
    "root.right.left = Node(1)\n",
    "bottom_view_hashmap(root)"
   ],
   "metadata": {
    "collapsed": false,
    "pycharm": {
     "name": "#%%\n"
    }
   }
  },
  {
   "cell_type": "code",
   "execution_count": null,
   "outputs": [],
   "source": [
    "# TODO: the lookup map needs to incorporate the nodes full path to be unique"
   ],
   "metadata": {
    "collapsed": false,
    "pycharm": {
     "name": "#%%\n"
    }
   }
  },
  {
   "cell_type": "markdown",
   "metadata": {
    "pycharm": {
     "name": "#%% md\n"
    }
   },
   "source": [
    "#### Top View Binary Tree\n",
    "Source: http://code2begin.blogspot.com/2018/07/top-view-of-binary-tree.html"
   ]
  },
  {
   "cell_type": "markdown",
   "metadata": {
    "pycharm": {
     "name": "#%% md\n"
    }
   },
   "source": [
    "#### Find Leaves of Binary Tree\n",
    "\n",
    "```text\n",
    "Input: root = [1,2,3,4,5]\n",
    "Output: [[4,5,3],[2],[1]]\n",
    "Explanation:\n",
    "[[3,5,4],[2],[1]] and [[3,4,5],[2],[1]] are also considered correct answers since per each level it does not matter the order on which elements are returned.\n",
    "\n",
    "Example 2:\n",
    "\n",
    "Input: root = [1]\n",
    "Output: [[1]]\n",
    "```"
   ]
  },
  {
   "cell_type": "markdown",
   "source": [
    "## One of the better bottom view approaches"
   ],
   "metadata": {
    "collapsed": false,
    "pycharm": {
     "name": "#%% md\n"
    }
   }
  },
  {
   "cell_type": "code",
   "execution_count": 8,
   "metadata": {
    "collapsed": false,
    "jupyter": {
     "outputs_hidden": false
    },
    "pycharm": {
     "name": "#%%\n"
    }
   },
   "outputs": [
    {
     "name": "stdout",
     "output_type": "stream",
     "text": [
      "Bottom view: [8]\n",
      "Bottom view: [4]\n",
      "Bottom view: [22]\n",
      "Bottom view: [20]\n"
     ]
    },
    {
     "data": {
      "text/plain": "[[2, 8], [4], [22], [20]]"
     },
     "execution_count": 8,
     "metadata": {},
     "output_type": "execute_result"
    }
   ],
   "source": [
    "# https://leetcode.com/problems/find-leaves-of-binary-tree/\n",
    "\n",
    "# Definition for a binary tree node.\n",
    "class TreeNode:\n",
    "    def __init__(self, val=0, left=None, right=None):\n",
    "        self.val = val\n",
    "        self.left = left\n",
    "        self.right = right\n",
    "class Solution:\n",
    "\n",
    "    def bottom_view_hashmap(self, root):\n",
    "        deleted_list = []\n",
    "        def util(root, lookup, hd, level, parent = None, is_left = True):\n",
    "            if root is None:\n",
    "                return\n",
    "\n",
    "            if hd in lookup:\n",
    "                # we've already seen this hd before, if the level is greater or equal,\n",
    "                # update the value at this horizontal distance to this node's value and its level\n",
    "                if level >= lookup[hd][1]:\n",
    "                    lookup[hd] = [root.val, level]\n",
    "            else:\n",
    "                # ensure the root's val and level are in the lookup\n",
    "                lookup[hd] = [root.val, level]\n",
    "\n",
    "            # this node has children, only its children should be in the lookup\n",
    "            if root.left or root.right:\n",
    "                del lookup[hd]\n",
    "\n",
    "            # recurse toward the left and right nodes. Will return None if they don't exist\n",
    "            # pass the parent node in and indicate if this node points left or right\n",
    "            # so we can chop off this node if it's a leaf\n",
    "            util(root.left, lookup, hd-1, level + 1, parent=root, is_left=True)\n",
    "            util(root.right, lookup, hd+1, level + 1, parent=root, is_left=False)\n",
    "\n",
    "\n",
    "            if not root.left and not root.right:\n",
    "                # add this node to deleted list then delete it\n",
    "                deleted_list.append((root.val, parent, is_left))\n",
    "\n",
    "        lookup = {}\n",
    "        util(root, lookup, 0, 0)\n",
    "        # the bottom view\n",
    "        print(f\"Bottom view: {[value[0] for _, value in lookup.items()]}\")\n",
    "        return deleted_list\n",
    "\n",
    "\n",
    "    def findLeaves(self, root: Optional[TreeNode]) -> List[List[int]]:\n",
    "\n",
    "        result = []\n",
    "        i = 0\n",
    "        while root:\n",
    "            temp_vals = []\n",
    "            # get the current bottom view\n",
    "            deletion_list = self.bottom_view_hashmap(root)\n",
    "            # add vals to result\n",
    "            for val, _, _ in deletion_list:\n",
    "                temp_vals.append(val)\n",
    "            result.append(temp_vals)\n",
    "            # delete the nodes in the deletion list\n",
    "            for val, parent, is_left in deletion_list:\n",
    "                if parent and is_left:\n",
    "                    parent.left = None\n",
    "                elif parent and not is_left:\n",
    "                    parent.right = None\n",
    "                if not parent:\n",
    "                    # we're at the root\n",
    "                    root = None\n",
    "        return result\n",
    "root = Node(20)\n",
    "root.left = Node(2)\n",
    "root.right = Node(22)\n",
    "root.right.left = Node(4)\n",
    "root.right.left.left = Node(8)\n",
    "Solution().findLeaves(root)"
   ]
  },
  {
   "cell_type": "code",
   "execution_count": 58,
   "outputs": [
    {
     "name": "stdout",
     "output_type": "stream",
     "text": [
      "Bottom view: [1]\n",
      "Bottom view: [8, 4]\n",
      "Bottom view: [20]\n"
     ]
    },
    {
     "data": {
      "text/plain": "[[2, 1], [8, 4], [20]]"
     },
     "execution_count": 58,
     "metadata": {},
     "output_type": "execute_result"
    }
   ],
   "source": [
    "root = Node(20)\n",
    "root.left = Node(8)\n",
    "root.right = Node(4)\n",
    "root.left.right = Node(2)\n",
    "root.right.left = Node(1)\n",
    "Solution().findLeaves(root)"
   ],
   "metadata": {
    "collapsed": false,
    "pycharm": {
     "name": "#%%\n"
    }
   }
  },
  {
   "cell_type": "markdown",
   "metadata": {
    "pycharm": {
     "name": "#%% md\n"
    }
   },
   "source": [
    "#### Find minimum depth\n",
    "\n",
    "The minimum depth is the number of nodes along the shortest path from the root node down to the nearest leaf node.\n",
    "\n",
    "```\n",
    "       3\n",
    "     /   \\\n",
    "    9     20\n",
    "         /   \\\n",
    "       15     7\n",
    "\n",
    "Input: root = [3,9,20,null,null,15,7]\n",
    "Output: 2\n",
    "3 and 9 are the nodes in the shortest path\n",
    "\n",
    "Input: root = [2,null,3,null,4,null,5,null,6]\n",
    "Output: 5\n",
    "```\n",
    "\n",
    "This is a direct application of bfs"
   ]
  },
  {
   "cell_type": "code",
   "execution_count": 8,
   "metadata": {
    "collapsed": false,
    "jupyter": {
     "outputs_hidden": false
    },
    "pycharm": {
     "name": "#%%\n"
    }
   },
   "outputs": [
    {
     "data": {
      "text/plain": [
       "2"
      ]
     },
     "execution_count": 8,
     "metadata": {},
     "output_type": "execute_result"
    }
   ],
   "source": [
    "# Definition for a binary tree node.\n",
    "class TreeNode:\n",
    "    def __init__(self, val=0, left=None, right=None):\n",
    "        self.val = val\n",
    "        self.left = left\n",
    "        self.right = right\n",
    "\n",
    "    def __repr__(self):\n",
    "        return str({\n",
    "            \"val\": self.val if self.val else None,\n",
    "            \"left\": self.left.val if self.left else None,\n",
    "            \"right\": self.right.val if self.right else None,\n",
    "        })\n",
    "\n",
    "class Solution:\n",
    "    def minDepth(self, root: Optional[TreeNode]) -> int:\n",
    "\n",
    "        if root is None:\n",
    "            return 0\n",
    "\n",
    "        def bfs(visited: List[TreeNode], node: TreeNode):\n",
    "            queue = []\n",
    "            depth = 1\n",
    "            queue.append((node, depth))\n",
    "\n",
    "            while queue:\n",
    "                # if neighbor is not visited, add it to the queue\n",
    "                elem, depth = queue.pop(0)\n",
    "                visited.append(elem)\n",
    "\n",
    "                if elem.left is None and elem.right is None:\n",
    "                    return depth\n",
    "\n",
    "                if elem.left and elem.left not in visited:\n",
    "                    queue.append((elem.left, depth + 1))\n",
    "                if elem.right and elem.right not in visited:\n",
    "                    queue.append((elem.right, depth + 1))\n",
    "        visited = []\n",
    "        min_depth = bfs(visited, root)\n",
    "        return min_depth\n",
    "\n",
    "root = TreeNode(3)\n",
    "b = TreeNode(9)\n",
    "c = TreeNode(20)\n",
    "d = TreeNode(15)\n",
    "e = TreeNode(7)\n",
    "\n",
    "root.left = b\n",
    "root.right = c\n",
    "c.left = d\n",
    "c.right = e\n",
    "Solution().minDepth(root)"
   ]
  },
  {
   "cell_type": "code",
   "execution_count": 9,
   "metadata": {
    "collapsed": false,
    "jupyter": {
     "outputs_hidden": false
    },
    "pycharm": {
     "name": "#%%\n"
    }
   },
   "outputs": [
    {
     "data": {
      "text/plain": [
       "5"
      ]
     },
     "execution_count": 9,
     "metadata": {},
     "output_type": "execute_result"
    }
   ],
   "source": [
    "root = TreeNode(2)\n",
    "b = TreeNode(3)\n",
    "c = TreeNode(4)\n",
    "d = TreeNode(5)\n",
    "e = TreeNode(6)\n",
    "\n",
    "root.right = b\n",
    "b.right = c\n",
    "c.right = d\n",
    "d.right = e\n",
    "Solution().minDepth(root)"
   ]
  },
  {
   "cell_type": "markdown",
   "metadata": {
    "pycharm": {
     "name": "#%% md\n"
    }
   },
   "source": [
    "### Tree Traversal\n",
    "Source: https://www.geeksforgeeks.org/tree-traversals-inorder-preorder-and-postorder/\n",
    "* DFS\n",
    "  * In-order\n",
    "  ```\n",
    "  Algorithm Inorder(tree)\n",
    "   1. Traverse the left subtree, i.e., call Inorder(left-subtree)\n",
    "   2. Visit the root.\n",
    "   3. Traverse the right subtree, i.e., call Inorder(right-subtree)\n",
    "  ```\n",
    "  * Pre-order\n",
    "  ```\n",
    "  Algorithm Preorder(tree)\n",
    "   1. Visit the root.\n",
    "   2. Traverse the left subtree, i.e., call Preorder(left-subtree)\n",
    "   3. Traverse the right subtree, i.e., call Preorder(right-subtree)\n",
    "  ```\n",
    "  * Post-order\n",
    "  ```\n",
    "  Algorithm Postorder(tree)\n",
    "   1. Traverse the left subtree, i.e., call Postorder(left-subtree)\n",
    "   2. Traverse the right subtree, i.e., call Postorder(right-subtree)\n",
    "   3. Visit the root.\n",
    "  ```\n",
    "* BFS\n",
    "  * Level-order"
   ]
  },
  {
   "cell_type": "markdown",
   "metadata": {
    "pycharm": {
     "name": "#%% md\n"
    }
   },
   "source": [
    "#### Example\n",
    "```\n",
    "        1\n",
    "          \\\n",
    "            2\n",
    "          /\n",
    "        3\n",
    "```"
   ]
  },
  {
   "cell_type": "code",
   "execution_count": 10,
   "metadata": {
    "collapsed": false,
    "jupyter": {
     "outputs_hidden": false
    },
    "pycharm": {
     "name": "#%%\n"
    }
   },
   "outputs": [],
   "source": [
    "root = TreeNode(1)\n",
    "two = TreeNode(2)\n",
    "three = TreeNode(3)\n",
    "root.right = two\n",
    "two.left = three"
   ]
  },
  {
   "cell_type": "markdown",
   "metadata": {
    "pycharm": {
     "name": "#%% md\n"
    }
   },
   "source": [
    "### Binary Tree In-order Traversal\n",
    "Visits the node after visiting the left subtree\n",
    "* https://leetcode.com/problems/binary-tree-inorder-traversal/"
   ]
  },
  {
   "cell_type": "code",
   "execution_count": 11,
   "metadata": {
    "collapsed": false,
    "jupyter": {
     "outputs_hidden": false
    },
    "pycharm": {
     "name": "#%%\n"
    }
   },
   "outputs": [
    {
     "data": {
      "text/plain": [
       "[1, 3, 2]"
      ]
     },
     "execution_count": 11,
     "metadata": {},
     "output_type": "execute_result"
    }
   ],
   "source": [
    "from typing import Optional, List\n",
    "# Definition for a binary tree node.\n",
    "class TreeNode:\n",
    "    def __init__(self, val=0, left=None, right=None):\n",
    "        self.val = val\n",
    "        self.left = left\n",
    "        self.right = right\n",
    "class Solution:\n",
    "    def inorderTraversal(self, root: Optional[TreeNode]) -> List[int]:\n",
    "\n",
    "        result = []\n",
    "        def traverse(node: Optional[TreeNode]):\n",
    "            if node:\n",
    "                traverse(node.left)\n",
    "                result.append(node.val)\n",
    "                traverse(node.right)\n",
    "        traverse(root)\n",
    "        return result\n",
    "\n",
    "Solution().inorderTraversal(root)"
   ]
  },
  {
   "cell_type": "markdown",
   "metadata": {
    "pycharm": {
     "name": "#%% md\n"
    }
   },
   "source": [
    "### Binary Tree Pre-order Traversal\n",
    "Visits the node before visiting the left and right sub-trees\n",
    "\n",
    "* https://leetcode.com/problems/binary-tree-preorder-traversal/"
   ]
  },
  {
   "cell_type": "code",
   "execution_count": 12,
   "metadata": {
    "collapsed": false,
    "jupyter": {
     "outputs_hidden": false
    },
    "pycharm": {
     "name": "#%%\n"
    }
   },
   "outputs": [
    {
     "data": {
      "text/plain": [
       "[1, 2, 3]"
      ]
     },
     "execution_count": 12,
     "metadata": {},
     "output_type": "execute_result"
    }
   ],
   "source": [
    "from typing import Optional\n",
    "class Solution:\n",
    "    def preorderTraversal(self, root: Optional[TreeNode]) -> List[int]:\n",
    "\n",
    "        result = []\n",
    "        def traverse(node: Optional[TreeNode]):\n",
    "            if node:\n",
    "                result.append(node.val)\n",
    "                traverse(node.left)\n",
    "                traverse(node.right)\n",
    "        traverse(root)\n",
    "        return result\n",
    "\n",
    "Solution().preorderTraversal(root)\n"
   ]
  },
  {
   "cell_type": "markdown",
   "metadata": {
    "pycharm": {
     "name": "#%% md\n"
    }
   },
   "source": [
    "### Binary Tree Post-order Traversal\n",
    "Visits the node after visiting the left and right subtrees\n",
    "* https://leetcode.com/problems/binary-tree-postorder-traversal/"
   ]
  },
  {
   "cell_type": "code",
   "execution_count": 13,
   "metadata": {
    "collapsed": false,
    "jupyter": {
     "outputs_hidden": false
    },
    "pycharm": {
     "name": "#%%\n"
    }
   },
   "outputs": [
    {
     "data": {
      "text/plain": [
       "[3, 2, 1]"
      ]
     },
     "execution_count": 13,
     "metadata": {},
     "output_type": "execute_result"
    }
   ],
   "source": [
    "class Solution:\n",
    "    def postorderTraversal(self, root: Optional[TreeNode]) -> List[int]:\n",
    "\n",
    "        result = []\n",
    "        def traverse(node: Optional[TreeNode]):\n",
    "            if node:\n",
    "                traverse(node.left)\n",
    "                traverse(node.right)\n",
    "                result.append(node.val)\n",
    "\n",
    "        traverse(root)\n",
    "        return result\n",
    "\n",
    "Solution().postorderTraversal(root)"
   ]
  },
  {
   "cell_type": "markdown",
   "metadata": {
    "jupyter": {
     "outputs_hidden": false
    },
    "pycharm": {
     "name": "#%% md\n"
    }
   },
   "source": [
    "### N-ary trees\n",
    "Each node can have up to n children\n",
    "```\n",
    "          1\n",
    "         //\\  \n",
    "       / /  \\  \n",
    "      2 3    6  \n",
    "```"
   ]
  },
  {
   "cell_type": "markdown",
   "metadata": {},
   "source": [
    "* A full n-ary tree allows each node to have between 0 and n children\n",
    "* A complete n-ary tree requires each node to have exactly n children except the leaves\n",
    "* A perfect n-ary tree requires that the level of all leaf nodes is the same"
   ]
  },
  {
   "cell_type": "markdown",
   "metadata": {},
   "source": [
    "### Trie\n",
    "* Insertion (Worst): O(n) \n",
    "* Search (Worst): O(n) "
   ]
  },
  {
   "cell_type": "code",
   "execution_count": 48,
   "metadata": {},
   "outputs": [],
   "source": [
    "class Trie:\n",
    "    def __init__(self):\n",
    "        self.child = {}\n",
    "        \n",
    "    def insert(self, word: str):\n",
    "        \"\"\"\n",
    "        Iterate over each character. \n",
    "        Ensure each character in the word is the sub key of a new dict\n",
    "        The last character of the word maps to a dict with 'end' as at least one of the keys.\n",
    "        \"\"\"\n",
    "        current = self.child\n",
    "        for c in word:\n",
    "            if c not in current:\n",
    "                current[c] = {}\n",
    "            current = current[c]\n",
    "        current['end'] = 1\n",
    "    \n",
    "    def search(self, word: str):\n",
    "        \"\"\"\n",
    "        Check that each character is in the trie and that the last character maps to a dict with 'end' as a key.\n",
    "        \"\"\"\n",
    "        current = self.child\n",
    "        for c in word:\n",
    "            if c not in current:\n",
    "                return False\n",
    "            current = current[c]\n",
    "        return 'end' in current\n",
    "    \n",
    "    def starts_with(self, prefix: str):\n",
    "        \"\"\"\n",
    "        Iterates over each character in the prefix. \n",
    "        Does not check if the last character maps to a dict with 'end' as the key.\n",
    "        \"\"\"\n",
    "        current = self.child\n",
    "        for c in prefix:\n",
    "            if c not in current:\n",
    "                return False\n",
    "            current = current[c]\n",
    "        return True\n",
    "    \n",
    "t = Trie()\n",
    "t.insert(\"apple\")"
   ]
  },
  {
   "cell_type": "code",
   "execution_count": 49,
   "metadata": {},
   "outputs": [
    {
     "data": {
      "text/plain": [
       "True"
      ]
     },
     "execution_count": 49,
     "metadata": {},
     "output_type": "execute_result"
    }
   ],
   "source": [
    "t.search(\"apple\")"
   ]
  },
  {
   "cell_type": "code",
   "execution_count": 50,
   "metadata": {},
   "outputs": [
    {
     "data": {
      "text/plain": [
       "False"
      ]
     },
     "execution_count": 50,
     "metadata": {},
     "output_type": "execute_result"
    }
   ],
   "source": [
    "t.search(\"app\")\n",
    "    "
   ]
  },
  {
   "cell_type": "code",
   "execution_count": 51,
   "metadata": {},
   "outputs": [
    {
     "data": {
      "text/plain": [
       "True"
      ]
     },
     "execution_count": 51,
     "metadata": {},
     "output_type": "execute_result"
    }
   ],
   "source": [
    "t.starts_with(\"app\")"
   ]
  },
  {
   "cell_type": "code",
   "execution_count": 52,
   "metadata": {},
   "outputs": [
    {
     "data": {
      "text/plain": [
       "{'a': {'p': {'p': {'l': {'e': {'end': 1}}}}}}"
      ]
     },
     "execution_count": 52,
     "metadata": {},
     "output_type": "execute_result"
    }
   ],
   "source": [
    "t.child"
   ]
  },
  {
   "cell_type": "code",
   "execution_count": 53,
   "metadata": {},
   "outputs": [],
   "source": [
    "t.insert(\"apricot\")\n",
    "t.insert(\"appendix\")"
   ]
  },
  {
   "cell_type": "code",
   "execution_count": 54,
   "metadata": {},
   "outputs": [
    {
     "name": "stdout",
     "output_type": "stream",
     "text": [
      "{'a': {'p': {'p': {'e': {'n': {'d': {'i': {'x': {'end': 1}}}}},\n",
      "                   'l': {'e': {'end': 1}}},\n",
      "             'r': {'i': {'c': {'o': {'t': {'end': 1}}}}}}}}\n"
     ]
    }
   ],
   "source": [
    "from pprint import pprint\n",
    "pprint(t.child)"
   ]
  },
  {
   "cell_type": "code",
   "execution_count": 55,
   "metadata": {},
   "outputs": [
    {
     "data": {
      "text/plain": [
       "True"
      ]
     },
     "execution_count": 55,
     "metadata": {},
     "output_type": "execute_result"
    }
   ],
   "source": [
    "t.search(\"apple\")"
   ]
  },
  {
   "cell_type": "code",
   "execution_count": 42,
   "metadata": {},
   "outputs": [
    {
     "data": {
      "text/plain": [
       "True"
      ]
     },
     "execution_count": 42,
     "metadata": {},
     "output_type": "execute_result"
    }
   ],
   "source": [
    "t.search(\"appendix\")"
   ]
  },
  {
   "cell_type": "code",
   "execution_count": 43,
   "metadata": {},
   "outputs": [
    {
     "data": {
      "text/plain": [
       "False"
      ]
     },
     "execution_count": 43,
     "metadata": {},
     "output_type": "execute_result"
    }
   ],
   "source": [
    "t.search(\"appendi\")"
   ]
  },
  {
   "cell_type": "code",
   "execution_count": 44,
   "metadata": {},
   "outputs": [],
   "source": [
    "t.insert(\"apples\")"
   ]
  },
  {
   "cell_type": "code",
   "execution_count": 45,
   "metadata": {},
   "outputs": [
    {
     "data": {
      "text/plain": [
       "True"
      ]
     },
     "execution_count": 45,
     "metadata": {},
     "output_type": "execute_result"
    }
   ],
   "source": [
    "t.search(\"apple\")"
   ]
  },
  {
   "cell_type": "code",
   "execution_count": 47,
   "metadata": {},
   "outputs": [
    {
     "name": "stdout",
     "output_type": "stream",
     "text": [
      "{'a': {'p': {'p': {'e': {'n': {'d': {'i': {'x': {'end': 1}}}}},\n",
      "                   'l': {'e': {'end': 1, 's': {'end': 1}}}},\n",
      "             'r': {'i': {'c': {'o': {'t': {'end': 1}}}}}}}}\n"
     ]
    }
   ],
   "source": [
    "pprint(t.child)"
   ]
  },
  {
   "cell_type": "markdown",
   "metadata": {
    "pycharm": {
     "name": "#%% md\n"
    }
   },
   "source": [
    "#### AVL Tree\n",
    "AVL tree is a self-balancing Binary Search Tree (BST) where the difference between heights of left and right subtrees cannot be more than one for all nodes."
   ]
  }
 ],
 "metadata": {
  "kernelspec": {
   "display_name": "Python 3 (ipykernel)",
   "language": "python",
   "name": "python3"
  },
  "language_info": {
   "codemirror_mode": {
    "name": "ipython",
    "version": 3
   },
   "file_extension": ".py",
   "mimetype": "text/x-python",
   "name": "python",
   "nbconvert_exporter": "python",
   "pygments_lexer": "ipython3",
   "version": "3.8.7"
  }
 },
 "nbformat": 4,
 "nbformat_minor": 4
}