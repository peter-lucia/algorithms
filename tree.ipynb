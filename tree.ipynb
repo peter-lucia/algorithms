{
 "cells": [
  {
   "cell_type": "code",
   "execution_count": 31,
   "outputs": [],
   "source": [
    "from collections import defaultdict\n",
    "from typing import Optional, List\n"
   ],
   "metadata": {
    "collapsed": false,
    "pycharm": {
     "name": "#%%\n"
    }
   }
  },
  {
   "cell_type": "markdown",
   "metadata": {
    "collapsed": true,
    "pycharm": {
     "name": "#%% md\n"
    }
   },
   "source": [
    "#### Bottom View Binary Tree (queue)\n",
    "* similar to bfs"
   ]
  },
  {
   "cell_type": "code",
   "execution_count": 21,
   "outputs": [],
   "source": [
    "# Python3 program to print Bottom\n",
    "# Source: https://www.geeksforgeeks.org/bottom-view-binary-tree/\n",
    "\n",
    "# Tree node class\n",
    "class Node:\n",
    "    def __init__(self, key):\n",
    "        self.val = key\n",
    "        self.hd = 0 # horizontal distance from center root node\n",
    "        self.left = None\n",
    "        self.right = None\n",
    "\n",
    "def binary_tree_bottom_view(root):\n",
    "    \"\"\"\n",
    "    Use horizontal distance to determine order of bottom view\n",
    "    \"\"\"\n",
    "\n",
    "    if root is None:\n",
    "        return\n",
    "\n",
    "    # at the end we will have the following left to right bottom view\n",
    "    \"\"\"\n",
    "    {\n",
    "        # horizontal dist: node.val\n",
    "        -2: 5,\n",
    "        -1: 10,\n",
    "         0: 4,\n",
    "         1: 14,\n",
    "         2: 25,\n",
    "    }\n",
    "    \"\"\"\n",
    "    lookup = dict()\n",
    "\n",
    "    # Queue to store tree nodes in level\n",
    "    # order traversal\n",
    "    queue = []\n",
    "\n",
    "    # Assign initialized horizontal distance\n",
    "    # value to root node and add it to the queue.\n",
    "    root.hd = 0\n",
    "\n",
    "    # In STL, append() is used enqueue an item\n",
    "    queue.append(root)\n",
    "\n",
    "    while queue:\n",
    "        node = queue.pop(0)\n",
    "\n",
    "        # We always want to update the lookup with\n",
    "        # this node's position and value\n",
    "        lookup[node.hd] = node.val\n",
    "\n",
    "        # Add left child to queue with hd = hd - 1\n",
    "        if node.left is not None:\n",
    "            node.left.hd = node.hd - 1\n",
    "            queue.append(node.left)\n",
    "\n",
    "        # Add right child to queue with hd = hd + 1\n",
    "        if node.right is not None:\n",
    "            node.right.hd = node.hd + 1\n",
    "            queue.append(node.right)\n",
    "\n",
    "    # Sort the map based on increasing hd for left to right bottom view\n",
    "    for i in sorted(lookup.keys()):\n",
    "        print(lookup[i], end = ' ')"
   ],
   "metadata": {
    "collapsed": false,
    "pycharm": {
     "name": "#%%\n"
    }
   }
  },
  {
   "cell_type": "markdown",
   "source": [
    "                      20\n",
    "                    /    \\\n",
    "                  8       22\n",
    "                /   \\    /   \\\n",
    "              5      3  4    25\n",
    "                    / \\\n",
    "                  10    14"
   ],
   "metadata": {
    "collapsed": false,
    "pycharm": {
     "name": "#%% md\n"
    }
   }
  },
  {
   "cell_type": "code",
   "execution_count": 22,
   "outputs": [
    {
     "name": "stdout",
     "output_type": "stream",
     "text": [
      "Bottom view of the given binary tree :\n",
      "5 10 4 14 25 "
     ]
    }
   ],
   "source": [
    "# Driver Code\n",
    "root = Node(20)\n",
    "root.left = Node(8)\n",
    "root.right = Node(22)\n",
    "root.left.left = Node(5)\n",
    "root.left.right = Node(3)\n",
    "root.right.left = Node(4)\n",
    "root.right.right = Node(25)\n",
    "root.left.right.left = Node(10)\n",
    "root.left.right.right = Node(14)\n",
    "print(\"Bottom view of the given binary tree :\")\n",
    "binary_tree_bottom_view(root)"
   ],
   "metadata": {
    "collapsed": false,
    "pycharm": {
     "name": "#%%\n"
    }
   }
  },
  {
   "cell_type": "markdown",
   "source": [
    "#### Bottom View Binary Tree (hashmap)"
   ],
   "metadata": {
    "collapsed": false,
    "pycharm": {
     "name": "#%% md\n"
    }
   }
  },
  {
   "cell_type": "code",
   "execution_count": 29,
   "outputs": [
    {
     "name": "stdout",
     "output_type": "stream",
     "text": [
      "Bottom view of the given binary tree:\n",
      "5 10 4 14 25 "
     ]
    }
   ],
   "source": [
    "class Node:\n",
    "    def __init__(self, key = None,\n",
    "                      left = None,\n",
    "                     right = None):\n",
    "        self.val = key\n",
    "        self.left = left\n",
    "        self.right = right\n",
    "\n",
    "def bottom_view_hashmap(root):\n",
    "\n",
    "    # key = relative horizontal distance of the node from root node and\n",
    "    # value = pair containing node's value and its level\n",
    "    \"\"\"\n",
    "    {\n",
    "        # horizontal dist: (node.val, node's level)\n",
    "        -2: (5, 2),\n",
    "        -1: (10, 3,\n",
    "         0: (4, 2)\n",
    "         1: (14, 3),\n",
    "         2: (25, 2),\n",
    "    }\n",
    "    \"\"\"\n",
    "    lookup = dict()\n",
    "\n",
    "    bottom_view_hashmap_util(root, lookup, 0, 0)\n",
    "\n",
    "    # print the bottom view\n",
    "    for i in sorted(lookup.keys()):\n",
    "        print(lookup[i][0], end = \" \")\n",
    "\n",
    "def bottom_view_hashmap_util(root, lookup, hd, level):\n",
    "\n",
    "    if root is None:\n",
    "        return\n",
    "\n",
    "    # If current level is more than or equal\n",
    "    # to maximum level seen so far for the\n",
    "    # same horizontal distance or horizontal\n",
    "    # distance is seen for the first time,\n",
    "    # update the dictionary\n",
    "    if hd in lookup:\n",
    "        if level >= lookup[hd][1]:\n",
    "            lookup[hd] = [root.val, level]\n",
    "    else:\n",
    "        lookup[hd] = [root.val, level]\n",
    "\n",
    "    # recurse for left subtree by decreasing\n",
    "    # horizontal distance and increasing\n",
    "    # level by 1\n",
    "    bottom_view_hashmap_util(root.left,\n",
    "                             lookup,\n",
    "                             hd - 1,\n",
    "                             level + 1)\n",
    "\n",
    "    # recurse for right subtree by increasing\n",
    "    # horizontal distance and increasing\n",
    "    # level by 1\n",
    "    bottom_view_hashmap_util(root.right,\n",
    "                             lookup,\n",
    "                             hd + 1,\n",
    "                             level + 1)\n",
    "\n",
    "print(\"Bottom view of the given binary tree:\")\n",
    "bottom_view_hashmap(root)"
   ],
   "metadata": {
    "collapsed": false,
    "pycharm": {
     "name": "#%%\n"
    }
   }
  },
  {
   "cell_type": "markdown",
   "source": [
    "#### Top View Binary Tree\n",
    "Source: http://code2begin.blogspot.com/2018/07/top-view-of-binary-tree.html"
   ],
   "metadata": {
    "collapsed": false,
    "pycharm": {
     "name": "#%% md\n"
    }
   }
  },
  {
   "cell_type": "markdown",
   "source": [
    "#### Find Leaves of Binary Tree\n",
    "\n",
    "```text\n",
    "Input: root = [1,2,3,4,5]\n",
    "Output: [[4,5,3],[2],[1]]\n",
    "Explanation:\n",
    "[[3,5,4],[2],[1]] and [[3,4,5],[2],[1]] are also considered correct answers since per each level it does not matter the order on which elements are returned.\n",
    "\n",
    "Example 2:\n",
    "\n",
    "Input: root = [1]\n",
    "Output: [[1]]\n",
    "```"
   ],
   "metadata": {
    "collapsed": false,
    "pycharm": {
     "name": "#%% md\n"
    }
   }
  },
  {
   "cell_type": "code",
   "execution_count": 33,
   "outputs": [
    {
     "name": "stdout",
     "output_type": "stream",
     "text": [
      "Bottom view: [5, 10, 4, 25]\n",
      "Bottom view: [3, 22]\n",
      "Bottom view: [8]\n",
      "Bottom view: [20]\n"
     ]
    },
    {
     "data": {
      "text/plain": "[[5, 10, 14, 4, 25], [3, 22], [8], [20]]"
     },
     "execution_count": 33,
     "metadata": {},
     "output_type": "execute_result"
    }
   ],
   "source": [
    "# https://leetcode.com/problems/find-leaves-of-binary-tree/\n",
    "\n",
    "# Definition for a binary tree node.\n",
    "class TreeNode:\n",
    "    def __init__(self, val=0, left=None, right=None):\n",
    "        self.val = val\n",
    "        self.left = left\n",
    "        self.right = right\n",
    "class Solution:\n",
    "\n",
    "    def bottom_view_hashmap(self, root):\n",
    "        deleted_list = []\n",
    "        def util(root, lookup, hd, level, parent = None, is_left = True):\n",
    "            if root is None:\n",
    "                return\n",
    "\n",
    "            if hd in lookup:\n",
    "                # we've already seen this hd before, if the level is greater or equal,\n",
    "                # update the value at this horizontal distance to this node's value and its level\n",
    "                if level >= lookup[hd][1]:\n",
    "                    lookup[hd] = [root.val, level]\n",
    "            else:\n",
    "                # ensure the root's val and level are in the lookup\n",
    "                lookup[hd] = [root.val, level]\n",
    "\n",
    "            # this node has children, only its children should be in the lookup\n",
    "            if root.left or root.right:\n",
    "                del lookup[hd]\n",
    "\n",
    "            # recurse toward the left and right nodes. Will return None if they don't exist\n",
    "            # pass the parent node in and indicate if this node points left or right\n",
    "            # so we can chop off this node if it's a leaf\n",
    "            util(root.left, lookup, hd-1, level + 1, parent=root, is_left=True)\n",
    "            util(root.right, lookup, hd+1, level + 1, parent=root, is_left=False)\n",
    "\n",
    "\n",
    "            if not root.left and not root.right:\n",
    "                # add this node to deleted list then delete it\n",
    "                deleted_list.append((root.val, parent, is_left))\n",
    "\n",
    "        lookup = {}\n",
    "        util(root, lookup, 0, 0)\n",
    "        # the bottom view\n",
    "        print(f\"Bottom view: {[value[0] for _, value in lookup.items()]}\")\n",
    "        return deleted_list\n",
    "\n",
    "\n",
    "    def findLeaves(self, root: Optional[TreeNode]) -> List[List[int]]:\n",
    "\n",
    "        result = []\n",
    "        i = 0\n",
    "        while root:\n",
    "            temp_vals = []\n",
    "            # get the current bottom view\n",
    "            deletion_list = self.bottom_view_hashmap(root)\n",
    "            # add vals to result\n",
    "            for val, _, _ in deletion_list:\n",
    "                temp_vals.append(val)\n",
    "            result.append(temp_vals)\n",
    "            # delete the nodes in the deletion list\n",
    "            for val, parent, is_left in deletion_list:\n",
    "                if parent and is_left:\n",
    "                    parent.left = None\n",
    "                elif parent and not is_left:\n",
    "                    parent.right = None\n",
    "                if not parent:\n",
    "                    # we're at the root\n",
    "                    root = None\n",
    "        return result\n",
    "\n",
    "Solution().findLeaves(root)"
   ],
   "metadata": {
    "collapsed": false,
    "pycharm": {
     "name": "#%%\n"
    }
   }
  },
  {
   "cell_type": "markdown",
   "source": [
    "#### Find minimum depth\n",
    "\n",
    "The minimum depth is the number of nodes along the shortest path from the root node down to the nearest leaf node.\n",
    "\n",
    "```\n",
    "       3\n",
    "     /   \\\n",
    "    9     20\n",
    "         /   \\\n",
    "       15     7\n",
    "\n",
    "Input: root = [3,9,20,null,null,15,7]\n",
    "Output: 2\n",
    "3 and 9 are the nodes in the shortest path\n",
    "\n",
    "Input: root = [2,null,3,null,4,null,5,null,6]\n",
    "Output: 5\n",
    "```\n",
    "\n",
    "This is a direct application of bfs"
   ],
   "metadata": {
    "collapsed": false,
    "pycharm": {
     "name": "#%% md\n"
    }
   }
  },
  {
   "cell_type": "code",
   "execution_count": 77,
   "outputs": [
    {
     "data": {
      "text/plain": "2"
     },
     "execution_count": 77,
     "metadata": {},
     "output_type": "execute_result"
    }
   ],
   "source": [
    "# Definition for a binary tree node.\n",
    "class TreeNode:\n",
    "    def __init__(self, val=0, left=None, right=None):\n",
    "        self.val = val\n",
    "        self.left = left\n",
    "        self.right = right\n",
    "\n",
    "    def __repr__(self):\n",
    "        return str({\n",
    "            \"val\": self.val if self.val else None,\n",
    "            \"left\": self.left.val if self.left else None,\n",
    "            \"right\": self.right.val if self.right else None,\n",
    "        })\n",
    "\n",
    "class Solution:\n",
    "    def minDepth(self, root: Optional[TreeNode]) -> int:\n",
    "\n",
    "        if root is None:\n",
    "            return 0\n",
    "\n",
    "        def bfs(visited: List[TreeNode], node: TreeNode):\n",
    "            queue = []\n",
    "            depth = 1\n",
    "            queue.append((node, depth))\n",
    "\n",
    "            while queue:\n",
    "                # if neighbor is not visited, add it to the queue\n",
    "                elem, depth = queue.pop(0)\n",
    "                visited.append(elem)\n",
    "\n",
    "                if elem.left is None and elem.right is None:\n",
    "                    return depth\n",
    "\n",
    "                if elem.left and elem.left not in visited:\n",
    "                    queue.append((elem.left, depth + 1))\n",
    "                if elem.right and elem.right not in visited:\n",
    "                    queue.append((elem.right, depth + 1))\n",
    "        visited = []\n",
    "        min_depth = bfs(visited, root)\n",
    "        return min_depth\n",
    "\n",
    "root = TreeNode(3)\n",
    "b = TreeNode(9)\n",
    "c = TreeNode(20)\n",
    "d = TreeNode(15)\n",
    "e = TreeNode(7)\n",
    "\n",
    "root.left = b\n",
    "root.right = c\n",
    "c.left = d\n",
    "c.right = e\n",
    "Solution().minDepth(root)"
   ],
   "metadata": {
    "collapsed": false,
    "pycharm": {
     "name": "#%%\n"
    }
   }
  },
  {
   "cell_type": "code",
   "execution_count": 78,
   "outputs": [
    {
     "data": {
      "text/plain": "5"
     },
     "execution_count": 78,
     "metadata": {},
     "output_type": "execute_result"
    }
   ],
   "source": [
    "root = TreeNode(2)\n",
    "b = TreeNode(3)\n",
    "c = TreeNode(4)\n",
    "d = TreeNode(5)\n",
    "e = TreeNode(6)\n",
    "\n",
    "root.right = b\n",
    "b.right = c\n",
    "c.right = d\n",
    "d.right = e\n",
    "Solution().minDepth(root)"
   ],
   "metadata": {
    "collapsed": false,
    "pycharm": {
     "name": "#%%\n"
    }
   }
  },
  {
   "cell_type": "code",
   "execution_count": null,
   "outputs": [],
   "source": [],
   "metadata": {
    "collapsed": false,
    "pycharm": {
     "name": "#%%\n"
    }
   }
  }
 ],
 "metadata": {
  "kernelspec": {
   "display_name": "Python 3",
   "language": "python",
   "name": "python3"
  },
  "language_info": {
   "codemirror_mode": {
    "name": "ipython",
    "version": 2
   },
   "file_extension": ".py",
   "mimetype": "text/x-python",
   "name": "python",
   "nbconvert_exporter": "python",
   "pygments_lexer": "ipython2",
   "version": "2.7.6"
  }
 },
 "nbformat": 4,
 "nbformat_minor": 0
}