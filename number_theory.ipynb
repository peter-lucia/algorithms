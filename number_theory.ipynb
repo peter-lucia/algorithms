{
 "cells": [
  {
   "cell_type": "markdown",
   "metadata": {
    "collapsed": true,
    "pycharm": {
     "name": "#%% md\n"
    }
   },
   "source": [
    "### Check if a number is prime\n",
    "\n",
    "Time complexity: $O(\\sqrt n)$\n",
    "Space complexity: $O(1)$"
   ]
  },
  {
   "cell_type": "code",
   "execution_count": 1,
   "outputs": [],
   "source": [
    "import math\n",
    "\n",
    "\n",
    "def is_prime(n: int) -> bool:\n",
    "    \"\"\"\n",
    "    Every composite number has a factor less than or equal to its square root.\n",
    "    That is, if n is composite, then n has a prime factor p <= sqrt(n).\n",
    "\n",
    "    Sources: http://mathandmultimedia.com/2012/06/02/determining-primes-through-square-root/\n",
    "    \"\"\"\n",
    "    if n <= 1:\n",
    "        return False\n",
    "    if n == 2:\n",
    "        return True\n",
    "\n",
    "    for i in range(2, int(math.sqrt(n))+1):\n",
    "        if n % i == 0:\n",
    "            return False\n",
    "\n",
    "    return True"
   ],
   "metadata": {
    "collapsed": false,
    "pycharm": {
     "name": "#%%\n"
    }
   }
  },
  {
   "cell_type": "code",
   "execution_count": 2,
   "outputs": [],
   "source": [
    "assert is_prime(11) == True\n",
    "assert is_prime(13) == True\n"
   ],
   "metadata": {
    "collapsed": false,
    "pycharm": {
     "name": "#%%\n"
    }
   }
  },
  {
   "cell_type": "code",
   "execution_count": 3,
   "outputs": [],
   "source": [
    "assert is_prime(2069) == True"
   ],
   "metadata": {
    "collapsed": false,
    "pycharm": {
     "name": "#%%\n"
    }
   }
  },
  {
   "cell_type": "code",
   "execution_count": null,
   "outputs": [],
   "source": [
    "for num in range(0, 1000):\n",
    "    if is_prime(num):\n",
    "       print(f\"{num} is prime.\")"
   ],
   "metadata": {
    "collapsed": false,
    "pycharm": {
     "name": "#%%\n",
     "is_executing": true
    }
   }
  },
  {
   "cell_type": "markdown",
   "source": [
    "### Fermat's little Theorem\n",
    "If $p$ is a prime number, then\n",
    "\n",
    "$a^{p-1} \\equiv 1 \\ \\ (mod \\ p)$\n",
    "\n",
    "for $1 \\leq a \\leq p - 1$"
   ],
   "metadata": {
    "collapsed": false,
    "pycharm": {
     "name": "#%% md\n"
    }
   }
  },
  {
   "cell_type": "code",
   "execution_count": 4,
   "outputs": [],
   "source": [
    "pseudoprimes = [\n",
    "\n",
    "]\n",
    "\n",
    "def is_prime_fermat(p: int) -> int:\n",
    "    \"\"\"\n",
    "    Sources: https://stackoverflow.com/questions/29595849/explain-a-code-to-check-primality-based-on-fermats-little-theorem\n",
    "    https://en.wikipedia.org/wiki/Baillie–PSW_primality_test\n",
    "    https://en.wikipedia.org/wiki/Fermat_pseudoprime\n",
    "    \"\"\"\n",
    "    if p <= 1:\n",
    "        return False\n",
    "    if p == 2:\n",
    "        return True\n",
    "    if p % 2 == 0:\n",
    "        return False\n",
    "    # a = 2\n",
    "\n",
    "    a = 2\n",
    "    # a^(p-1) is congruent to 1 (mod p), a = 2\n",
    "    return pow(a, p-1, p) == 1"
   ],
   "metadata": {
    "collapsed": false,
    "pycharm": {
     "name": "#%%\n"
    }
   }
  },
  {
   "cell_type": "code",
   "execution_count": 5,
   "outputs": [
    {
     "data": {
      "text/plain": "True"
     },
     "execution_count": 5,
     "metadata": {},
     "output_type": "execute_result"
    }
   ],
   "source": [
    "is_prime_fermat(13)"
   ],
   "metadata": {
    "collapsed": false,
    "pycharm": {
     "name": "#%%\n"
    }
   }
  },
  {
   "cell_type": "code",
   "execution_count": 7,
   "outputs": [],
   "source": [
    "# for i in range(1, 1000):\n",
    "    # assert is_prime(i) == is_prime_fermat(i), f\"Error: is_prime({i}) = {is_prime(i)}, is_prime_fermat({i}) = {is_prime_fermat(i)}\""
   ],
   "metadata": {
    "collapsed": false,
    "pycharm": {
     "name": "#%%\n"
    }
   }
  },
  {
   "cell_type": "markdown",
   "source": [
    "### Primality Test | Set 2\n",
    "Source: [https://www.geeksforgeeks.org/primality-test-set-2-fermet-method/](https://www.geeksforgeeks.org/primality-test-set-2-fermet-method/)\n",
    "// Higher value of k indicates probability of correct\n",
    "// results for composite inputs become higher. For prime\n",
    "// inputs, result is always correct\n",
    "1) Repeat following k times:\n",
    "      a) Pick a random $a$ in the range [2, $n$ - 2]\n",
    "      b) If $gcd(a, n) \\neq 1$, then return false\n",
    "      c) If $a^{n-1} \\neq 1 (mod \\ n)$, then return false\n",
    "2) Return true [probably prime].\n",
    "Time complexity of this solution is $O(k \\cdot logn)$. Note that the power function takes $O(logn)$ time."
   ],
   "metadata": {
    "collapsed": false
   }
  },
  {
   "cell_type": "markdown",
   "source": [
    "### Count primes less than n\n",
    "* Solution: Sieve of Eratosthenes\n",
    "* [https://leetcode.com/problems/count-primes/](https://leetcode.com/problems/count-primes/)"
   ],
   "metadata": {
    "collapsed": false,
    "pycharm": {
     "name": "#%% md\n"
    }
   }
  },
  {
   "cell_type": "code",
   "execution_count": 90,
   "outputs": [
    {
     "name": "stdout",
     "output_type": "stream",
     "text": [
      "All numbers except for primes (composites): [4, 6, 8, 9]\n"
     ]
    },
    {
     "data": {
      "text/plain": "4"
     },
     "execution_count": 90,
     "metadata": {},
     "output_type": "execute_result"
    }
   ],
   "source": [
    "from math import sqrt\n",
    "class Solution:\n",
    "    def countPrimes(self, n: int) -> int:\n",
    "        \"\"\"\n",
    "        O(sqrt(n) log(log(n))) Time\n",
    "        O(n) space\n",
    "        \"\"\"\n",
    "        if n <= 2:\n",
    "            return 0\n",
    "\n",
    "        composites = set()\n",
    "        for i in range(2, int(sqrt(n))+1):\n",
    "            if i not in composites:\n",
    "                for multiple in range(i*i, n, i):\n",
    "                    composites.add(multiple)\n",
    "        print(f\"All numbers except for primes (composites): {sorted(composites)}\")\n",
    "        # exclude '1' and the number itself\n",
    "        return n - len(composites) - 2\n",
    "\n",
    "Solution().countPrimes(10)"
   ],
   "metadata": {
    "collapsed": false,
    "pycharm": {
     "name": "#%%\n"
    }
   }
  },
  {
   "cell_type": "code",
   "execution_count": 83,
   "outputs": [],
   "source": [
    "def is_power_of_2(n: int) -> bool:\n",
    "    \"\"\"\n",
    "    Returns true if a number is a power of 2 in O(1) time, and O(1) space\n",
    "    8\n",
    "    0 1 0 0 0\n",
    "\n",
    "    7\n",
    "    0 0 1 1 1\n",
    "\n",
    "    8 & 7 = 0\n",
    "    0 0 0 0 0\n",
    "\n",
    "    So 8 is a power of 2.\n",
    "    \"\"\"\n",
    "    return n & (n-1) == 0\n",
    "\n",
    "for i in range(10):\n",
    "    num = 2**i\n",
    "    assert is_power_of_2(num), num"
   ],
   "metadata": {
    "collapsed": false,
    "pycharm": {
     "name": "#%%\n"
    }
   }
  },
  {
   "cell_type": "code",
   "execution_count": 81,
   "outputs": [
    {
     "data": {
      "text/plain": "'0b110'"
     },
     "execution_count": 81,
     "metadata": {},
     "output_type": "execute_result"
    }
   ],
   "source": [
    "bin(6)"
   ],
   "metadata": {
    "collapsed": false,
    "pycharm": {
     "name": "#%%\n"
    }
   }
  },
  {
   "cell_type": "code",
   "execution_count": 82,
   "outputs": [
    {
     "data": {
      "text/plain": "'0b101'"
     },
     "execution_count": 82,
     "metadata": {},
     "output_type": "execute_result"
    }
   ],
   "source": [
    "bin(5)"
   ],
   "metadata": {
    "collapsed": false,
    "pycharm": {
     "name": "#%%\n"
    }
   }
  },
  {
   "cell_type": "markdown",
   "source": [
    "esc-y (code cell)\n",
    "esc-m (markdown)\n"
   ],
   "metadata": {
    "collapsed": false,
    "pycharm": {
     "name": "#%% md\n"
    }
   }
  },
  {
   "cell_type": "markdown",
   "source": [
    "# Combinatorics\n",
    "Source: [https://www.youtube.com/watch?v=p8vIcmr_Pqo](https://www.youtube.com/watch?v=p8vIcmr_Pqo)\n",
    "$n \\choose k$ $ = \\frac{n!}{(n-k)!\\cdot k!}$\n",
    "\n",
    "Represents the number of ways to choose k objects from a set of n objects.\n",
    "\n",
    "Given A,B,C,D,E,F we want to find all combinations in a set of 4 chairs.\n",
    "n = 6\n",
    "k = 4\n",
    "We assume ABCD = ACBD and add $k!$ in the denominator since this divides by the number of possible permutations we can arrange ABCD in four chairs:\n",
    "$k! = k * (k-1) * (k-2) * ... * 1$\n",
    "$k!$= 4 letters can go in first spot * 3 letters can be chosen in second spot * 2 letters can be chosen in third spot * 1 in last spot\n",
    "$k!$= $4\\cdot 3\\cdot 2 \\cdot 1 = 24$\n",
    "If we wanted all combinations of seating where order matters, i.e. ABCD != ACBD, then we would then omit $k!$ from the denominator and be left with:\n",
    "$\\frac{n!}{(n-k)!}$\n",
    "\n",
    "For example, there are $\\frac{6*5*4*3*2*1}{2*1} = \\frac{30*24}{2} = 30*12 = 360$ ways to arrange ABCDEF into four places\n"
   ],
   "metadata": {
    "collapsed": false,
    "pycharm": {
     "name": "#%% md\n"
    }
   }
  },
  {
   "cell_type": "code",
   "execution_count": 115,
   "outputs": [
    {
     "data": {
      "text/plain": "[[3, 4], [2, 4], [2, 3], [1, 4], [1, 3], [1, 2]]"
     },
     "execution_count": 115,
     "metadata": {},
     "output_type": "execute_result"
    }
   ],
   "source": [
    "from typing import List\n",
    "\n",
    "class Solution:\n",
    "\n",
    "    @staticmethod\n",
    "    def get_all_combinations(nums: List[int], k: int) -> List[List[int]]:\n",
    "        \"\"\"\n",
    "        move left: don't add n to list\n",
    "        move right: add n to list\n",
    "        n = 3\n",
    "                             []                              2^0 combinations\n",
    "                  /                     \\\n",
    "        1        []                     [1]                  2^1 combinations\n",
    "                /    \\               /        \\\n",
    "        2      []     [2]          [1]        [1,2]          2^2 combinations\n",
    "              /  \\    /  \\       /    \\       /   \\\n",
    "        3    []  [3] [2] [2,3]  [1]   [1,3] [1,2]  [1,2,3]   2^3 combinations of any size\n",
    "\n",
    "        n choose k = n! / ((n-k)!*k!)\n",
    "        \"\"\"\n",
    "        if not nums:\n",
    "            return [[]]\n",
    "\n",
    "        left_num = nums[0]\n",
    "\n",
    "        combinations_without_first = Solution.get_all_combinations(nums[1:], k)\n",
    "        combinations_with_first = []\n",
    "        for comb in combinations_without_first:\n",
    "            combinations_with_first.append([left_num] + comb)\n",
    "        return combinations_without_first + combinations_with_first\n",
    "\n",
    "    def combine(self, n: int, k: int) -> List[List[int]]:\n",
    "        all_combs = Solution.get_all_combinations(list(range(1,n+1)), k)\n",
    "        result = []\n",
    "        for comb in all_combs:\n",
    "            if len(comb) == k:\n",
    "                result.append(comb)\n",
    "        return result\n",
    "\n",
    "Solution().combine(4, 2)"
   ],
   "metadata": {
    "collapsed": false,
    "pycharm": {
     "name": "#%%\n"
    }
   }
  },
  {
   "cell_type": "code",
   "execution_count": 116,
   "outputs": [
    {
     "data": {
      "text/plain": "[[2, 3, 4], [1, 3, 4], [1, 2, 4], [1, 2, 3]]"
     },
     "execution_count": 116,
     "metadata": {},
     "output_type": "execute_result"
    }
   ],
   "source": [
    "Solution().combine(4,3)"
   ],
   "metadata": {
    "collapsed": false,
    "pycharm": {
     "name": "#%%\n"
    }
   }
  },
  {
   "cell_type": "code",
   "execution_count": 117,
   "outputs": [
    {
     "data": {
      "text/plain": "[[4], [3], [2], [1]]"
     },
     "execution_count": 117,
     "metadata": {},
     "output_type": "execute_result"
    }
   ],
   "source": [
    "Solution().combine(4,1)"
   ],
   "metadata": {
    "collapsed": false,
    "pycharm": {
     "name": "#%%\n"
    }
   }
  },
  {
   "cell_type": "code",
   "execution_count": 118,
   "outputs": [
    {
     "data": {
      "text/plain": "[[],\n [4],\n [3],\n [3, 4],\n [2],\n [2, 4],\n [2, 3],\n [2, 3, 4],\n [1],\n [1, 4],\n [1, 3],\n [1, 3, 4],\n [1, 2],\n [1, 2, 4],\n [1, 2, 3],\n [1, 2, 3, 4]]"
     },
     "execution_count": 118,
     "metadata": {},
     "output_type": "execute_result"
    }
   ],
   "source": [
    "Solution.get_all_combinations([1,2,3,4], 3)"
   ],
   "metadata": {
    "collapsed": false,
    "pycharm": {
     "name": "#%%\n"
    }
   }
  },
  {
   "cell_type": "markdown",
   "source": [
    "### 1015. Smallest Integer Divisible by K\n",
    "[https://leetcode.com/problems/smallest-integer-divisible-by-k/](https://leetcode.com/problems/smallest-integer-divisible-by-k/)\n",
    "\n",
    "Given a positive integer k, you need to find the length of the smallest positive integer n such that n is divisible by k, and n only contains the digit 1.\n",
    "\n",
    "Return the length of n. If there is no such n, return -1.\n",
    "\n",
    "Note: n may not fit in a 64-bit signed integer.\n",
    "\n"
   ],
   "metadata": {
    "collapsed": false,
    "pycharm": {
     "name": "#%% md\n"
    }
   }
  },
  {
   "cell_type": "code",
   "execution_count": 7,
   "outputs": [
    {
     "data": {
      "text/plain": "1"
     },
     "execution_count": 7,
     "metadata": {},
     "output_type": "execute_result"
    }
   ],
   "source": [
    "class Solution:\n",
    "    def smallestRepunitDivByK(self, k: int) -> int:\n",
    "        # Key points:\n",
    "        # we only need to keep multiplying n * 10 and adding 1 until n%k == 0\n",
    "        # since n might overflow, we need to use the remainder\n",
    "        # the remainder and n have the same remainder of k, so it's\n",
    "        # okay to use the remainder instead of n\n",
    "        # note that if n does not exist, the while loop will continue\n",
    "        # endlessly, so we find a remainder that repeats, we return -1\n",
    "\n",
    "        remainder = 1\n",
    "        length_n = 1\n",
    "\n",
    "        seen_remainders = set()\n",
    "\n",
    "        while remainder % k != 0:\n",
    "            n = remainder*10 + 1\n",
    "            remainder = n % k\n",
    "            length_n += 1\n",
    "            if remainder in seen_remainders:\n",
    "                return -1\n",
    "            else:\n",
    "                seen_remainders.add(remainder)\n",
    "        return length_n\n",
    "Solution().smallestRepunitDivByK(1)"
   ],
   "metadata": {
    "collapsed": false,
    "pycharm": {
     "name": "#%%\n"
    }
   }
  },
  {
   "cell_type": "code",
   "execution_count": null,
   "outputs": [],
   "source": [],
   "metadata": {
    "collapsed": false,
    "pycharm": {
     "name": "#%%\n"
    }
   }
  }
 ],
 "metadata": {
  "kernelspec": {
   "display_name": "Python 3",
   "language": "python",
   "name": "python3"
  },
  "language_info": {
   "codemirror_mode": {
    "name": "ipython",
    "version": 2
   },
   "file_extension": ".py",
   "mimetype": "text/x-python",
   "name": "python",
   "nbconvert_exporter": "python",
   "pygments_lexer": "ipython2",
   "version": "2.7.6"
  }
 },
 "nbformat": 4,
 "nbformat_minor": 0
}