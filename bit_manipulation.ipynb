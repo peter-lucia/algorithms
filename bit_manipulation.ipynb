{
 "cells": [
  {
   "cell_type": "markdown",
   "metadata": {
    "collapsed": true,
    "pycharm": {
     "name": "#%% md\n"
    }
   },
   "source": [
    "#### Convert $n_{10}$ to $n_2$"
   ]
  },
  {
   "cell_type": "code",
   "execution_count": 20,
   "outputs": [
    {
     "name": "stdout",
     "output_type": "stream",
     "text": [
      "8\n",
      "4\n",
      "2\n",
      "1\n",
      "0\n"
     ]
    },
    {
     "data": {
      "text/plain": "'00010'"
     },
     "execution_count": 20,
     "metadata": {},
     "output_type": "execute_result"
    }
   ],
   "source": [
    "def binary(num: int, width: int = 31) -> str:\n",
    "    \"\"\"\n",
    "    Converts a number from base 10 to base 2\n",
    "\n",
    "    Example:\n",
    "       num = 2 = 0010\n",
    "       width = 4\n",
    "\n",
    "         1 0 0 0\n",
    "       & 0 0 1 0 = 0, bool(0) = False, add 0\n",
    "\n",
    "         0 1 0 0\n",
    "       & 0 0 1 0 = 0, bool(0) = False, add 0\n",
    "\n",
    "         0 0 1 0\n",
    "       & 0 0 1 0 = 2, bool(2) = True, add 1\n",
    "\n",
    "         0 0 0 1\n",
    "       & 0 0 1 0 = 0, bool(0) = False, add 0\n",
    "\n",
    "    In general, the ith bit is on/off if 2^i & num is not 0.\n",
    "\n",
    "    @param num: the number to convert base from 10 to 2\n",
    "    @param width: the maximum digits to display\n",
    "    \"\"\"\n",
    "    i = 1 << width\n",
    "    result = \"\"\n",
    "    while i > 0:\n",
    "        if num & i != 0:\n",
    "            result += '1'\n",
    "        else:\n",
    "            result += '0'\n",
    "        i = i // 2\n",
    "        print(i)\n",
    "    return result\n",
    "\n",
    "binary(2, width=4)"
   ],
   "metadata": {
    "collapsed": false,
    "pycharm": {
     "name": "#%%\n"
    }
   }
  },
  {
   "cell_type": "code",
   "execution_count": 21,
   "outputs": [
    {
     "name": "stdout",
     "output_type": "stream",
     "text": [
      "128\n",
      "64\n",
      "32\n",
      "16\n",
      "8\n",
      "4\n",
      "2\n",
      "1\n",
      "0\n"
     ]
    },
    {
     "data": {
      "text/plain": "'000001100'"
     },
     "execution_count": 21,
     "metadata": {},
     "output_type": "execute_result"
    }
   ],
   "source": [
    "binary(12, 8)"
   ],
   "metadata": {
    "collapsed": false,
    "pycharm": {
     "name": "#%%\n"
    }
   }
  },
  {
   "cell_type": "code",
   "execution_count": 21,
   "outputs": [],
   "source": [],
   "metadata": {
    "collapsed": false,
    "pycharm": {
     "name": "#%%\n"
    }
   }
  },
  {
   "cell_type": "code",
   "execution_count": null,
   "outputs": [],
   "source": [],
   "metadata": {
    "collapsed": false,
    "pycharm": {
     "name": "#%%\n"
    }
   }
  }
 ],
 "metadata": {
  "kernelspec": {
   "display_name": "Python 3",
   "language": "python",
   "name": "python3"
  },
  "language_info": {
   "codemirror_mode": {
    "name": "ipython",
    "version": 2
   },
   "file_extension": ".py",
   "mimetype": "text/x-python",
   "name": "python",
   "nbconvert_exporter": "python",
   "pygments_lexer": "ipython2",
   "version": "2.7.6"
  }
 },
 "nbformat": 4,
 "nbformat_minor": 0
}