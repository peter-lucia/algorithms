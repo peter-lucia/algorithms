{
 "cells": [
  {
   "cell_type": "markdown",
   "source": [
    "#### Get max profit"
   ],
   "metadata": {
    "collapsed": false,
    "pycharm": {
     "name": "#%% md\n"
    }
   }
  },
  {
   "cell_type": "code",
   "execution_count": 9,
   "metadata": {
    "collapsed": true
   },
   "outputs": [
    {
     "name": "stdout",
     "output_type": "stream",
     "text": [
      "Max profit is 7\n"
     ]
    }
   ],
   "source": [
    "def get_max_profit(stock_prices):\n",
    "\n",
    "    if len(stock_prices) < 2:\n",
    "        raise ValueError(\"Need more prices\")\n",
    "\n",
    "    # Iterate through all the numbers once\n",
    "    # store the min_price found and the difference\n",
    "    # between the min_price and current price\n",
    "\n",
    "    min_price = float(\"inf\")\n",
    "    max_profit = float(\"-inf\")\n",
    "    for current_price in stock_prices:\n",
    "        if max_profit < current_price - min_price:\n",
    "            max_profit = current_price - min_price\n",
    "        if current_price < min_price:\n",
    "            min_price = current_price\n",
    "\n",
    "\n",
    "    return max_profit\n",
    "arr = [10, 12, 17, 3, 9]\n",
    "print(f\"Max profit is {get_max_profit(arr)}\")"
   ]
  },
  {
   "cell_type": "code",
   "execution_count": null,
   "outputs": [],
   "source": [],
   "metadata": {
    "collapsed": false,
    "pycharm": {
     "name": "#%%\n"
    }
   }
  }
 ],
 "metadata": {
  "kernelspec": {
   "display_name": "Python 3",
   "language": "python",
   "name": "python3"
  },
  "language_info": {
   "codemirror_mode": {
    "name": "ipython",
    "version": 2
   },
   "file_extension": ".py",
   "mimetype": "text/x-python",
   "name": "python",
   "nbconvert_exporter": "python",
   "pygments_lexer": "ipython2",
   "version": "2.7.6"
  }
 },
 "nbformat": 4,
 "nbformat_minor": 0
}