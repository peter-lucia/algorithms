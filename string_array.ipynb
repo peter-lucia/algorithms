{
 "cells": [
  {
   "cell_type": "markdown",
   "source": [
    "#### Get max profit"
   ],
   "metadata": {
    "collapsed": false,
    "pycharm": {
     "name": "#%% md\n"
    }
   }
  },
  {
   "cell_type": "code",
   "execution_count": 9,
   "metadata": {
    "collapsed": true
   },
   "outputs": [
    {
     "name": "stdout",
     "output_type": "stream",
     "text": [
      "Max profit is 7\n"
     ]
    }
   ],
   "source": [
    "def get_max_profit(stock_prices):\n",
    "\n",
    "    if len(stock_prices) < 2:\n",
    "        raise ValueError(\"Need more prices\")\n",
    "\n",
    "    # Iterate through all the numbers once\n",
    "    # store the min_price found and the difference\n",
    "    # between the min_price and current price\n",
    "\n",
    "    min_price = float(\"inf\")\n",
    "    max_profit = float(\"-inf\")\n",
    "    for current_price in stock_prices:\n",
    "        if max_profit < current_price - min_price:\n",
    "            max_profit = current_price - min_price\n",
    "        if current_price < min_price:\n",
    "            min_price = current_price\n",
    "\n",
    "\n",
    "    return max_profit\n",
    "arr = [10, 12, 17, 3, 9]\n",
    "print(f\"Max profit is {get_max_profit(arr)}\")"
   ]
  },
  {
   "cell_type": "markdown",
   "source": [
    "Asteroid Collision\n",
    "https://leetcode.com/problems/asteroid-collision/submissions/\n",
    "\n",
    "* first failed approach with stacks: two stacks, asteroids and result\n",
    "* pop asteroid from asteroids\n",
    "* put asteroid into result\n",
    "* check if top item of result and top item of asteroids conflict\n",
    "* put winner into result or remove both if they cancel out\n",
    "* continue until asteroids is empty and result is full\n",
    "\n",
    "\n",
    "```\n",
    "asteroids = [10, 2, -5]\n",
    "result = []\n",
    "\n",
    "asteroids = [-5]\n",
    "result = [10, 2]\n",
    "\n",
    "right = -5  # asteroids[0]\n",
    "left = 2  # result[-1]\n",
    "\n",
    "if right < 0 and left > 0:\n",
    "   handle collision\n",
    "otherwise:\n",
    "   put right into top of result\n",
    "```\n",
    "\n",
    "\n",
    "second approach\n",
    "* start with i = 0, j = 1\n",
    "* check for collision between i and j\n",
    "* if no collision, increment both i and j\n",
    "* if collision, if elem at j wins, pop(i) and let i = j and j += 1\n",
    "* if collision and if elem at i wins, pop(j) and keep i and j the same\n",
    "* if collision and cancel each other out, pop(i), pop(j), let i -= 1, j = i\n"
   ],
   "metadata": {
    "collapsed": false,
    "pycharm": {
     "name": "#%% md\n"
    }
   }
  },
  {
   "cell_type": "code",
   "execution_count": 7,
   "outputs": [],
   "source": [
    "from typing import List\n",
    "class Solution:\n",
    "    def asteroidCollision(self, asteroids: List[int]) -> List[int]:\n",
    "\n",
    "\n",
    "        # can assume len(asteroids) >= 2\n",
    "        i = 0\n",
    "        j = 1\n",
    "\n",
    "        while j < len(asteroids):\n",
    "            if self.is_collision(asteroids[i], asteroids[j]):\n",
    "                if abs(asteroids[i]) > abs(asteroids[j]):\n",
    "                    asteroids.pop(j)\n",
    "                elif abs(asteroids[i]) < abs(asteroids[j]):\n",
    "                    asteroids.pop(i)\n",
    "                    if i > 0:\n",
    "                        i -= 1\n",
    "                        j -= 1\n",
    "                elif asteroids[j] < 0 and abs(asteroids[j]) == abs(asteroids[j]):\n",
    "                    asteroids.pop(i)\n",
    "                    asteroids.pop(i) # elem at j is now at i\n",
    "                    if i > 1:\n",
    "                        i -= 2\n",
    "                        j -= 2\n",
    "                    elif i > 0:\n",
    "                        i -= 1\n",
    "                        j -= 1\n",
    "            else:\n",
    "                i += 1\n",
    "                j += 1\n",
    "        return asteroids\n",
    "\n",
    "\n",
    "    def is_collision(self, left, right):\n",
    "        return right < 0 and left > 0\n"
   ],
   "metadata": {
    "collapsed": false,
    "pycharm": {
     "name": "#%%\n"
    }
   }
  },
  {
   "cell_type": "code",
   "execution_count": 8,
   "outputs": [],
   "source": [
    "assert [] == Solution().asteroidCollision([8, -8])\n",
    "assert [10] == Solution().asteroidCollision([10, 2, -5])\n",
    "\n",
    "\n"
   ],
   "metadata": {
    "collapsed": false,
    "pycharm": {
     "name": "#%%\n"
    }
   }
  },
  {
   "cell_type": "code",
   "execution_count": null,
   "outputs": [],
   "source": [],
   "metadata": {
    "collapsed": false,
    "pycharm": {
     "name": "#%%\n"
    }
   }
  }
 ],
 "metadata": {
  "kernelspec": {
   "display_name": "Python 3",
   "language": "python",
   "name": "python3"
  },
  "language_info": {
   "codemirror_mode": {
    "name": "ipython",
    "version": 2
   },
   "file_extension": ".py",
   "mimetype": "text/x-python",
   "name": "python",
   "nbconvert_exporter": "python",
   "pygments_lexer": "ipython2",
   "version": "2.7.6"
  }
 },
 "nbformat": 4,
 "nbformat_minor": 0
}