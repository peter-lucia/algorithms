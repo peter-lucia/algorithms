{
 "cells": [
  {
   "cell_type": "markdown",
   "source": [
    "### Get max profit"
   ],
   "metadata": {
    "collapsed": false,
    "pycharm": {
     "name": "#%% md\n"
    }
   }
  },
  {
   "cell_type": "code",
   "execution_count": 12,
   "metadata": {
    "collapsed": true
   },
   "outputs": [
    {
     "name": "stdout",
     "output_type": "stream",
     "text": [
      "Max profit is 7\n"
     ]
    }
   ],
   "source": [
    "def get_max_profit(stock_prices):\n",
    "\n",
    "    if len(stock_prices) < 2:\n",
    "        raise ValueError(\"Need more prices\")\n",
    "\n",
    "    # Iterate through all the numbers once\n",
    "    # store the min_price found and the difference\n",
    "    # between the min_price and current price\n",
    "\n",
    "    min_price = float(\"inf\")\n",
    "    max_profit = float(\"-inf\")\n",
    "    for current_price in stock_prices:\n",
    "        if max_profit < current_price - min_price:\n",
    "            max_profit = current_price - min_price\n",
    "        if current_price < min_price:\n",
    "            min_price = current_price\n",
    "\n",
    "\n",
    "    return max_profit\n",
    "arr = [10, 12, 17, 3, 9]\n",
    "print(f\"Max profit is {get_max_profit(arr)}\")"
   ]
  },
  {
   "cell_type": "markdown",
   "source": [
    "### 735. Asteroid Collision\n",
    "https://leetcode.com/problems/asteroid-collision/submissions/\n",
    "\n",
    "* first failed approach with stacks: two stacks, asteroids and result\n",
    "* pop asteroid from asteroids\n",
    "* put asteroid into result\n",
    "* check if top item of result and top item of asteroids conflict\n",
    "* put winner into result or remove both if they cancel out\n",
    "* continue until asteroids is empty and result is full\n",
    "\n",
    "\n",
    "```\n",
    "asteroids = [10, 2, -5]\n",
    "result = []\n",
    "\n",
    "asteroids = [-5]\n",
    "result = [10, 2]\n",
    "\n",
    "right = -5  # asteroids[0]\n",
    "left = 2  # result[-1]\n",
    "\n",
    "if right < 0 and left > 0:\n",
    "   handle collision\n",
    "otherwise:\n",
    "   put right into top of result\n",
    "```\n",
    "\n",
    "\n",
    "second approach\n",
    "* start with i = 0, j = 1\n",
    "* check for collision between i and j\n",
    "* if no collision, increment both i and j\n",
    "* if collision, if elem at j wins, pop(i) and let i = j and j += 1\n",
    "* if collision and if elem at i wins, pop(j) and keep i and j the same\n",
    "* if collision and cancel each other out, pop(i), pop(j), let i -= 1, j = i\n"
   ],
   "metadata": {
    "collapsed": false,
    "pycharm": {
     "name": "#%% md\n"
    }
   }
  },
  {
   "cell_type": "code",
   "execution_count": 13,
   "outputs": [],
   "source": [
    "from typing import List\n",
    "class Solution:\n",
    "    def asteroidCollision(self, asteroids: List[int]) -> List[int]:\n",
    "\n",
    "\n",
    "        # can assume len(asteroids) >= 2\n",
    "        i = 0\n",
    "        j = 1\n",
    "\n",
    "        while j < len(asteroids):\n",
    "            if self.is_collision(asteroids[i], asteroids[j]):\n",
    "                if abs(asteroids[i]) > abs(asteroids[j]):\n",
    "                    asteroids.pop(j)\n",
    "                elif abs(asteroids[i]) < abs(asteroids[j]):\n",
    "                    asteroids.pop(i)\n",
    "                    if i > 0:\n",
    "                        i -= 1\n",
    "                        j -= 1\n",
    "                elif asteroids[j] < 0 and abs(asteroids[j]) == abs(asteroids[j]):\n",
    "                    asteroids.pop(i)\n",
    "                    asteroids.pop(i) # elem at j is now at i\n",
    "                    if i > 1:\n",
    "                        i -= 2\n",
    "                        j -= 2\n",
    "                    elif i > 0:\n",
    "                        i -= 1\n",
    "                        j -= 1\n",
    "            else:\n",
    "                i += 1\n",
    "                j += 1\n",
    "        return asteroids\n",
    "\n",
    "\n",
    "    def is_collision(self, left, right):\n",
    "        return right < 0 and left > 0\n"
   ],
   "metadata": {
    "collapsed": false,
    "pycharm": {
     "name": "#%%\n"
    }
   }
  },
  {
   "cell_type": "code",
   "execution_count": 14,
   "outputs": [],
   "source": [
    "assert [] == Solution().asteroidCollision([8, -8])\n",
    "assert [10] == Solution().asteroidCollision([10, 2, -5])\n",
    "\n",
    "\n"
   ],
   "metadata": {
    "collapsed": false,
    "pycharm": {
     "name": "#%%\n"
    }
   }
  },
  {
   "cell_type": "markdown",
   "source": [
    "### 20. Valid Parentheses\n",
    "https://leetcode.com/problems/valid-parentheses/"
   ],
   "metadata": {
    "collapsed": false,
    "pycharm": {
     "name": "#%% md\n"
    }
   }
  },
  {
   "cell_type": "code",
   "execution_count": 15,
   "outputs": [],
   "source": [
    "class Solution:\n",
    "    def isValid(self, s: str) -> bool:\n",
    "        # approach 1: anytime we see {}, (), or [], remove it from the expression\n",
    "\n",
    "        # Append each character in s to the stack\n",
    "        # if the stack is not empty, and the last character added to the stack\n",
    "        # is the closing bracket of the same time, don't append the new character\n",
    "        # to the stack and remove the left bracket from the stack to effectively\n",
    "        # remove the {}, (), or [] from the string\n",
    "        # repeat this process until we've gone through all characters in s.\n",
    "        # if at the end the stack is not empty, return False\n",
    "        # otherwise, return True\n",
    "\n",
    "        stack = []\n",
    "\n",
    "        for c in s:\n",
    "            if stack:\n",
    "                if c == '}' and stack[-1] == '{':\n",
    "                    stack.pop(-1)\n",
    "                elif c == ')' and stack[-1] == '(':\n",
    "                    stack.pop(-1)\n",
    "                elif c == ']' and stack[-1] == '[':\n",
    "                    stack.pop(-1)\n",
    "                else:\n",
    "                    stack.append(c)\n",
    "            else:\n",
    "                stack.append(c)\n",
    "        if stack:\n",
    "            return False\n",
    "        else:\n",
    "            return True\n",
    "\n",
    "\n",
    "assert Solution().isValid(\"()\") == True\n",
    "assert Solution().isValid(\"()[]{}\") == True\n",
    "assert Solution().isValid(\"(]\") == False\n",
    "assert Solution().isValid(\"([)]\") == False\n",
    "assert Solution().isValid(\"{[]}\") == True"
   ],
   "metadata": {
    "collapsed": false,
    "pycharm": {
     "name": "#%%\n"
    }
   }
  },
  {
   "cell_type": "markdown",
   "source": [
    "### Rotate array\n",
    "\n",
    "[https://leetcode.com/problems/rotate-array/](https://leetcode.com/problems/rotate-array/)"
   ],
   "metadata": {
    "collapsed": false,
    "pycharm": {
     "name": "#%% md\n"
    }
   }
  },
  {
   "cell_type": "code",
   "execution_count": 16,
   "outputs": [
    {
     "data": {
      "text/plain": "[4, 5, 6, 7, 1, 2, 3]"
     },
     "execution_count": 16,
     "metadata": {},
     "output_type": "execute_result"
    }
   ],
   "source": [
    "from typing import List\n",
    "class Solution:\n",
    "    def rotate(self, nums: List[int], k: int) -> None:\n",
    "        \"\"\"\n",
    "        Time complexity: O(n)\n",
    "        Space complexity: O(n)\n",
    "        Do not return anything, modify nums in-place instead.\n",
    "        \"\"\"\n",
    "\n",
    "        # approach #1\n",
    "        # create a new array of size n = len(nums)\n",
    "        # from i = 0 -> n-1\n",
    "        # put nums[i] at (i + k) % n in the new array\n",
    "        # then copy the elements back into\n",
    "        n = len(nums)\n",
    "        new_arr = [0 for _ in range(n)]\n",
    "        for i in range(n):\n",
    "            new_pos = (i + k) % n\n",
    "            new_arr[new_pos] = nums[i]\n",
    "\n",
    "        # copy the elements back into nums\n",
    "        nums[:] = new_arr[:]\n",
    "\n",
    "nums = [1,2,3,4,5,6,7]\n",
    "Solution().rotate(nums, 4)\n",
    "nums"
   ],
   "metadata": {
    "collapsed": false,
    "pycharm": {
     "name": "#%%\n"
    }
   }
  },
  {
   "cell_type": "code",
   "execution_count": 17,
   "outputs": [
    {
     "data": {
      "text/plain": "5"
     },
     "execution_count": 17,
     "metadata": {},
     "output_type": "execute_result"
    }
   ],
   "source": [
    "nums = [1,2,3,4,5]\n",
    "n = len(nums)\n",
    "n"
   ],
   "metadata": {
    "collapsed": false,
    "pycharm": {
     "name": "#%%\n"
    }
   }
  },
  {
   "cell_type": "code",
   "execution_count": 18,
   "outputs": [
    {
     "data": {
      "text/plain": "4"
     },
     "execution_count": 18,
     "metadata": {},
     "output_type": "execute_result"
    }
   ],
   "source": [
    "(0 + 4) % n"
   ],
   "metadata": {
    "collapsed": false,
    "pycharm": {
     "name": "#%%\n"
    }
   }
  },
  {
   "cell_type": "code",
   "execution_count": 19,
   "outputs": [
    {
     "data": {
      "text/plain": "0"
     },
     "execution_count": 19,
     "metadata": {},
     "output_type": "execute_result"
    }
   ],
   "source": [
    "(1+4) % n"
   ],
   "metadata": {
    "collapsed": false,
    "pycharm": {
     "name": "#%%\n"
    }
   }
  },
  {
   "cell_type": "code",
   "execution_count": 20,
   "outputs": [
    {
     "data": {
      "text/plain": "5"
     },
     "execution_count": 20,
     "metadata": {},
     "output_type": "execute_result"
    }
   ],
   "source": [
    "nums[(0+4) % n]"
   ],
   "metadata": {
    "collapsed": false,
    "pycharm": {
     "name": "#%%\n"
    }
   }
  },
  {
   "cell_type": "code",
   "execution_count": 21,
   "outputs": [
    {
     "data": {
      "text/plain": "1"
     },
     "execution_count": 21,
     "metadata": {},
     "output_type": "execute_result"
    }
   ],
   "source": [
    "nums[(1+4) % n]"
   ],
   "metadata": {
    "collapsed": false,
    "pycharm": {
     "name": "#%%\n"
    }
   }
  },
  {
   "cell_type": "code",
   "execution_count": 22,
   "outputs": [
    {
     "data": {
      "text/plain": "[4, 5, 6, 7, 1, 2, 3]"
     },
     "execution_count": 22,
     "metadata": {},
     "output_type": "execute_result"
    }
   ],
   "source": [
    "from typing import List\n",
    "class Solution:\n",
    "    def rotate(self, nums: List[int], k: int) -> None:\n",
    "        \"\"\"\n",
    "        Do not return anything, modify nums in-place instead.\n",
    "        Time complexity: O(n)\n",
    "        Space complexity: O(1)\n",
    "        Approach: (always write out approach with examples first to verify)\n",
    "        nums = 1, 2, 3, 4, 5, 6, 7\n",
    "        k = 4\n",
    "        tgt_index = 0 + 4\n",
    "\n",
    "        tmp = 5\n",
    "        nums = 1, 2, 3, 4, 1, 6, 7\n",
    "        tgt_index = (4 + 4) % (n - 1) = 1\n",
    "\n",
    "        tmp = 2\n",
    "        nums = 1, 5, 3, 4, 1, 6, 7\n",
    "        tg_index = (1 + 4) % n = 5\n",
    "\n",
    "        tmp = 6\n",
    "        nums = 1, 5, 3, 4, 1, 2, 7\n",
    "        \"\"\"\n",
    "        n = len(nums)\n",
    "\n",
    "        start_idx = 0\n",
    "        i = 0\n",
    "        while i < n:\n",
    "            current_idx = start_idx\n",
    "            tmp = nums[current_idx]\n",
    "            while True:\n",
    "                next_idx = (current_idx + k) % n\n",
    "                nums[next_idx], tmp = tmp, nums[next_idx]\n",
    "                current_idx = next_idx\n",
    "                i += 1\n",
    "                if current_idx == start_idx:\n",
    "                    break\n",
    "            start_idx += 1\n",
    "nums = [1,2,3,4,5,6,7]\n",
    "Solution().rotate(nums, 4)\n",
    "nums"
   ],
   "metadata": {
    "collapsed": false,
    "pycharm": {
     "name": "#%%\n"
    }
   }
  },
  {
   "cell_type": "markdown",
   "source": [
    "### Text Justification\n",
    "* [https://leetcode.com/problems/text-justification/](https://leetcode.com/problems/text-justification/)\n",
    "\n",
    "Approach: Until we have added all words:\n",
    "1. Get i:i+k words that can fit on a line with maxWidth\n",
    "2. Insert the spaces between those words\n",
    "3. Add the line to the result"
   ],
   "metadata": {
    "collapsed": false,
    "pycharm": {
     "name": "#%% md\n"
    }
   }
  },
  {
   "cell_type": "code",
   "execution_count": 23,
   "outputs": [
    {
     "data": {
      "text/plain": "['Science  is  what we',\n 'understand      well',\n 'enough to explain to',\n 'a  computer.  Art is',\n 'everything  else  we',\n 'do                  ']"
     },
     "execution_count": 23,
     "metadata": {},
     "output_type": "execute_result"
    }
   ],
   "source": [
    "from typing import List\n",
    "class Solution:\n",
    "     def get_k_words(self, i: int, words: List[str], maxWidth: int) -> int:\n",
    "        \"\"\"\n",
    "        Gets the number of words starting at pos i in the words list that\n",
    "        can fit within maxWidth characters with at least one space between them\n",
    "        \"\"\"\n",
    "        k = 0\n",
    "        n = len(words)\n",
    "        line = ' '.join(words[i:i+k])\n",
    "\n",
    "        while len(line) <= maxWidth and i+k <= n:\n",
    "            k += 1\n",
    "            line = ' '.join(words[i:i+k])\n",
    "        k -= 1\n",
    "        return k\n",
    "\n",
    "     def insert_spaces(self, i: int, words: List[str], maxWidth: int, k: int) -> str:\n",
    "        \"\"\"\n",
    "        Returns a line with extra spaces added between the words to fit maxWidth\n",
    "        \"\"\"\n",
    "\n",
    "        line = ' '.join(words[i: i+k])\n",
    "        n = len(words)\n",
    "\n",
    "        # if the line contains only one word or we've reached the last word,\n",
    "        # put spaces to the right (i.e. left justify the word)\n",
    "        if k == 1 or i+k == n:\n",
    "            spaces = maxWidth - len(line)\n",
    "            line = line + \" \" * spaces\n",
    "        else:\n",
    "            # Example: 'word1    word2' k = 2, with k-1=1 space between the words\n",
    "            spaces = k-1\n",
    "            total_space_chars = maxWidth - len(line) + spaces\n",
    "\n",
    "            # extra spaces between words should be distributed as evenly as possible\n",
    "            avg_spaces_between_words = total_space_chars // spaces\n",
    "\n",
    "            # if the number of spaces on a line does not divide evenly between words,\n",
    "            # the empty slots on the left will be assigned more spaces than those\n",
    "            # on the right\n",
    "            num_words_with_extra_space = total_space_chars % spaces\n",
    "            if num_words_with_extra_space > 0:\n",
    "                line = (\" \" * (avg_spaces_between_words + 1)).join(words[i:i+num_words_with_extra_space])\n",
    "                line += \" \" * (avg_spaces_between_words + 1)\n",
    "                line += (\" \" * (avg_spaces_between_words)).join(words[i+num_words_with_extra_space:i+k])\n",
    "            else:\n",
    "                line = (\" \" * avg_spaces_between_words).join(words[i:i+k])\n",
    "        return line\n",
    "\n",
    "     def fullJustify(self, words: List[str], maxWidth: int) -> List[str]:\n",
    "        # approach\n",
    "        # Until we have added all words:\n",
    "        # 1. Get i:i+k words that can fit on a line with maxWidth\n",
    "        # 2. Insert the spaces between those words\n",
    "        # 3. Add the line to the result\n",
    "\n",
    "        i = 0\n",
    "        n = len(words)\n",
    "        result = []\n",
    "\n",
    "        while i < n:\n",
    "            k = self.get_k_words(i, words, maxWidth)\n",
    "            line = self.insert_spaces(i, words, maxWidth, k)\n",
    "            result.append(line)\n",
    "            i += k\n",
    "\n",
    "        return result\n",
    "\n",
    "\n",
    "Solution().fullJustify([\"Science\",\"is\",\"what\",\"we\",\"understand\",\"well\",\"enough\",\"to\",\"explain\",\"to\",\"a\",\"computer.\",\"Art\",\"is\",\"everything\",\"else\",\"we\",\"do\"], maxWidth = 20)"
   ],
   "metadata": {
    "collapsed": false,
    "pycharm": {
     "name": "#%%\n"
    }
   }
  },
  {
   "cell_type": "code",
   "execution_count": 24,
   "outputs": [
    {
     "data": {
      "text/plain": "['This    is    an', 'example  of text', 'justification.  ']"
     },
     "execution_count": 24,
     "metadata": {},
     "output_type": "execute_result"
    }
   ],
   "source": [
    "Solution().fullJustify([\"This\", \"is\", \"an\", \"example\", \"of\", \"text\", \"justification.\"], maxWidth = 16)"
   ],
   "metadata": {
    "collapsed": false,
    "pycharm": {
     "name": "#%%\n"
    }
   }
  },
  {
   "cell_type": "code",
   "execution_count": 25,
   "outputs": [
    {
     "data": {
      "text/plain": "['What   must   be', 'acknowledgment  ', 'shall be        ']"
     },
     "execution_count": 25,
     "metadata": {},
     "output_type": "execute_result"
    }
   ],
   "source": [
    "Solution().fullJustify([\"What\",\"must\",\"be\",\"acknowledgment\",\"shall\",\"be\"], maxWidth = 16)"
   ],
   "metadata": {
    "collapsed": false,
    "pycharm": {
     "name": "#%%\n"
    }
   }
  },
  {
   "cell_type": "code",
   "execution_count": 25,
   "outputs": [],
   "source": [],
   "metadata": {
    "collapsed": false,
    "pycharm": {
     "name": "#%%\n"
    }
   }
  }
 ],
 "metadata": {
  "kernelspec": {
   "display_name": "Python 3",
   "language": "python",
   "name": "python3"
  },
  "language_info": {
   "codemirror_mode": {
    "name": "ipython",
    "version": 2
   },
   "file_extension": ".py",
   "mimetype": "text/x-python",
   "name": "python",
   "nbconvert_exporter": "python",
   "pygments_lexer": "ipython2",
   "version": "2.7.6"
  }
 },
 "nbformat": 4,
 "nbformat_minor": 0
}