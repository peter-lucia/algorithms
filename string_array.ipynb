{
 "cells": [
  {
   "cell_type": "markdown",
   "source": [
    "### Get max profit"
   ],
   "metadata": {
    "collapsed": false,
    "pycharm": {
     "name": "#%% md\n"
    }
   }
  },
  {
   "cell_type": "code",
   "execution_count": 12,
   "metadata": {
    "collapsed": true
   },
   "outputs": [
    {
     "name": "stdout",
     "output_type": "stream",
     "text": [
      "Max profit is 7\n"
     ]
    }
   ],
   "source": [
    "def get_max_profit(stock_prices):\n",
    "\n",
    "    if len(stock_prices) < 2:\n",
    "        raise ValueError(\"Need more prices\")\n",
    "\n",
    "    # Iterate through all the numbers once\n",
    "    # store the min_price found and the difference\n",
    "    # between the min_price and current price\n",
    "\n",
    "    min_price = float(\"inf\")\n",
    "    max_profit = float(\"-inf\")\n",
    "    for current_price in stock_prices:\n",
    "        if max_profit < current_price - min_price:\n",
    "            max_profit = current_price - min_price\n",
    "        if current_price < min_price:\n",
    "            min_price = current_price\n",
    "\n",
    "\n",
    "    return max_profit\n",
    "arr = [10, 12, 17, 3, 9]\n",
    "print(f\"Max profit is {get_max_profit(arr)}\")"
   ]
  },
  {
   "cell_type": "markdown",
   "source": [
    "### 735. Asteroid Collision\n",
    "https://leetcode.com/problems/asteroid-collision/submissions/\n",
    "\n",
    "* first failed approach with stacks: two stacks, asteroids and result\n",
    "* pop asteroid from asteroids\n",
    "* put asteroid into result\n",
    "* check if top item of result and top item of asteroids conflict\n",
    "* put winner into result or remove both if they cancel out\n",
    "* continue until asteroids is empty and result is full\n",
    "\n",
    "\n",
    "```\n",
    "asteroids = [10, 2, -5]\n",
    "result = []\n",
    "\n",
    "asteroids = [-5]\n",
    "result = [10, 2]\n",
    "\n",
    "right = -5  # asteroids[0]\n",
    "left = 2  # result[-1]\n",
    "\n",
    "if right < 0 and left > 0:\n",
    "   handle collision\n",
    "otherwise:\n",
    "   put right into top of result\n",
    "```\n",
    "\n",
    "\n",
    "second approach\n",
    "* start with i = 0, j = 1\n",
    "* check for collision between i and j\n",
    "* if no collision, increment both i and j\n",
    "* if collision, if elem at j wins, pop(i) and let i = j and j += 1\n",
    "* if collision and if elem at i wins, pop(j) and keep i and j the same\n",
    "* if collision and cancel each other out, pop(i), pop(j), let i -= 1, j = i\n"
   ],
   "metadata": {
    "collapsed": false,
    "pycharm": {
     "name": "#%% md\n"
    }
   }
  },
  {
   "cell_type": "code",
   "execution_count": 13,
   "outputs": [],
   "source": [
    "from typing import List\n",
    "class Solution:\n",
    "    def asteroidCollision(self, asteroids: List[int]) -> List[int]:\n",
    "\n",
    "\n",
    "        # can assume len(asteroids) >= 2\n",
    "        i = 0\n",
    "        j = 1\n",
    "\n",
    "        while j < len(asteroids):\n",
    "            if self.is_collision(asteroids[i], asteroids[j]):\n",
    "                if abs(asteroids[i]) > abs(asteroids[j]):\n",
    "                    asteroids.pop(j)\n",
    "                elif abs(asteroids[i]) < abs(asteroids[j]):\n",
    "                    asteroids.pop(i)\n",
    "                    if i > 0:\n",
    "                        i -= 1\n",
    "                        j -= 1\n",
    "                elif asteroids[j] < 0 and abs(asteroids[j]) == abs(asteroids[j]):\n",
    "                    asteroids.pop(i)\n",
    "                    asteroids.pop(i) # elem at j is now at i\n",
    "                    if i > 1:\n",
    "                        i -= 2\n",
    "                        j -= 2\n",
    "                    elif i > 0:\n",
    "                        i -= 1\n",
    "                        j -= 1\n",
    "            else:\n",
    "                i += 1\n",
    "                j += 1\n",
    "        return asteroids\n",
    "\n",
    "\n",
    "    def is_collision(self, left, right):\n",
    "        return right < 0 and left > 0\n"
   ],
   "metadata": {
    "collapsed": false,
    "pycharm": {
     "name": "#%%\n"
    }
   }
  },
  {
   "cell_type": "code",
   "execution_count": 14,
   "outputs": [],
   "source": [
    "assert [] == Solution().asteroidCollision([8, -8])\n",
    "assert [10] == Solution().asteroidCollision([10, 2, -5])\n",
    "\n",
    "\n"
   ],
   "metadata": {
    "collapsed": false,
    "pycharm": {
     "name": "#%%\n"
    }
   }
  },
  {
   "cell_type": "markdown",
   "source": [
    "### 20. Valid Parentheses\n",
    "https://leetcode.com/problems/valid-parentheses/"
   ],
   "metadata": {
    "collapsed": false,
    "pycharm": {
     "name": "#%% md\n"
    }
   }
  },
  {
   "cell_type": "code",
   "execution_count": 15,
   "outputs": [],
   "source": [
    "class Solution:\n",
    "    def isValid(self, s: str) -> bool:\n",
    "        # approach 1: anytime we see {}, (), or [], remove it from the expression\n",
    "\n",
    "        # Append each character in s to the stack\n",
    "        # if the stack is not empty, and the last character added to the stack\n",
    "        # is the closing bracket of the same time, don't append the new character\n",
    "        # to the stack and remove the left bracket from the stack to effectively\n",
    "        # remove the {}, (), or [] from the string\n",
    "        # repeat this process until we've gone through all characters in s.\n",
    "        # if at the end the stack is not empty, return False\n",
    "        # otherwise, return True\n",
    "\n",
    "        stack = []\n",
    "\n",
    "        for c in s:\n",
    "            if stack:\n",
    "                if c == '}' and stack[-1] == '{':\n",
    "                    stack.pop(-1)\n",
    "                elif c == ')' and stack[-1] == '(':\n",
    "                    stack.pop(-1)\n",
    "                elif c == ']' and stack[-1] == '[':\n",
    "                    stack.pop(-1)\n",
    "                else:\n",
    "                    stack.append(c)\n",
    "            else:\n",
    "                stack.append(c)\n",
    "        if stack:\n",
    "            return False\n",
    "        else:\n",
    "            return True\n",
    "\n",
    "\n",
    "assert Solution().isValid(\"()\") == True\n",
    "assert Solution().isValid(\"()[]{}\") == True\n",
    "assert Solution().isValid(\"(]\") == False\n",
    "assert Solution().isValid(\"([)]\") == False\n",
    "assert Solution().isValid(\"{[]}\") == True"
   ],
   "metadata": {
    "collapsed": false,
    "pycharm": {
     "name": "#%%\n"
    }
   }
  },
  {
   "cell_type": "markdown",
   "source": [
    "### Rotate array\n",
    "\n",
    "[https://leetcode.com/problems/rotate-array/](https://leetcode.com/problems/rotate-array/)"
   ],
   "metadata": {
    "collapsed": false,
    "pycharm": {
     "name": "#%% md\n"
    }
   }
  },
  {
   "cell_type": "code",
   "execution_count": 16,
   "outputs": [
    {
     "data": {
      "text/plain": "[4, 5, 6, 7, 1, 2, 3]"
     },
     "execution_count": 16,
     "metadata": {},
     "output_type": "execute_result"
    }
   ],
   "source": [
    "from typing import List\n",
    "class Solution:\n",
    "    def rotate(self, nums: List[int], k: int) -> None:\n",
    "        \"\"\"\n",
    "        Time complexity: O(n)\n",
    "        Space complexity: O(n)\n",
    "        Do not return anything, modify nums in-place instead.\n",
    "        \"\"\"\n",
    "\n",
    "        # approach #1\n",
    "        # create a new array of size n = len(nums)\n",
    "        # from i = 0 -> n-1\n",
    "        # put nums[i] at (i + k) % n in the new array\n",
    "        # then copy the elements back into\n",
    "        n = len(nums)\n",
    "        new_arr = [0 for _ in range(n)]\n",
    "        for i in range(n):\n",
    "            new_pos = (i + k) % n\n",
    "            new_arr[new_pos] = nums[i]\n",
    "\n",
    "        # copy the elements back into nums\n",
    "        nums[:] = new_arr[:]\n",
    "\n",
    "nums = [1,2,3,4,5,6,7]\n",
    "Solution().rotate(nums, 4)\n",
    "nums"
   ],
   "metadata": {
    "collapsed": false,
    "pycharm": {
     "name": "#%%\n"
    }
   }
  },
  {
   "cell_type": "code",
   "execution_count": 17,
   "outputs": [
    {
     "data": {
      "text/plain": "5"
     },
     "execution_count": 17,
     "metadata": {},
     "output_type": "execute_result"
    }
   ],
   "source": [
    "nums = [1,2,3,4,5]\n",
    "n = len(nums)\n",
    "n"
   ],
   "metadata": {
    "collapsed": false,
    "pycharm": {
     "name": "#%%\n"
    }
   }
  },
  {
   "cell_type": "code",
   "execution_count": 18,
   "outputs": [
    {
     "data": {
      "text/plain": "4"
     },
     "execution_count": 18,
     "metadata": {},
     "output_type": "execute_result"
    }
   ],
   "source": [
    "(0 + 4) % n"
   ],
   "metadata": {
    "collapsed": false,
    "pycharm": {
     "name": "#%%\n"
    }
   }
  },
  {
   "cell_type": "code",
   "execution_count": 19,
   "outputs": [
    {
     "data": {
      "text/plain": "0"
     },
     "execution_count": 19,
     "metadata": {},
     "output_type": "execute_result"
    }
   ],
   "source": [
    "(1+4) % n"
   ],
   "metadata": {
    "collapsed": false,
    "pycharm": {
     "name": "#%%\n"
    }
   }
  },
  {
   "cell_type": "code",
   "execution_count": 20,
   "outputs": [
    {
     "data": {
      "text/plain": "5"
     },
     "execution_count": 20,
     "metadata": {},
     "output_type": "execute_result"
    }
   ],
   "source": [
    "nums[(0+4) % n]"
   ],
   "metadata": {
    "collapsed": false,
    "pycharm": {
     "name": "#%%\n"
    }
   }
  },
  {
   "cell_type": "code",
   "execution_count": 21,
   "outputs": [
    {
     "data": {
      "text/plain": "1"
     },
     "execution_count": 21,
     "metadata": {},
     "output_type": "execute_result"
    }
   ],
   "source": [
    "nums[(1+4) % n]"
   ],
   "metadata": {
    "collapsed": false,
    "pycharm": {
     "name": "#%%\n"
    }
   }
  },
  {
   "cell_type": "code",
   "execution_count": 22,
   "outputs": [
    {
     "data": {
      "text/plain": "[4, 5, 6, 7, 1, 2, 3]"
     },
     "execution_count": 22,
     "metadata": {},
     "output_type": "execute_result"
    }
   ],
   "source": [
    "from typing import List\n",
    "class Solution:\n",
    "    def rotate(self, nums: List[int], k: int) -> None:\n",
    "        \"\"\"\n",
    "        Do not return anything, modify nums in-place instead.\n",
    "        Time complexity: O(n)\n",
    "        Space complexity: O(1)\n",
    "        Approach: (always write out approach with examples first to verify)\n",
    "        nums = 1, 2, 3, 4, 5, 6, 7\n",
    "        k = 4\n",
    "        tgt_index = 0 + 4\n",
    "\n",
    "        tmp = 5\n",
    "        nums = 1, 2, 3, 4, 1, 6, 7\n",
    "        tgt_index = (4 + 4) % (n - 1) = 1\n",
    "\n",
    "        tmp = 2\n",
    "        nums = 1, 5, 3, 4, 1, 6, 7\n",
    "        tg_index = (1 + 4) % n = 5\n",
    "\n",
    "        tmp = 6\n",
    "        nums = 1, 5, 3, 4, 1, 2, 7\n",
    "        \"\"\"\n",
    "        n = len(nums)\n",
    "\n",
    "        start_idx = 0\n",
    "        i = 0\n",
    "        while i < n:\n",
    "            current_idx = start_idx\n",
    "            tmp = nums[current_idx]\n",
    "            while True:\n",
    "                next_idx = (current_idx + k) % n\n",
    "                nums[next_idx], tmp = tmp, nums[next_idx]\n",
    "                current_idx = next_idx\n",
    "                i += 1\n",
    "                if current_idx == start_idx:\n",
    "                    break\n",
    "            start_idx += 1\n",
    "nums = [1,2,3,4,5,6,7]\n",
    "Solution().rotate(nums, 4)\n",
    "nums"
   ],
   "metadata": {
    "collapsed": false,
    "pycharm": {
     "name": "#%%\n"
    }
   }
  },
  {
   "cell_type": "markdown",
   "source": [
    "### Text Justification\n",
    "* [https://leetcode.com/problems/text-justification/](https://leetcode.com/problems/text-justification/)\n",
    "\n",
    "Approach: Until we have added all words:\n",
    "1. Get i:i+k words that can fit on a line with maxWidth\n",
    "2. Insert the spaces between those words\n",
    "3. Add the line to the result"
   ],
   "metadata": {
    "collapsed": false,
    "pycharm": {
     "name": "#%% md\n"
    }
   }
  },
  {
   "cell_type": "code",
   "execution_count": 23,
   "outputs": [
    {
     "data": {
      "text/plain": "['Science  is  what we',\n 'understand      well',\n 'enough to explain to',\n 'a  computer.  Art is',\n 'everything  else  we',\n 'do                  ']"
     },
     "execution_count": 23,
     "metadata": {},
     "output_type": "execute_result"
    }
   ],
   "source": [
    "from typing import List\n",
    "class Solution:\n",
    "     def get_k_words(self, i: int, words: List[str], maxWidth: int) -> int:\n",
    "        \"\"\"\n",
    "        Gets the number of words starting at pos i in the words list that\n",
    "        can fit within maxWidth characters with at least one space between them\n",
    "        \"\"\"\n",
    "        k = 0\n",
    "        n = len(words)\n",
    "        line = ' '.join(words[i:i+k])\n",
    "\n",
    "        while len(line) <= maxWidth and i+k <= n:\n",
    "            k += 1\n",
    "            line = ' '.join(words[i:i+k])\n",
    "        k -= 1\n",
    "        return k\n",
    "\n",
    "     def insert_spaces(self, i: int, words: List[str], maxWidth: int, k: int) -> str:\n",
    "        \"\"\"\n",
    "        Returns a line with extra spaces added between the words to fit maxWidth\n",
    "        \"\"\"\n",
    "\n",
    "        line = ' '.join(words[i: i+k])\n",
    "        n = len(words)\n",
    "\n",
    "        # if the line contains only one word or we've reached the last word,\n",
    "        # put spaces to the right (i.e. left justify the word)\n",
    "        if k == 1 or i+k == n:\n",
    "            spaces = maxWidth - len(line)\n",
    "            line = line + \" \" * spaces\n",
    "        else:\n",
    "            # Example: 'word1    word2' k = 2, with k-1=1 space between the words\n",
    "            spaces = k-1\n",
    "            total_space_chars = maxWidth - len(line) + spaces\n",
    "\n",
    "            # extra spaces between words should be distributed as evenly as possible\n",
    "            avg_spaces_between_words = total_space_chars // spaces\n",
    "\n",
    "            # if the number of spaces on a line does not divide evenly between words,\n",
    "            # the empty slots on the left will be assigned more spaces than those\n",
    "            # on the right\n",
    "            num_words_with_extra_space = total_space_chars % spaces\n",
    "            if num_words_with_extra_space > 0:\n",
    "                line = (\" \" * (avg_spaces_between_words + 1)).join(words[i:i+num_words_with_extra_space])\n",
    "                line += \" \" * (avg_spaces_between_words + 1)\n",
    "                line += (\" \" * (avg_spaces_between_words)).join(words[i+num_words_with_extra_space:i+k])\n",
    "            else:\n",
    "                line = (\" \" * avg_spaces_between_words).join(words[i:i+k])\n",
    "        return line\n",
    "\n",
    "     def fullJustify(self, words: List[str], maxWidth: int) -> List[str]:\n",
    "        # approach\n",
    "        # Until we have added all words:\n",
    "        # 1. Get i:i+k words that can fit on a line with maxWidth\n",
    "        # 2. Insert the spaces between those words\n",
    "        # 3. Add the line to the result\n",
    "\n",
    "        i = 0\n",
    "        n = len(words)\n",
    "        result = []\n",
    "\n",
    "        while i < n:\n",
    "            k = self.get_k_words(i, words, maxWidth)\n",
    "            line = self.insert_spaces(i, words, maxWidth, k)\n",
    "            result.append(line)\n",
    "            i += k\n",
    "\n",
    "        return result\n",
    "\n",
    "\n",
    "Solution().fullJustify([\"Science\",\"is\",\"what\",\"we\",\"understand\",\"well\",\"enough\",\"to\",\"explain\",\"to\",\"a\",\"computer.\",\"Art\",\"is\",\"everything\",\"else\",\"we\",\"do\"], maxWidth = 20)"
   ],
   "metadata": {
    "collapsed": false,
    "pycharm": {
     "name": "#%%\n"
    }
   }
  },
  {
   "cell_type": "code",
   "execution_count": 24,
   "outputs": [
    {
     "data": {
      "text/plain": "['This    is    an', 'example  of text', 'justification.  ']"
     },
     "execution_count": 24,
     "metadata": {},
     "output_type": "execute_result"
    }
   ],
   "source": [
    "Solution().fullJustify([\"This\", \"is\", \"an\", \"example\", \"of\", \"text\", \"justification.\"], maxWidth = 16)"
   ],
   "metadata": {
    "collapsed": false,
    "pycharm": {
     "name": "#%%\n"
    }
   }
  },
  {
   "cell_type": "code",
   "execution_count": 25,
   "outputs": [
    {
     "data": {
      "text/plain": "['What   must   be', 'acknowledgment  ', 'shall be        ']"
     },
     "execution_count": 25,
     "metadata": {},
     "output_type": "execute_result"
    }
   ],
   "source": [
    "Solution().fullJustify([\"What\",\"must\",\"be\",\"acknowledgment\",\"shall\",\"be\"], maxWidth = 16)"
   ],
   "metadata": {
    "collapsed": false,
    "pycharm": {
     "name": "#%%\n"
    }
   }
  },
  {
   "cell_type": "markdown",
   "source": [
    "### Reverse a string without affecting special characters\n",
    "[https://www.geeksforgeeks.org/reverse-a-string-without-affecting-special-characters/](https://www.geeksforgeeks.org/reverse-a-string-without-affecting-special-characters/)"
   ],
   "metadata": {
    "collapsed": false,
    "pycharm": {
     "name": "#%% md\n"
    }
   }
  },
  {
   "cell_type": "code",
   "execution_count": 41,
   "outputs": [],
   "source": [
    "\n",
    "def reverse_string(my_string: str) -> str:\n",
    "    s = [c for c in my_string]\n",
    "    if len(s) <=1:\n",
    "        return s\n",
    "\n",
    "    i = 0\n",
    "    j = len(s) - 1\n",
    "\n",
    "    while i < j:\n",
    "        if not s[i].isalpha():\n",
    "            i += 1\n",
    "        elif not s[j].isalpha():\n",
    "            j -= 1\n",
    "        else:\n",
    "            s[i], s[j] = s[j], s[i]\n",
    "            i += 1\n",
    "            j -= 1\n",
    "    return \"\".join(s)\n",
    "\n",
    "assert reverse_string(\"a!!!b.c.d,e'f,ghi\") == \"i!!!h.g.f,e'd,cba\"\n",
    "assert reverse_string(\"l@@me!be*your@@hero%\") == \"o@@re!hr*uoye@@beml%\""
   ],
   "metadata": {
    "collapsed": false,
    "pycharm": {
     "name": "#%%\n"
    }
   }
  },
  {
   "cell_type": "markdown",
   "source": [
    "### Print all possible palindromic partitions of a string\n",
    "[https://www.geeksforgeeks.org/given-a-string-print-all-possible-palindromic-partition/](https://www.geeksforgeeks.org/given-a-string-print-all-possible-palindromic-partition/)\n",
    "\n",
    "[https://leetcode.com/problems/palindrome-partitioning/](https://leetcode.com/problems/palindrome-partitioning/)\n",
    "\n",
    "```\n",
    "Example 1:\n",
    "\n",
    "Input: s = \"aab\"\n",
    "Output: [[\"a\",\"a\",\"b\"],[\"aa\",\"b\"]]\n",
    "Example 2:\n",
    "\n",
    "Input: s = \"a\"\n",
    "Output: [[\"a\"]]\n",
    "```"
   ],
   "metadata": {
    "collapsed": false,
    "pycharm": {
     "name": "#%% md\n"
    }
   }
  },
  {
   "cell_type": "code",
   "execution_count": 45,
   "outputs": [
    {
     "name": "stdout",
     "output_type": "stream",
     "text": [
      "a\n",
      "b\n",
      "c\n",
      "bc\n",
      "ab\n",
      "abc\n"
     ]
    },
    {
     "data": {
      "text/plain": "[['a', 'b', 'c']]"
     },
     "execution_count": 45,
     "metadata": {},
     "output_type": "execute_result"
    }
   ],
   "source": [
    "class Solution:\n",
    "\n",
    "    def is_palindrome(self, s: str) -> bool:\n",
    "\n",
    "        i = 0\n",
    "        j = len(s) - 1\n",
    "\n",
    "        while i < j:\n",
    "            if s[i] != s[j]:\n",
    "                return False\n",
    "            i += 1\n",
    "            j -= 1\n",
    "        return True\n",
    "\n",
    "    def partition(self, s: str) -> List[List[str]]:\n",
    "        # Incrementally build candidates for the solution and discard candidates (backtrack) if\n",
    "        # they don't satisfy the condition\n",
    "        # DFS on the following tree:\n",
    "        # s = abc\n",
    "#i=1    #    check [a]bc                                                     # call stack 1\n",
    "        #    [a] is a palindrome. check bc, path = ['a']\n",
    "        # s = bc\n",
    "        #    check [b]c                                                      # call stack 2\n",
    "#i=1    #    [b] is a palindrome. check c, path = ['a', 'b']\n",
    "        # s = c\n",
    "        #    check [c]\n",
    "        #    [c] is a palindrome. check '', path = ['a', 'b', 'c']\n",
    "        # s = ''\n",
    "        #    append ['a', 'b', 'c'] to result\n",
    "        # s = bc\n",
    "        #    check [bc]                                                      # call stack 2\n",
    "#i=1    #    [bc] is not a palindrome\n",
    "        # s = abc\n",
    "#i=2    #    check [ab]c\n",
    "        #    [ab] is not a palindrome\n",
    "        #    check [abc]\n",
    "        #    [abc] is not a palindrome\n",
    "\n",
    "        def dfs(s, path, result):\n",
    "            if not s:\n",
    "                # finished recursing through tree of possible substrings\n",
    "                result.append(path)\n",
    "                return\n",
    "\n",
    "            # generate substrings of all sizes in s\n",
    "            for i in range(1, len(s)+1):\n",
    "                print(s[:i])\n",
    "                # if we find a palindrome\n",
    "                # add it to the current dfs tree path\n",
    "                # pass through the result\n",
    "                if self.is_palindrome(s[:i]):\n",
    "                    dfs(s[i:], path + [s[:i]], result)\n",
    "\n",
    "        result = []\n",
    "        dfs(s, [], result)\n",
    "        return result\n",
    "\n",
    "Solution().partition(\"abc\")"
   ],
   "metadata": {
    "collapsed": false,
    "pycharm": {
     "name": "#%%\n"
    }
   }
  },
  {
   "cell_type": "code",
   "execution_count": 46,
   "outputs": [
    {
     "name": "stdout",
     "output_type": "stream",
     "text": [
      "a\n",
      "a\n",
      "b\n",
      "ab\n",
      "aa\n",
      "b\n",
      "aab\n"
     ]
    },
    {
     "data": {
      "text/plain": "[['a', 'a', 'b'], ['aa', 'b']]"
     },
     "execution_count": 46,
     "metadata": {},
     "output_type": "execute_result"
    }
   ],
   "source": [
    "Solution().partition(\"aab\")"
   ],
   "metadata": {
    "collapsed": false,
    "pycharm": {
     "name": "#%%\n"
    }
   }
  },
  {
   "cell_type": "markdown",
   "source": [
    "### Find original array from doubled array\n",
    "\n",
    "An integer array original is transformed into a doubled array changed by appending twice the value of every element in original, and then randomly shuffling the resulting array.\n",
    "\n",
    "Given an array changed, return original if changed is a doubled array. If changed is not a doubled array, return an empty array. The elements in original may be returned in any order.\n",
    "\n",
    "Input: changed = [1,3,4,2,6,8]\n",
    "Output: [1,3,4]\n",
    "\n",
    "Input: changed = [6,3,0,1]\n",
    "Output: []\n",
    "\n",
    "Input: changed = [1]\n",
    "Output: []"
   ],
   "metadata": {
    "collapsed": false,
    "pycharm": {
     "name": "#%% md\n"
    }
   }
  },
  {
   "cell_type": "code",
   "execution_count": 5,
   "outputs": [],
   "source": [
    "from typing import List\n",
    "from collections import defaultdict\n",
    "class Solution:\n",
    "    def findOriginalArray(self, changed: List[int]) -> List[int]:\n",
    "        # Key points:\n",
    "        # 1. if len(changed) is not even, return []\n",
    "\n",
    "        # approach 2\n",
    "        # O(nlogn) time complexity at least\n",
    "        # O(n) space complexity since we just have a hash table of all elements and their num occurrences\n",
    "\n",
    "        # Algorithm\n",
    "        # 1. put count of each element into a hashmap\n",
    "        # 2. iterate over a sorted list of the keys in the hashmap\n",
    "        # 3. for each key in the sorted list of keys\n",
    "        #    - add special handling for 0\n",
    "        #    - if 2*key is another key in the map and it occurs > 0 times, decrement occurrences of key and 2*key\n",
    "        #    - add key to the result\n",
    "        #    - once the # of doubles reaches n / 2, return the result\n",
    "\n",
    "        lookup = defaultdict(int)\n",
    "\n",
    "        for each in changed:\n",
    "            lookup[each] += 1\n",
    "\n",
    "        result = []\n",
    "        keys = sorted(lookup.keys())\n",
    "        i = 0\n",
    "        while i < len(keys):\n",
    "            each = keys[i]\n",
    "            if each == 0:\n",
    "                num_zeros_added = lookup[0] // 2\n",
    "                result += [0 for _ in range(num_zeros_added)]\n",
    "                lookup[0] -= num_zeros_added\n",
    "            elif 2*each in lookup and lookup[2*each] > 0 and lookup[each] > 0:\n",
    "                num_subtract = min(lookup[2*each], lookup[each])\n",
    "                lookup[2*each] -= num_subtract\n",
    "                lookup[each] -= num_subtract\n",
    "                result += [each for _ in range(num_subtract)]\n",
    "            i += 1\n",
    "\n",
    "            if len(result) == len(changed) / 2:\n",
    "                return result\n",
    "        return []\n",
    "\n",
    "\n",
    "assert Solution().findOriginalArray([1,3,4,2,6,8]) == [1,3,4]\n",
    "assert Solution().findOriginalArray([6,3,0,1]) == []\n",
    "assert Solution().findOriginalArray([1]) == []\n"
   ],
   "metadata": {
    "collapsed": false,
    "pycharm": {
     "name": "#%%\n"
    }
   }
  },
  {
   "cell_type": "markdown",
   "source": [
    "Better approach to find the original array problem"
   ],
   "metadata": {
    "collapsed": false,
    "pycharm": {
     "name": "#%% md\n"
    }
   }
  },
  {
   "cell_type": "code",
   "execution_count": null,
   "outputs": [],
   "source": [
    "        # Key points:\n",
    "        # 1. if len(changed) is not even, return []\n",
    "\n",
    "        # approach 2\n",
    "        # add 2 times every element to a double ended queue\n",
    "        # iterate through each element of sorted\n",
    "        # sort the array O(nlogn)\n",
    "        # Use a double ended queue\n",
    "        # if each element is in the queue, pop the queue\n",
    "\n",
    "        # queue: []\n",
    "        # arr = [1, 2, 2, 4]  # must be sorted\n",
    "        # result = []\n",
    "\n",
    "        # 1\n",
    "        # queue: [2]\n",
    "        # result = [1]\n",
    "\n",
    "        # 2\n",
    "        # queue: []\n",
    "        # result: [1]\n",
    "\n",
    "        # 2\n",
    "        # queue: [4]\n",
    "        # result: [1, 2]\n",
    "\n",
    "        # 4\n",
    "        # queue: [0]\n",
    "        # return result\n",
    "\n",
    "        # Example\n",
    "        # [1,3,4,2,6,8]\n",
    "        # []"
   ],
   "metadata": {
    "collapsed": false,
    "pycharm": {
     "name": "#%%\n"
    }
   }
  },
  {
   "cell_type": "markdown",
   "source": [
    "### 833. Find and Replace String\n",
    "[https://leetcode.com/problems/find-and-replace-in-string/](https://leetcode.com/problems/find-and-replace-in-string/)"
   ],
   "metadata": {
    "collapsed": false,
    "pycharm": {
     "name": "#%% md\n"
    }
   }
  },
  {
   "cell_type": "code",
   "execution_count": 6,
   "outputs": [
    {
     "data": {
      "text/plain": "'eeeebbbb'"
     },
     "execution_count": 6,
     "metadata": {},
     "output_type": "execute_result"
    }
   ],
   "source": [
    "from typing import List\n",
    "from collections import defaultdict\n",
    "class Solution:\n",
    "    def findReplaceString(self, s: str, indices: List[int], sources: List[str], targets: List[str]) -> str:\n",
    "        # Time complexity: O(nk) where n is the number of sources and k is the max size of a string\n",
    "        # Space complexity: O(nk) to house potentially all source and replacement texts\n",
    "\n",
    "        # Key ideas\n",
    "\n",
    "        # 1. Create a lookup of mapping an index to a source that was found in s with its replacement text\n",
    "        # e.g. for s = \"abcd\", indices = [0,2], sources = [\"ab\", \"cd\"], targets = [\"eeee\", \"bbbb\"]\n",
    "        # lookup = {\n",
    "        #   starting_idx: [source text, replacement text]\n",
    "        #     0: [\"ab\", \"eeee\"]\n",
    "        #     2: [\"cd\", \"bbbb\"]\n",
    "        # }\n",
    "\n",
    "        # 2. Replace the found sources with their targets\n",
    "        #    If the current index is not in the lookup, just add the character in s at index to the result\n",
    "        #    If the current index is in the lookup, replace its source and increment index by len(source)\n",
    "\n",
    "        letters = defaultdict(str)\n",
    "        for idx, each in enumerate(s):\n",
    "            letters[idx] = each\n",
    "\n",
    "        lookup = {}\n",
    "        for i, source in enumerate(sources):\n",
    "            if source == s[indices[i]:indices[i] + len(source)]:\n",
    "                lookup[indices[i]] = [source, targets[i]]\n",
    "\n",
    "        result = \"\"\n",
    "        idx = 0\n",
    "        while idx < len(s) or idx in lookup:\n",
    "            if idx in lookup:\n",
    "                result += lookup[idx][1]\n",
    "                idx += len(lookup[idx][0])\n",
    "            else:\n",
    "                result += s[idx]\n",
    "                idx += 1\n",
    "        return result\n",
    "\n",
    "Solution().findReplaceString(s = \"abcd\", indices = [0, 2], sources = [\"ab\", \"cd\"], targets = [\"eeee\", \"bbbb\"])"
   ],
   "metadata": {
    "collapsed": false,
    "pycharm": {
     "name": "#%%\n"
    }
   }
  },
  {
   "cell_type": "code",
   "execution_count": null,
   "outputs": [],
   "source": [],
   "metadata": {
    "collapsed": false,
    "pycharm": {
     "name": "#%%\n"
    }
   }
  }
 ],
 "metadata": {
  "kernelspec": {
   "display_name": "Python 3",
   "language": "python",
   "name": "python3"
  },
  "language_info": {
   "codemirror_mode": {
    "name": "ipython",
    "version": 2
   },
   "file_extension": ".py",
   "mimetype": "text/x-python",
   "name": "python",
   "nbconvert_exporter": "python",
   "pygments_lexer": "ipython2",
   "version": "2.7.6"
  }
 },
 "nbformat": 4,
 "nbformat_minor": 0
}