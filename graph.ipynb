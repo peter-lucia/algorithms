{
 "cells": [
  {
   "cell_type": "markdown",
   "metadata": {
    "pycharm": {
     "name": "#%% md\n"
    }
   },
   "source": [
    "# Graph Algorithms"
   ]
  },
  {
   "cell_type": "code",
   "execution_count": 3,
   "metadata": {
    "collapsed": false,
    "jupyter": {
     "outputs_hidden": false
    },
    "pycharm": {
     "name": "#%%\n"
    }
   },
   "outputs": [],
   "source": [
    "import collections\n",
    "from typing import List\n"
   ]
  },
  {
   "cell_type": "markdown",
   "metadata": {
    "pycharm": {
     "name": "#%% md\n"
    }
   },
   "source": [
    "### DFS\n",
    "* Retains the path in class variable\n",
    "\n",
    "\n",
    "```\n",
    "        1\n",
    "      /   \\\n",
    "     2     3\n",
    "    / \\\n",
    "   4   5\n",
    "```"
   ]
  },
  {
   "cell_type": "code",
   "execution_count": 2,
   "metadata": {
    "collapsed": false,
    "jupyter": {
     "outputs_hidden": false
    },
    "pycharm": {
     "name": "#%%\n"
    }
   },
   "outputs": [
    {
     "name": "stdout",
     "output_type": "stream",
     "text": [
      "Found 1\n",
      "Found 2\n",
      "Found 4\n",
      "Found 5\n",
      "Found 3\n"
     ]
    }
   ],
   "source": [
    "\n",
    "#### Definition for a binary tree node\n",
    "class TreeNode:\n",
    "    def __init__(self, val=0, left=None, right=None):\n",
    "        self.val = val\n",
    "        self.left = left\n",
    "        self.right = right\n",
    "\n",
    "class DFS:\n",
    "    def __init__(self):\n",
    "        self.explored = []\n",
    "\n",
    "    def dfs_traversal(self, root):\n",
    "        if root is None:\n",
    "            return []\n",
    "        else:\n",
    "            self.explored.append(root.val)  # pre-order traversal\n",
    "            print(f\"Found {root.val}\")\n",
    "            self.dfs_traversal(root.left)\n",
    "            self.dfs_traversal(root.right)\n",
    "\n",
    "d = TreeNode(val=5)\n",
    "c = TreeNode(val=4)\n",
    "b = TreeNode(val=3)\n",
    "a = TreeNode(val=2, left=c, right=d)\n",
    "root = TreeNode(val=1, left=a, right=b)\n",
    "dfs = DFS()\n",
    "dfs.dfs_traversal(root)"
   ]
  },
  {
   "cell_type": "markdown",
   "metadata": {
    "pycharm": {
     "name": "#%% md\n"
    }
   },
   "source": [
    "#### DFS for a binary tree\n",
    "* Retains path as parameter"
   ]
  },
  {
   "cell_type": "code",
   "execution_count": 5,
   "metadata": {
    "collapsed": false,
    "jupyter": {
     "outputs_hidden": false
    },
    "pycharm": {
     "name": "#%%\n"
    }
   },
   "outputs": [
    {
     "name": "stdout",
     "output_type": "stream",
     "text": [
      "Found 1\n",
      "Found 2\n",
      "Found 4\n",
      "Found 5\n",
      "Found 3\n",
      "[1, 2, 4, 5, 3]\n"
     ]
    }
   ],
   "source": [
    "def dfs_traversal(root, explored):\n",
    "    if root is None:\n",
    "        return []\n",
    "    else:\n",
    "        explored.append(root.val)\n",
    "        print(f\"Found {root.val}\")\n",
    "        dfs_traversal(root.left, explored)\n",
    "        dfs_traversal(root.right, explored)\n",
    "\n",
    "d = TreeNode(val=5)\n",
    "c = TreeNode(val=4)\n",
    "b = TreeNode(val=3)\n",
    "a = TreeNode(val=2, left=c, right=d)\n",
    "root = TreeNode(val=1, left=a, right=b)\n",
    "dfs = DFS()\n",
    "explored = []\n",
    "dfs_traversal(root, explored)\n",
    "print(explored)"
   ]
  },
  {
   "cell_type": "markdown",
   "metadata": {
    "pycharm": {
     "name": "#%% md\n"
    },
    "tags": []
   },
   "source": [
    "#### DFS for Adjacency List\n",
    "* Only retains path by printing it\n",
    "\n",
    "```\n",
    "            A\n",
    "          /   \\\n",
    "         B     C\n",
    "       /  \\   /\n",
    "      D   E  F\n",
    "```"
   ]
  },
  {
   "cell_type": "code",
   "execution_count": 6,
   "metadata": {
    "collapsed": false,
    "jupyter": {
     "outputs_hidden": false
    },
    "pycharm": {
     "name": "#%%\n"
    }
   },
   "outputs": [
    {
     "name": "stdout",
     "output_type": "stream",
     "text": [
      "A\n",
      "B\n",
      "D\n",
      "E\n",
      "C\n",
      "F\n"
     ]
    }
   ],
   "source": [
    "# https://www.educative.io/edpresso/how-to-implement-depth-first-search-in-python\n",
    "# Using a Python dictionary to act as an adjacency list\n",
    "# Time complexity: O(V + E)\n",
    "graph = {\n",
    "    'A' : ['B','C'],\n",
    "    'B' : ['D', 'E'],\n",
    "    'C' : ['F'],\n",
    "    'D' : [],\n",
    "    'E' : [],\n",
    "    'F' : []\n",
    "}\n",
    "\n",
    "\n",
    "def dfs(visited, graph, node):\n",
    "    if node not in visited:\n",
    "        print(node)\n",
    "        visited.add(node)\n",
    "        for neighbor in graph[node]:\n",
    "            dfs(visited, graph, neighbor)\n",
    "\n",
    "visited = set() # Set to keep track of visited nodes.\n",
    "# Driver Code\n",
    "dfs(visited, graph, 'A')"
   ]
  },
  {
   "cell_type": "markdown",
   "metadata": {},
   "source": [
    "#### DFS for Adjacency List\n",
    "* Retains the path via the visited array"
   ]
  },
  {
   "cell_type": "code",
   "execution_count": 7,
   "metadata": {
    "collapsed": false,
    "jupyter": {
     "outputs_hidden": false
    },
    "pycharm": {
     "name": "#%%\n"
    }
   },
   "outputs": [
    {
     "name": "stdout",
     "output_type": "stream",
     "text": [
      "['A', 'B', 'D', 'E', 'C', 'F']\n"
     ]
    }
   ],
   "source": [
    "def dfs(visited, graph, node):\n",
    "    if node not in visited:\n",
    "        visited.append(node)\n",
    "        for neighbor in graph[node]:\n",
    "            dfs(visited, graph, neighbor)\n",
    "\n",
    "# Driver Code\n",
    "visited = [] # List to keep track of visited nodes.\n",
    "dfs(visited, graph, 'A')\n",
    "print(visited)"
   ]
  },
  {
   "cell_type": "markdown",
   "metadata": {
    "pycharm": {
     "name": "#%% md\n"
    }
   },
   "source": [
    "#### Find and remove leaves in a binary tree (DFS application)"
   ]
  },
  {
   "cell_type": "markdown",
   "metadata": {},
   "source": [
    "```\n",
    "                      20                       20               20        20\n",
    "                    /    \\                   /    \\           /\n",
    "                  8       22               8       22       8\n",
    "                /   \\    /   \\              \\\n",
    "              5      3  4    25               3\n",
    "                    / \\\n",
    "                  10    14\n",
    "\n",
    "```\n",
    "\n",
    "Levels of leaf nodes.\n",
    "\n",
    "The higher level is found after removing lower level leaves\n",
    "* level 0 nodes: 5, 10, 14, 4, 25\n",
    "* level 1 nodes: 3, 22\n",
    "* level 2 nodes: 8\n",
    "* level 3 nodes: 20"
   ]
  },
  {
   "cell_type": "code",
   "execution_count": 15,
   "metadata": {
    "collapsed": false,
    "jupyter": {
     "outputs_hidden": false
    },
    "pycharm": {
     "name": "#%%\n"
    }
   },
   "outputs": [],
   "source": [
    "class TreeNode:\n",
    "    def __init__(self, key):\n",
    "        self.val = key\n",
    "        self.left = None\n",
    "        self.right = None\n",
    "\n",
    "root = TreeNode(20)\n",
    "root.left = TreeNode(8)\n",
    "root.right = TreeNode(22)\n",
    "root.left.left = TreeNode(5)\n",
    "root.left.right = TreeNode(3)\n",
    "root.right.left = TreeNode(4)\n",
    "root.right.right = TreeNode(25)\n",
    "root.left.right.left = TreeNode(10)\n",
    "root.left.right.right = TreeNode(14)"
   ]
  },
  {
   "cell_type": "code",
   "execution_count": 9,
   "metadata": {
    "collapsed": false,
    "jupyter": {
     "outputs_hidden": false
    },
    "pycharm": {
     "name": "#%%\n"
    }
   },
   "outputs": [
    {
     "name": "stdout",
     "output_type": "stream",
     "text": [
      "defaultdict(<class 'list'>, {0: [2, 8], 1: [4], 2: [22], 3: [20]})\n"
     ]
    },
    {
     "data": {
      "text/plain": "dict_values([[2, 8], [4], [22], [20]])"
     },
     "execution_count": 9,
     "metadata": {},
     "output_type": "execute_result"
    }
   ],
   "source": [
    "class Solution:\n",
    "    def findLeaves(self, root: TreeNode) -> List[List[int]]:\n",
    "        \"\"\"\n",
    "            Example:\n",
    "                      20                       20               20        20\n",
    "                    /    \\                   /    \\           /\n",
    "                  8       22               8       22       8\n",
    "                /   \\    /   \\              \\\n",
    "              5      3  4    25               3\n",
    "                    / \\\n",
    "                  10    14\n",
    "\n",
    "        - level 0 nodes: 5, 10, 14, 4, 25\n",
    "        - level 1 nodes: 3, 22\n",
    "        - level 2 nodes: 8\n",
    "        - level 3 nodes: 20\n",
    "        Output:\n",
    "        {\n",
    "            0: [5, 10, 14, 4, 25],\n",
    "            1: [3, 22],\n",
    "            2: [8],\n",
    "            3: [20]\n",
    "        }\n",
    "        \"\"\"\n",
    "        lookup = collections.defaultdict(list)\n",
    "\n",
    "        def dfs(node: TreeNode, level: int):\n",
    "            \"\"\"\n",
    "            Gets the maximum depth from the left and right subtrees\n",
    "            of a given node\n",
    "            \"\"\"\n",
    "            if not node:\n",
    "                return level\n",
    "            max_left_level = dfs(node.left, level)\n",
    "            max_right_level = dfs(node.right, level)\n",
    "            level = max(max_left_level, max_right_level)\n",
    "            lookup[level].append(node.val)\n",
    "            return level + 1\n",
    "        dfs(root, 0)\n",
    "        print(lookup)\n",
    "        # lookup.values() for defaultdict returns\n",
    "        # a list of lists for all values\n",
    "        return lookup.values()\n",
    "\n",
    "Solution().findLeaves(root)"
   ]
  },
  {
   "cell_type": "code",
   "execution_count": 10,
   "outputs": [
    {
     "name": "stdout",
     "output_type": "stream",
     "text": [
      "defaultdict(<class 'list'>, {0: [2, 8], 1: [4], 2: [22], 3: [20]})\n"
     ]
    },
    {
     "data": {
      "text/plain": "dict_values([[2, 8], [4], [22], [20]])"
     },
     "execution_count": 10,
     "metadata": {},
     "output_type": "execute_result"
    }
   ],
   "source": [
    "root = TreeNode(20)\n",
    "root.left = TreeNode(2)\n",
    "root.right = TreeNode(22)\n",
    "root.right.left = TreeNode(4)\n",
    "root.right.left.left = TreeNode(8)\n",
    "Solution().findLeaves(root)"
   ],
   "metadata": {
    "collapsed": false,
    "pycharm": {
     "name": "#%%\n"
    }
   }
  },
  {
   "cell_type": "markdown",
   "metadata": {},
   "source": [
    "### BFS Adjacency List"
   ]
  },
  {
   "cell_type": "code",
   "execution_count": 10,
   "metadata": {
    "collapsed": false,
    "jupyter": {
     "outputs_hidden": false
    },
    "pycharm": {
     "name": "#%%\n"
    }
   },
   "outputs": [
    {
     "name": "stdout",
     "output_type": "stream",
     "text": [
      "Visiting vertices: \n",
      "A B F C D E \n",
      "Visited:  ['A', 'B', 'F', 'C', 'D', 'E']\n"
     ]
    }
   ],
   "source": [
    "# Source: https://www.educative.io/edpresso/how-to-implement-a-breadth-first-search-in-python\n",
    "# Time complexity: O(V + E)\n",
    "#                     A - C\n",
    "#                    / \\ /\n",
    "#                   B   F\n",
    "#                 / \\  /\n",
    "#                D   E\n",
    "\n",
    "# this is a directed graph\n",
    "my_graph = {\n",
    "  'A' : ['B','F', 'C'],\n",
    "  'B' : ['D', 'E'],\n",
    "  'C' : ['F'],\n",
    "  'D' : [],\n",
    "  'E' : ['F'],\n",
    "  'F' : []\n",
    "}\n",
    "from typing import List\n",
    "def bfs(visited: List[str], graph: dict, node: str):\n",
    "    visited.append(node)\n",
    "    queue.append(node)\n",
    "\n",
    "    print(\"Visiting vertices: \")\n",
    "    while queue:\n",
    "        # print(\"Queue: \", queue)\n",
    "        s = queue.pop(0)\n",
    "        print(s, end = \" \")\n",
    "        for neighbour in graph[s]:\n",
    "            if neighbour not in visited:\n",
    "                visited.append(neighbour)\n",
    "                queue.append(neighbour)\n",
    "\n",
    "# Driver Code\n",
    "visited = [] # List to keep track of visited nodes.\n",
    "queue = []\n",
    "bfs(visited, my_graph, 'A')\n",
    "print(\"\\nVisited: \", visited)\n"
   ]
  },
  {
   "cell_type": "markdown",
   "metadata": {
    "collapsed": false,
    "jupyter": {
     "outputs_hidden": false
    },
    "pycharm": {
     "name": "#%% md\n"
    }
   },
   "source": [
    "#### Pros and cons of matrix representation vs. adjacency list representation vs. objects and pointers to represent graphs\n",
    "Sources:\n",
    "* [https://www.section.io/engineering-education/graph-data-structure-python/](https://www.section.io/engineering-education/graph-data-structure-python/)\n",
    "* [https://www.geeksforgeeks.org/comparison-between-adjacency-list-and-adjacency-matrix-representation-of-graph/](https://www.geeksforgeeks.org/comparison-between-adjacency-list-and-adjacency-matrix-representation-of-graph/)\n",
    "* [https://www.bigocheatsheet.com](https://www.bigocheatsheet.com)\n",
    "\n",
    "Matrix representation (a.k.a adjacency matrix)\n",
    "\n",
    "```\n",
    "  A B C D E\n",
    "A 0 4 1 0 0\n",
    "B 0 0 2 1 0\n",
    "C 1 0 0 0 0\n",
    "D 3 0 0 0 0\n",
    "E 0 0 0 0 0\n",
    "```\n",
    "\n",
    "Adjacency List representation\n",
    "```\n",
    "A -> [(B, 4), (C, 1)]\n",
    "B -> [(C, 2), (D, 1)]\n",
    "C -> [(A, 1)]\n",
    "D -> [(A, 3)]\n",
    "```\n",
    "\n",
    "Note: In a complete graph where every vertex is connected, every entry in the matrix would have a value,\n",
    "so iterating over all of them takes $O(|E|) = O(|V|^2)$ time.\n",
    "\n",
    "##### Storage\n",
    "* Matrix representation requires $O(|V|^2)$ space since a VxV matrix is used to map connections. Wasted space for unused connections\n",
    "* Adjacency list requires $O(|V| + |E|)$ space since a O(|E|) is required for storing neighbors corresponding to each vertex\n",
    "* Objects and pointers requires $O(|V| + |E|)$ space\n",
    "\n",
    "##### Adding a vertex\n",
    "* Matrix representation requires the storage be increased to $O((|V|+1)^2)$. To do this we need to copy the whole matrix\n",
    "* Adjacency list requires O(1) time on average. Hash table insertion requires O(n) time in the worst though if there are too many collisions.\n",
    "\n",
    "##### Removing an edge\n",
    "* Matrix representation takes O(1) time since we set matrix[i][j] = 0\n",
    "* Adjacency list representation requires potentially traversing over all edges in the worst case so it's O(|E|) time\n",
    "\n",
    "##### Querying edges\n",
    "* Matrix representation reqires O(1) time always.\n",
    "* Adjacency List requires $O(|V|)$ time since a vertex can have at most $O(|V|)$ neighbors, so we'd have to check every adjacency vertex."
   ]
  },
  {
   "cell_type": "code",
   "execution_count": null,
   "outputs": [],
   "source": [],
   "metadata": {
    "collapsed": false,
    "pycharm": {
     "name": "#%%\n"
    }
   }
  }
 ],
 "metadata": {
  "kernelspec": {
   "display_name": "Python 3 (ipykernel)",
   "language": "python",
   "name": "python3"
  },
  "language_info": {
   "codemirror_mode": {
    "name": "ipython",
    "version": 3
   },
   "file_extension": ".py",
   "mimetype": "text/x-python",
   "name": "python",
   "nbconvert_exporter": "python",
   "pygments_lexer": "ipython3",
   "version": "3.8.7"
  }
 },
 "nbformat": 4,
 "nbformat_minor": 4
}