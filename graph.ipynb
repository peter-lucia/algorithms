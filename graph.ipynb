{
 "cells": [
  {
   "cell_type": "markdown",
   "metadata": {
    "pycharm": {
     "name": "#%% md\n"
    }
   },
   "source": [
    "# Graph Algorithms"
   ]
  },
  {
   "cell_type": "code",
   "execution_count": 3,
   "metadata": {
    "collapsed": false,
    "jupyter": {
     "outputs_hidden": false
    },
    "pycharm": {
     "name": "#%%\n"
    }
   },
   "outputs": [],
   "source": [
    "import collections\n",
    "from typing import List\n"
   ]
  },
  {
   "cell_type": "markdown",
   "metadata": {
    "pycharm": {
     "name": "#%% md\n"
    }
   },
   "source": [
    "### DFS\n",
    "* Retains the path in class variable\n",
    "\n",
    "\n",
    "```\n",
    "        1\n",
    "      /   \\\n",
    "     2     3\n",
    "    / \\\n",
    "   4   5\n",
    "```"
   ]
  },
  {
   "cell_type": "code",
   "execution_count": 1,
   "metadata": {
    "collapsed": false,
    "jupyter": {
     "outputs_hidden": false
    },
    "pycharm": {
     "name": "#%%\n"
    }
   },
   "outputs": [
    {
     "name": "stdout",
     "output_type": "stream",
     "text": [
      "Found 1\n",
      "Found 2\n",
      "Found 4\n",
      "Found 5\n",
      "Found 3\n"
     ]
    }
   ],
   "source": [
    "\n",
    "#### Definition for a binary tree node\n",
    "class TreeNode:\n",
    "    def __init__(self, val=0, left=None, right=None):\n",
    "        self.val = val\n",
    "        self.left = left\n",
    "        self.right = right\n",
    "\n",
    "class DFS:\n",
    "    def __init__(self):\n",
    "        self.explored = []\n",
    "\n",
    "    def dfs_traversal(self, root):\n",
    "        if root is None:\n",
    "            return []\n",
    "        else:\n",
    "            self.explored.append(root.val)  # pre-order traversal\n",
    "            print(f\"Found {root.val}\")\n",
    "            self.dfs_traversal(root.left)\n",
    "            self.dfs_traversal(root.right)\n",
    "\n",
    "\n",
    "#                 1\n",
    "#               /    \\\n",
    "#              2      3\n",
    "#            /  \\\n",
    "#           4    5\n",
    "\n",
    "d = TreeNode(val=5)\n",
    "c = TreeNode(val=4)\n",
    "b = TreeNode(val=3)\n",
    "a = TreeNode(val=2, left=c, right=d)\n",
    "root = TreeNode(val=1, left=a, right=b)\n",
    "dfs = DFS()\n",
    "dfs.dfs_traversal(root)"
   ]
  },
  {
   "cell_type": "markdown",
   "metadata": {
    "pycharm": {
     "name": "#%% md\n"
    }
   },
   "source": [
    "#### DFS for a binary tree\n",
    "* Retains path as parameter"
   ]
  },
  {
   "cell_type": "code",
   "execution_count": 5,
   "metadata": {
    "collapsed": false,
    "jupyter": {
     "outputs_hidden": false
    },
    "pycharm": {
     "name": "#%%\n"
    }
   },
   "outputs": [
    {
     "name": "stdout",
     "output_type": "stream",
     "text": [
      "Found 1\n",
      "Found 2\n",
      "Found 4\n",
      "Found 5\n",
      "Found 3\n",
      "[1, 2, 4, 5, 3]\n"
     ]
    }
   ],
   "source": [
    "def dfs_traversal(root, explored):\n",
    "    if root is None:\n",
    "        return []\n",
    "    else:\n",
    "        explored.append(root.val)\n",
    "        print(f\"Found {root.val}\")\n",
    "        dfs_traversal(root.left, explored)\n",
    "        dfs_traversal(root.right, explored)\n",
    "\n",
    "d = TreeNode(val=5)\n",
    "c = TreeNode(val=4)\n",
    "b = TreeNode(val=3)\n",
    "a = TreeNode(val=2, left=c, right=d)\n",
    "root = TreeNode(val=1, left=a, right=b)\n",
    "dfs = DFS()\n",
    "explored = []\n",
    "dfs_traversal(root, explored)\n",
    "print(explored)"
   ]
  },
  {
   "cell_type": "markdown",
   "metadata": {
    "pycharm": {
     "name": "#%% md\n"
    },
    "tags": []
   },
   "source": [
    "#### DFS for Adjacency List\n",
    "* Only retains path by printing it\n",
    "\n",
    "```\n",
    "            A\n",
    "          /   \\\n",
    "         B     C\n",
    "       /  \\   /\n",
    "      D   E  F\n",
    "```"
   ]
  },
  {
   "cell_type": "code",
   "execution_count": 6,
   "metadata": {
    "collapsed": false,
    "jupyter": {
     "outputs_hidden": false
    },
    "pycharm": {
     "name": "#%%\n"
    }
   },
   "outputs": [
    {
     "name": "stdout",
     "output_type": "stream",
     "text": [
      "A\n",
      "B\n",
      "D\n",
      "E\n",
      "C\n",
      "F\n"
     ]
    }
   ],
   "source": [
    "# https://www.educative.io/edpresso/how-to-implement-depth-first-search-in-python\n",
    "# Using a Python dictionary to act as an adjacency list\n",
    "# Time complexity: O(V + E)\n",
    "graph = {\n",
    "    'A' : ['B','C'],\n",
    "    'B' : ['D', 'E'],\n",
    "    'C' : ['F'],\n",
    "    'D' : [],\n",
    "    'E' : [],\n",
    "    'F' : []\n",
    "}\n",
    "\n",
    "\n",
    "def dfs(visited, graph, node):\n",
    "    if node not in visited:\n",
    "        print(node)\n",
    "        visited.add(node)\n",
    "        for neighbor in graph[node]:\n",
    "            dfs(visited, graph, neighbor)\n",
    "\n",
    "visited = set() # Set to keep track of visited nodes.\n",
    "# Driver Code\n",
    "dfs(visited, graph, 'A')"
   ]
  },
  {
   "cell_type": "markdown",
   "metadata": {},
   "source": [
    "#### DFS for Adjacency List\n",
    "* Retains the path via the visited array"
   ]
  },
  {
   "cell_type": "code",
   "execution_count": 7,
   "metadata": {
    "collapsed": false,
    "jupyter": {
     "outputs_hidden": false
    },
    "pycharm": {
     "name": "#%%\n"
    }
   },
   "outputs": [
    {
     "name": "stdout",
     "output_type": "stream",
     "text": [
      "['A', 'B', 'D', 'E', 'C', 'F']\n"
     ]
    }
   ],
   "source": [
    "def dfs(visited, graph, node):\n",
    "    if node not in visited:\n",
    "        visited.append(node)\n",
    "        for neighbor in graph[node]:\n",
    "            dfs(visited, graph, neighbor)\n",
    "\n",
    "# Driver Code\n",
    "visited = [] # List to keep track of visited nodes.\n",
    "dfs(visited, graph, 'A')\n",
    "print(visited)"
   ]
  },
  {
   "cell_type": "markdown",
   "metadata": {
    "pycharm": {
     "name": "#%% md\n"
    }
   },
   "source": [
    "#### Find and remove leaves in a binary tree (DFS application)"
   ]
  },
  {
   "cell_type": "markdown",
   "metadata": {},
   "source": [
    "```\n",
    "                      20                       20               20        20\n",
    "                    /    \\                   /    \\           /\n",
    "                  8       22               8       22       8\n",
    "                /   \\    /   \\              \\\n",
    "              5      3  4    25               3\n",
    "                    / \\\n",
    "                  10    14\n",
    "\n",
    "```\n",
    "\n",
    "Levels of leaf nodes.\n",
    "\n",
    "The higher level is found after removing lower level leaves\n",
    "* level 0 nodes: 5, 10, 14, 4, 25\n",
    "* level 1 nodes: 3, 22\n",
    "* level 2 nodes: 8\n",
    "* level 3 nodes: 20"
   ]
  },
  {
   "cell_type": "code",
   "execution_count": 15,
   "metadata": {
    "collapsed": false,
    "jupyter": {
     "outputs_hidden": false
    },
    "pycharm": {
     "name": "#%%\n"
    }
   },
   "outputs": [],
   "source": [
    "class TreeNode:\n",
    "    def __init__(self, key):\n",
    "        self.val = key\n",
    "        self.left = None\n",
    "        self.right = None\n",
    "\n",
    "root = TreeNode(20)\n",
    "root.left = TreeNode(8)\n",
    "root.right = TreeNode(22)\n",
    "root.left.left = TreeNode(5)\n",
    "root.left.right = TreeNode(3)\n",
    "root.right.left = TreeNode(4)\n",
    "root.right.right = TreeNode(25)\n",
    "root.left.right.left = TreeNode(10)\n",
    "root.left.right.right = TreeNode(14)"
   ]
  },
  {
   "cell_type": "code",
   "execution_count": 9,
   "metadata": {
    "collapsed": false,
    "jupyter": {
     "outputs_hidden": false
    },
    "pycharm": {
     "name": "#%%\n"
    }
   },
   "outputs": [
    {
     "name": "stdout",
     "output_type": "stream",
     "text": [
      "defaultdict(<class 'list'>, {0: [2, 8], 1: [4], 2: [22], 3: [20]})\n"
     ]
    },
    {
     "data": {
      "text/plain": "dict_values([[2, 8], [4], [22], [20]])"
     },
     "execution_count": 9,
     "metadata": {},
     "output_type": "execute_result"
    }
   ],
   "source": [
    "class Solution:\n",
    "    def findLeaves(self, root: TreeNode) -> List[List[int]]:\n",
    "        \"\"\"\n",
    "            Example:\n",
    "                      20                       20               20        20\n",
    "                    /    \\                   /    \\           /\n",
    "                  8       22               8       22       8\n",
    "                /   \\    /   \\              \\\n",
    "              5      3  4    25               3\n",
    "                    / \\\n",
    "                  10    14\n",
    "\n",
    "        - level 0 nodes: 5, 10, 14, 4, 25\n",
    "        - level 1 nodes: 3, 22\n",
    "        - level 2 nodes: 8\n",
    "        - level 3 nodes: 20\n",
    "        Output:\n",
    "        {\n",
    "            0: [5, 10, 14, 4, 25],\n",
    "            1: [3, 22],\n",
    "            2: [8],\n",
    "            3: [20]\n",
    "        }\n",
    "        \"\"\"\n",
    "        lookup = collections.defaultdict(list)\n",
    "\n",
    "        def dfs(node: TreeNode, level: int):\n",
    "            \"\"\"\n",
    "            Gets the maximum depth from the left and right subtrees\n",
    "            of a given node\n",
    "            \"\"\"\n",
    "            if not node:\n",
    "                return level\n",
    "            max_left_level = dfs(node.left, level)\n",
    "            max_right_level = dfs(node.right, level)\n",
    "            level = max(max_left_level, max_right_level)\n",
    "            lookup[level].append(node.val)\n",
    "            return level + 1\n",
    "        dfs(root, 0)\n",
    "        print(lookup)\n",
    "        # lookup.values() for defaultdict returns\n",
    "        # a list of lists for all values\n",
    "        return lookup.values()\n",
    "\n",
    "Solution().findLeaves(root)"
   ]
  },
  {
   "cell_type": "code",
   "execution_count": 10,
   "outputs": [
    {
     "name": "stdout",
     "output_type": "stream",
     "text": [
      "defaultdict(<class 'list'>, {0: [2, 8], 1: [4], 2: [22], 3: [20]})\n"
     ]
    },
    {
     "data": {
      "text/plain": "dict_values([[2, 8], [4], [22], [20]])"
     },
     "execution_count": 10,
     "metadata": {},
     "output_type": "execute_result"
    }
   ],
   "source": [
    "root = TreeNode(20)\n",
    "root.left = TreeNode(2)\n",
    "root.right = TreeNode(22)\n",
    "root.right.left = TreeNode(4)\n",
    "root.right.left.left = TreeNode(8)\n",
    "Solution().findLeaves(root)"
   ],
   "metadata": {
    "collapsed": false,
    "pycharm": {
     "name": "#%%\n"
    }
   }
  },
  {
   "cell_type": "markdown",
   "source": [
    "### 690. Employee Importance (DFS)\n",
    "[https://leetcode.com/problems/employee-importance/](https://leetcode.com/problems/employee-importance/)\n"
   ],
   "metadata": {
    "collapsed": false,
    "pycharm": {
     "name": "#%% md\n"
    }
   }
  },
  {
   "cell_type": "code",
   "execution_count": 28,
   "outputs": [],
   "source": [
    "\n",
    "# Definition for Employee.\n",
    "class Employee:\n",
    "    def __init__(self, id: int, importance: int, subordinates: List[int]):\n",
    "        self.id = id\n",
    "        self.importance = importance\n",
    "        self.subordinates = subordinates\n",
    "\n",
    "\n",
    "class Solution:\n",
    "    def getImportance(self, employees: List['Employee'], id: int) -> int:\n",
    "        \"\"\"\n",
    "        Time complexity: O(n) where n is the number of employees\n",
    "        Space Complexity: O(n) to hold all employees in the hashmap\n",
    "\n",
    "        Approach: DFS\n",
    "        1. Find the employee id\n",
    "        2. Run DFS on the employee id, summing total importance along the way\n",
    "        \"\"\"\n",
    "\n",
    "        employees_map = {}\n",
    "\n",
    "        for emp in employees:\n",
    "            employees_map[emp.id] = emp\n",
    "\n",
    "        desired_employee = employees_map[id]\n",
    "\n",
    "        def dfs(employee: Employee, total: int):\n",
    "\n",
    "            if not employee:\n",
    "                return 0\n",
    "\n",
    "            result = total + employee.importance\n",
    "\n",
    "            for sub_id in employee.subordinates:\n",
    "                result += dfs(employees_map[sub_id], total)\n",
    "\n",
    "            return result\n",
    "\n",
    "\n",
    "        return dfs(desired_employee, 0)\n",
    "\n",
    "employees = [Employee(1, 5, [2,3]), Employee(2, 3, []), Employee(3, 3, [])]\n",
    "assert Solution().getImportance(employees, 1) == 11"
   ],
   "metadata": {
    "collapsed": false,
    "pycharm": {
     "name": "#%%\n"
    }
   }
  },
  {
   "cell_type": "markdown",
   "source": [
    "### 547. Number of Provinces\n",
    "\n"
   ],
   "metadata": {
    "collapsed": false,
    "pycharm": {
     "name": "#%% md\n"
    }
   }
  },
  {
   "cell_type": "code",
   "execution_count": 31,
   "outputs": [],
   "source": [
    "class Solution:\n",
    "    def findCircleNum(self, isConnected: List[List[int]]) -> int:\n",
    "\n",
    "        # Approach DFS\n",
    "        # Run DFS from each vertex if that vertex is not yet visited\n",
    "\n",
    "        num_vertices = len(isConnected)\n",
    "\n",
    "        def dfs(starting_vertex: int, adj_matrix: List[List[int]], visited: set):\n",
    "\n",
    "            visited.add(starting_vertex)\n",
    "\n",
    "            for i in range(len(adj_matrix)):\n",
    "                if i in visited:\n",
    "                    continue\n",
    "                if adj_matrix[starting_vertex][i] == 1:\n",
    "                    visited.add(i)\n",
    "                    dfs(i, adj_matrix, visited)\n",
    "\n",
    "\n",
    "        cc = 0\n",
    "        visited = set([])\n",
    "        for i in range(num_vertices):\n",
    "            if i not in visited:\n",
    "                dfs(i, isConnected, visited)\n",
    "                cc += 1\n",
    "        return cc\n",
    "circle = [\n",
    "    [1, 0, 0],\n",
    "    [0, 1, 0],\n",
    "    [0, 0, 1],\n",
    "]\n",
    "assert Solution().findCircleNum(circle) == 3\n",
    "circle = [\n",
    "    [1, 1, 0],\n",
    "    [1, 1, 0],\n",
    "    [0, 0, 1],\n",
    "]\n",
    "assert Solution().findCircleNum(circle) == 2\n"
   ],
   "metadata": {
    "collapsed": false,
    "pycharm": {
     "name": "#%%\n"
    }
   }
  },
  {
   "cell_type": "markdown",
   "metadata": {},
   "source": [
    "### BFS Adjacency List"
   ]
  },
  {
   "cell_type": "code",
   "execution_count": 10,
   "metadata": {
    "collapsed": false,
    "jupyter": {
     "outputs_hidden": false
    },
    "pycharm": {
     "name": "#%%\n"
    }
   },
   "outputs": [
    {
     "name": "stdout",
     "output_type": "stream",
     "text": [
      "Visiting vertices: \n",
      "A B F C D E \n",
      "Visited:  ['A', 'B', 'F', 'C', 'D', 'E']\n"
     ]
    }
   ],
   "source": [
    "# Source: https://www.educative.io/edpresso/how-to-implement-a-breadth-first-search-in-python\n",
    "# Time complexity: O(V + E)\n",
    "#                     A - C\n",
    "#                    / \\ /\n",
    "#                   B   F\n",
    "#                 / \\  /\n",
    "#                D   E\n",
    "\n",
    "# this is a directed graph\n",
    "my_graph = {\n",
    "  'A' : ['B','F', 'C'],\n",
    "  'B' : ['D', 'E'],\n",
    "  'C' : ['F'],\n",
    "  'D' : [],\n",
    "  'E' : ['F'],\n",
    "  'F' : []\n",
    "}\n",
    "from typing import List\n",
    "def bfs(visited: List[str], graph: dict, node: str):\n",
    "    visited.append(node)\n",
    "    queue.append(node)\n",
    "\n",
    "    print(\"Visiting vertices: \")\n",
    "    while queue:\n",
    "        # print(\"Queue: \", queue)\n",
    "        s = queue.pop(0)\n",
    "        print(s, end = \" \")\n",
    "        for neighbour in graph[s]:\n",
    "            if neighbour not in visited:\n",
    "                visited.append(neighbour)\n",
    "                queue.append(neighbour)\n",
    "\n",
    "# Driver Code\n",
    "visited = [] # List to keep track of visited nodes.\n",
    "queue = []\n",
    "bfs(visited, my_graph, 'A')\n",
    "print(\"\\nVisited: \", visited)\n"
   ]
  },
  {
   "cell_type": "markdown",
   "metadata": {
    "collapsed": false,
    "jupyter": {
     "outputs_hidden": false
    },
    "pycharm": {
     "name": "#%% md\n"
    }
   },
   "source": [
    "#### Pros and cons of matrix representation vs. adjacency list representation vs. objects and pointers to represent graphs\n",
    "Sources:\n",
    "* [https://www.section.io/engineering-education/graph-data-structure-python/](https://www.section.io/engineering-education/graph-data-structure-python/)\n",
    "* [https://www.geeksforgeeks.org/comparison-between-adjacency-list-and-adjacency-matrix-representation-of-graph/](https://www.geeksforgeeks.org/comparison-between-adjacency-list-and-adjacency-matrix-representation-of-graph/)\n",
    "* [https://www.bigocheatsheet.com](https://www.bigocheatsheet.com)\n",
    "\n",
    "Matrix representation (a.k.a adjacency matrix)\n",
    "\n",
    "```\n",
    "  A B C D E\n",
    "A 0 4 1 0 0\n",
    "B 0 0 2 1 0\n",
    "C 1 0 0 0 0\n",
    "D 3 0 0 0 0\n",
    "E 0 0 0 0 0\n",
    "```\n",
    "\n",
    "Adjacency List representation\n",
    "```\n",
    "A -> [(B, 4), (C, 1)]\n",
    "B -> [(C, 2), (D, 1)]\n",
    "C -> [(A, 1)]\n",
    "D -> [(A, 3)]\n",
    "```\n",
    "\n",
    "Note: In a complete graph where every vertex is connected, every entry in the matrix would have a value,\n",
    "so iterating over all of them takes $O(|E|) = O(|V|^2)$ time.\n",
    "\n",
    "##### Storage\n",
    "* Matrix representation requires $O(|V|^2)$ space since a VxV matrix is used to map connections. Wasted space for unused connections\n",
    "* Adjacency list requires $O(|V| + |E|)$ space since a O(|E|) is required for storing neighbors corresponding to each vertex\n",
    "* Objects and pointers requires $O(|V| + |E|)$ space\n",
    "\n",
    "##### Adding a vertex\n",
    "* Matrix representation requires the storage be increased to $O((|V|+1)^2)$. To do this we need to copy the whole matrix\n",
    "* Adjacency list requires O(1) time on average. Hash table insertion requires O(n) time in the worst though if there are too many collisions.\n",
    "\n",
    "##### Removing an edge\n",
    "* Matrix representation takes O(1) time since we set matrix[i][j] = 0\n",
    "* Adjacency list representation requires potentially traversing over all edges in the worst case so it's O(|E|) time\n",
    "\n",
    "##### Querying edges\n",
    "* Matrix representation reqires O(1) time always.\n",
    "* Adjacency List requires $O(|V|)$ time since a vertex can have at most $O(|V|)$ neighbors, so we'd have to check every adjacency vertex."
   ]
  },
  {
   "cell_type": "markdown",
   "source": [
    "#### Kruskal's Algorithm\n",
    "\n",
    "Kruskal's algorithm finds a minimum spanning forest of an undirected edge-weighted graph. If the graph is connected, it finds a minimum spanning tree."
   ],
   "metadata": {
    "collapsed": false,
    "pycharm": {
     "name": "#%% md\n"
    }
   }
  },
  {
   "cell_type": "markdown",
   "source": [
    "#### Dijkstra's Algorithm\n",
    "Time Complexity: $O((|V| + |E|)log(|V|))$\n",
    "\n",
    "Dijkstra's Algorithm finds the shortest path from a starting node to all other nodes of a graph\n",
    "* By default, all nodes are assumed to be inf distance away from the starting node, u\n",
    "* We then traverse in BFS fashion (by levels) from the starting node outward until we reach all nodes\n",
    "* When a new node v', is visited from v, we add dist(u,v) + dist(v, v')\n",
    "* If a node v' has already been visited from v,\n",
    "    we set dist(u, v') = min(dist(u,v'), dist(u,v) + dist(v, v')\n",
    "* We repeat until all nodes have been visited since this implies all edges have been traversed\n",
    "* Dijkstra's algorithm does not work with negative edges\n",
    "\n",
    "Sources:\n",
    "* [https://www.analyticssteps.com/blogs/dijkstras-algorithm-shortest-path-algorithm](https://www.analyticssteps.com/blogs/dijkstras-algorithm-shortest-path-algorithm)\n",
    "* [https://www.techiedelight.com/single-source-shortest-paths-dijkstras-algorithm/](https://www.techiedelight.com/single-source-shortest-paths-dijkstras-algorithm/)"
   ],
   "metadata": {
    "collapsed": false,
    "pycharm": {
     "name": "#%% md\n"
    }
   }
  },
  {
   "cell_type": "code",
   "execution_count": 13,
   "outputs": [
    {
     "name": "stdout",
     "output_type": "stream",
     "text": [
      "Path (0 —> 1): Minimum cost = 4, Route = [0, 4, 1]\n",
      "Path (0 —> 2): Minimum cost = 6, Route = [0, 4, 1, 2]\n",
      "Path (0 —> 3): Minimum cost = 5, Route = [0, 4, 3]\n",
      "Path (0 —> 4): Minimum cost = 3, Route = [0, 4]\n",
      "Path (1 —> 2): Minimum cost = 2, Route = [1, 2]\n",
      "Path (1 —> 3): Minimum cost = 6, Route = [1, 4, 3]\n",
      "Path (1 —> 4): Minimum cost = 4, Route = [1, 4]\n",
      "Path (2 —> 3): Minimum cost = 9, Route = [2, 3]\n",
      "Path (3 —> 2): Minimum cost = 7, Route = [3, 2]\n",
      "Path (4 —> 1): Minimum cost = 1, Route = [4, 1]\n",
      "Path (4 —> 2): Minimum cost = 3, Route = [4, 1, 2]\n",
      "Path (4 —> 3): Minimum cost = 2, Route = [4, 3]\n"
     ]
    }
   ],
   "source": [
    "from collections import defaultdict\n",
    "import sys\n",
    "from heapq import heappop, heappush\n",
    "\n",
    "# Stores the heap node\n",
    "class Node:\n",
    "    def __init__(self, vertex: int, weight: int = 0):\n",
    "        self.vertex = vertex\n",
    "        self.weight = weight\n",
    "\n",
    "    # Override the __lt__() function to make `Node` class work with a min-heap\n",
    "    def __lt__(self, other):\n",
    "        return self.weight < other.weight\n",
    "\n",
    "class Graph:\n",
    "    def __init__(self):\n",
    "        self.adjacency_list = defaultdict(list)\n",
    "\n",
    "    def add_edge(self, source: int, dest: int, weight: int):\n",
    "        if weight < 0:\n",
    "            raise ValueError(\"Dijkstra's algorithm does not handle negative weight edges.\")\n",
    "\n",
    "        self.adjacency_list[source].append((dest, weight))\n",
    "        if dest not in self.adjacency_list:\n",
    "            self.adjacency_list[dest] = []\n",
    "\n",
    "    def count_vertices(self):\n",
    "        return len(self.adjacency_list.keys())\n",
    "\n",
    "\n",
    "\n",
    "def get_route(prev, i, route):\n",
    "    if i >= 0:\n",
    "        get_route(prev, prev[i], route)\n",
    "        route.append(i)\n",
    "\n",
    "\n",
    "# Run Dijkstra’s algorithm on a given graph\n",
    "def find_shortest_paths(graph: Graph, source: int, n: int):\n",
    "\n",
    "    # create a min-heap and push source node having distance 0\n",
    "    pq = []\n",
    "    heappush(pq, Node(source))\n",
    "\n",
    "    # set initial distance from the source to `v` as infinity\n",
    "    dist = [sys.maxsize] * n\n",
    "\n",
    "    # distance from the source to itself is zero\n",
    "    dist[source] = 0\n",
    "\n",
    "    # list to track vertices for which minimum cost is already found\n",
    "    done = [False] * n\n",
    "    done[source] = True\n",
    "\n",
    "    # stores predecessor of a vertex (to a print path)\n",
    "    prev = [-1] * n\n",
    "\n",
    "    # run till min-heap is empty\n",
    "    while pq:\n",
    "\n",
    "        node = heappop(pq) # Remove and return the best vertex\n",
    "        u = node.vertex # get the vertex number\n",
    "\n",
    "        # do for each neighbor `v` of `u`\n",
    "        for (v, weight) in graph.adjacency_list[u]:\n",
    "            if not done[v] and (dist[u] + weight) < dist[v]:\n",
    "                dist[v] = dist[u] + weight\n",
    "                prev[v] = u\n",
    "                heappush(pq, Node(v, dist[v]))\n",
    "\n",
    "        # mark vertex u as done so it will not get picked up again\n",
    "        done[u] = True\n",
    "\n",
    "    route = []\n",
    "    for i in range(n):\n",
    "        if i != source and dist[i] != sys.maxsize:\n",
    "            get_route(prev, i, route)\n",
    "            print(f'Path ({source} —> {i}): Minimum cost = {dist[i]}, Route = {route}')\n",
    "            route.clear()\n",
    "\n",
    "\n",
    "if __name__ == '__main__':\n",
    "\n",
    "    # initialize edges as per the above diagram\n",
    "    # (u, v, w) represent edge from vertex u to vertex v having weight w\n",
    "    edges = [(0, 1, 10), (0, 4, 3), (1, 2, 2), (1, 4, 4), (2, 3, 9), (3, 2, 7),\n",
    "            (4, 1, 1), (4, 2, 8), (4, 3, 2)]\n",
    "\n",
    "    #      1 - 2\n",
    "    #     / \\ / \\\n",
    "    #    0 - 4 - 3\n",
    "    #\n",
    "    # total number of nodes in the graph (labelled from 0 to 4)\n",
    "\n",
    "    # construct graph\n",
    "    graph = Graph()\n",
    "    for (source, dest, weight) in edges:\n",
    "        graph.add_edge(source, dest, weight)\n",
    "\n",
    "    n = graph.count_vertices()\n",
    "\n",
    "    # run the Dijkstra’s algorithm from every node\n",
    "    for source in range(n):\n",
    "        find_shortest_paths(graph, source, n)"
   ],
   "metadata": {
    "collapsed": false,
    "pycharm": {
     "name": "#%%\n"
    }
   }
  },
  {
   "cell_type": "code",
   "execution_count": 8,
   "outputs": [],
   "source": [
    "from typing import List\n",
    "from heapq import heappush, heappop\n",
    "from collections import defaultdict\n",
    "class Solution:\n",
    "    def dijkstrasAlgorithm(self, grid: List[List[int]]) -> int:\n",
    "        # dijkstra's algorithm to find shortest path between top left position in grid to bottom right...\n",
    "\n",
    "        pq = []\n",
    "        heappush(pq, (0,0))\n",
    "\n",
    "        dist = defaultdict(int)  # tracks shortest distance from source to vertex 'v'\n",
    "        prev = defaultdict(int)  # tracks parent of 'v' in shortest path from source\n",
    "        done = defaultdict(int)  # tracks vertices for which cost is already found\n",
    "        n = len(grid)\n",
    "        m = len(grid[0])\n",
    "        for i in range(n):\n",
    "            for j in range(m):\n",
    "                # set initial distance from source to 'v' as infinity\n",
    "                dist[(i,j)] = sys.maxsize\n",
    "                # initialize predecessor of each vertex as nonexistent\n",
    "                prev[(i,j)] = (-1, -1)\n",
    "                done[(i,j)] = False\n",
    "\n",
    "        # set initial distance from source to itself as 0\n",
    "        dist[(0,0)] = 0\n",
    "        done[(0,0)] = True\n",
    "        WEIGHT = 1  # same for all edges\n",
    "        while pq:\n",
    "            ii, jj = heappop(pq)\n",
    "\n",
    "            # for each neighbor\n",
    "            for (iii, jjj) in [(ii-1, jj), (ii+1, jj), (ii, jj-1), (ii, jj+1)]:\n",
    "                if iii < 0 or jjj < 0 or iii >= n or jjj >= m:\n",
    "                    continue\n",
    "\n",
    "                if grid[iii][jjj] == 1:\n",
    "                    continue\n",
    "\n",
    "                if not done[(iii, jjj)] and (dist[(ii, jj)] + WEIGHT) < dist[(iii, jjj)]:\n",
    "                    dist[(iii, jjj)] = dist[(ii, jj)] + WEIGHT\n",
    "                    prev[(iii, jjj)] = (ii, jj)\n",
    "                    heappush(pq, (iii, jjj))\n",
    "            done[(ii, jj)] = True\n",
    "\n",
    "        if dist[(n-1, m-1)] == sys.maxsize:\n",
    "            return -1\n",
    "        return dist[(n-1, m-1)]\n",
    "grid = [\n",
    "    [0,0,0],\n",
    "    [1,1,0],\n",
    "    [0,0,0],\n",
    "    [0,1,1],\n",
    "    [0,0,0]\n",
    "]\n",
    "assert Solution().dijkstrasAlgorithm(grid) == 10\n"
   ],
   "metadata": {
    "collapsed": false,
    "pycharm": {
     "name": "#%%\n"
    }
   }
  },
  {
   "cell_type": "code",
   "execution_count": 14,
   "outputs": [
    {
     "name": "stdout",
     "output_type": "stream",
     "text": [
      "Shortest path =  (0, 0) (0, 1) (0, 2) (1, 2) (2, 2) (2, 1) (2, 0) (3, 0) (4, 0) (4, 1) (4, 2)\n"
     ]
    }
   ],
   "source": [
    "from typing import Union\n",
    "class Solution:\n",
    "    def bfs(self, grid: List[List[int]], k: int) -> Union[List, int]:\n",
    "        # dijkstra's algorithm...\n",
    "        n = len(grid)\n",
    "        m = len(grid[0])\n",
    "        visited = []\n",
    "        queue = []\n",
    "        queue.append([(0,0)])\n",
    "        while queue:\n",
    "            path = heappop(queue)\n",
    "            ii, jj = path[-1]\n",
    "\n",
    "            if (ii, jj) in visited:\n",
    "                continue\n",
    "\n",
    "            # visit each neighbor\n",
    "            for (iii, jjj) in [(ii-1, jj), (ii+1, jj), (ii, jj-1), (ii, jj+1)]:\n",
    "                if iii < 0 or jjj < 0 or iii >= n or jjj >= m:\n",
    "                    continue\n",
    "\n",
    "                if grid[iii][jjj] == 1:\n",
    "                    continue\n",
    "\n",
    "                new_path = list(path)\n",
    "                new_path.append((iii, jjj))\n",
    "                queue.append(new_path)\n",
    "\n",
    "                if (iii, jjj) == (n-1, m-1):\n",
    "                    print(\"Shortest path = \", *new_path)\n",
    "                    return len(new_path) - 1\n",
    "\n",
    "\n",
    "            visited.append((ii, jj))\n",
    "\n",
    "        return -1\n",
    "\n",
    "grid = [\n",
    "    [0,0,0],\n",
    "    [1,1,0],\n",
    "    [0,0,0],\n",
    "    [0,1,1],\n",
    "    [0,0,0]\n",
    "]\n",
    "assert Solution().bfs(grid, 10) == 10"
   ],
   "metadata": {
    "collapsed": false,
    "pycharm": {
     "name": "#%%\n"
    }
   }
  },
  {
   "cell_type": "code",
   "execution_count": null,
   "outputs": [],
   "source": [
    "# TODO: https://leetcode.com/problems/shortest-path-in-a-grid-with-obstacles-elimination/solution/"
   ],
   "metadata": {
    "collapsed": false,
    "pycharm": {
     "name": "#%%\n"
    }
   }
  },
  {
   "cell_type": "markdown",
   "source": [
    "#### Number of islands\n",
    "\n",
    "https://leetcode.com/problems/number-of-islands/discuss/56340/Python-Simple-DFS-Solution\n",
    "\n",
    "Given an m x n 2D binary grid grid which represents a map of '1's (land) and '0's (water), return the number of islands.\n",
    "\n",
    "An island is surrounded by water and is formed by connecting adjacent lands horizontally or vertically. You may assume all four edges of the grid are all surrounded by water."
   ],
   "metadata": {
    "collapsed": false,
    "pycharm": {
     "name": "#%% md\n"
    }
   }
  },
  {
   "cell_type": "code",
   "execution_count": 15,
   "outputs": [],
   "source": [
    "from typing import List\n",
    "class Solution:\n",
    "    def numIslands(self, grid: List[List[str]]) -> int:\n",
    "        # DFS\n",
    "        if not grid:\n",
    "            return 0\n",
    "\n",
    "        n = len(grid)\n",
    "        m = len(grid[0])\n",
    "\n",
    "        def dfs(grid: List[List[str]], i, j, visited: List[List[int]]):\n",
    "\n",
    "            if i < 0 or j < 0 or i >= n or j >= m or grid[i][j] != '1' or visited[i][j]:\n",
    "                return\n",
    "\n",
    "            visited[i][j] = True\n",
    "\n",
    "            dfs(grid, i+1, j, visited)\n",
    "            dfs(grid, i-1, j, visited)\n",
    "            dfs(grid, i, j-1, visited)\n",
    "            dfs(grid, i, j+1, visited)\n",
    "\n",
    "        num_islands = 0\n",
    "        visited = [[False for _ in range(m)] for _ in range(n)]\n",
    "        for i in range(n):\n",
    "            for j in range(m):\n",
    "                if not visited[i][j] and grid[i][j] == '1':\n",
    "                    dfs(grid, i, j, visited)\n",
    "                    num_islands += 1\n",
    "        return num_islands\n",
    "\n",
    "grid = [\n",
    "  [\"1\",\"1\",\"1\",\"1\",\"0\"],\n",
    "  [\"1\",\"1\",\"0\",\"1\",\"0\"],\n",
    "  [\"1\",\"1\",\"0\",\"0\",\"0\"],\n",
    "  [\"0\",\"0\",\"0\",\"0\",\"0\"]\n",
    "]\n",
    "assert Solution().numIslands(grid) == 1\n",
    "grid = [\n",
    "  [\"1\",\"1\",\"0\",\"0\",\"0\"],\n",
    "  [\"1\",\"1\",\"0\",\"0\",\"0\"],\n",
    "  [\"0\",\"0\",\"1\",\"0\",\"0\"],\n",
    "  [\"0\",\"0\",\"0\",\"1\",\"1\"]\n",
    "]\n",
    "assert Solution().numIslands(grid) == 3"
   ],
   "metadata": {
    "collapsed": false,
    "pycharm": {
     "name": "#%%\n"
    }
   }
  },
  {
   "cell_type": "markdown",
   "source": [
    "### 1293. Shortest Path in a Grid with Obstacles Elimination\n",
    "https://leetcode.com/problems/shortest-path-in-a-grid-with-obstacles-elimination/"
   ],
   "metadata": {
    "collapsed": false,
    "pycharm": {
     "name": "#%% md\n"
    }
   }
  },
  {
   "cell_type": "code",
   "execution_count": 20,
   "outputs": [
    {
     "name": "stdout",
     "output_type": "stream",
     "text": [
      "Shortest path (x,y,k) =  (0, 0, 1) (1, 0, 0) (2, 0, 0) (3, 0, 0) (4, 0, 0) (4, 1, 0) (4, 2, 0)\n"
     ]
    },
    {
     "data": {
      "text/plain": "6"
     },
     "execution_count": 20,
     "metadata": {},
     "output_type": "execute_result"
    }
   ],
   "source": [
    "\n",
    "\n",
    "class Solution:\n",
    "    def shortestPath(self, grid: List[List[int]], k: int) -> int:\n",
    "        # This is modified BFS\n",
    "        # Time complexity: O(nk) since each cell could be visited up to k times\n",
    "        # Space complexity: O(nk) since the queue could potentially house all cells in the grid\n",
    "        # with every possible value of k\n",
    "        n = len(grid)\n",
    "        m = len(grid[0])\n",
    "        num_steps_to_bottom_edge = n - 1\n",
    "        num_steps_to_right_edge = m - 1\n",
    "        manhattan_dist = num_steps_to_bottom_edge + num_steps_to_right_edge\n",
    "        if manhattan_dist <= k:\n",
    "            return manhattan_dist\n",
    "        queue = []\n",
    "        state = (0,0,k)\n",
    "        queue.append([state])\n",
    "        visited = set(state)\n",
    "        while queue:\n",
    "            path = queue.pop(0)\n",
    "            ii, jj, k = path[-1]\n",
    "\n",
    "            if (ii, jj) == (n-1, m-1):\n",
    "                # with BFS, whichever path gets here first wins\n",
    "                print(\"Shortest path (x,y,k) = \", *path)\n",
    "                return len(path) - 1\n",
    "\n",
    "            # visit each neighbor\n",
    "            for (iii, jjj) in [(ii-1, jj), (ii+1, jj), (ii, jj-1), (ii, jj+1)]:\n",
    "                if iii < 0 or jjj < 0 or iii >= n or jjj >= m:\n",
    "                    continue\n",
    "\n",
    "                new_eliminations = k\n",
    "\n",
    "                if grid[iii][jjj] == 1:\n",
    "                    if k > 0:\n",
    "                        new_eliminations = k - 1\n",
    "                    else:\n",
    "                        continue\n",
    "\n",
    "                new_state = (iii, jjj, new_eliminations)\n",
    "                new_path = list(path)\n",
    "\n",
    "                if new_state in visited:\n",
    "                    continue\n",
    "\n",
    "                visited.add(new_state)\n",
    "                new_path.append(new_state)\n",
    "                queue.append(new_path)\n",
    "\n",
    "            visited.add((ii, jj, k))\n",
    "\n",
    "        return -1\n",
    "\n",
    "# 0 0 0\n",
    "# 1 1 0\n",
    "# 0 0 0\n",
    "# 0 1 1\n",
    "# 0 0 0\n",
    "\n",
    "# k = 1\n",
    "\n",
    "# fastest route is to go down from top left and then right at the last row.\n",
    "# this is equivalent to going right at the top row and then down on the last column\n",
    "Solution().shortestPath(grid = [[0,0,0],[1,1,0],[0,0,0],[0,1,1],[0,0,0]], k = 1)"
   ],
   "metadata": {
    "collapsed": false,
    "pycharm": {
     "name": "#%%\n"
    }
   }
  },
  {
   "cell_type": "markdown",
   "source": [
    "### Kruskal's Minimum Spanning Tree Algorithm\n",
    "Source: [https://www.geeksforgeeks.org/kruskals-minimum-spanning-tree-algorithm-greedy-algo-2/](https://www.geeksforgeeks.org/kruskals-minimum-spanning-tree-algorithm-greedy-algo-2/)\n",
    "\n",
    "[Kruskal's MST algorithm on wikipedia](https://en.wikipedia.org/wiki/Kruskal%27s_algorithm)\n",
    "1. Sort the edges of the graph by weight, increasing from lowest to highest\n",
    "2. Select the lowest edge available that does not form a cycle\n",
    "3. Repeat step 2 until all edges have been checked.\n",
    "\n",
    "Time complexity: $O(|E|log(|V|))$"
   ],
   "metadata": {
    "collapsed": false,
    "pycharm": {
     "name": "#%% md\n"
    }
   }
  },
  {
   "cell_type": "code",
   "execution_count": 25,
   "outputs": [
    {
     "name": "stdout",
     "output_type": "stream",
     "text": [
      "Edges in the constructed MST\n",
      "2 -- 3 == 4\n",
      "0 -- 3 == 5\n",
      "0 -- 1 == 10\n",
      "Minimum Spanning Tree 19\n"
     ]
    }
   ],
   "source": [
    "# Python program for Kruskal's algorithm to find\n",
    "# Minimum Spanning Tree of a given connected,\n",
    "# undirected and weighted graph\n",
    "\n",
    "from collections import defaultdict\n",
    "\n",
    "# Class to represent a graph\n",
    "\n",
    "class Graph:\n",
    "\n",
    "    def __init__(self, vertices):\n",
    "        self.V = vertices  # No. of vertices\n",
    "        self.graph = []  # default dictionary\n",
    "        # to store graph\n",
    "\n",
    "    # function to add an edge to graph\n",
    "    def add_edge(self, u, v, w):\n",
    "        self.graph.append([u, v, w])\n",
    "\n",
    "    # A utility function to find set of an element i\n",
    "    # (uses path compression technique)\n",
    "    def find(self, parent, i):\n",
    "        if parent[i] == i:\n",
    "            return i\n",
    "        return self.find(parent, parent[i])\n",
    "\n",
    "    # A function that does union of two sets of x and y\n",
    "    # (uses union by rank) Usually let rank = height of tree\n",
    "    # since we want the root of the taller tree to be chosen as root\n",
    "    def union(self, parent, rank, x, y):\n",
    "        xroot = self.find(parent, x)\n",
    "        yroot = self.find(parent, y)\n",
    "\n",
    "        # Attach smaller rank tree under root of\n",
    "        # high rank tree (Union by Rank)\n",
    "        if rank[xroot] < rank[yroot]:\n",
    "            parent[xroot] = yroot\n",
    "        elif rank[xroot] > rank[yroot]:\n",
    "            parent[yroot] = xroot\n",
    "\n",
    "        # If ranks are same, then make one as root\n",
    "        # and increment its rank by one\n",
    "        else:\n",
    "            parent[yroot] = xroot\n",
    "            rank[xroot] += 1\n",
    "\n",
    "    # The main function to construct MST using Kruskal's\n",
    "        # algorithm\n",
    "    def KruskalMST(self):\n",
    "\n",
    "        result = []  # This will store the resultant MST\n",
    "\n",
    "        # An index variable, used for sorted edges\n",
    "        i = 0\n",
    "\n",
    "        # An index variable, used for result[]\n",
    "        e = 0\n",
    "\n",
    "        # Step 1:  Sort all the edges in\n",
    "        # non-decreasing order of their\n",
    "        # weight.  If we are not allowed to change the\n",
    "        # given graph, we can create a copy of graph\n",
    "        self.graph = sorted(self.graph,\n",
    "                            key=lambda item: item[2])\n",
    "\n",
    "        parent = []\n",
    "        rank = []\n",
    "\n",
    "        # Create V subsets with single elements\n",
    "        for node in range(self.V):\n",
    "            parent.append(node)\n",
    "            rank.append(0)\n",
    "\n",
    "        # Number of edges to be taken is equal to V-1\n",
    "        while e < self.V - 1:\n",
    "\n",
    "            # Step 2: Pick the smallest edge and increment\n",
    "            # the index for next iteration\n",
    "            u, v, w = self.graph[i]\n",
    "            i = i + 1\n",
    "            x = self.find(parent, u)\n",
    "            y = self.find(parent, v)\n",
    "\n",
    "            # If including this edge does't\n",
    "            #  cause cycle, include it in result\n",
    "            #  and increment the indexof result\n",
    "            # for next edge\n",
    "            if x != y:\n",
    "                e = e + 1\n",
    "                result.append([u, v, w])\n",
    "                self.union(parent, rank, x, y)\n",
    "            # Else discard the edge\n",
    "\n",
    "        minimumCost = 0\n",
    "        print (\"Edges in the constructed MST\")\n",
    "        for u, v, weight in result:\n",
    "            minimumCost += weight\n",
    "            print(\"%d -- %d == %d\" % (u, v, weight))\n",
    "        print(\"Minimum Spanning Tree\" , minimumCost)\n",
    "\n",
    "# Driver code\n",
    "g = Graph(4)\n",
    "g.addEdge(0, 1, 10)\n",
    "g.addEdge(0, 2, 6)\n",
    "g.addEdge(0, 3, 5)\n",
    "g.addEdge(1, 3, 15)\n",
    "g.addEdge(2, 3, 4)\n",
    "\n",
    "# Function call\n",
    "g.KruskalMST()\n"
   ],
   "metadata": {
    "collapsed": false,
    "pycharm": {
     "name": "#%%\n"
    }
   }
  },
  {
   "cell_type": "markdown",
   "source": [
    "### Prim's Minimum Spanning Tree Algorithm\n",
    "\n",
    "Source: [https://www.geeksforgeeks.org/prims-minimum-spanning-tree-mst-greedy-algo-5/](https://www.geeksforgeeks.org/prims-minimum-spanning-tree-mst-greedy-algo-5/)\n",
    "[Prim's algorithm from Wikipedia](https://en.wikipedia.org/wiki/Prim%27s_algorithm)\n",
    "Prim's algorithm (also known as Jarník's algorithm) is a greedy algorithm that finds a minimum spanning tree for a weighted undirected graph. This means it finds a subset of the edges that forms a tree that includes every vertex, where the total weight of all the edges in the tree is minimized. The algorithm operates by building this tree one vertex at a time, from an arbitrary starting vertex, at each step adding the cheapest possible connection from the tree to another vertex.\n",
    "\n",
    "Time complexity:\n",
    "\n",
    "Adjacency matrix: $ O(|V|^2)$\n",
    "Binary Heap and Adjacency List: $O((|V| + |E|)log(|V|)) = O(|E|log(|V|))$\n",
    "Fibonacci Heap and Adjacency List: $O(|E| + |V|log(|V|) $"
   ],
   "metadata": {
    "collapsed": false,
    "pycharm": {
     "name": "#%% md\n"
    }
   }
  },
  {
   "cell_type": "code",
   "execution_count": 24,
   "outputs": [
    {
     "name": "stdout",
     "output_type": "stream",
     "text": [
      "Edge \tWeight\n",
      "0 - 1 \t 2\n",
      "1 - 2 \t 3\n",
      "0 - 3 \t 6\n",
      "1 - 4 \t 5\n"
     ]
    }
   ],
   "source": [
    "import sys # Library for INT_MAX\n",
    "\n",
    "class Graph():\n",
    "\n",
    "    def __init__(self, vertices):\n",
    "        self.V = vertices\n",
    "        self.graph = [[0 for column in range(vertices)]\n",
    "                    for row in range(vertices)]\n",
    "\n",
    "    # A utility function to print the constructed MST stored in parent[]\n",
    "    def printMST(self, parent):\n",
    "        print(\"Edge \\tWeight\")\n",
    "        for i in range(1, self.V):\n",
    "            print(parent[i], \"-\", i, \"\\t\", self.graph[i][ parent[i] ])\n",
    "\n",
    "    # A utility function to find the vertex with\n",
    "    # minimum distance value, from the set of vertices\n",
    "    # not yet included in shortest path tree\n",
    "    def minKey(self, key, mstSet):\n",
    "\n",
    "        # Initialize min value\n",
    "        min = sys.maxsize\n",
    "\n",
    "        for v in range(self.V):\n",
    "            if key[v] < min and mstSet[v] == False:\n",
    "                min = key[v]\n",
    "                min_index = v\n",
    "\n",
    "        return min_index\n",
    "\n",
    "    # Function to construct and print MST for a graph\n",
    "    # represented using adjacency matrix representation\n",
    "    def primMST(self):\n",
    "\n",
    "        # Key values used to pick minimum weight edge in cut\n",
    "        key = [sys.maxsize] * self.V\n",
    "        parent = [None] * self.V # Array to store constructed MST\n",
    "        # Make key 0 so that this vertex is picked as first vertex\n",
    "        key[0] = 0\n",
    "        mstSet = [False] * self.V\n",
    "\n",
    "        parent[0] = -1 # First node is always the root of\n",
    "\n",
    "        for cout in range(self.V):\n",
    "\n",
    "            # Pick the minimum distance vertex from\n",
    "            # the set of vertices not yet processed.\n",
    "            # u is always equal to src in first iteration\n",
    "            u = self.minKey(key, mstSet)\n",
    "\n",
    "            # Put the minimum distance vertex in\n",
    "            # the shortest path tree\n",
    "            mstSet[u] = True\n",
    "\n",
    "            # Update dist value of the adjacent vertices\n",
    "            # of the picked vertex only if the current\n",
    "            # distance is greater than new distance and\n",
    "            # the vertex in not in the shortest path tree\n",
    "            for v in range(self.V):\n",
    "\n",
    "                # graph[u][v] is non zero only for adjacent vertices of m\n",
    "                # mstSet[v] is false for vertices not yet included in MST\n",
    "                # Update the key only if graph[u][v] is smaller than key[v]\n",
    "                if self.graph[u][v] > 0 and mstSet[v] == False and key[v] > self.graph[u][v]:\n",
    "                        key[v] = self.graph[u][v]\n",
    "                        parent[v] = u\n",
    "\n",
    "        self.printMST(parent)\n",
    "\n",
    "g = Graph(5)\n",
    "g.graph = [ [0, 2, 0, 6, 0],\n",
    "            [2, 0, 3, 8, 5],\n",
    "            [0, 3, 0, 0, 7],\n",
    "            [6, 8, 0, 0, 9],\n",
    "            [0, 5, 7, 9, 0]]\n",
    "\n",
    "g.primMST();"
   ],
   "metadata": {
    "collapsed": false,
    "pycharm": {
     "name": "#%%\n"
    }
   }
  },
  {
   "cell_type": "code",
   "execution_count": null,
   "outputs": [],
   "source": [],
   "metadata": {
    "collapsed": false,
    "pycharm": {
     "name": "#%%\n"
    }
   }
  }
 ],
 "metadata": {
  "kernelspec": {
   "display_name": "Python 3 (ipykernel)",
   "language": "python",
   "name": "python3"
  },
  "language_info": {
   "codemirror_mode": {
    "name": "ipython",
    "version": 3
   },
   "file_extension": ".py",
   "mimetype": "text/x-python",
   "name": "python",
   "nbconvert_exporter": "python",
   "pygments_lexer": "ipython3",
   "version": "3.8.7"
  }
 },
 "nbformat": 4,
 "nbformat_minor": 4
}