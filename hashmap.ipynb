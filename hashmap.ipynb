{
 "cells": [
  {
   "cell_type": "markdown",
   "metadata": {
    "collapsed": true,
    "pycharm": {
     "name": "#%% md\n"
    }
   },
   "source": [
    "HashTable implementation using only arrays\n",
    "\n",
    "https://leetcode.com/problems/design-hashmap/\n",
    "\n",
    "Sources:\n",
    "* https://algs4.cs.princeton.edu/34hash/\n",
    "* https://pagekeysolutions.com/blog/dsa/hash-table-python/"
   ]
  },
  {
   "cell_type": "markdown",
   "source": [
    "### Simple HashMap (no hash function)"
   ],
   "metadata": {
    "collapsed": false,
    "pycharm": {
     "name": "#%% md\n"
    }
   }
  },
  {
   "cell_type": "code",
   "execution_count": 10,
   "outputs": [],
   "source": [
    "from typing import List, Optional, Any\n",
    "\n",
    "\n",
    "class MyHashMap:\n",
    "\n",
    "    def __init__(self):\n",
    "        self.size = 10**6 + 1\n",
    "        self.keys = [-1 for _ in range(self.size)]\n",
    "\n",
    "    def put(self, key: int, value: int) -> None:\n",
    "        self.keys[key] = value\n",
    "\n",
    "    def get(self, key: int) -> int:\n",
    "        return self.keys[key]\n",
    "\n",
    "    def remove(self, key: int) -> None:\n",
    "        self.keys[key] = -1"
   ],
   "metadata": {
    "collapsed": false,
    "pycharm": {
     "name": "#%%\n"
    }
   }
  },
  {
   "cell_type": "markdown",
   "source": [
    "### HashMap (hash function)\n",
    "* collision resolution\n",
    "  * chaining via a list of buckets to handle collision\n",
    "  * the original unhashed key is stored in each bucket\n",
    "  so lookups can resolve to the correct key if collision had occurred\n",
    "\n",
    "As one of the most intuitive implementations, we could adopt the modulo operator as the hash function, since the key value is of integer type. In addition, in order to minimize the potential collisions, it is advisable to use a prime number as the base of modulo, e.g. 2069.\n",
    "\n",
    "Modulo as non-prime:\n",
    "\n",
    "1000 % 10 == 1000 % 100, which is 0\n",
    "\n",
    "2069 is a large prime number\n",
    "\n",
    "Here, a bucket is a list of tuples.\n",
    "\n",
    "#### Collisions\n",
    "To avoid collisions, like with keys 2070 and 1,\n",
    "we only update an existing tuple\n",
    "in the bucket if the original key is a match even though\n",
    "the hashed keys may be the same.\n",
    "\n",
    "\n",
    "```\n",
    "key: 2070, value: 2\n",
    "key: 1, value: 4\n",
    "\n",
    "hash(2070) = 1\n",
    "hash(1) = 1\n",
    "\n",
    "hash_map[1] = Bucket([(2070, 2), (1, 4)])\n",
    "\n",
    "```\n",
    "\n"
   ],
   "metadata": {
    "collapsed": false,
    "pycharm": {
     "name": "#%% md\n"
    }
   }
  },
  {
   "cell_type": "code",
   "execution_count": 11,
   "outputs": [],
   "source": [
    "class Bucket:\n",
    "    def __init__(self):\n",
    "        self.data = []\n",
    "\n",
    "    def update(self, key, value):\n",
    "\n",
    "        found = False\n",
    "        for i, kv in enumerate(self.data):\n",
    "            if kv[0] == key:\n",
    "                found = True\n",
    "                self.data[i] = (key, value)\n",
    "        if not found:\n",
    "            self.data.append((key, value))\n",
    "\n",
    "    def get(self, key):\n",
    "        for k, v in self.data:\n",
    "            if key == k:\n",
    "                return v\n",
    "        return -1\n",
    "\n",
    "    def remove(self, key):\n",
    "        for i, kv in enumerate(self.data):\n",
    "            if kv[0] == key:\n",
    "                self.data.pop(i)\n",
    "\n",
    "class MyHashMap:\n",
    "\n",
    "    def __init__(self):\n",
    "        # the size of the table should be a prime number\n",
    "        # to reduce the number of collisions\n",
    "        self.size = 2069\n",
    "        self.hash_map = [Bucket() for i in range(self.size)]\n",
    "\n",
    "    def put(self, key: int, value: int) -> None:\n",
    "        self.hash_map[self.hash(key)].update(key,value)\n",
    "\n",
    "    def get(self, key: int) -> int:\n",
    "        return self.hash_map[self.hash(key)].get(key)\n",
    "\n",
    "    def remove(self, key: int) -> None:\n",
    "        self.hash_map[self.hash(key)].remove(key)\n",
    "\n",
    "    def hash(self, key):\n",
    "        return key % self.size\n"
   ],
   "metadata": {
    "collapsed": false,
    "pycharm": {
     "name": "#%%\n"
    }
   }
  },
  {
   "cell_type": "markdown",
   "source": [
    "#### Test Collision"
   ],
   "metadata": {
    "collapsed": false
   }
  },
  {
   "cell_type": "code",
   "execution_count": 12,
   "outputs": [],
   "source": [
    "hash_map = MyHashMap()\n",
    "hash_map.put(2070, 2)\n",
    "hash_map.put(1, 4)  # collision"
   ],
   "metadata": {
    "collapsed": false,
    "pycharm": {
     "name": "#%%\n"
    }
   }
  },
  {
   "cell_type": "code",
   "execution_count": 13,
   "outputs": [
    {
     "data": {
      "text/plain": "2"
     },
     "execution_count": 13,
     "metadata": {},
     "output_type": "execute_result"
    }
   ],
   "source": [
    "hash_map.get(2070)"
   ],
   "metadata": {
    "collapsed": false,
    "pycharm": {
     "name": "#%%\n"
    }
   }
  },
  {
   "cell_type": "code",
   "execution_count": 14,
   "outputs": [
    {
     "data": {
      "text/plain": "4"
     },
     "execution_count": 14,
     "metadata": {},
     "output_type": "execute_result"
    }
   ],
   "source": [
    "hash_map.get(1)\n",
    "\n"
   ],
   "metadata": {
    "collapsed": false,
    "pycharm": {
     "name": "#%%\n"
    }
   }
  },
  {
   "cell_type": "markdown",
   "source": [
    "#### Hashmap (with hash function and a single class)"
   ],
   "metadata": {
    "collapsed": false,
    "pycharm": {
     "name": "#%% md\n"
    }
   }
  },
  {
   "cell_type": "code",
   "execution_count": 15,
   "outputs": [],
   "source": [
    "class MyHashMap:\n",
    "\n",
    "    def __init__(self):\n",
    "        self.size = 2069  # large prime\n",
    "        self.keys = [[] for _ in range(self.size)]\n",
    "\n",
    "    def put(self, key: int, value: int) -> None:\n",
    "        key_hash = self.hash(key)\n",
    "        found = False\n",
    "        for i, kv in enumerate(self.keys[key_hash]):\n",
    "            if kv[0] == key:\n",
    "                found = True\n",
    "                self.keys[key_hash][i] = (key, value)\n",
    "        if not found:\n",
    "            self.keys[key_hash].append((key, value))\n",
    "\n",
    "    def get(self, key: int) -> int:\n",
    "        key_hash = self.hash(key)\n",
    "        for i, kv in enumerate(self.keys[key_hash]):\n",
    "            if kv[0] == key:\n",
    "                return kv[1]\n",
    "        return -1\n",
    "\n",
    "    def remove(self, key: int) -> None:\n",
    "        key_hash = self.hash(key)\n",
    "        for i, kv in enumerate(self.keys[key_hash]):\n",
    "            if kv[0] == key:\n",
    "                self.keys[key_hash].pop(i)\n",
    "\n",
    "    def hash(self, key):\n",
    "        return key % self.size\n",
    "\n"
   ],
   "metadata": {
    "collapsed": false,
    "pycharm": {
     "name": "#%%\n"
    }
   }
  },
  {
   "cell_type": "markdown",
   "source": [
    "#### Test Collision"
   ],
   "metadata": {
    "collapsed": false,
    "pycharm": {
     "name": "#%% md\n"
    }
   }
  },
  {
   "cell_type": "code",
   "execution_count": 16,
   "outputs": [],
   "source": [
    "hash_map = MyHashMap()\n",
    "hash_map.put(2070, 2)\n",
    "hash_map.put(1, 4)  # collision"
   ],
   "metadata": {
    "collapsed": false,
    "pycharm": {
     "name": "#%%\n"
    }
   }
  },
  {
   "cell_type": "code",
   "execution_count": 17,
   "outputs": [
    {
     "data": {
      "text/plain": "2"
     },
     "execution_count": 17,
     "metadata": {},
     "output_type": "execute_result"
    }
   ],
   "source": [
    "hash_map.get(2070)"
   ],
   "metadata": {
    "collapsed": false,
    "pycharm": {
     "name": "#%%\n"
    }
   }
  },
  {
   "cell_type": "code",
   "execution_count": 18,
   "outputs": [
    {
     "data": {
      "text/plain": "4"
     },
     "execution_count": 18,
     "metadata": {},
     "output_type": "execute_result"
    }
   ],
   "source": [
    "hash_map.get(1)"
   ],
   "metadata": {
    "collapsed": false,
    "pycharm": {
     "name": "#%%\n"
    }
   }
  },
  {
   "cell_type": "markdown",
   "source": [
    "#### Hash functions (string -> int)\n",
    "\n",
    "A good hash function should\n",
    "1. Use all the data in the key\n",
    "2. Uniformly distribute data in the table\n",
    "3. Be deterministic. Gives the same output for the same input."
   ],
   "metadata": {
    "collapsed": false,
    "pycharm": {
     "name": "#%% md\n"
    }
   }
  },
  {
   "cell_type": "code",
   "execution_count": 19,
   "outputs": [
    {
     "data": {
      "text/plain": "294"
     },
     "execution_count": 19,
     "metadata": {},
     "output_type": "execute_result"
    }
   ],
   "source": [
    "def hash(key: str, hash_table_size: int) -> int:\n",
    "    \"\"\"\n",
    "    Computes the hash of a string\n",
    "    :param key: A string to hash\n",
    "    :param hash_table_size: preferably a large prime number to avoid collisions\n",
    "    :return: an index between 0 and hash_table_size\n",
    "    \"\"\"\n",
    "    s = 0\n",
    "    for c in key:\n",
    "        # ord converts a string to an int\n",
    "        s += ord(c)\n",
    "    return s % hash_table_size\n",
    "\n",
    "hash(\"abc\", 2069)\n"
   ],
   "metadata": {
    "collapsed": false,
    "pycharm": {
     "name": "#%%\n"
    }
   }
  },
  {
   "cell_type": "markdown",
   "source": [
    "#### Implement a hashmap using only arrays"
   ],
   "metadata": {
    "collapsed": false,
    "pycharm": {
     "name": "#%% md\n"
    }
   }
  },
  {
   "cell_type": "code",
   "execution_count": 20,
   "outputs": [
    {
     "data": {
      "text/plain": "'Peter Lucia'"
     },
     "execution_count": 20,
     "metadata": {},
     "output_type": "execute_result"
    }
   ],
   "source": [
    "class Bucket:\n",
    "\n",
    "    def __init__(self):\n",
    "        self.key = None\n",
    "        self.values = []  #  [(unhashed_key, value), (unhashed_key_2, value), ...]\n",
    "\n",
    "    def get(self, orig_key):\n",
    "        for kv in self.values:\n",
    "            if kv[0] == orig_key:\n",
    "                return kv[1]\n",
    "        return None\n",
    "\n",
    "    def put(self, orig_key, value):\n",
    "        found = False\n",
    "        for idx, kv in enumerate(self.values):\n",
    "            if orig_key == kv[0]:\n",
    "                self.values[idx] = (orig_key, value)\n",
    "                found = True\n",
    "                break\n",
    "        if not found:\n",
    "            self.values.append((orig_key, value))\n",
    "\n",
    "    def remove(self, orig_key):\n",
    "        for idx, kv in enumerate(self.values):\n",
    "            if orig_key == kv[0]:\n",
    "                self.values.pop(idx)\n",
    "                break\n",
    "\n",
    "class HashTable:\n",
    "\n",
    "    def __init__(self):\n",
    "        # we use a prime number to prevent collisions\n",
    "        # (i.e. n % prime_number incur fewer collisions than n % even_number for example)\n",
    "        self.size = 2069\n",
    "        self.table = [Bucket() for _ in range(self.size)]\n",
    "\n",
    "    def get(self, key: str):\n",
    "        table_idx = self.hash(key)\n",
    "        return self.table[table_idx].get(key)\n",
    "\n",
    "    def put(self, key: str, value):\n",
    "        table_idx = self.hash(key)\n",
    "        self.table[table_idx].put(key, value)\n",
    "\n",
    "    def remove(self, key: str):\n",
    "        table_idx = self.hash(key)\n",
    "        self.table[table_idx].remove(key)\n",
    "\n",
    "    def hash(self, key: str):\n",
    "        \"\"\"\n",
    "        str -> int -> int % max_hash_table_size\n",
    "        \"\"\"\n",
    "\n",
    "        s = 0\n",
    "        for c in key:\n",
    "            s += ord(c)\n",
    "        return s % self.size\n",
    "\n",
    "\n",
    "ht = HashTable()\n",
    "ht.put(\"My Name\", \"Peter\")\n",
    "ht.put(\"My Name\", \"Peter Lucia\")\n",
    "ht.get(\"My Name\")"
   ],
   "metadata": {
    "collapsed": false,
    "pycharm": {
     "name": "#%%\n"
    }
   }
  },
  {
   "cell_type": "code",
   "execution_count": 21,
   "outputs": [
    {
     "data": {
      "text/plain": "'Peter Lucia'"
     },
     "execution_count": 21,
     "metadata": {},
     "output_type": "execute_result"
    }
   ],
   "source": [
    "ht.get(\"My Name\")"
   ],
   "metadata": {
    "collapsed": false,
    "pycharm": {
     "name": "#%%\n"
    }
   }
  },
  {
   "cell_type": "code",
   "execution_count": 22,
   "outputs": [],
   "source": [
    "ht.remove(\"My Name\")\n",
    "ht.get(\"My Name\")"
   ],
   "metadata": {
    "collapsed": false,
    "pycharm": {
     "name": "#%%\n"
    }
   }
  },
  {
   "cell_type": "markdown",
   "source": [
    "### Reconstruct original digits from english\n",
    "\n",
    "[https://leetcode.com/problems/reconstruct-original-digits-from-english/](https://leetcode.com/problems/reconstruct-original-digits-from-english/)"
   ],
   "metadata": {
    "collapsed": false,
    "pycharm": {
     "name": "#%% md\n"
    }
   }
  },
  {
   "cell_type": "code",
   "execution_count": 2,
   "outputs": [
    {
     "data": {
      "text/plain": "'123456789'"
     },
     "execution_count": 2,
     "metadata": {},
     "output_type": "execute_result"
    }
   ],
   "source": [
    "from collections import Counter\n",
    "class Solution:\n",
    "    def originalDigits(self, s: str) -> str:\n",
    "        # approach\n",
    "        # O(n) time complexity\n",
    "        # O(1) space complexity\n",
    "\n",
    "        # create a list of numbers 0-9 in english\n",
    "\n",
    "        # zero - number of z's since it's the only one that has a z\n",
    "        # one - number of o's minus counts for others with an o: zero, two, four\n",
    "        # two - number of w's\n",
    "        # three - number of t's minus counts for others with a 't': two and eight\n",
    "        # four - number of u's\n",
    "        # five - number of f's minus count for others with f: four\n",
    "        # six - number of x's\n",
    "        # seven - number of s's minus count for others with s: six\n",
    "        # eight - number of g's\n",
    "        # nine - number of i's minus count for others with i: eight: six, five\n",
    "\n",
    "        # build {'a': 1, 'b': 2, 'c': 3}\n",
    "        lookup = Counter(s)\n",
    "\n",
    "        result = \"\"\n",
    "        result += \"0\"*(lookup['z'])\n",
    "        result += \"1\"*(lookup['o'] - lookup['z'] - lookup['w'] - lookup['u'])\n",
    "        result += \"2\"*(lookup['w'])\n",
    "        result += \"3\"*(lookup['t'] - lookup['w'] - lookup['g'])\n",
    "        result += \"4\"*(lookup['u'])\n",
    "        result += \"5\"*(lookup['f'] - lookup['u'])\n",
    "        result += \"6\"*(lookup['x'])\n",
    "        result += \"7\"*(lookup['s'] - lookup['x'])\n",
    "        result += \"8\"*(lookup['g'])\n",
    "        result += \"9\"*(lookup['i'] - lookup['g'] - lookup['x'] - (lookup['f'] - lookup['u']))\n",
    "\n",
    "        return result\n",
    "\n",
    "Solution().originalDigits(\"onetwothreefourfivesixseveneightnine\")"
   ],
   "metadata": {
    "collapsed": false,
    "pycharm": {
     "name": "#%%\n"
    }
   }
  },
  {
   "cell_type": "code",
   "execution_count": null,
   "outputs": [],
   "source": [],
   "metadata": {
    "collapsed": false,
    "pycharm": {
     "name": "#%%\n"
    }
   }
  }
 ],
 "metadata": {
  "kernelspec": {
   "display_name": "Python 3",
   "language": "python",
   "name": "python3"
  },
  "language_info": {
   "codemirror_mode": {
    "name": "ipython",
    "version": 2
   },
   "file_extension": ".py",
   "mimetype": "text/x-python",
   "name": "python",
   "nbconvert_exporter": "python",
   "pygments_lexer": "ipython2",
   "version": "2.7.6"
  }
 },
 "nbformat": 4,
 "nbformat_minor": 0
}