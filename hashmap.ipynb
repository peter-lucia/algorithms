{
 "cells": [
  {
   "cell_type": "markdown",
   "metadata": {
    "collapsed": true,
    "pycharm": {
     "name": "#%% md\n"
    }
   },
   "source": [
    "HashTable implementation using only arrays\n",
    "\n",
    "https://leetcode.com/problems/design-hashmap/\n",
    "\n",
    "Sources:\n",
    "* https://algs4.cs.princeton.edu/34hash/\n",
    "* https://pagekeysolutions.com/blog/dsa/hash-table-python/"
   ]
  },
  {
   "cell_type": "markdown",
   "metadata": {
    "pycharm": {
     "name": "#%% md\n"
    }
   },
   "source": [
    "### Simple HashMap (no hash function)"
   ]
  },
  {
   "cell_type": "code",
   "execution_count": 10,
   "metadata": {
    "pycharm": {
     "name": "#%%\n"
    }
   },
   "outputs": [],
   "source": [
    "from typing import List, Optional, Any\n",
    "\n",
    "\n",
    "class MyHashMap:\n",
    "\n",
    "    def __init__(self):\n",
    "        self.size = 10**6 + 1\n",
    "        self.keys = [-1 for _ in range(self.size)]\n",
    "\n",
    "    def put(self, key: int, value: int) -> None:\n",
    "        self.keys[key] = value\n",
    "\n",
    "    def get(self, key: int) -> int:\n",
    "        return self.keys[key]\n",
    "\n",
    "    def remove(self, key: int) -> None:\n",
    "        self.keys[key] = -1"
   ]
  },
  {
   "cell_type": "markdown",
   "metadata": {
    "pycharm": {
     "name": "#%% md\n"
    }
   },
   "source": [
    "### HashMap (hash function)\n",
    "* collision resolution\n",
    "  * chaining via a list of buckets to handle collision\n",
    "  * the original unhashed key is stored in each bucket\n",
    "  so lookups can resolve to the correct key if collision had occurred\n",
    "\n",
    "As one of the most intuitive implementations, we could adopt the modulo operator as the hash function, since the key value is of integer type. In addition, in order to minimize the potential collisions, it is advisable to use a prime number as the base of modulo, e.g. 2069.\n",
    "\n",
    "Modulo as non-prime:\n",
    "\n",
    "1000 % 10 == 1000 % 100, which is 0\n",
    "\n",
    "2069 is a large prime number\n",
    "\n",
    "Here, a bucket is a list of tuples.\n",
    "\n",
    "#### Collisions\n",
    "To avoid collisions, like with keys 2070 and 1,\n",
    "we only update an existing tuple\n",
    "in the bucket if the original key is a match even though\n",
    "the hashed keys may be the same.\n",
    "\n",
    "\n",
    "```\n",
    "key: 2070, value: 2\n",
    "key: 1, value: 4\n",
    "\n",
    "hash(2070) = 1\n",
    "hash(1) = 1\n",
    "\n",
    "hash_map[1] = Bucket([(2070, 2), (1, 4)])\n",
    "\n",
    "```\n",
    "\n"
   ]
  },
  {
   "cell_type": "code",
   "execution_count": 11,
   "metadata": {
    "pycharm": {
     "name": "#%%\n"
    }
   },
   "outputs": [],
   "source": [
    "class Bucket:\n",
    "    def __init__(self):\n",
    "        self.data = []\n",
    "\n",
    "    def update(self, key, value):\n",
    "\n",
    "        found = False\n",
    "        for i, kv in enumerate(self.data):\n",
    "            if kv[0] == key:\n",
    "                found = True\n",
    "                self.data[i] = (key, value)\n",
    "        if not found:\n",
    "            self.data.append((key, value))\n",
    "\n",
    "    def get(self, key):\n",
    "        for k, v in self.data:\n",
    "            if key == k:\n",
    "                return v\n",
    "        return -1\n",
    "\n",
    "    def remove(self, key):\n",
    "        for i, kv in enumerate(self.data):\n",
    "            if kv[0] == key:\n",
    "                self.data.pop(i)\n",
    "\n",
    "class MyHashMap:\n",
    "\n",
    "    def __init__(self):\n",
    "        # the size of the table should be a prime number\n",
    "        # to reduce the number of collisions\n",
    "        self.size = 2069\n",
    "        self.hash_map = [Bucket() for i in range(self.size)]\n",
    "\n",
    "    def put(self, key: int, value: int) -> None:\n",
    "        self.hash_map[self.hash(key)].update(key,value)\n",
    "\n",
    "    def get(self, key: int) -> int:\n",
    "        return self.hash_map[self.hash(key)].get(key)\n",
    "\n",
    "    def remove(self, key: int) -> None:\n",
    "        self.hash_map[self.hash(key)].remove(key)\n",
    "\n",
    "    def hash(self, key):\n",
    "        return key % self.size\n"
   ]
  },
  {
   "cell_type": "markdown",
   "metadata": {},
   "source": [
    "#### Test Collision"
   ]
  },
  {
   "cell_type": "code",
   "execution_count": 12,
   "metadata": {
    "pycharm": {
     "name": "#%%\n"
    }
   },
   "outputs": [],
   "source": [
    "hash_map = MyHashMap()\n",
    "hash_map.put(2070, 2)\n",
    "hash_map.put(1, 4)  # collision"
   ]
  },
  {
   "cell_type": "code",
   "execution_count": 13,
   "metadata": {
    "pycharm": {
     "name": "#%%\n"
    }
   },
   "outputs": [
    {
     "data": {
      "text/plain": [
       "2"
      ]
     },
     "execution_count": 13,
     "metadata": {},
     "output_type": "execute_result"
    }
   ],
   "source": [
    "hash_map.get(2070)"
   ]
  },
  {
   "cell_type": "code",
   "execution_count": 14,
   "metadata": {
    "pycharm": {
     "name": "#%%\n"
    }
   },
   "outputs": [
    {
     "data": {
      "text/plain": [
       "4"
      ]
     },
     "execution_count": 14,
     "metadata": {},
     "output_type": "execute_result"
    }
   ],
   "source": [
    "hash_map.get(1)\n",
    "\n"
   ]
  },
  {
   "cell_type": "markdown",
   "metadata": {
    "pycharm": {
     "name": "#%% md\n"
    }
   },
   "source": [
    "#### Hashmap (with hash function and a single class)"
   ]
  },
  {
   "cell_type": "code",
   "execution_count": 15,
   "metadata": {
    "pycharm": {
     "name": "#%%\n"
    }
   },
   "outputs": [],
   "source": [
    "class MyHashMap:\n",
    "\n",
    "    def __init__(self):\n",
    "        self.size = 2069  # large prime\n",
    "        self.keys = [[] for _ in range(self.size)]\n",
    "\n",
    "    def put(self, key: int, value: int) -> None:\n",
    "        key_hash = self.hash(key)\n",
    "        found = False\n",
    "        for i, kv in enumerate(self.keys[key_hash]):\n",
    "            if kv[0] == key:\n",
    "                found = True\n",
    "                self.keys[key_hash][i] = (key, value)\n",
    "        if not found:\n",
    "            self.keys[key_hash].append((key, value))\n",
    "\n",
    "    def get(self, key: int) -> int:\n",
    "        key_hash = self.hash(key)\n",
    "        for i, kv in enumerate(self.keys[key_hash]):\n",
    "            if kv[0] == key:\n",
    "                return kv[1]\n",
    "        return -1\n",
    "\n",
    "    def remove(self, key: int) -> None:\n",
    "        key_hash = self.hash(key)\n",
    "        for i, kv in enumerate(self.keys[key_hash]):\n",
    "            if kv[0] == key:\n",
    "                self.keys[key_hash].pop(i)\n",
    "\n",
    "    def hash(self, key):\n",
    "        return key % self.size\n",
    "\n"
   ]
  },
  {
   "cell_type": "markdown",
   "metadata": {
    "pycharm": {
     "name": "#%% md\n"
    }
   },
   "source": [
    "#### Test Collision"
   ]
  },
  {
   "cell_type": "code",
   "execution_count": 16,
   "metadata": {
    "pycharm": {
     "name": "#%%\n"
    }
   },
   "outputs": [],
   "source": [
    "hash_map = MyHashMap()\n",
    "hash_map.put(2070, 2)\n",
    "hash_map.put(1, 4)  # collision"
   ]
  },
  {
   "cell_type": "code",
   "execution_count": 17,
   "metadata": {
    "pycharm": {
     "name": "#%%\n"
    }
   },
   "outputs": [
    {
     "data": {
      "text/plain": [
       "2"
      ]
     },
     "execution_count": 17,
     "metadata": {},
     "output_type": "execute_result"
    }
   ],
   "source": [
    "hash_map.get(2070)"
   ]
  },
  {
   "cell_type": "code",
   "execution_count": 18,
   "metadata": {
    "pycharm": {
     "name": "#%%\n"
    }
   },
   "outputs": [
    {
     "data": {
      "text/plain": [
       "4"
      ]
     },
     "execution_count": 18,
     "metadata": {},
     "output_type": "execute_result"
    }
   ],
   "source": [
    "hash_map.get(1)"
   ]
  },
  {
   "cell_type": "markdown",
   "metadata": {
    "pycharm": {
     "name": "#%% md\n"
    }
   },
   "source": [
    "#### Hash functions (string -> int)\n",
    "\n",
    "A good hash function should\n",
    "1. Use all the data in the key\n",
    "2. Uniformly distribute data in the table\n",
    "3. Be deterministic. Gives the same output for the same input."
   ]
  },
  {
   "cell_type": "code",
   "execution_count": 19,
   "metadata": {
    "pycharm": {
     "name": "#%%\n"
    }
   },
   "outputs": [
    {
     "data": {
      "text/plain": [
       "294"
      ]
     },
     "execution_count": 19,
     "metadata": {},
     "output_type": "execute_result"
    }
   ],
   "source": [
    "def hash(key: str, hash_table_size: int) -> int:\n",
    "    \"\"\"\n",
    "    Computes the hash of a string\n",
    "    :param key: A string to hash\n",
    "    :param hash_table_size: preferably a large prime number to avoid collisions\n",
    "    :return: an index between 0 and hash_table_size\n",
    "    \"\"\"\n",
    "    s = 0\n",
    "    for c in key:\n",
    "        # ord converts a string to an int\n",
    "        s += ord(c)\n",
    "    return s % hash_table_size\n",
    "\n",
    "hash(\"abc\", 2069)\n"
   ]
  },
  {
   "cell_type": "markdown",
   "metadata": {
    "pycharm": {
     "name": "#%% md\n"
    }
   },
   "source": [
    "#### Implement a hashmap using only arrays"
   ]
  },
  {
   "cell_type": "code",
   "execution_count": 20,
   "metadata": {
    "pycharm": {
     "name": "#%%\n"
    }
   },
   "outputs": [
    {
     "data": {
      "text/plain": [
       "'Peter Lucia'"
      ]
     },
     "execution_count": 20,
     "metadata": {},
     "output_type": "execute_result"
    }
   ],
   "source": [
    "class Bucket:\n",
    "\n",
    "    def __init__(self):\n",
    "        self.key = None\n",
    "        self.values = []  #  [(unhashed_key, value), (unhashed_key_2, value), ...]\n",
    "\n",
    "    def get(self, orig_key):\n",
    "        for kv in self.values:\n",
    "            if kv[0] == orig_key:\n",
    "                return kv[1]\n",
    "        return None\n",
    "\n",
    "    def put(self, orig_key, value):\n",
    "        found = False\n",
    "        for idx, kv in enumerate(self.values):\n",
    "            if orig_key == kv[0]:\n",
    "                self.values[idx] = (orig_key, value)\n",
    "                found = True\n",
    "                break\n",
    "        if not found:\n",
    "            self.values.append((orig_key, value))\n",
    "\n",
    "    def remove(self, orig_key):\n",
    "        for idx, kv in enumerate(self.values):\n",
    "            if orig_key == kv[0]:\n",
    "                self.values.pop(idx)\n",
    "                break\n",
    "\n",
    "class HashTable:\n",
    "\n",
    "    def __init__(self):\n",
    "        # we use a prime number to prevent collisions\n",
    "        # (i.e. n % prime_number incur fewer collisions than n % even_number for example)\n",
    "        self.size = 2069\n",
    "        self.table = [Bucket() for _ in range(self.size)]\n",
    "\n",
    "    def get(self, key: str):\n",
    "        table_idx = self.hash(key)\n",
    "        return self.table[table_idx].get(key)\n",
    "\n",
    "    def put(self, key: str, value):\n",
    "        table_idx = self.hash(key)\n",
    "        self.table[table_idx].put(key, value)\n",
    "\n",
    "    def remove(self, key: str):\n",
    "        table_idx = self.hash(key)\n",
    "        self.table[table_idx].remove(key)\n",
    "\n",
    "    def hash(self, key: str):\n",
    "        \"\"\"\n",
    "        str -> int -> int % max_hash_table_size\n",
    "        \"\"\"\n",
    "\n",
    "        s = 0\n",
    "        for c in key:\n",
    "            s += ord(c)\n",
    "        return s % self.size\n",
    "\n",
    "\n",
    "ht = HashTable()\n",
    "ht.put(\"My Name\", \"Peter\")\n",
    "ht.put(\"My Name\", \"Peter Lucia\")\n",
    "ht.get(\"My Name\")"
   ]
  },
  {
   "cell_type": "code",
   "execution_count": 21,
   "metadata": {
    "pycharm": {
     "name": "#%%\n"
    }
   },
   "outputs": [
    {
     "data": {
      "text/plain": [
       "'Peter Lucia'"
      ]
     },
     "execution_count": 21,
     "metadata": {},
     "output_type": "execute_result"
    }
   ],
   "source": [
    "ht.get(\"My Name\")"
   ]
  },
  {
   "cell_type": "code",
   "execution_count": 22,
   "metadata": {
    "pycharm": {
     "name": "#%%\n"
    }
   },
   "outputs": [],
   "source": [
    "ht.remove(\"My Name\")\n",
    "ht.get(\"My Name\")"
   ]
  },
  {
   "cell_type": "markdown",
   "metadata": {
    "pycharm": {
     "name": "#%% md\n"
    }
   },
   "source": [
    "### Reconstruct original digits from english\n",
    "\n",
    "[https://leetcode.com/problems/reconstruct-original-digits-from-english/](https://leetcode.com/problems/reconstruct-original-digits-from-english/)"
   ]
  },
  {
   "cell_type": "code",
   "execution_count": 2,
   "metadata": {
    "pycharm": {
     "name": "#%%\n"
    }
   },
   "outputs": [
    {
     "data": {
      "text/plain": [
       "'123456789'"
      ]
     },
     "execution_count": 2,
     "metadata": {},
     "output_type": "execute_result"
    }
   ],
   "source": [
    "from collections import Counter\n",
    "class Solution:\n",
    "    def originalDigits(self, s: str) -> str:\n",
    "        # approach\n",
    "        # O(n) time complexity\n",
    "        # O(1) space complexity\n",
    "\n",
    "        # create a list of numbers 0-9 in english\n",
    "\n",
    "        # zero - number of z's since it's the only one that has a z\n",
    "        # one - number of o's minus counts for others with an o: zero, two, four\n",
    "        # two - number of w's\n",
    "        # three - number of t's minus counts for others with a 't': two and eight\n",
    "        # four - number of u's\n",
    "        # five - number of f's minus count for others with f: four\n",
    "        # six - number of x's\n",
    "        # seven - number of s's minus count for others with s: six\n",
    "        # eight - number of g's\n",
    "        # nine - number of i's minus count for others with i: eight: six, five\n",
    "\n",
    "        # build {'a': 1, 'b': 2, 'c': 3}\n",
    "        lookup = Counter(s)\n",
    "\n",
    "        result = \"\"\n",
    "        result += \"0\"*(lookup['z'])\n",
    "        result += \"1\"*(lookup['o'] - lookup['z'] - lookup['w'] - lookup['u'])\n",
    "        result += \"2\"*(lookup['w'])\n",
    "        result += \"3\"*(lookup['t'] - lookup['w'] - lookup['g'])\n",
    "        result += \"4\"*(lookup['u'])\n",
    "        result += \"5\"*(lookup['f'] - lookup['u'])\n",
    "        result += \"6\"*(lookup['x'])\n",
    "        result += \"7\"*(lookup['s'] - lookup['x'])\n",
    "        result += \"8\"*(lookup['g'])\n",
    "        result += \"9\"*(lookup['i'] - lookup['g'] - lookup['x'] - (lookup['f'] - lookup['u']))\n",
    "\n",
    "        return result\n",
    "\n",
    "Solution().originalDigits(\"onetwothreefourfivesixseveneightnine\")"
   ]
  },
  {
   "cell_type": "markdown",
   "source": [
    "### Subdomain Visit Count\n",
    "\n",
    "[https://leetcode.com/problems/subdomain-visit-count/](https://leetcode.com/problems/subdomain-visit-count/)"
   ],
   "metadata": {
    "collapsed": false,
    "pycharm": {
     "name": "#%% md\n"
    }
   }
  },
  {
   "cell_type": "code",
   "execution_count": 3,
   "outputs": [],
   "source": [
    "from collections import defaultdict\n",
    "from typing import List\n",
    "\n",
    "class Solution:\n",
    "    def subdomainVisits(self, cpdomains: List[str]) -> List[str]:\n",
    "        # 1. build hashmap\n",
    "\n",
    "        # google.mail.com -> 900\n",
    "        # mail.com -> 900 + 1\n",
    "        # com -> 900 + 50 + 1\n",
    "        # yahoo.com -> 50\n",
    "        # intel.mail.com -> 1\n",
    "        # wiki.org -> 5\n",
    "        # org -> 5\n",
    "\n",
    "        lookup = defaultdict(int)\n",
    "        for cpdomain in cpdomains:\n",
    "            count, url = cpdomain.split(\" \")\n",
    "            count = int(count)\n",
    "            domains = url.split(\".\")\n",
    "            for i in range(len(domains)):\n",
    "                # Note:\n",
    "                # >>> \".\".join(['a'])\n",
    "                # 'a'\n",
    "                # google.mail.com -> 900\n",
    "                # mail.com -> 900\n",
    "                # com -> 900\n",
    "                key = \".\".join(domains[i:])\n",
    "                lookup[key] += count\n",
    "\n",
    "        result = [f\"{v} {k}\" for k,v in lookup.items()]\n",
    "        return result"
   ],
   "metadata": {
    "collapsed": false,
    "pycharm": {
     "name": "#%%\n"
    }
   }
  },
  {
   "cell_type": "code",
   "execution_count": 4,
   "outputs": [
    {
     "data": {
      "text/plain": "['900 google.mail.com',\n '901 mail.com',\n '951 com',\n '50 yahoo.com',\n '1 intel.mail.com',\n '5 wiki.org',\n '5 org']"
     },
     "execution_count": 4,
     "metadata": {},
     "output_type": "execute_result"
    }
   ],
   "source": [
    "Solution().subdomainVisits([\"900 google.mail.com\", \"50 yahoo.com\", \"1 intel.mail.com\", \"5 wiki.org\"])"
   ],
   "metadata": {
    "collapsed": false,
    "pycharm": {
     "name": "#%%\n"
    }
   }
  },
  {
   "cell_type": "code",
   "execution_count": 5,
   "outputs": [],
   "source": [
    "from typing import List\n",
    "from collections import defaultdict\n",
    "class Solution:\n",
    "    def subarraySum(self, nums: List[int], k: int) -> int:\n",
    "        # LIS modeled solution\n",
    "        # O(n^2) solution:\n",
    "        # [1,1,1], k = 2\n",
    "        # [1,1]\n",
    "        #   [1,1]\n",
    "        # result: 2\n",
    "\n",
    "        # [1,2,3], k = 3\n",
    "        # [1,2]\n",
    "        #     [3]\n",
    "        # result: 2\n",
    "\n",
    "        # for i = 0 -> n - 1\n",
    "        #    for j = 0 -> i-1\n",
    "        #        if sum from j to i == k, increment total\n",
    "\n",
    "        # Hashmap\n",
    "        # O(n) solution\n",
    "        # {\n",
    "        #  sum: occurrences of sum\n",
    "        #\n",
    "        # }\n",
    "        #\n",
    "        #\n",
    "        #\n",
    "        lookup = defaultdict(int)\n",
    "        lookup[0] = 1  # always a sum of 0\n",
    "        n = len(nums)\n",
    "        running_sum = 0\n",
    "        result = 0\n",
    "        for num in nums:\n",
    "            running_sum += num\n",
    "            if running_sum - k in lookup:\n",
    "                # defaultdict(<class 'int'>, {0: 1, 1: 1, 2: 1, 3: 1})\n",
    "                # k = 2\n",
    "                #    [1,1,1]  lookup[3-k] = lookup[3-2] = lookup[1] = 1\n",
    "                result += lookup[running_sum - k]\n",
    "            lookup[running_sum] += 1\n",
    "\n",
    "        return result\n",
    "assert Solution().subarraySum([1,1,1], 2) == 2"
   ],
   "metadata": {
    "collapsed": false,
    "pycharm": {
     "name": "#%%\n"
    }
   }
  },
  {
   "cell_type": "code",
   "execution_count": 10,
   "outputs": [],
   "source": [
    "import bisect\n",
    "class Solution:\n",
    "    def intToRoman(self, num: int) -> str:\n",
    "\n",
    "        # key points\n",
    "\n",
    "        # Create hash table of symbols mapping value to the symbol\n",
    "        # 1: 'I'\n",
    "        # 5: 'V'\n",
    "        # ...\n",
    "\n",
    "        # Convert num to str, handle each digit individually\n",
    "        # If 4 or 9 * 10^x is found, handle it separately\n",
    "        # otherwise, use a separate function to determine sum of each digit\n",
    "\n",
    "        # Procedure: Iterate over each digit from right to left\n",
    "        # i = 0\n",
    "        # for each digit (right to left)\n",
    "        #   if digit is 4 or 9: special handling\n",
    "        #   otherwise, use function\n",
    "        #   i += 1\n",
    "\n",
    "        lookup = {\n",
    "            1: \"I\",\n",
    "            5: \"V\",\n",
    "            10: \"X\",\n",
    "            50: \"L\",\n",
    "            100: \"C\",\n",
    "            500: \"D\",\n",
    "            1000: \"M\",\n",
    "        }\n",
    "\n",
    "        digits = [c for c in str(num)][::-1]\n",
    "        i = 0\n",
    "        result = \"\"\n",
    "        while i < len(digits):\n",
    "            tens_mult = 10**i\n",
    "            digit = int(digits[i])*tens_mult\n",
    "            if digits[i] in ['4', '9']:\n",
    "                # ...4... = \"I\" + \"V\" + existing result\n",
    "                result = (self.get_symbols(tens_mult, lookup)\n",
    "                        + self.get_symbols(int(digit) + tens_mult, lookup)\n",
    "                        + result)\n",
    "            else:\n",
    "                result = self.get_symbols(int(digit), lookup) + result\n",
    "            i += 1\n",
    "\n",
    "        return result\n",
    "\n",
    "    def get_symbols(self, num: int, lookup: dict) -> str:\n",
    "        \"\"\"\n",
    "        Recursively find the largest symbol where remainder is >= 0 until remainder is 0\n",
    "\n",
    "        Assumes 4 and 9 are not present\n",
    "\n",
    "        Example:\n",
    "            subtract value of symbol, add symbol to result, keep going until\n",
    "            remainder is 0\n",
    "\n",
    "            Start with 27\n",
    "            largest symbol where remainder is >= 0 is X\n",
    "            27 - lookup[X] = 27-10 = 17\n",
    "\n",
    "            17\n",
    "            largest symbol where remainder is >= 0 is X\n",
    "            17 - 10 = 7\n",
    "\n",
    "            7\n",
    "            largest symbol where remainder is >= 0 is V\n",
    "            7 - 5 = 2\n",
    "\n",
    "            2\n",
    "            largest symbol where remainder is >= 0 is I\n",
    "            2 - 1 = 1\n",
    "\n",
    "            1\n",
    "            largest symbol where remainder is >= 0 is I\n",
    "            1 - 1 = 0 -> we are done\n",
    "            XXVII = 27\n",
    "        \"\"\"\n",
    "        ks = list(lookup.keys())\n",
    "        result = \"\"\n",
    "        while num > 0:\n",
    "            # get last key that's just less than the num\n",
    "            i = bisect.bisect(ks, num) - 1\n",
    "            result += lookup[ks[i]]\n",
    "            num -= ks[i]\n",
    "        return result\n",
    "assert Solution().intToRoman(49) == \"XLIX\"\n",
    "assert Solution().intToRoman(490) == \"CDXC\"\n",
    "assert Solution().intToRoman(4) == \"IV\""
   ],
   "metadata": {
    "collapsed": false,
    "pycharm": {
     "name": "#%%\n"
    }
   }
  },
  {
   "cell_type": "markdown",
   "source": [
    "### 49. Group Anagrams\n",
    "\n",
    "Source: [https://leetcode.com/problems/group-anagrams/](https://leetcode.com/problems/group-anagrams/)"
   ],
   "metadata": {
    "collapsed": false,
    "pycharm": {
     "name": "#%% md\n"
    }
   }
  },
  {
   "cell_type": "code",
   "execution_count": 5,
   "outputs": [
    {
     "data": {
      "text/plain": "[['eat', 'tea', 'ate'], ['tan', 'nat'], ['bat']]"
     },
     "execution_count": 5,
     "metadata": {},
     "output_type": "execute_result"
    }
   ],
   "source": [
    "from typing import List\n",
    "from collections import defaultdict\n",
    "class Solution:\n",
    "    def groupAnagrams(self, strs: List[str]) -> List[List[str]]:\n",
    "\n",
    "        # Approach #1: create lookup for each word\n",
    "        # Map sorted version of the string to list of matching strings\n",
    "        # Return a list of list of values at the end grouped by key\n",
    "        # Time complexity: O(n)\n",
    "        # Space complexity: O(n)\n",
    "\n",
    "        result = defaultdict(list)\n",
    "\n",
    "        for s in strs:\n",
    "            key = \"\".join(sorted(s))\n",
    "            result[key].append(s)\n",
    "\n",
    "        return list(result.values())\n",
    "\n",
    "Solution().groupAnagrams([\"eat\",\"tea\",\"tan\",\"ate\",\"nat\",\"bat\"])\n"
   ],
   "metadata": {
    "collapsed": false,
    "pycharm": {
     "name": "#%%\n"
    }
   }
  },
  {
   "cell_type": "code",
   "execution_count": null,
   "outputs": [],
   "source": [
    "# Slower solution\n",
    "class Solution:\n",
    "    def groupAnagrams(self, strs: List[str]) -> List[List[str]]:\n",
    "\n",
    "        # Approach #1: create lookup for each word\n",
    "        # 1. For each word, map each letter in the word to the number of occurrences of the letter in that word (Counter(word))\n",
    "        # 2. Add the word's dictionary to a list of unique letter dictionaries for all words\n",
    "        # 3. The result List[List:str]] is the same length as the list of unique dictionaries of words\n",
    "        # 4. Keep a mapping of word->index in list of unique dictionaries in a separate dict\n",
    "        # 5. Go through the keys in the word->index dict and add them to the result\n",
    "        # Example:\n",
    "        # [\"eat\",\"tea\",\"tan\",\"ate\",\"nat\",\"bat\"]\n",
    "        # unique word dictionaries [{e:1, a:1, t:1}, {t:1, a:1, n:1}, {t:1, a:1, b:1} (length = 3)\n",
    "        # {eat: 0, tea: 0, tan:1, ate: 0, nat: 1, bat: 2}\n",
    "        # result: [[eat, tea, ate], [tan, nat], [bat]] (length = 3)\n",
    "        # time complexity: O(n^2) worst case for hash table insertion, O(n) average\n",
    "\n",
    "        # Approach #2:\n",
    "\n",
    "        result = defaultdict(list)\n",
    "\n",
    "        for s in strs:\n",
    "            d = Counter(s)\n",
    "            key = \"\".join([f\"{k}{v}\" for k, v in sorted(d.items())])\n",
    "            result[key].append(s)\n",
    "\n",
    "        groups = []\n",
    "        for k, v in result.items():\n",
    "            groups.append(v)\n",
    "        return groups"
   ],
   "metadata": {
    "collapsed": false,
    "pycharm": {
     "name": "#%%\n"
    }
   }
  },
  {
   "cell_type": "markdown",
   "source": [
    "### 249. Group Shifted Strings\n",
    "Source: [https://leetcode.com/problems/group-shifted-strings/](https://leetcode.com/problems/group-shifted-strings/)"
   ],
   "metadata": {
    "collapsed": false,
    "pycharm": {
     "name": "#%% md\n"
    }
   }
  },
  {
   "cell_type": "code",
   "execution_count": 7,
   "outputs": [
    {
     "data": {
      "text/plain": "dict_values([['abc', 'bcd', 'xyz'], ['acef'], ['az', 'ba'], ['a', 'z']])"
     },
     "execution_count": 7,
     "metadata": {},
     "output_type": "execute_result"
    }
   ],
   "source": [
    "class Solution:\n",
    "    def groupStrings(self, strings: List[str]) -> List[List[str]]:\n",
    "        # Approach\n",
    "        # Shift each string until the starting character is a\n",
    "        # If the shifted string is in the lookup of previously shifted strings\n",
    "        # then append it to the list of strings for that key\n",
    "        # Repeat for all strings\n",
    "\n",
    "        lookup = defaultdict(list)\n",
    "\n",
    "        def shift(key: str) -> str:\n",
    "            # shifts a string until starting character is 'a'\n",
    "\n",
    "            if key[0] != 'a':\n",
    "                diff = ord(key[0]) - ord('a')\n",
    "                result = []\n",
    "                for c in key:\n",
    "                    c_shifted = ord(c) - diff\n",
    "                    if c_shifted < ord('a'):\n",
    "                        c_shifted = ord('z') - (ord('a') - c_shifted) + 1\n",
    "                    result.append(chr(c_shifted))\n",
    "                result = \"\".join(result)\n",
    "            else:\n",
    "                result = key\n",
    "            return result\n",
    "\n",
    "        for s in strings:\n",
    "            s_shifted = shift(s)\n",
    "            lookup[s_shifted].append(s)\n",
    "\n",
    "        return lookup.values()\n",
    "Solution().groupStrings([\"abc\",\"bcd\",\"acef\",\"xyz\",\"az\",\"ba\",\"a\",\"z\"])"
   ],
   "metadata": {
    "collapsed": false,
    "pycharm": {
     "name": "#%%\n"
    }
   }
  },
  {
   "cell_type": "code",
   "execution_count": null,
   "outputs": [],
   "source": [],
   "metadata": {
    "collapsed": false,
    "pycharm": {
     "name": "#%%\n"
    }
   }
  }
 ],
 "metadata": {
  "kernelspec": {
   "display_name": "Python 3 (ipykernel)",
   "language": "python",
   "name": "python3"
  },
  "language_info": {
   "codemirror_mode": {
    "name": "ipython",
    "version": 3
   },
   "file_extension": ".py",
   "mimetype": "text/x-python",
   "name": "python",
   "nbconvert_exporter": "python",
   "pygments_lexer": "ipython3",
   "version": "3.8.7"
  }
 },
 "nbformat": 4,
 "nbformat_minor": 1
}