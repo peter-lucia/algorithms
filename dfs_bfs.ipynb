{
 "cells": [
  {
   "cell_type": "code",
   "execution_count": 15,
   "outputs": [],
   "source": [
    "from typing import List"
   ],
   "metadata": {
    "collapsed": false,
    "pycharm": {
     "name": "#%%\n"
    }
   }
  },
  {
   "cell_type": "markdown",
   "metadata": {
    "collapsed": true,
    "pycharm": {
     "name": "#%% md\n"
    }
   },
   "source": [
    "### DFS\n",
    "* Retains the path in class variable"
   ]
  },
  {
   "cell_type": "code",
   "execution_count": 16,
   "outputs": [
    {
     "name": "stdout",
     "output_type": "stream",
     "text": [
      "Found 1\n",
      "Found 2\n",
      "Found 4\n",
      "Found 5\n",
      "Found 3\n"
     ]
    }
   ],
   "source": [
    "\n",
    "#### Definition for a binary tree node\n",
    "class TreeNode:\n",
    "    def __init__(self, val=0, left=None, right=None):\n",
    "        self.val = val\n",
    "        self.left = left\n",
    "        self.right = right\n",
    "\n",
    "class DFS:\n",
    "    def __init__(self):\n",
    "        self.explored = []\n",
    "\n",
    "    def dfs_traversal(self, root):\n",
    "        if root is None:\n",
    "            return []\n",
    "        else:\n",
    "            self.explored.append(root.val)\n",
    "            print(f\"Found {root.val}\")\n",
    "            self.dfs_traversal(root.left)\n",
    "            self.dfs_traversal(root.right)\n",
    "\n",
    "d = TreeNode(val=5)\n",
    "c = TreeNode(val=4)\n",
    "b = TreeNode(val=3)\n",
    "a = TreeNode(val=2, left=c, right=d)\n",
    "root = TreeNode(val=1, left=a, right=b)\n",
    "dfs = DFS()\n",
    "dfs.dfs_traversal(root)"
   ],
   "metadata": {
    "collapsed": false,
    "pycharm": {
     "name": "#%%\n"
    }
   }
  },
  {
   "cell_type": "markdown",
   "source": [
    "#### DFS for a binary tree\n",
    "* Retains path as parameter"
   ],
   "metadata": {
    "collapsed": false,
    "pycharm": {
     "name": "#%% md\n"
    }
   }
  },
  {
   "cell_type": "code",
   "execution_count": 17,
   "outputs": [
    {
     "name": "stdout",
     "output_type": "stream",
     "text": [
      "Found 1\n",
      "Found 2\n",
      "Found 4\n",
      "Found 5\n",
      "Found 3\n",
      "[1, 2, 4, 5, 3]\n"
     ]
    }
   ],
   "source": [
    "def dfs_traversal(root, explored):\n",
    "    if root is None:\n",
    "        return []\n",
    "    else:\n",
    "        explored.append(root.val)\n",
    "        print(f\"Found {root.val}\")\n",
    "        dfs_traversal(root.left, explored)\n",
    "        dfs_traversal(root.right, explored)\n",
    "\n",
    "d = TreeNode(val=5)\n",
    "c = TreeNode(val=4)\n",
    "b = TreeNode(val=3)\n",
    "a = TreeNode(val=2, left=c, right=d)\n",
    "root = TreeNode(val=1, left=a, right=b)\n",
    "dfs = DFS()\n",
    "explored = []\n",
    "dfs_traversal(root, explored)\n",
    "print(explored)"
   ],
   "metadata": {
    "collapsed": false,
    "pycharm": {
     "name": "#%%\n"
    }
   }
  },
  {
   "cell_type": "markdown",
   "source": [
    "#### DFS for Adjacency List\n",
    "* Only retains path by printing it"
   ],
   "metadata": {
    "collapsed": false,
    "pycharm": {
     "name": "#%% md\n"
    }
   }
  },
  {
   "cell_type": "code",
   "execution_count": 4,
   "outputs": [
    {
     "name": "stdout",
     "output_type": "stream",
     "text": [
      "A\n",
      "B\n",
      "D\n",
      "E\n",
      "F\n",
      "C\n"
     ]
    }
   ],
   "source": [
    "# https://www.educative.io/edpresso/how-to-implement-depth-first-search-in-python\n",
    "# Using a Python dictionary to act as an adjacency list\n",
    "# Time complexity: O(V + E)\n",
    "graph = {\n",
    "    'A' : ['B','C'],\n",
    "    'B' : ['D', 'E'],\n",
    "    'C' : ['F'],\n",
    "    'D' : [],\n",
    "    'E' : ['F'],\n",
    "    'F' : []\n",
    "}\n",
    "\n",
    "\n",
    "def dfs(visited, graph, node):\n",
    "    if node not in visited:\n",
    "        print(node)\n",
    "        visited.add(node)\n",
    "        for neighbor in graph[node]:\n",
    "            dfs(visited, graph, neighbor)\n",
    "\n",
    "visited = set() # Set to keep track of visited nodes.\n",
    "# Driver Code\n",
    "dfs(visited, graph, 'A')"
   ],
   "metadata": {
    "collapsed": false,
    "pycharm": {
     "name": "#%%\n"
    }
   }
  },
  {
   "cell_type": "markdown",
   "source": [
    "#### DFS for Adjacency List\n",
    "* Retains the path via the visited array"
   ],
   "metadata": {
    "collapsed": false
   }
  },
  {
   "cell_type": "code",
   "execution_count": 5,
   "outputs": [
    {
     "name": "stdout",
     "output_type": "stream",
     "text": [
      "['A', 'B', 'D', 'E', 'F', 'C']\n"
     ]
    }
   ],
   "source": [
    "def dfs(visited, graph, node):\n",
    "    if node not in visited:\n",
    "        visited.append(node)\n",
    "        for neighbor in graph[node]:\n",
    "            dfs(visited, graph, neighbor)\n",
    "\n",
    "# Driver Code\n",
    "visited = [] # List to keep track of visited nodes.\n",
    "dfs(visited, graph, 'A')\n",
    "print(visited)"
   ],
   "metadata": {
    "collapsed": false,
    "pycharm": {
     "name": "#%%\n"
    }
   }
  },
  {
   "cell_type": "markdown",
   "source": [
    "### BFS Adjacency List"
   ],
   "metadata": {
    "collapsed": false
   }
  },
  {
   "cell_type": "code",
   "execution_count": 14,
   "outputs": [
    {
     "name": "stdout",
     "output_type": "stream",
     "text": [
      "Queue:  ['A']\n",
      "Queue:  ['B', 'F']\n",
      "Queue:  ['F', 'D', 'E']\n",
      "Queue:  ['D', 'E']\n",
      "Queue:  ['E']\n",
      "Visited:  ['A', 'B', 'F', 'D', 'E']\n"
     ]
    }
   ],
   "source": [
    "# Source: https://www.educative.io/edpresso/how-to-implement-a-breadth-first-search-in-python\n",
    "# Time complexity: O(V + E)\n",
    "my_graph = {\n",
    "  'A' : ['B','F'],\n",
    "  'B' : ['D', 'E'],\n",
    "  'C' : ['F'],\n",
    "  'D' : [],\n",
    "  'E' : ['F'],\n",
    "  'F' : []\n",
    "}\n",
    "\n",
    "def bfs(visited: List[str], graph: dict, node: str):\n",
    "    visited.append(node)\n",
    "    queue.append(node)\n",
    "\n",
    "    while queue:\n",
    "        print(\"Queue: \", queue)\n",
    "        s = queue.pop(0)\n",
    "        # print(s, end = \" \")\n",
    "        for neighbour in graph[s]:\n",
    "            if neighbour not in visited:\n",
    "                visited.append(neighbour)\n",
    "                queue.append(neighbour)\n",
    "\n",
    "# Driver Code\n",
    "visited = [] # List to keep track of visited nodes.\n",
    "queue = []\n",
    "bfs(visited, my_graph, 'A')\n",
    "print(\"Visited: \", visited)"
   ],
   "metadata": {
    "collapsed": false,
    "pycharm": {
     "name": "#%%\n"
    }
   }
  },
  {
   "cell_type": "code",
   "execution_count": null,
   "outputs": [],
   "source": [],
   "metadata": {
    "collapsed": false,
    "pycharm": {
     "name": "#%%\n"
    }
   }
  }
 ],
 "metadata": {
  "kernelspec": {
   "display_name": "Python 3",
   "language": "python",
   "name": "python3"
  },
  "language_info": {
   "codemirror_mode": {
    "name": "ipython",
    "version": 2
   },
   "file_extension": ".py",
   "mimetype": "text/x-python",
   "name": "python",
   "nbconvert_exporter": "python",
   "pygments_lexer": "ipython2",
   "version": "2.7.6"
  }
 },
 "nbformat": 4,
 "nbformat_minor": 0
}