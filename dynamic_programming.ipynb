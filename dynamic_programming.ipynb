{
 "cells": [
  {
   "cell_type": "markdown",
   "source": [
    "#### Knapsack\n",
    "T(n) = O(nB), where B is the capacity"
   ],
   "metadata": {
    "collapsed": false,
    "pycharm": {
     "name": "#%% md\n"
    }
   }
  },
  {
   "cell_type": "code",
   "execution_count": 5,
   "metadata": {
    "collapsed": true
   },
   "outputs": [
    {
     "name": "stdout",
     "output_type": "stream",
     "text": [
      "16\n",
      "17\n",
      "22\n"
     ]
    }
   ],
   "source": [
    "def solve_knapsack(profits, weights, capacity):\n",
    "    n = len(profits)\n",
    "    B = capacity\n",
    "    T = [[0 for _ in range(B+1)] for _ in range(n)]\n",
    "\n",
    "    # recurrence\n",
    "    #                          profit[i] + row above - w[i] , row above)\n",
    "    # max profit T(i, b) = max(p[i] + T(i-1, b-w[i]), T(i-1, b)),\n",
    "    for i in range(n):\n",
    "        for b in range(B+1):\n",
    "            if weights[i] <= b:\n",
    "                T[i][b] = max(profits[i] + T[i-1][b-weights[i]], T[i-1][b])\n",
    "            else:\n",
    "                T[i][b] = T[i-1][b]\n",
    "\n",
    "    # return T[n-1][B-1] == capacity\n",
    "    return T[n-1][B]\n",
    "\n",
    "profits = [1, 6, 10, 16]\n",
    "weights = [1, 2, 3, 5]\n",
    "print(solve_knapsack(profits, weights, 5))\n",
    "print(solve_knapsack(profits, weights, 6))\n",
    "print(solve_knapsack(profits, weights, 7))"
   ]
  },
  {
   "cell_type": "markdown",
   "source": [
    "#### Longest Common Subsequence\n",
    "\n",
    "$T(n) = O(n\\cdot m)$ if the strings have unequal length\n",
    "\n",
    "$T(n) = O(n^2)$ if the strings are of equal length"
   ],
   "metadata": {
    "collapsed": false,
    "pycharm": {
     "name": "#%% md\n"
    }
   }
  },
  {
   "cell_type": "code",
   "execution_count": 6,
   "outputs": [
    {
     "data": {
      "text/plain": "4"
     },
     "execution_count": 6,
     "metadata": {},
     "output_type": "execute_result"
    }
   ],
   "source": [
    "# https://leetcode.com/problems/longest-common-subsequence/\n",
    "def longest_common_subsequence(text1: str, text2: str) -> int:\n",
    "    if len(text1) == 0 or len(text2) == 0:\n",
    "        return 0\n",
    "\n",
    "    table = [[0 for _ in range(len(text2)+1)] for _ in range(len(text1)+1)]\n",
    "    for i in range(len(text1)):\n",
    "        for j in range(len(text2)):\n",
    "            if text1[i] == text2[j]:\n",
    "                table[i][j] = 1 + table[i-1][j-1]\n",
    "            else:\n",
    "                table[i][j] = max(table[i-1][j], table[i][j-1])\n",
    "    max_val = 0\n",
    "    for row in table:\n",
    "        max_val = max(max(row), max_val)\n",
    "    return max_val\n",
    "\n",
    "longest_common_subsequence(['a', 'b', 'c', 'd', 'e'],\n",
    "                           ['a', 'e', 'c', 'd', 'e'])"
   ],
   "metadata": {
    "collapsed": false,
    "pycharm": {
     "name": "#%%\n"
    }
   }
  },
  {
   "cell_type": "markdown",
   "source": [
    "### Nth Fibonacci Number"
   ],
   "metadata": {
    "collapsed": false,
    "pycharm": {
     "name": "#%% md\n"
    }
   }
  },
  {
   "cell_type": "code",
   "execution_count": 13,
   "outputs": [
    {
     "name": "stdout",
     "output_type": "stream",
     "text": [
      "fib(0)=0\n",
      "fib(1)=1\n",
      "fib(2)=1\n",
      "fib(3)=2\n",
      "fib(4)=3\n",
      "fib(5)=5\n",
      "fib(6)=8\n",
      "fib(7)=13\n",
      "fib(8)=21\n",
      "fib(9)=34\n"
     ]
    }
   ],
   "source": [
    "def fib(n):\n",
    "    a = 0\n",
    "    b = 1\n",
    "    for _ in range(n):\n",
    "        a, b = b, a + b\n",
    "    return a\n",
    "\n",
    "def fib_verbose(n):\n",
    "    a = 0\n",
    "    b = 1\n",
    "    for _ in range(n):\n",
    "        tmp = a\n",
    "        a = b\n",
    "        b = tmp + b\n",
    "    return a\n",
    "\n",
    "for i in range(10):\n",
    "    a = fib(i)\n",
    "    b = fib_verbose(i)\n",
    "    assert a == b\n",
    "    print(f\"fib({i})={fib(i)}\")\n"
   ],
   "metadata": {
    "collapsed": false,
    "pycharm": {
     "name": "#%%\n"
    }
   }
  },
  {
   "cell_type": "code",
   "execution_count": null,
   "outputs": [],
   "source": [],
   "metadata": {
    "collapsed": false,
    "pycharm": {
     "name": "#%%\n"
    }
   }
  }
 ],
 "metadata": {
  "kernelspec": {
   "display_name": "Python 3",
   "language": "python",
   "name": "python3"
  },
  "language_info": {
   "codemirror_mode": {
    "name": "ipython",
    "version": 2
   },
   "file_extension": ".py",
   "mimetype": "text/x-python",
   "name": "python",
   "nbconvert_exporter": "python",
   "pygments_lexer": "ipython2",
   "version": "2.7.6"
  }
 },
 "nbformat": 4,
 "nbformat_minor": 0
}