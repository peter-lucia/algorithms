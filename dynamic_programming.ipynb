{
 "cells": [
  {
   "cell_type": "markdown",
   "source": [
    "#### Knapsack\n",
    "T(n) = O(nB), where B is the capacity"
   ],
   "metadata": {
    "collapsed": false,
    "pycharm": {
     "name": "#%% md\n"
    }
   }
  },
  {
   "cell_type": "code",
   "execution_count": 1,
   "metadata": {
    "collapsed": true
   },
   "outputs": [
    {
     "name": "stdout",
     "output_type": "stream",
     "text": [
      "16\n",
      "17\n",
      "22\n"
     ]
    }
   ],
   "source": [
    "import sys\n",
    "\n",
    "# 0 / 1 knapsack\n",
    "# dp[i][j] = max val possible with up to i items limited by weight j\n",
    "\n",
    "# initially all items have > 0 weight, so we can get up to 0 value for\n",
    "# the first column\n",
    "#               wt (aka b)\n",
    "# val wt  0  1  2  3  4  5  6  7\n",
    "#  1  1   0\n",
    "#  4  3   0\n",
    "#  5  4   0\n",
    "#  5  7   0\n",
    "\n",
    "#               wt (aka b)\n",
    "# val wt  0  1  2  3  4  5  6  7\n",
    "#  1  1   0' 1  1  1  1  1  1  1\n",
    "#  4  3   0  1  1  4' 5  5  5  5\n",
    "#  5  4   0  1  1  4  5  6  6  9'\n",
    "#  7  5   0  1  1  4  5  7  8  9\n",
    "\n",
    "# items 4 and 5 with weights 3 and 4 contribute to the largest value having weight <= 7\n",
    "\n",
    "def solve_knapsack(profits, weights, capacity):\n",
    "    n = len(profits)\n",
    "    B = capacity\n",
    "    T = [[0 for _ in range(B+1)] for _ in range(n)]\n",
    "\n",
    "    # recurrence\n",
    "    #                          profit[i] + row above - w[i] , row above)\n",
    "    # max profit T(i, b) = max(p[i] + T(i-1, b-w[i]), T(i-1, b)),\n",
    "    for i in range(n):\n",
    "        for b in range(B+1):\n",
    "            if weights[i] <= b:\n",
    "                T[i][b] = max(profits[i] + T[i-1][b-weights[i]], T[i-1][b])\n",
    "            else:\n",
    "                T[i][b] = T[i-1][b]\n",
    "\n",
    "    # return T[n-1][B-1] == capacity\n",
    "    return T[n-1][B]\n",
    "\n",
    "profits = [1, 6, 10, 16]  # aka vals\n",
    "weights = [1, 2, 3, 5]\n",
    "print(solve_knapsack(profits, weights, 5))\n",
    "print(solve_knapsack(profits, weights, 6))\n",
    "print(solve_knapsack(profits, weights, 7))"
   ]
  },
  {
   "cell_type": "markdown",
   "source": [
    "#### Longest Common Subsequence\n",
    "\n",
    "$T(n) = O(n\\cdot m)$ if the strings have unequal length\n",
    "\n",
    "$T(n) = O(n^2)$ if the strings are of equal length"
   ],
   "metadata": {
    "collapsed": false,
    "pycharm": {
     "name": "#%% md\n"
    }
   }
  },
  {
   "cell_type": "code",
   "execution_count": 5,
   "outputs": [
    {
     "data": {
      "text/plain": "4"
     },
     "execution_count": 5,
     "metadata": {},
     "output_type": "execute_result"
    }
   ],
   "source": [
    "# https://leetcode.com/problems/longest-common-subsequence/\n",
    "\n",
    "\n",
    "# dp[i][j] = longest common subsequence up to and including str1[i] and str2[j]\n",
    "#   ''  a  b  c  d  e\n",
    "# '' 0  0  0  0  0  0\n",
    "# a  0  1  1  1  1  1\n",
    "# e  0  1  1  1  1  2\n",
    "# c  0  1  1  2  2  2\n",
    "# d  0  1  1  1  3  3\n",
    "# e  0  1  1  1  3  4\n",
    "\n",
    "\n",
    "#   ''  a  b  e  x  q\n",
    "# '' 0  0  0  0  0  0\n",
    "# a  0  1  1  1  1  1\n",
    "# e  0  1  1  2  2  2\n",
    "# c  0  1  1  2  2  2\n",
    "# d  0  1 `1` 2  2  2   # Remember when text1[i] == text2[j], let dp[ii][jj] = dp[ii-1][jj-1] + 1\n",
    "# e  0  1  1  2  2  2\n",
    "class Solution:\n",
    "    def longestCommonSubsequence(self, text1: str, text2: str) -> int:\n",
    "        if len(text1) == 0 or len(text2) == 0:\n",
    "            return 0\n",
    "        n = len(text1)\n",
    "        m = len(text2)\n",
    "\n",
    "        dp = [[0 for _ in range(len(text2)+1)] for _ in range(len(text1)+1)]\n",
    "        for i in range(len(text1)):\n",
    "            for j in range(len(text2)):\n",
    "                # use i, j for text1 and text2\n",
    "                # use ii, jj for dp table\n",
    "                ii = i+1\n",
    "                jj = j+1\n",
    "                if text1[i] == text2[j]:\n",
    "                    dp[ii][jj] = 1 + dp[ii-1][jj-1]\n",
    "                else:\n",
    "                    dp[ii][jj] = max(dp[ii-1][jj], dp[ii][jj-1])\n",
    "        return dp[n][m]\n",
    "\n",
    "Solution().longestCommonSubsequence(['a', 'b', 'c', 'd', 'e'],\n",
    "                                    ['a', 'e', 'c', 'd', 'e'])"
   ],
   "metadata": {
    "collapsed": false,
    "pycharm": {
     "name": "#%%\n"
    }
   }
  },
  {
   "cell_type": "markdown",
   "source": [
    "### Nth Fibonacci Number"
   ],
   "metadata": {
    "collapsed": false,
    "pycharm": {
     "name": "#%% md\n"
    }
   }
  },
  {
   "cell_type": "code",
   "execution_count": 6,
   "outputs": [
    {
     "name": "stdout",
     "output_type": "stream",
     "text": [
      "fib(0)=0\n",
      "fib(1)=1\n",
      "fib(2)=1\n",
      "fib(3)=2\n",
      "fib(4)=3\n",
      "fib(5)=5\n",
      "fib(6)=8\n",
      "fib(7)=13\n",
      "fib(8)=21\n",
      "fib(9)=34\n"
     ]
    }
   ],
   "source": [
    "def fib(n):\n",
    "    a = 0\n",
    "    b = 1\n",
    "    for _ in range(n):\n",
    "        a, b = b, a + b\n",
    "    return a\n",
    "\n",
    "def fib_verbose(n):\n",
    "    a = 0\n",
    "    b = 1\n",
    "    for _ in range(n):\n",
    "        tmp = a\n",
    "        a = b\n",
    "        b = tmp + b\n",
    "    return a\n",
    "\n",
    "for i in range(10):\n",
    "    a = fib(i)\n",
    "    b = fib_verbose(i)\n",
    "    assert a == b\n",
    "    print(f\"fib({i})={fib(i)}\")\n"
   ],
   "metadata": {
    "collapsed": false,
    "pycharm": {
     "name": "#%%\n"
    }
   }
  },
  {
   "cell_type": "markdown",
   "source": [
    "### Longest Increasing Subsequence\n",
    "$T(n) = O(n^2)$\n"
   ],
   "metadata": {
    "collapsed": false,
    "pycharm": {
     "name": "#%% md\n"
    }
   }
  },
  {
   "cell_type": "code",
   "execution_count": 2,
   "outputs": [
    {
     "data": {
      "text/plain": "6"
     },
     "execution_count": 2,
     "metadata": {},
     "output_type": "execute_result"
    }
   ],
   "source": [
    "from typing import List\n",
    "\n",
    "#        j  i\n",
    "# nums = 3, 4, -1, 0, 6, 2, 3\n",
    "#  dp  = 1  1  1   1  1  1  1\n",
    "\n",
    "#        j  i\n",
    "# nums = 3, 4, -1, 0, 6, 2, 3\n",
    "#  dp  = 1  2  1   1  1  1  1\n",
    "\n",
    "#        j     i\n",
    "# nums = 3, 4, -1, 0, 6, 2, 3\n",
    "#  dp  = 1  2  1   1  1  1  1\n",
    "\n",
    "#        j         i\n",
    "# nums = 3, 4, -1, 0, 6, 2, 3\n",
    "#  dp  = 1  2  1   2  1  1  1\n",
    "\n",
    "#        j            i\n",
    "# nums = 3, 4, -1, 0, 6, 2, 3\n",
    "#  dp  = 1  2  1   2  3  1  1\n",
    "\n",
    "#        j               i\n",
    "# nums = 3, 4, -1, 0, 6, 2, 3\n",
    "#  dp  = 1  2  1   2  3  3  1\n",
    "\n",
    "#        j                  i\n",
    "# nums = 3, 4, -1, 0, 6, 2, 3\n",
    "#  dp  = 1  2  1   2  3  3  4\n",
    "\n",
    "# https://leetcode.com/problems/longest-increasing-subsequence/submissions/\n",
    "class Solution:\n",
    "    def lengthOfLIS(self, nums: List[int]) -> int:\n",
    "        if len(nums) == 0:\n",
    "            return 0\n",
    "\n",
    "        # array containing the length of the LIS up to each element\n",
    "        dp = [1 for _ in nums]\n",
    "\n",
    "        for i in range(len(nums)):\n",
    "            # _max holds the maximum LIS up to and including nums[i]\n",
    "            _max = 0\n",
    "            for j in range(0, i):\n",
    "                # check if nums[i] is greater than each previous element,\n",
    "                # starting at the first element in the array.\n",
    "                # keep track of length of LIS up to i with _max\n",
    "                if nums[i] > nums[j]:\n",
    "                    _max = max(_max, dp[j])  # notice that _max only takes values from dp table when it increases\n",
    "\n",
    "            # add 1 to account for nums[i]\n",
    "            dp[i] = _max + 1\n",
    "        return max(dp)\n",
    "\n",
    "Solution().lengthOfLIS([1,2,3,4,7,5,9,6])\n",
    "\n"
   ],
   "metadata": {
    "collapsed": false,
    "pycharm": {
     "name": "#%%\n"
    }
   }
  },
  {
   "cell_type": "markdown",
   "source": [
    "### Minimum Partition\n",
    "\n",
    "Given a set of integers, the task is to divide it into two sets S1 and S2 such that the absolute difference between their sums is minimum.\n",
    "If there is a set S with n elements, then if we assume Subset1 has m elements, Subset2 must have n-m elements and **the value of abs(sum(Subset1) – sum(Subset2)) should be minimum.**\n",
    "\n",
    "Return the minimum possible absolute difference.\n",
    "\n",
    "Sources:\n",
    "* [https://leetcode.com/problems/partition-array-into-two-arrays-to-minimize-sum-difference/](https://leetcode.com/problems/partition-array-into-two-arrays-to-minimize-sum-difference/) (the below solution from geeks for geeks does not pass the testcases here)\n",
    "* [https://www.geeksforgeeks.org/partition-a-set-into-two-subsets-such-that-the-difference-of-subset-sums-is-minimum/](https://www.geeksforgeeks.org/partition-a-set-into-two-subsets-such-that-the-difference-of-subset-sums-is-minimum/)"
   ],
   "metadata": {
    "collapsed": false,
    "pycharm": {
     "name": "#%% md\n"
    }
   }
  },
  {
   "cell_type": "code",
   "execution_count": 12,
   "outputs": [],
   "source": [
    "\n",
    "# dp table of size (n+1, sum+1)\n",
    "# dp[i][j] = 1 if the sum j is achieved including or excluding the ith number, 0 otherwise\n",
    "# arr = [1,6,11,5]\n",
    "# sum(arr) = 23\n",
    "\n",
    "# dp: size = (n+1, sum+1) = (5, 24)\n",
    "# 1 2 3  ...                                   24\n",
    "\n",
    "# sum(0) is possible for all elements\n",
    "# 1 0 0 0 0 0 0 0 0 0 0 0 0 0 0 0 0 0 0 0 0 0 0 0\n",
    "# 1 0 0 0 0 0 0 0 0 0 0 0 0 0 0 0 0 0 0 0 0 0 0 0\n",
    "# 1 0 0 0 0 0 0 0 0 0 0 0 0 0 0 0 0 0 0 0 0 0 0 0\n",
    "# 1 0 0 0 0 0 0 0 0 0 0 0 0 0 0 0 0 0 0 0 0 0 0 0\n",
    "# 1 0 0 0 0 0 0 0 0 0 0 0 0 0 0 0 0 0 0 0 0 0 0 0\n",
    "\n",
    "# all sums are impossible with 0 elements\n",
    "# 1 0 0 0 0 0 0 0 0 0 0 0 0 0 0 0 0 0 0 0 0 0 0 0\n",
    "# 1\n",
    "# 1\n",
    "# 1\n",
    "# 1\n",
    "\n",
    "# determine the largest j where dp[n][j] is 1 where j loops from sum / 2 to 0 (left half of table)\n",
    "# 1 0 0 0 0 0 0 0 0 0 0 0 0 0 0 0 0 0 0 0 0 0 0 0\n",
    "# 1\n",
    "# 1\n",
    "# 1\n",
    "# 1\n",
    "\n",
    "# Note this solution may not work for negative numbers\n",
    "import sys\n",
    "class Solution:\n",
    "    def minimumDifference(self, nums: List[int]) -> int:\n",
    "        total = max(sum(nums), max(nums))\n",
    "        n = len(nums)\n",
    "        dp = [[0 for _ in range(total+1)] for _ in range(n+1)]\n",
    "\n",
    "        # Base case, first row is False since no sums are possible with 0 elements,\n",
    "        # this is already done\n",
    "\n",
    "        for i in range(n):\n",
    "            for j in range(total):\n",
    "                # Base case, first column is True since a sum of 0 is possible with all elements\n",
    "                if j == 0:\n",
    "                    dp[i][j] = 1\n",
    "                    continue\n",
    "                else:\n",
    "                    # set dp indices\n",
    "                    ii = i + 1\n",
    "                    jj = j + 1\n",
    "                    # if nums[i] is excluded, we can assume this is try first before checking whether it can be included\n",
    "                    dp[ii][jj] = dp[ii-1][jj]\n",
    "                    # if nums[i] is included it must be less than or equal to the current sum\n",
    "                    if nums[i] <= jj:\n",
    "                        # jj - nums[i] must be possible excluding nums[i] for jj to be possible including nums[i]\n",
    "                        if dp[ii-1][jj - nums[i]] == 1:\n",
    "                            dp[ii][jj] = 1\n",
    "\n",
    "        diff = sys.maxsize\n",
    "        # find the largest jj such that dp[n+1][jj] = 1\n",
    "        # loop from 0 <----- jj = sum / 2 which is the left half of the dp table\n",
    "        for jj in range(total // 2, -1, -1):\n",
    "            if dp[n][jj] == 1:\n",
    "                diff = total - (2*jj)\n",
    "                break\n",
    "        return diff\n",
    "\n",
    "\n",
    "assert Solution().minimumDifference([1,6,11,5]) == 1  # 12 - 11"
   ],
   "metadata": {
    "collapsed": false,
    "pycharm": {
     "name": "#%%\n"
    }
   }
  },
  {
   "cell_type": "markdown",
   "source": [
    "[1937] Maximum Number of Points with Cost\n",
    "\n",
    "https://leetcode.com/problems/maximum-number-of-points-with-cost/\n",
    "\n",
    "Brute force solution\n",
    "\n",
    "base_case:\n",
    "\n",
    "\n",
    "* $max\\_sum[i,j] = 0$ where 0 < i < n and 0 < j < m\n",
    "\n",
    "recurrence:\n",
    "* $ max\\_sum[i,j] = max(max\\_sum[i,j], max\\_sum[i-1,k] + points[i,j] - abs(k-j))$\n",
    "\n",
    "for all k where k is between 0 and m\n",
    "and 0 < i < n and 0 < j < m\n",
    "\n",
    "* Time complexity: O(nm^2) since we iterate over the entire table once and over m twice\n",
    "* Space complexity: O(nm) for the table\n",
    "\n",
    "Faster solution\n",
    "https://leetcode.com/problems/maximum-number-of-points-with-cost/discuss/1567183/Python3%3A-Easy-DP-method-with-thorough-explanation\n"
   ],
   "metadata": {
    "collapsed": false,
    "pycharm": {
     "name": "#%% md\n"
    }
   }
  },
  {
   "cell_type": "code",
   "execution_count": null,
   "outputs": [],
   "source": [
    "# Brute force solution, passes 140/157 test cases\n",
    "\n",
    "class Solution:\n",
    "    def maxPoints(self, points: List[List[int]]) -> int:\n",
    "\n",
    "        # 1 5\n",
    "        # 2 3\n",
    "        # 4 2\n",
    "        # maximum sum: 5 + 3 + (4-1) = 11\n",
    "\n",
    "        # Keep track of max sum between current row and previous row\n",
    "        # if you select only numbers to the left of the element in the previous row\n",
    "        # or only select the numbers to the right of the current element in the previous row\n",
    "\n",
    "        # Basically use the previously computed subproblems to incrementally decide the best combination\n",
    "        # from the previous row\n",
    "        # 1 3 2 1 6\n",
    "        # 1 4 3 2 8\n",
    "\n",
    "        n = len(points)\n",
    "        m = len(points[0])\n",
    "\n",
    "        for row in points:\n",
    "            print(row)\n",
    "        print(\"----------\")\n",
    "\n",
    "        max_rows = [[0 for _ in range(m)] for _ in range(n)]\n",
    "        for i in range(n):\n",
    "\n",
    "            for j in range(m):\n",
    "                if i == 0:\n",
    "                    max_rows[i][j] = points[i][j]\n",
    "                else:\n",
    "                    for x in range(0, j+1):\n",
    "                        max_rows[i][j] = max(max_rows[i][j], max_rows[i-1][x] + points[i][j] - (j-x))\n",
    "\n",
    "\n",
    "            for j in range(m-1, -1, -1):\n",
    "                if i == 0:\n",
    "                    max_rows[i][j] = points[i][j]\n",
    "                else:\n",
    "                    for x in range(m-1, j-1, -1):\n",
    "                        max_rows[i][j] = max(max_rows[i][j], max_rows[i-1][x] + points[i][j] - (x - j))\n",
    "        return max(max_rows[n-1])\n",
    "\n"
   ],
   "metadata": {
    "collapsed": false,
    "pycharm": {
     "name": "#%%\n"
    }
   }
  },
  {
   "cell_type": "code",
   "execution_count": 3,
   "outputs": [
    {
     "data": {
      "text/plain": "9"
     },
     "execution_count": 3,
     "metadata": {},
     "output_type": "execute_result"
    }
   ],
   "source": [
    "# Faster solution:\n",
    "from typing import List\n",
    "import copy\n",
    "class Solution:\n",
    "    def maxPoints(self, points: List[List[int]]) -> int:\n",
    "        # Time complexity: O(nm) since we iterate over the entire table once and over m twice\n",
    "        # Space complexity: O(nm) for the table\n",
    "        if not points:\n",
    "            return 0\n",
    "        n = len(points)\n",
    "        m = len(points[0])\n",
    "        max_sum = [[0 for _ in range(m)] for _ in range(n)]\n",
    "\n",
    "        for i in range(n):\n",
    "            for j in range(m):\n",
    "                if i == 0:\n",
    "                    max_sum[i][j] = points[i][j]\n",
    "                if i > 0:\n",
    "                    # max sum of points directly above each other\n",
    "                    max_sum[i][j] = max(max_sum[i][j], max_sum[i-1][j] + points[i][j])\n",
    "            # get max sum from current row will be available to the next row\n",
    "            # each move left subtracts 1 from the max sum possible found so far\n",
    "            # move right -> left\n",
    "            for j in range(m-2, -1, -1):\n",
    "                max_sum[i][j] = max(max_sum[i][j], max_sum[i][j + 1] - 1)\n",
    "            # get max sum from current row will be available to the next row\n",
    "            # each move right subtracts 1 from the max sum possible found so far\n",
    "            # move left -> right\n",
    "            for j in range(1, m):\n",
    "                max_sum[i][j] = max(max_sum[i][j], max_sum[i][j - 1] - 1)\n",
    "        # the answer is the max value of the last row\n",
    "        return max(max_sum[-1])\n",
    "\n",
    "\n",
    "points = [\n",
    "    [1,2,3],\n",
    "    [1,5,1],\n",
    "    [3,1,1],\n",
    "]\n",
    "Solution().maxPoints(points)"
   ],
   "metadata": {
    "collapsed": false,
    "pycharm": {
     "name": "#%%\n"
    }
   }
  },
  {
   "cell_type": "markdown",
   "source": [
    "### Longest string chain\n",
    "* https://leetcode.com/problems/longest-string-chain/\n"
   ],
   "metadata": {
    "collapsed": false
   }
  },
  {
   "cell_type": "code",
   "execution_count": 9,
   "outputs": [],
   "source": [
    "from collections import defaultdict\n",
    "from typing import List\n",
    "class Solution:\n",
    "\n",
    "    def longestStrChain(self, words: List[str]) -> int:\n",
    "        # approach #1\n",
    "        # build a Trie from the words list\n",
    "        # keep track of the max depth when reaching the end of a word\n",
    "        # return the max depth\n",
    "\n",
    "        # approach #2 (working)\n",
    "        # Source: https://leetcode.com/problems/longest-string-chain/discuss/294890/JavaC%2B%2BPython-DP-Solution\n",
    "        # 1. sort the words by length\n",
    "        # 2. Use a hashmap to map a word to the number of predecessor words\n",
    "        # 3. For each word, iterate over all substrings with each character removed in that word\n",
    "        #    If the substring is found in the table, increment the predecessors for the word by\n",
    "        #    the greater quantity between one plus what was found in the lookup for the substr\n",
    "        #    or what exist in the lookup for the current word\n",
    "        # 4. Return the max number of predecessors found for all words, keep track of these each\n",
    "        #    time the lookup for a word is adjusted\n",
    "        # Time complexity: O(nlogn + nL^2) where L is the average (or longest) word length\n",
    "\n",
    "        # Assumptions\n",
    "        # Can assume 1 <= len(words) <= 1000\n",
    "        # 1 <= words[i].length <= 16\n",
    "        # words[i] only consists of English letters\n",
    "\n",
    "        words = sorted(words, key=len)\n",
    "        lookup = defaultdict(int)\n",
    "\n",
    "        # a single word is a word chain\n",
    "        result = 1\n",
    "\n",
    "        for word in words:\n",
    "            lookup[word] = 1\n",
    "\n",
    "            for i in range(len(word)):\n",
    "                substr = word[:i] + word[i+1:]\n",
    "\n",
    "                # because we care about letter order for predecessors, we don't need all permutations of the substring\n",
    "                if substr in lookup:\n",
    "                    lookup[word] = max(lookup[word], lookup[substr] + 1)\n",
    "                    result = max(result, lookup[word])\n",
    "\n",
    "        return result\n"
   ],
   "metadata": {
    "collapsed": false,
    "pycharm": {
     "name": "#%%\n"
    }
   }
  },
  {
   "cell_type": "code",
   "execution_count": 10,
   "outputs": [],
   "source": [
    "assert Solution().longestStrChain([\"a\",\"b\",\"ba\",\"bca\",\"bda\",\"bdca\"]) == 4"
   ],
   "metadata": {
    "collapsed": false,
    "pycharm": {
     "name": "#%%\n"
    }
   }
  },
  {
   "cell_type": "code",
   "execution_count": 11,
   "outputs": [],
   "source": [
    "assert Solution().longestStrChain([\"xbc\",\"pcxbcf\",\"xb\",\"cxbc\",\"pcxbc\"]) == 5"
   ],
   "metadata": {
    "collapsed": false,
    "pycharm": {
     "name": "#%%\n"
    }
   }
  },
  {
   "cell_type": "markdown",
   "source": [
    "### Number of matching subsequences\n",
    "[https://leetcode.com/problems/number-of-matching-subsequences/](https://leetcode.com/problems/number-of-matching-subsequences/)"
   ],
   "metadata": {
    "collapsed": false,
    "pycharm": {
     "name": "#%% md\n"
    }
   }
  },
  {
   "cell_type": "code",
   "execution_count": 6,
   "outputs": [
    {
     "data": {
      "text/plain": "6"
     },
     "execution_count": 6,
     "metadata": {},
     "output_type": "execute_result"
    }
   ],
   "source": [
    "from typing import List\n",
    "class Solution:\n",
    "\n",
    "    def is_word_in_s(self, word: str, s: str) -> bool:\n",
    "        for c in word:\n",
    "            idx = s.find(c)\n",
    "            if idx == -1:\n",
    "                return False\n",
    "\n",
    "            s = s[idx+1:]\n",
    "        return True\n",
    "\n",
    "    def numMatchingSubseq(self, s: str, words: List[str]) -> int:\n",
    "        # Approach\n",
    "\n",
    "        # Time complexity: O(nklogk) where k is the length of the longest word, n is the number of words\n",
    "        # Space complexity: O(1) since we just keep a counter of the total number of matches\n",
    "        # 1. Iterate over each word\n",
    "        # 2. iterate over each character c in the word\n",
    "        # 3. if we find c in the word, let s = s[idx_of_c+1:]\n",
    "        #    otherwise, reject this word\n",
    "        # 4. if we find all characters of word in s, increment total counter\n",
    "        # 5. return the counter\n",
    "\n",
    "        result = 0\n",
    "        for word in words:\n",
    "            if self.is_word_in_s(word, s):\n",
    "                result += 1\n",
    "        return result\n",
    "\n",
    "Solution().numMatchingSubseq(\"abc\", [\"a\", \"b\", \"c\", \"ab\", \"bc\", \"abc\"])"
   ],
   "metadata": {
    "collapsed": false,
    "pycharm": {
     "name": "#%%\n"
    }
   }
  },
  {
   "cell_type": "markdown",
   "source": [
    "### Edit Distance\n",
    "\n",
    "Source: [https://www.geeksforgeeks.org/edit-distance-dp-5/](https://www.geeksforgeeks.org/edit-distance-dp-5/)\n"
   ],
   "metadata": {
    "collapsed": false,
    "pycharm": {
     "name": "#%% md\n"
    }
   }
  },
  {
   "cell_type": "code",
   "execution_count": 4,
   "outputs": [
    {
     "name": "stdout",
     "output_type": "stream",
     "text": [
      "[0, 1, 2, 3, 4, 5, 6, 7, 8]\n",
      "[1, 0, 1, 2, 3, 4, 5, 6, 7]\n",
      "[2, 1, 1, 2, 2, 3, 4, 5, 6]\n",
      "[3, 2, 2, 2, 3, 3, 4, 5, 6]\n",
      "[4, 3, 3, 3, 3, 4, 3, 4, 5]\n",
      "[5, 4, 3, 4, 4, 4, 4, 3, 4]\n",
      "[6, 5, 4, 4, 5, 5, 5, 4, 3]\n"
     ]
    }
   ],
   "source": [
    "\n",
    "\n",
    "# dp[i][j] = the minimum edit distance up to and including i from str1 and j from str 2\n",
    "#    ''  s  a  t  u  r  d  a  y\n",
    "# '' [0, 1, 2, 3, 4, 5, 6, 7, 8]\n",
    "# s  [1, 0, 1, 2, 3, 4, 5, 6, 7]\n",
    "# u  [2, 1, 1, 2, 2, 3, 4, 5, 6]\n",
    "# n  [3, 2, 2, 2, 3, 3, 4, 5, 6]\n",
    "# d  [4, 3, 3, 3, 3, 4, 3, 4, 5]\n",
    "# a  [5, 4, 3, 4, 4, 4, 4, 3, 4]\n",
    "# y  [6, 5, 4, 4, 5, 5, 5, 4, 3]\n",
    "\n",
    "\n",
    "\n",
    "def edit_distance(str1, str2):\n",
    "    \"\"\"\n",
    "    Time complexity: O(nm)\n",
    "    Space compleity: O(nm)\n",
    "    \"\"\"\n",
    "    n = len(str1)\n",
    "    m = len(str2)\n",
    "    dp = [[0 for _ in range(m+1)] for _ in range(n+1)]\n",
    "\n",
    "    for i in range(n+1):\n",
    "        for j in range(m+1):\n",
    "\n",
    "            # when first string is empty, only option is to insert\n",
    "            # all of the characters up to j: requires j operations\n",
    "            if i == 0:\n",
    "                dp[i][j] = j\n",
    "\n",
    "            # if second string is empty, only option is to insert\n",
    "            # all of the characters up to i: requires i operations\n",
    "            elif j == 0:\n",
    "                dp[i][j] = i\n",
    "\n",
    "            # if last characters are the same in str1 and str2,\n",
    "            # we carry over min operations needed without\n",
    "            # including the last characters\n",
    "            elif str1[i-1] == str2[j-1]:  # notice that i and j range from [0, n], we subtract 1 from each to get the last character here\n",
    "                dp[i][j] = dp[i-1][j-1]\n",
    "\n",
    "            # last two characters are different, add an operation\n",
    "            # to the minimal previous number of operations possible\n",
    "            # prior to reaching this cell in the dp table\n",
    "            else:\n",
    "                dp[i][j] = 1 + min(dp[i][j-1],  # without last char in str2\n",
    "                                   dp[i-1][j],  # without last char in str1\n",
    "                                   dp[i-1][j-1])  # without either chars in str1 and str2\n",
    "    for row in dp:\n",
    "        print(row)\n",
    "    return dp[n][m]\n",
    "\n",
    "\n",
    "# Expected edit distance is 3:\n",
    "# s  unday\n",
    "# saturday\n",
    "assert edit_distance(\"sunday\", \"saturday\") == 3\n",
    "\n"
   ],
   "metadata": {
    "collapsed": false,
    "pycharm": {
     "name": "#%%\n"
    }
   }
  },
  {
   "cell_type": "code",
   "execution_count": 27,
   "outputs": [],
   "source": [
    "# Edit distance recursive with memoization via @functools.cache\n",
    "import functools\n",
    "\n",
    "class Solution:\n",
    "    def minDistance(self, str1: str, str2: str) -> int:\n",
    "        n = len(str1)\n",
    "        m = len(str2)\n",
    "\n",
    "        return self.edit_distance(str1, str2, n, m)\n",
    "\n",
    "\n",
    "    @functools.lru_cache(maxsize=None)\n",
    "    # @functools.cache  # >= python 3.8\n",
    "    def edit_distance(self, str1, str2, n, m):\n",
    "\n",
    "        # If the first string is empty, the only option\n",
    "        # is to insert all the characters of the second\n",
    "        # string into the first string\n",
    "        if n == 0:\n",
    "            return m\n",
    "\n",
    "        # If the second string is empty, the only option\n",
    "        # is to insert all the characters of the first\n",
    "        # string into the second\n",
    "        if m == 0:\n",
    "            return n\n",
    "\n",
    "        # If the last characters of the two strings are\n",
    "        # the same, ignore them and get the count for the\n",
    "        # remaining inner strings\n",
    "        if str1[n-1] == str2[m-1]:\n",
    "            return self.edit_distance(str1, str2, n-1, m-1)\n",
    "\n",
    "        # If the last characters are not the same, take the\n",
    "        # minimum cost of all three possible operations on the\n",
    "        # last character of the first string.\n",
    "        return 1 + min(self.edit_distance(str1, str2, n, m-1),    # insert last character of str1, remove last character of str2\n",
    "                       self.edit_distance(str1, str2, n-1, m),    # remove last character of str1, take last character of str2\n",
    "                       self.edit_distance(str1, str2, n-1, m-1)    # replace last character of str1 with last character of str2\n",
    "                       )\n",
    "    # saturday\n",
    "str1 = \"sunday\"\n",
    "str2 = \"saturday\"\n",
    "assert Solution().edit_distance(str1, str2, len(str1), len(str2)) == 3"
   ],
   "metadata": {
    "collapsed": false,
    "pycharm": {
     "name": "#%%\n"
    }
   }
  },
  {
   "cell_type": "markdown",
   "source": [
    "### Ways to Cover a Distance\n",
    "\n",
    "Given a distance ‘dist’, count total number of ways to cover the distance with 1, 2 and 3 steps.\n",
    "\n",
    "Source: [https://www.geeksforgeeks.org/count-number-of-ways-to-cover-a-distance/](https://www.geeksforgeeks.org/count-number-of-ways-to-cover-a-distance/)"
   ],
   "metadata": {
    "collapsed": false,
    "pycharm": {
     "name": "#%% md\n"
    }
   }
  },
  {
   "cell_type": "code",
   "execution_count": 15,
   "outputs": [],
   "source": [
    "def print_count_dp(dist):\n",
    "    dp = [0 for _ in range(dist+1)]\n",
    "\n",
    "    dp[0] = 1  # one way to cover dist of 0 via 0 steps\n",
    "    if dist >= 1:\n",
    "        dp[1] = 1  # one way to cover dist of 1 via 1 step\n",
    "    if dist >= 2:\n",
    "        dp[2] = 2  # two ways to cover 2 (1 + 1 step, single 2 step)\n",
    "\n",
    "    for i in range(3, dist+1):\n",
    "        dp[i] = dp[i-1] + dp[i-2] + dp[i-3]\n",
    "\n",
    "    return dp[dist]\n",
    "\n",
    "# Possible ways to cover a distance of 4 using steps of 1, 2, or 3:\n",
    "# 1 + 1 + 1 + 1\n",
    "# 1 + 1 + 2\n",
    "# 1 + 2 + 1\n",
    "# 2 + 1 + 1\n",
    "# 1 + 3\n",
    "# 3 + 1\n",
    "# 2 + 2\n",
    "assert print_count_dp(4) == 7\n"
   ],
   "metadata": {
    "collapsed": false,
    "pycharm": {
     "name": "#%%\n"
    }
   }
  },
  {
   "cell_type": "markdown",
   "source": [
    "### 70. Climbing Stairs\n",
    "\n",
    "You are climbing a staircase. It takes n steps to reach the top.\n",
    "\n",
    "Each time you can either climb 1 or 2 steps. In how many distinct ways can you climb to the top?\n",
    "\n",
    "Source: [https://leetcode.com/problems/climbing-stairs/](https://leetcode.com/problems/climbing-stairs/)"
   ],
   "metadata": {
    "collapsed": false,
    "pycharm": {
     "name": "#%% md\n"
    }
   }
  },
  {
   "cell_type": "code",
   "execution_count": 20,
   "outputs": [],
   "source": [
    "class Solution:\n",
    "    def climbStairs(self, n: int) -> int:\n",
    "\n",
    "        dp = [0 for _ in range(n+1)]\n",
    "\n",
    "        dp[0] = 1  # one way to cover dist of 0 via 0 steps\n",
    "        if n >= 1:\n",
    "            dp[1] = 1  # one way to cover dist of 1 via 1 step\n",
    "        if n >= 2:\n",
    "            dp[2] = 2  # two ways to climb 2 steps via a 2 step or two single steps\n",
    "\n",
    "\n",
    "        for i in range(3, n+1):\n",
    "            dp[i] = dp[i-1] + dp[i-2]\n",
    "\n",
    "        return dp[n]\n",
    "\n",
    "Solution().climbStairs(4)\n",
    "\n",
    "# 1 + 1 + 1 + 1\n",
    "# 1 + 1 + 2\n",
    "# 2 + 1 + 1\n",
    "# 1 + 2 + 1\n",
    "# 2 + 2\n",
    "assert Solution().climbStairs(4) == 5"
   ],
   "metadata": {
    "collapsed": false,
    "pycharm": {
     "name": "#%%\n"
    }
   }
  },
  {
   "cell_type": "markdown",
   "source": [
    "### Subset Sum Problem\n",
    "\n",
    "Given a set of non-negative integers, and a value sum, determine if there is a subset of the given set with sum equal to given sum.\n",
    "\n",
    "Input: set = {3, 34, 4, 12, 5, 2}, sum = 9\n",
    "Output: True\n",
    "There is a subset (4, 5) with sum 9."
   ],
   "metadata": {
    "collapsed": false,
    "pycharm": {
     "name": "#%% md\n"
    }
   }
  },
  {
   "cell_type": "code",
   "execution_count": 31,
   "outputs": [
    {
     "data": {
      "text/plain": "True"
     },
     "execution_count": 31,
     "metadata": {},
     "output_type": "execute_result"
    }
   ],
   "source": [
    "\n",
    "def has_subset_sum(nums, val):\n",
    "    n = len(nums)\n",
    "\n",
    "    dp = [[False for _ in range(val+1)] for _ in range(n+1)]\n",
    "\n",
    "    # don't need any numbers to sum up to 0\n",
    "    for i in range(n+1):\n",
    "        dp[i][0] = True\n",
    "\n",
    "    # we can never generate a sum > 0 with no numbers\n",
    "    for j in range(1, val + 1):\n",
    "        dp[0][j] = False\n",
    "\n",
    "    # fill table in bottom up manner\n",
    "    for ii in range(1, n+1):\n",
    "        for jj in range(1, val + 1):\n",
    "            i = ii - 1\n",
    "            j = jj - 1\n",
    "            if jj < nums[i]:\n",
    "                # can make subset sum if already could without nums[i]\n",
    "                dp[ii][jj] = dp[ii-1][j]\n",
    "            else:\n",
    "                # can make subset sum if we already could without nums[i]\n",
    "                # or if without nums[i] we could sum to jj - nums[i]\n",
    "                dp[ii][jj] = dp[ii-1][jj] or dp[ii-1][jj - nums[i]]\n",
    "    # for i in range(n+1):\n",
    "    #     print(dp[i])\n",
    "    return dp[n][val]\n",
    "\n",
    "\n",
    "#     0  1  2  3  4  5  6  7  8  9\n",
    "# '' [1, 0, 0, 0, 0, 0, 0, 0, 0, 0]\n",
    "# 3  [1, 1, 0, 1, 0, 0, 0, 0, 0, 0]\n",
    "# 34 [1, 1, 1, 0, 1, 0, 0, 0, 0, 0]\n",
    "# 4  [1, 1, 1, 1, 1, 1, 1, 0, 1, 0]\n",
    "# 12 [1, 1, 1, 1, 1, 1, 1, 1, 0, 1]\n",
    "# 5  [1, 1, 1, 1, 1, 1, 1, 1, 1, 1]\n",
    "# 2  [1, 1, 1, 1, 1, 1, 1, 1, 1, 1]\n",
    "\n",
    "has_subset_sum([3, 34, 4, 12, 5, 2], 9)"
   ],
   "metadata": {
    "collapsed": false,
    "pycharm": {
     "name": "#%%\n"
    }
   }
  },
  {
   "cell_type": "markdown",
   "source": [
    "### 416. Partition Equal Subset Sum\n",
    "(Subset Sum Variation)\n",
    "\n",
    "[https://leetcode.com/problems/partition-equal-subset-sum/](https://leetcode.com/problems/partition-equal-subset-sum/)\n",
    "\n",
    "Given a non-empty array nums containing only positive integers, find if the array can be partitioned into two subsets such that the sum of elements in both subsets is equal.\n",
    "\n",
    "\n",
    "\n",
    "Example 1:\n",
    "\n",
    "Input: nums = [1,5,11,5]\n",
    "Output: true\n",
    "Explanation: The array can be partitioned as [1, 5, 5] and [11].\n",
    "Example 2:\n",
    "\n",
    "Input: nums = [1,2,3,5]\n",
    "Output: false\n",
    "Explanation: The array cannot be partitioned into equal sum subsets."
   ],
   "metadata": {
    "collapsed": false,
    "pycharm": {
     "name": "#%% md\n"
    }
   }
  },
  {
   "cell_type": "code",
   "execution_count": 11,
   "outputs": [],
   "source": [
    "from typing import List\n",
    "class Solution:\n",
    "    def canPartition(self, nums: List[int]) -> bool:\n",
    "\n",
    "        # Approach #1 (Dynamic Programming)\n",
    "\n",
    "        # dp[i][j] = True if the sum j can be formed by array elements in subsets nums[0]...nums[i]\n",
    "        # otherwise, dp[i][j] = False\n",
    "        #    0  1  2  3  4  5  6  7  8  9 10 11 12 13 14 15 16 17 18 19 20 21 22\n",
    "        # '' 1, 0, 0, 0, 0, 0, 0, 0, 0, 0, 0, 0, 0, 0, 0, 0, 0, 0, 0, 0, 0, 0, 0\n",
    "        # 1  1, 1, 0, 0, 0, 0, 0, 0, 0, 0, 0, 0, 0, 0, 0, 0, 0, 0, 0, 0, 0, 0, 0\n",
    "        # 5  1, 1, 0, 0, 0, 1, 1, 0, 0, 0, 0, 0, 0, 0, 0, 0, 0, 0, 0, 0, 0, 0, 0\n",
    "        # 11 1, 1, 0, 0, 0, 1, 1, 0, 0, 0, 0, 1, 1, 0, 0, 0, 1, 1, 0, 0, 0, 0, 0\n",
    "        # 5  1, 1, 0, 0, 0, 1, 1, 0, 0, 0, 1, 1, 1, 0, 0, 0, 1, 1, 0, 0, 0, 1, 1\n",
    "\n",
    "        n = len(nums)\n",
    "        total = sum(nums)\n",
    "\n",
    "        if total % 2 != 0:\n",
    "            return False\n",
    "\n",
    "        dp = [[False for _ in range(total+1)] for _ in range(n+1)]\n",
    "\n",
    "        # if no elements and no total, we can always get desired sum of 0\n",
    "        dp[0][0] = True\n",
    "\n",
    "        for ii in range(1, n+1):\n",
    "            for jj in range(total+1):\n",
    "                i = ii - 1\n",
    "                # if current total is less than current number in nums\n",
    "                # then we could only make jj if that was possible without using nums[i]\n",
    "                if jj < nums[i]:\n",
    "                    dp[ii][jj] = dp[ii-1][jj]\n",
    "                # current total is >= nums[i], so mark True if it was already possible without nums[i]\n",
    "                # or make true if jj - nums[i] was possible without using nums[i]\n",
    "                else:\n",
    "                    dp[ii][jj] = dp[ii-1][jj] or dp[ii-1][jj- nums[i]]\n",
    "        return dp[n][total // 2]\n",
    "\n",
    "assert Solution().canPartition([1,5,11,5]) == True\n",
    "assert Solution().canPartition([1,2,3,5]) == False\n"
   ],
   "metadata": {
    "collapsed": false,
    "pycharm": {
     "name": "#%%\n"
    }
   }
  },
  {
   "cell_type": "markdown",
   "source": [
    "### Count of subsets with sum equal to X\n",
    "\n",
    "Given an array of length N and integer X, the task is to find the number of subsets with a sum equal to X.\n",
    "\n"
   ],
   "metadata": {
    "collapsed": false,
    "pycharm": {
     "name": "#%% md\n"
    }
   }
  },
  {
   "cell_type": "code",
   "execution_count": 6,
   "outputs": [
    {
     "name": "stdout",
     "output_type": "stream",
     "text": [
      "[1, 0, 0, 0, 0, 0, 0, 0, 0, 0, 0, 0, 0]\n",
      "[1, 1, 0, 0, 0, 0, 0, 0, 0, 0, 0, 0, 0]\n",
      "[1, 1, 0, 1, 1, 0, 0, 0, 0, 0, 0, 0, 0]\n",
      "[1, 1, 0, 1, 2, 1, 0, 1, 1, 0, 0, 0, 0]\n",
      "[1, 1, 1, 2, 2, 2, 2, 2, 1, 1, 1, 0, 0]\n",
      "[1, 1, 1, 2, 2, 2, 3, 3, 2, 3, 3, 2, 2]\n",
      "[1, 1, 1, 2, 2, 2, 3, 3, 3, 4, 4, 4, 4]\n",
      "[1, 0, 0, 0, 0, 0]\n",
      "[1, 1, 0, 0, 0, 0]\n",
      "[1, 1, 1, 1, 0, 0]\n",
      "[1, 1, 1, 2, 1, 1]\n",
      "[1, 1, 1, 2, 2, 2]\n",
      "[1, 1, 1, 2, 2, 3]\n"
     ]
    },
    {
     "data": {
      "text/plain": "3"
     },
     "execution_count": 6,
     "metadata": {},
     "output_type": "execute_result"
    }
   ],
   "source": [
    "# dp[i][j] stores the number of subsets of the sub-array such that their sum is equal to j.\n",
    "from typing import List\n",
    "\n",
    "#      0  1  2  3  4  5\n",
    "# ''   1, 0, 0, 0, 0, 0\n",
    "#  1   1, 1, 0, 0, 0, 0\n",
    "#  2   1, 1, 1, 1, 0, 0\n",
    "#  3   1, 1, 1, 2, 1, 1\n",
    "#  4   1, 1, 1, 2, 2, 2\n",
    "#  5   1, 1, 1, 2, 2, 3\n",
    "\n",
    "# https://www.geeksforgeeks.org/count-of-subsets-with-sum-equal-to-x/\n",
    "def subset_sum(nums: List[int], value: int):\n",
    "    # may only work for positives nums[i]\n",
    "\n",
    "    n = len(nums)\n",
    "    dp = [[0 for _ in range(value+1)] for _ in range(n+1)]\n",
    "\n",
    "    # always the empty set can make a sum of 0\n",
    "    for i in range(n+1):\n",
    "        dp[i][0] = 1\n",
    "\n",
    "    for ii in range(1, n+1):\n",
    "        for jj in range(1, value + 1):\n",
    "            i = ii - 1\n",
    "            if nums[i] <= jj:\n",
    "                dp[ii][jj] = dp[ii-1][jj] + dp[ii-1][jj - nums[i]]\n",
    "            else:\n",
    "                dp[ii][jj] = dp[ii-1][jj]\n",
    "    for row in dp:\n",
    "        print(row)\n",
    "    return dp[n][value]\n",
    "\n",
    "# subset_sum([1,2,3,4,5], 5)\n",
    "arr = [1,3,4,2,6,8]\n",
    "half = sum(arr) // 2\n",
    "subset_sum(arr, half)\n"
   ],
   "metadata": {
    "collapsed": false,
    "pycharm": {
     "name": "#%%\n"
    }
   }
  },
  {
   "cell_type": "code",
   "execution_count": 8,
   "outputs": [
    {
     "name": "stdout",
     "output_type": "stream",
     "text": [
      "[1, 0, 0, 0, 0, 0]\n",
      "[1, 1, 0, 0, 0, 0]\n",
      "[1, 1, 1, 1, 0, 0]\n",
      "[1, 1, 1, 2, 1, 1]\n",
      "[1, 1, 1, 2, 2, 2]\n",
      "[1, 1, 1, 2, 2, 3]\n"
     ]
    },
    {
     "data": {
      "text/plain": "3"
     },
     "execution_count": 8,
     "metadata": {},
     "output_type": "execute_result"
    }
   ],
   "source": [
    "def subset_sum(nums: List[int], value: int):\n",
    "    n = len(nums)\n",
    "\n",
    "    dp = [[0 for _ in range(value +1)] for _ in range(n+1)]\n",
    "\n",
    "    # all elements can always make a sum of 0\n",
    "    for i in range(n+1):\n",
    "        dp[i][0] = 1\n",
    "\n",
    "    # no elements cannot make a sum greater than 0\n",
    "    # elements are defaulted to 0, so this isn't really needed\n",
    "    # for j in range(1, value+1):\n",
    "    #     dp[0][j] = 0\n",
    "\n",
    "    for ii in range(1, n+1):\n",
    "        for jj in range(1, value+1):\n",
    "            i = ii - 1\n",
    "            if nums[i] <= jj:\n",
    "                # number of subsets with a sum equal to jj\n",
    "                # up to and including ii is what it was without nums[i]\n",
    "                # plus the\n",
    "                dp[ii][jj] = dp[ii-1][jj] + dp[ii-1][jj-nums[i]]\n",
    "            else:\n",
    "                dp[ii][jj] = dp[ii-1][jj]\n",
    "    for row in dp:\n",
    "        print(row)\n",
    "    return dp[n][value]\n",
    "\n",
    "\n",
    "# should be [5], [4,1], [2,3]\n",
    "assert subset_sum([1,2,3,4,5], 5) == 3\n",
    "\n"
   ],
   "metadata": {
    "collapsed": false,
    "pycharm": {
     "name": "#%%\n"
    }
   }
  },
  {
   "cell_type": "code",
   "execution_count": 6,
   "outputs": [
    {
     "name": "stdout",
     "output_type": "stream",
     "text": [
      "3\n"
     ]
    }
   ],
   "source": [
    "### Subset Sum Count (Recursive)\n",
    "# https://www.geeksforgeeks.org/count-of-subsets-with-sum-equal-to-x-using-recursion/\n",
    "# https://www.geeksforgeeks.org/tabulation-vs-memoization/\n",
    "from functools import lru_cache\n",
    "\n",
    "@lru_cache(maxsize=None)\n",
    "def subset_sum(nums, n, i, total, count):\n",
    "    # Returns the number of ways we can sum up to the desired total using a subset\n",
    "    # of the numbers in nums\n",
    "    # Time complexity: O(2^n)\n",
    "\n",
    "    # we've traversed all of the numbers\n",
    "    if i == n:\n",
    "        # if total is 0 and we've traversed all the numbers,\n",
    "        # then we've found a subset that sums up to the desired total\n",
    "        if total == 0:\n",
    "            count += 1\n",
    "        return count\n",
    "\n",
    "    # Either the element can be counted in the subset or not\n",
    "    # First it is counted, so the remaining sum to be check discludes it\n",
    "    count = subset_sum(nums, n, i+1, total - nums[i], count)\n",
    "    # Second the element is not counted, so we check the total sum\n",
    "    count = subset_sum(nums, n, i+1, total, count)\n",
    "    return count\n",
    "\n",
    "\n",
    "nums = [1,2,3,4,5]\n",
    "total = 10\n",
    "n = len(nums)\n",
    "\n",
    "#   | |\n",
    "# 1,2,3,4,5\n",
    "# |     |\n",
    "# 1,2,3,4,5\n",
    "#         |\n",
    "# 1,2,3,4,5\n",
    "\n",
    "print(subset_sum(tuple(nums), n, 0, total, 0))"
   ],
   "metadata": {
    "collapsed": false,
    "pycharm": {
     "name": "#%%\n"
    }
   }
  },
  {
   "cell_type": "code",
   "execution_count": null,
   "outputs": [],
   "source": [],
   "metadata": {
    "collapsed": false,
    "pycharm": {
     "name": "#%%\n"
    }
   }
  }
 ],
 "metadata": {
  "kernelspec": {
   "display_name": "Python 3",
   "language": "python",
   "name": "python3"
  },
  "language_info": {
   "codemirror_mode": {
    "name": "ipython",
    "version": 2
   },
   "file_extension": ".py",
   "mimetype": "text/x-python",
   "name": "python",
   "nbconvert_exporter": "python",
   "pygments_lexer": "ipython2",
   "version": "2.7.6"
  }
 },
 "nbformat": 4,
 "nbformat_minor": 0
}