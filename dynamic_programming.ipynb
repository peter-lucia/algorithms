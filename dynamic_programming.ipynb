{
 "cells": [
  {
   "cell_type": "markdown",
   "source": [
    "#### Knapsack\n",
    "T(n) = O(nB), where B is the capacity"
   ],
   "metadata": {
    "collapsed": false,
    "pycharm": {
     "name": "#%% md\n"
    }
   }
  },
  {
   "cell_type": "code",
   "execution_count": 3,
   "metadata": {
    "collapsed": true
   },
   "outputs": [
    {
     "name": "stdout",
     "output_type": "stream",
     "text": [
      "16\n",
      "17\n",
      "22\n"
     ]
    }
   ],
   "source": [
    "def solve_knapsack(profits, weights, capacity):\n",
    "    n = len(profits)\n",
    "    B = capacity\n",
    "    T = [[0 for _ in range(B+1)] for _ in range(n)]\n",
    "\n",
    "    # recurrence\n",
    "    #                          profit[i] + row above - w[i] , row above)\n",
    "    # max profit T(i, b) = max(p[i] + T(i-1, b-w[i]), T(i-1, b)),\n",
    "    for i in range(n):\n",
    "        for b in range(B+1):\n",
    "            if weights[i] <= b:\n",
    "                T[i][b] = max(profits[i] + T[i-1][b-weights[i]], T[i-1][b])\n",
    "            else:\n",
    "                T[i][b] = T[i-1][b]\n",
    "\n",
    "    # return T[n-1][B-1] == capacity\n",
    "    return T[n-1][B]\n",
    "\n",
    "profits = [1, 6, 10, 16]\n",
    "weights = [1, 2, 3, 5]\n",
    "print(solve_knapsack(profits, weights, 5))\n",
    "print(solve_knapsack(profits, weights, 6))\n",
    "print(solve_knapsack(profits, weights, 7))"
   ]
  },
  {
   "cell_type": "code",
   "execution_count": null,
   "outputs": [],
   "source": [],
   "metadata": {
    "collapsed": false,
    "pycharm": {
     "name": "#%%\n"
    }
   }
  }
 ],
 "metadata": {
  "kernelspec": {
   "display_name": "Python 3",
   "language": "python",
   "name": "python3"
  },
  "language_info": {
   "codemirror_mode": {
    "name": "ipython",
    "version": 2
   },
   "file_extension": ".py",
   "mimetype": "text/x-python",
   "name": "python",
   "nbconvert_exporter": "python",
   "pygments_lexer": "ipython2",
   "version": "2.7.6"
  }
 },
 "nbformat": 4,
 "nbformat_minor": 0
}