{
 "cells": [
  {
   "cell_type": "markdown",
   "metadata": {
    "collapsed": true,
    "pycharm": {
     "name": "#%% md\n"
    }
   },
   "source": [
    "HashTable implementation using only arrays\n",
    "\n",
    "https://leetcode.com/problems/design-hashmap/\n",
    "\n",
    "Sources:\n",
    "* https://algs4.cs.princeton.edu/34hash/\n",
    "* https://pagekeysolutions.com/blog/dsa/hash-table-python/"
   ]
  },
  {
   "cell_type": "markdown",
   "source": [
    "### Simple HashMap (no hash function)"
   ],
   "metadata": {
    "collapsed": false,
    "pycharm": {
     "name": "#%% md\n"
    }
   }
  },
  {
   "cell_type": "code",
   "execution_count": null,
   "outputs": [],
   "source": [
    "from typing import List, Optional, Any\n",
    "\n",
    "\n",
    "class MyHashMap:\n",
    "\n",
    "    def __init__(self):\n",
    "        self.size = 10**6 + 1\n",
    "        self.keys = [-1 for _ in range(self.size)]\n",
    "\n",
    "    def put(self, key: int, value: int) -> None:\n",
    "        self.keys[key] = value\n",
    "\n",
    "    def get(self, key: int) -> int:\n",
    "        return self.keys[key]\n",
    "\n",
    "    def remove(self, key: int) -> None:\n",
    "        self.keys[key] = -1"
   ],
   "metadata": {
    "collapsed": false,
    "pycharm": {
     "name": "#%%\n"
    }
   }
  },
  {
   "cell_type": "markdown",
   "source": [
    "### HashMap (with hash function)\n",
    "\n",
    "As one of the most intuitive implementations, we could adopt the modulo operator as the hash function, since the key value is of integer type. In addition, in order to minimize the potential collisions, it is advisable to use a prime number as the base of modulo, e.g. 2069.\n",
    "\n",
    "Modulo as non-prime:\n",
    "\n",
    "1000 % 10 == 1000 % 100, which is 0\n",
    "\n",
    "2069 is a large prime number\n",
    "\n",
    "Here, a bucket is a list of tuples.\n",
    "\n",
    "#### Collisions\n",
    "To avoid collisions, like with keys 2070 and 1,\n",
    "we only update an existing tuple\n",
    "in the bucket if the original key is a match even though\n",
    "the hashed keys may be the same.\n",
    "\n",
    "\n",
    "```\n",
    "key: 2070, value: 2\n",
    "key: 1, value: 4\n",
    "\n",
    "hash(2070) = 1\n",
    "hash(1) = 1\n",
    "\n",
    "hash_map[1] = Bucket([(2070, 2), (1, 4)])\n",
    "\n",
    "```\n",
    "\n"
   ],
   "metadata": {
    "collapsed": false,
    "pycharm": {
     "name": "#%% md\n"
    }
   }
  },
  {
   "cell_type": "code",
   "execution_count": 3,
   "outputs": [],
   "source": [
    "class Bucket:\n",
    "    def __init__(self):\n",
    "        self.data = []\n",
    "\n",
    "    def update(self, key, value):\n",
    "\n",
    "        found = False\n",
    "        for i, kv in enumerate(self.data):\n",
    "            if kv[0] == key:\n",
    "                found = True\n",
    "                self.data[i] = (key, value)\n",
    "        if not found:\n",
    "            self.data.append((key, value))\n",
    "\n",
    "    def get(self, key):\n",
    "        for k, v in self.data:\n",
    "            if key == k:\n",
    "                return v\n",
    "        return -1\n",
    "\n",
    "    def remove(self, key):\n",
    "        for i, kv in enumerate(self.data):\n",
    "            if kv[0] == key:\n",
    "                self.data.pop(i)\n",
    "\n",
    "class MyHashMap:\n",
    "\n",
    "    def __init__(self):\n",
    "        # the size of the table should be a prime number\n",
    "        # to reduce the number of collisions\n",
    "        self.size = 2069\n",
    "        self.hash_map = [Bucket() for i in range(self.size)]\n",
    "\n",
    "    def put(self, key: int, value: int) -> None:\n",
    "        self.hash_map[self.hash(key)].update(key,value)\n",
    "\n",
    "    def get(self, key: int) -> int:\n",
    "        return self.hash_map[self.hash(key)].get(key)\n",
    "\n",
    "    def remove(self, key: int) -> None:\n",
    "        self.hash_map[self.hash(key)].remove(key)\n",
    "\n",
    "    def hash(self, key):\n",
    "        return key % self.size\n",
    "\n"
   ],
   "metadata": {
    "collapsed": false,
    "pycharm": {
     "name": "#%%\n"
    }
   }
  },
  {
   "cell_type": "code",
   "execution_count": 7,
   "outputs": [],
   "source": [
    "hash_map = MyHashMap()\n",
    "hash_map.put(2070, 2)\n",
    "hash_map.put(1, 4)  # collision"
   ],
   "metadata": {
    "collapsed": false,
    "pycharm": {
     "name": "#%%\n"
    }
   }
  },
  {
   "cell_type": "code",
   "execution_count": 9,
   "outputs": [
    {
     "data": {
      "text/plain": "2"
     },
     "execution_count": 9,
     "metadata": {},
     "output_type": "execute_result"
    }
   ],
   "source": [
    "hash_map.get(2070)"
   ],
   "metadata": {
    "collapsed": false,
    "pycharm": {
     "name": "#%%\n"
    }
   }
  },
  {
   "cell_type": "code",
   "execution_count": 10,
   "outputs": [
    {
     "data": {
      "text/plain": "4"
     },
     "execution_count": 10,
     "metadata": {},
     "output_type": "execute_result"
    }
   ],
   "source": [
    "hash_map.get(1)\n",
    "\n"
   ],
   "metadata": {
    "collapsed": false,
    "pycharm": {
     "name": "#%%\n"
    }
   }
  },
  {
   "cell_type": "code",
   "execution_count": null,
   "outputs": [],
   "source": [],
   "metadata": {
    "collapsed": false,
    "pycharm": {
     "name": "#%%\n"
    }
   }
  }
 ],
 "metadata": {
  "kernelspec": {
   "display_name": "Python 3",
   "language": "python",
   "name": "python3"
  },
  "language_info": {
   "codemirror_mode": {
    "name": "ipython",
    "version": 2
   },
   "file_extension": ".py",
   "mimetype": "text/x-python",
   "name": "python",
   "nbconvert_exporter": "python",
   "pygments_lexer": "ipython2",
   "version": "2.7.6"
  }
 },
 "nbformat": 4,
 "nbformat_minor": 0
}