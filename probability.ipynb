{
 "cells": [
  {
   "cell_type": "code",
   "execution_count": null,
   "metadata": {
    "collapsed": true
   },
   "outputs": [],
   "source": [
    "import random\n",
    "from typing import List\n",
    "\n",
    "class Solution:\n",
    "    def findSecretWord(self, wordlist: List[str], master: 'Master') -> None:\n",
    "        \"\"\"\n",
    "        https://leetcode.com/problems/guess-the-word/discuss/940407/O(n)-with-detailed-explanation-Python-JavaScript-GoLang\n",
    "\n",
    "        1. Randomly pick a word from wordlist, guess it and get the number of digits, x, that are in the correct position\n",
    "        2. Find all candidate words that have at least x digits in common with the last guessed word\n",
    "        3. Shorten the wordlist to only include the candidates found in step 2. Repeat step 1 up to 10 times.\n",
    "        \"\"\"\n",
    "        random.seed(100)\n",
    "\n",
    "        if len(wordlist) <= 10:\n",
    "            for word in wordlist:\n",
    "                master.guess(word)\n",
    "            return\n",
    "\n",
    "\n",
    "        def get_num_matches(w1: str, w2: str) -> int:\n",
    "            \"\"\"\n",
    "            Gets the number of digits that are matching in the same position\n",
    "            Assumes words are of the same size\n",
    "            \"\"\"\n",
    "            result = 0\n",
    "            for i in range(len(w1)):\n",
    "                if w1[i] == w2[i]:\n",
    "                    result += 1\n",
    "            return result\n",
    "\n",
    "\n",
    "        for i in range(10):\n",
    "            random_idx = random.randrange(len(wordlist))\n",
    "            guess_word = wordlist[random_idx]\n",
    "            score = master.guess(guess_word)\n",
    "            if score == 6:\n",
    "                return guess_word\n",
    "            candidates = []\n",
    "            for word in wordlist:\n",
    "                if score == get_num_matches(word, guess_word):\n",
    "                    candidates.append(word)\n",
    "            wordlist = candidates\n"
   ]
  }
 ],
 "metadata": {
  "kernelspec": {
   "display_name": "Python 3",
   "language": "python",
   "name": "python3"
  },
  "language_info": {
   "codemirror_mode": {
    "name": "ipython",
    "version": 2
   },
   "file_extension": ".py",
   "mimetype": "text/x-python",
   "name": "python",
   "nbconvert_exporter": "python",
   "pygments_lexer": "ipython2",
   "version": "2.7.6"
  }
 },
 "nbformat": 4,
 "nbformat_minor": 0
}