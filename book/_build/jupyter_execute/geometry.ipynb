{
 "cells": [
  {
   "cell_type": "markdown",
   "metadata": {
    "collapsed": false,
    "pycharm": {
     "name": "#%% md\n"
    }
   },
   "source": [
    "# Geometry"
   ]
  },
  {
   "cell_type": "markdown",
   "metadata": {
    "collapsed": true,
    "pycharm": {
     "name": "#%% md\n"
    }
   },
   "source": [
    "### Is a square valid\n",
    "Given four points determine if they form a valid square\n",
    "Note that the square can be rotated at an angle"
   ]
  },
  {
   "cell_type": "code",
   "execution_count": 1,
   "metadata": {
    "collapsed": false,
    "pycharm": {
     "name": "#%%\n"
    }
   },
   "outputs": [],
   "source": [
    "import math\n",
    "from typing import List\n",
    "class Solution:\n",
    "    def validSquare(self, p1: List[int], p2: List[int], p3: List[int], p4: List[int]) -> bool:\n",
    "        ######################### Approach #1 ############################\n",
    "        # Add all 6 distances to the list and sort the list.\n",
    "        # The first four should be equal and the last two should be equal\n",
    "        # Also the first four cannot equal the last two because of pythagorean's theorem\n",
    "\n",
    "        # calculate the distance between every point and every other point\n",
    "        # at least two of those distances must be equal for every point\n",
    "        def dist(point1, point2):\n",
    "            x1, y1 = point1[0], point1[1]\n",
    "            x2, y2 = point2[0], point2[1]\n",
    "            return math.sqrt((x2 - x1) ** 2 + (y2 - y1) ** 2)\n",
    "\n",
    "        distances = [dist(p1, p2), dist(p1, p3), dist(p1, p4), dist(p2, p3), dist(p2, p4), dist(p3, p4)]\n",
    "\n",
    "        distances_sorted = sorted(distances)\n",
    "        first_four_equal = distances_sorted[0] == distances_sorted[1] == distances_sorted[2] == distances_sorted[3]\n",
    "        last_two_equal = distances_sorted[4] == distances_sorted[5]\n",
    "\n",
    "        first_four_dont_match_last_two = distances_sorted[0] != distances_sorted[4]\n",
    "\n",
    "        return first_four_equal and last_two_equal and first_four_dont_match_last_two\n",
    "\n",
    "assert Solution().validSquare(p1 = [0,0], p2 = [1,1], p3 = [1,0], p4 = [0,1]) == True\n",
    "assert Solution().validSquare(p1 = [0,0], p2 = [1,1], p3 = [1,0], p4 = [0,12]) == False"
   ]
  },
  {
   "cell_type": "code",
   "execution_count": null,
   "metadata": {
    "collapsed": false,
    "pycharm": {
     "name": "#%%\n"
    }
   },
   "outputs": [],
   "source": []
  }
 ],
 "metadata": {
  "kernelspec": {
   "display_name": "Python 3",
   "language": "python",
   "name": "python3"
  },
  "language_info": {
   "codemirror_mode": {
    "name": "ipython",
    "version": 3
   },
   "file_extension": ".py",
   "mimetype": "text/x-python",
   "name": "python",
   "nbconvert_exporter": "python",
   "pygments_lexer": "ipython3",
   "version": "3.8.7"
  }
 },
 "nbformat": 4,
 "nbformat_minor": 0
}