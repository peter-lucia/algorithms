{
 "cells": [
  {
   "cell_type": "markdown",
   "metadata": {
    "collapsed": false,
    "pycharm": {
     "name": "#%% md\n"
    }
   },
   "source": [
    "# Number Theory"
   ]
  },
  {
   "cell_type": "markdown",
   "metadata": {
    "collapsed": true,
    "pycharm": {
     "name": "#%% md\n"
    }
   },
   "source": [
    "### Check if a number is prime\n",
    "\n",
    "Time complexity: $O(\\sqrt n)$\n",
    "Space complexity: $O(1)$"
   ]
  },
  {
   "cell_type": "code",
   "execution_count": 1,
   "metadata": {
    "collapsed": false,
    "pycharm": {
     "name": "#%%\n"
    }
   },
   "outputs": [],
   "source": [
    "import math\n",
    "\n",
    "\n",
    "def is_prime(n: int) -> bool:\n",
    "    \"\"\"\n",
    "    Every composite number has a factor less than or equal to its square root.\n",
    "    That is, if n is composite, then n has a prime factor p <= sqrt(n).\n",
    "\n",
    "    Sources: http://mathandmultimedia.com/2012/06/02/determining-primes-through-square-root/\n",
    "    \"\"\"\n",
    "    if n <= 1:\n",
    "        return False\n",
    "    if n == 2:\n",
    "        return True\n",
    "\n",
    "    for i in range(2, int(math.sqrt(n))+1):\n",
    "        if n % i == 0:\n",
    "            return False\n",
    "\n",
    "    return True"
   ]
  },
  {
   "cell_type": "code",
   "execution_count": 2,
   "metadata": {
    "collapsed": false,
    "pycharm": {
     "name": "#%%\n"
    }
   },
   "outputs": [],
   "source": [
    "assert is_prime(11) == True\n",
    "assert is_prime(13) == True\n"
   ]
  },
  {
   "cell_type": "code",
   "execution_count": 3,
   "metadata": {
    "collapsed": false,
    "pycharm": {
     "name": "#%%\n"
    }
   },
   "outputs": [],
   "source": [
    "assert is_prime(2069) == True"
   ]
  },
  {
   "cell_type": "code",
   "execution_count": 4,
   "metadata": {
    "collapsed": false,
    "pycharm": {
     "is_executing": true,
     "name": "#%%\n"
    }
   },
   "outputs": [
    {
     "name": "stdout",
     "output_type": "stream",
     "text": [
      "2 is prime.\n",
      "3 is prime.\n",
      "5 is prime.\n",
      "7 is prime.\n",
      "11 is prime.\n",
      "13 is prime.\n",
      "17 is prime.\n",
      "19 is prime.\n",
      "23 is prime.\n",
      "29 is prime.\n",
      "31 is prime.\n",
      "37 is prime.\n",
      "41 is prime.\n",
      "43 is prime.\n",
      "47 is prime.\n",
      "53 is prime.\n",
      "59 is prime.\n",
      "61 is prime.\n",
      "67 is prime.\n",
      "71 is prime.\n",
      "73 is prime.\n",
      "79 is prime.\n",
      "83 is prime.\n",
      "89 is prime.\n",
      "97 is prime.\n",
      "101 is prime.\n",
      "103 is prime.\n",
      "107 is prime.\n",
      "109 is prime.\n",
      "113 is prime.\n",
      "127 is prime.\n",
      "131 is prime.\n",
      "137 is prime.\n",
      "139 is prime.\n",
      "149 is prime.\n",
      "151 is prime.\n",
      "157 is prime.\n",
      "163 is prime.\n",
      "167 is prime.\n",
      "173 is prime.\n",
      "179 is prime.\n",
      "181 is prime.\n",
      "191 is prime.\n",
      "193 is prime.\n",
      "197 is prime.\n",
      "199 is prime.\n",
      "211 is prime.\n",
      "223 is prime.\n",
      "227 is prime.\n",
      "229 is prime.\n",
      "233 is prime.\n",
      "239 is prime.\n",
      "241 is prime.\n",
      "251 is prime.\n",
      "257 is prime.\n",
      "263 is prime.\n",
      "269 is prime.\n",
      "271 is prime.\n",
      "277 is prime.\n",
      "281 is prime.\n",
      "283 is prime.\n",
      "293 is prime.\n",
      "307 is prime.\n",
      "311 is prime.\n",
      "313 is prime.\n",
      "317 is prime.\n",
      "331 is prime.\n",
      "337 is prime.\n",
      "347 is prime.\n",
      "349 is prime.\n",
      "353 is prime.\n",
      "359 is prime.\n",
      "367 is prime.\n",
      "373 is prime.\n",
      "379 is prime.\n",
      "383 is prime.\n",
      "389 is prime.\n",
      "397 is prime.\n",
      "401 is prime.\n",
      "409 is prime.\n",
      "419 is prime.\n",
      "421 is prime.\n",
      "431 is prime.\n",
      "433 is prime.\n",
      "439 is prime.\n",
      "443 is prime.\n",
      "449 is prime.\n",
      "457 is prime.\n",
      "461 is prime.\n",
      "463 is prime.\n",
      "467 is prime.\n",
      "479 is prime.\n",
      "487 is prime.\n",
      "491 is prime.\n",
      "499 is prime.\n",
      "503 is prime.\n",
      "509 is prime.\n",
      "521 is prime.\n",
      "523 is prime.\n",
      "541 is prime.\n",
      "547 is prime.\n",
      "557 is prime.\n",
      "563 is prime.\n",
      "569 is prime.\n",
      "571 is prime.\n",
      "577 is prime.\n",
      "587 is prime.\n",
      "593 is prime.\n",
      "599 is prime.\n",
      "601 is prime.\n",
      "607 is prime.\n",
      "613 is prime.\n",
      "617 is prime.\n",
      "619 is prime.\n",
      "631 is prime.\n",
      "641 is prime.\n",
      "643 is prime.\n",
      "647 is prime.\n",
      "653 is prime.\n",
      "659 is prime.\n",
      "661 is prime.\n",
      "673 is prime.\n",
      "677 is prime.\n",
      "683 is prime.\n",
      "691 is prime.\n",
      "701 is prime.\n",
      "709 is prime.\n",
      "719 is prime.\n",
      "727 is prime.\n",
      "733 is prime.\n",
      "739 is prime.\n",
      "743 is prime.\n",
      "751 is prime.\n",
      "757 is prime.\n",
      "761 is prime.\n",
      "769 is prime.\n",
      "773 is prime.\n",
      "787 is prime.\n",
      "797 is prime.\n",
      "809 is prime.\n",
      "811 is prime.\n",
      "821 is prime.\n",
      "823 is prime.\n",
      "827 is prime.\n",
      "829 is prime.\n",
      "839 is prime.\n",
      "853 is prime.\n",
      "857 is prime.\n",
      "859 is prime.\n",
      "863 is prime.\n",
      "877 is prime.\n",
      "881 is prime.\n",
      "883 is prime.\n",
      "887 is prime.\n",
      "907 is prime.\n",
      "911 is prime.\n",
      "919 is prime.\n",
      "929 is prime.\n",
      "937 is prime.\n",
      "941 is prime.\n",
      "947 is prime.\n",
      "953 is prime.\n",
      "967 is prime.\n",
      "971 is prime.\n",
      "977 is prime.\n",
      "983 is prime.\n",
      "991 is prime.\n",
      "997 is prime.\n"
     ]
    }
   ],
   "source": [
    "for num in range(0, 1000):\n",
    "    if is_prime(num):\n",
    "       print(f\"{num} is prime.\")"
   ]
  },
  {
   "cell_type": "markdown",
   "metadata": {
    "collapsed": false,
    "pycharm": {
     "name": "#%% md\n"
    }
   },
   "source": [
    "### Fermat's little Theorem\n",
    "If $p$ is a prime number, then\n",
    "\n",
    "$a^{p-1} \\equiv 1 \\ \\ (mod \\ p)$\n",
    "\n",
    "for $1 \\leq a \\leq p - 1$"
   ]
  },
  {
   "cell_type": "code",
   "execution_count": 5,
   "metadata": {
    "collapsed": false,
    "pycharm": {
     "name": "#%%\n"
    }
   },
   "outputs": [],
   "source": [
    "pseudoprimes = [\n",
    "\n",
    "]\n",
    "\n",
    "def is_prime_fermat(p: int) -> int:\n",
    "    \"\"\"\n",
    "    Sources: https://stackoverflow.com/questions/29595849/explain-a-code-to-check-primality-based-on-fermats-little-theorem\n",
    "    https://en.wikipedia.org/wiki/Baillie–PSW_primality_test\n",
    "    https://en.wikipedia.org/wiki/Fermat_pseudoprime\n",
    "    \"\"\"\n",
    "    if p <= 1:\n",
    "        return False\n",
    "    if p == 2:\n",
    "        return True\n",
    "    if p % 2 == 0:\n",
    "        return False\n",
    "    # a = 2\n",
    "\n",
    "    a = 2\n",
    "    # a^(p-1) is congruent to 1 (mod p), a = 2\n",
    "    return pow(a, p-1, p) == 1"
   ]
  },
  {
   "cell_type": "code",
   "execution_count": 6,
   "metadata": {
    "collapsed": false,
    "pycharm": {
     "name": "#%%\n"
    }
   },
   "outputs": [
    {
     "data": {
      "text/plain": [
       "True"
      ]
     },
     "execution_count": 6,
     "metadata": {},
     "output_type": "execute_result"
    }
   ],
   "source": [
    "is_prime_fermat(13)"
   ]
  },
  {
   "cell_type": "code",
   "execution_count": 7,
   "metadata": {
    "collapsed": false,
    "pycharm": {
     "name": "#%%\n"
    }
   },
   "outputs": [],
   "source": [
    "# for i in range(1, 1000):\n",
    "    # assert is_prime(i) == is_prime_fermat(i), f\"Error: is_prime({i}) = {is_prime(i)}, is_prime_fermat({i}) = {is_prime_fermat(i)}\""
   ]
  },
  {
   "cell_type": "markdown",
   "metadata": {
    "collapsed": false
   },
   "source": [
    "### Primality Test | Set 2\n",
    "Source: [https://www.geeksforgeeks.org/primality-test-set-2-fermet-method/](https://www.geeksforgeeks.org/primality-test-set-2-fermet-method/)\n",
    "// Higher value of k indicates probability of correct\n",
    "// results for composite inputs become higher. For prime\n",
    "// inputs, result is always correct\n",
    "1) Repeat following k times:\n",
    "      a) Pick a random $a$ in the range [2, $n$ - 2]\n",
    "      b) If $gcd(a, n) \\neq 1$, then return false\n",
    "      c) If $a^{n-1} \\neq 1 (mod \\ n)$, then return false\n",
    "2) Return true [probably prime].\n",
    "Time complexity of this solution is $O(k \\cdot logn)$. Note that the power function takes $O(logn)$ time."
   ]
  },
  {
   "cell_type": "markdown",
   "metadata": {
    "collapsed": false,
    "pycharm": {
     "name": "#%% md\n"
    }
   },
   "source": [
    "### Count primes less than n\n",
    "* Solution: Sieve of Eratosthenes\n",
    "* [https://leetcode.com/problems/count-primes/](https://leetcode.com/problems/count-primes/)"
   ]
  },
  {
   "cell_type": "code",
   "execution_count": 8,
   "metadata": {
    "collapsed": false,
    "pycharm": {
     "name": "#%%\n"
    }
   },
   "outputs": [
    {
     "name": "stdout",
     "output_type": "stream",
     "text": [
      "All numbers except for primes (composites): [4, 6, 8, 9]\n"
     ]
    },
    {
     "data": {
      "text/plain": [
       "4"
      ]
     },
     "execution_count": 8,
     "metadata": {},
     "output_type": "execute_result"
    }
   ],
   "source": [
    "from math import sqrt\n",
    "class Solution:\n",
    "    def countPrimes(self, n: int) -> int:\n",
    "        \"\"\"\n",
    "        O(sqrt(n) log(log(n))) Time\n",
    "        O(n) space\n",
    "        \"\"\"\n",
    "        if n <= 2:\n",
    "            return 0\n",
    "\n",
    "        composites = set()\n",
    "        for i in range(2, int(sqrt(n))+1):\n",
    "            if i not in composites:\n",
    "                for multiple in range(i*i, n, i):\n",
    "                    composites.add(multiple)\n",
    "        print(f\"All numbers except for primes (composites): {sorted(composites)}\")\n",
    "        # exclude '1' and the number itself\n",
    "        return n - len(composites) - 2\n",
    "\n",
    "Solution().countPrimes(10)"
   ]
  },
  {
   "cell_type": "code",
   "execution_count": 9,
   "metadata": {
    "collapsed": false,
    "pycharm": {
     "name": "#%%\n"
    }
   },
   "outputs": [],
   "source": [
    "def is_power_of_2(n: int) -> bool:\n",
    "    \"\"\"\n",
    "    Returns true if a number is a power of 2 in O(1) time, and O(1) space\n",
    "    8\n",
    "    0 1 0 0 0\n",
    "\n",
    "    7\n",
    "    0 0 1 1 1\n",
    "\n",
    "    8 & 7 = 0\n",
    "    0 0 0 0 0\n",
    "\n",
    "    So 8 is a power of 2.\n",
    "    \"\"\"\n",
    "    return n & (n-1) == 0\n",
    "\n",
    "for i in range(10):\n",
    "    num = 2**i\n",
    "    assert is_power_of_2(num), num"
   ]
  },
  {
   "cell_type": "code",
   "execution_count": 10,
   "metadata": {
    "collapsed": false,
    "pycharm": {
     "name": "#%%\n"
    }
   },
   "outputs": [
    {
     "data": {
      "text/plain": [
       "'0b110'"
      ]
     },
     "execution_count": 10,
     "metadata": {},
     "output_type": "execute_result"
    }
   ],
   "source": [
    "bin(6)"
   ]
  },
  {
   "cell_type": "code",
   "execution_count": 11,
   "metadata": {
    "collapsed": false,
    "pycharm": {
     "name": "#%%\n"
    }
   },
   "outputs": [
    {
     "data": {
      "text/plain": [
       "'0b101'"
      ]
     },
     "execution_count": 11,
     "metadata": {},
     "output_type": "execute_result"
    }
   ],
   "source": [
    "bin(5)"
   ]
  },
  {
   "cell_type": "markdown",
   "metadata": {
    "collapsed": false,
    "pycharm": {
     "name": "#%% md\n"
    }
   },
   "source": [
    "esc-y (code cell)\n",
    "esc-m (markdown)\n"
   ]
  },
  {
   "cell_type": "markdown",
   "metadata": {
    "collapsed": false,
    "pycharm": {
     "name": "#%% md\n"
    }
   },
   "source": [
    "# Combinatorics\n",
    "Source: [https://www.youtube.com/watch?v=p8vIcmr_Pqo](https://www.youtube.com/watch?v=p8vIcmr_Pqo)\n",
    "$n \\choose k$ $ = \\frac{n!}{(n-k)!\\cdot k!}$\n",
    "\n",
    "Represents the number of ways to choose k objects from a set of n objects.\n",
    "\n",
    "Given A,B,C,D,E,F we want to find all combinations in a set of 4 chairs.\n",
    "n = 6\n",
    "k = 4\n",
    "We assume ABCD = ACBD and add $k!$ in the denominator since this divides by the number of possible permutations we can arrange ABCD in four chairs:\n",
    "$k! = k * (k-1) * (k-2) * ... * 1$\n",
    "$k!$= 4 letters can go in first spot * 3 letters can be chosen in second spot * 2 letters can be chosen in third spot * 1 in last spot\n",
    "$k!$= $4\\cdot 3\\cdot 2 \\cdot 1 = 24$\n",
    "If we wanted all combinations of seating where order matters, i.e. ABCD != ACBD, then we would then omit $k!$ from the denominator and be left with:\n",
    "$\\frac{n!}{(n-k)!}$\n",
    "\n",
    "For example, there are $\\frac{6*5*4*3*2*1}{2*1} = \\frac{30*24}{2} = 30*12 = 360$ ways to arrange ABCDEF into four places\n"
   ]
  },
  {
   "cell_type": "code",
   "execution_count": 12,
   "metadata": {
    "collapsed": false,
    "pycharm": {
     "name": "#%%\n"
    }
   },
   "outputs": [
    {
     "data": {
      "text/plain": [
       "[[3, 4], [2, 4], [2, 3], [1, 4], [1, 3], [1, 2]]"
      ]
     },
     "execution_count": 12,
     "metadata": {},
     "output_type": "execute_result"
    }
   ],
   "source": [
    "from typing import List\n",
    "\n",
    "class Solution:\n",
    "\n",
    "    @staticmethod\n",
    "    def get_all_combinations(nums: List[int], k: int) -> List[List[int]]:\n",
    "        \"\"\"\n",
    "        move left: don't add n to list\n",
    "        move right: add n to list\n",
    "        n = 3\n",
    "                             []                              2^0 combinations\n",
    "                  /                     \\\n",
    "        1        []                     [1]                  2^1 combinations\n",
    "                /    \\               /        \\\n",
    "        2      []     [2]          [1]        [1,2]          2^2 combinations\n",
    "              /  \\    /  \\       /    \\       /   \\\n",
    "        3    []  [3] [2] [2,3]  [1]   [1,3] [1,2]  [1,2,3]   2^3 combinations of any size\n",
    "\n",
    "        n choose k = n! / ((n-k)!*k!)\n",
    "        \"\"\"\n",
    "        if not nums:\n",
    "            return [[]]\n",
    "\n",
    "        left_num = nums[0]\n",
    "\n",
    "        combinations_without_first = Solution.get_all_combinations(nums[1:], k)\n",
    "        combinations_with_first = []\n",
    "        for comb in combinations_without_first:\n",
    "            combinations_with_first.append([left_num] + comb)\n",
    "        return combinations_without_first + combinations_with_first\n",
    "\n",
    "    def combine(self, n: int, k: int) -> List[List[int]]:\n",
    "        all_combs = Solution.get_all_combinations(list(range(1,n+1)), k)\n",
    "        result = []\n",
    "        for comb in all_combs:\n",
    "            if len(comb) == k:\n",
    "                result.append(comb)\n",
    "        return result\n",
    "\n",
    "Solution().combine(4, 2)"
   ]
  },
  {
   "cell_type": "code",
   "execution_count": 13,
   "metadata": {
    "collapsed": false,
    "pycharm": {
     "name": "#%%\n"
    }
   },
   "outputs": [
    {
     "data": {
      "text/plain": [
       "[[2, 3, 4], [1, 3, 4], [1, 2, 4], [1, 2, 3]]"
      ]
     },
     "execution_count": 13,
     "metadata": {},
     "output_type": "execute_result"
    }
   ],
   "source": [
    "Solution().combine(4,3)"
   ]
  },
  {
   "cell_type": "code",
   "execution_count": 14,
   "metadata": {
    "collapsed": false,
    "pycharm": {
     "name": "#%%\n"
    }
   },
   "outputs": [
    {
     "data": {
      "text/plain": [
       "[[4], [3], [2], [1]]"
      ]
     },
     "execution_count": 14,
     "metadata": {},
     "output_type": "execute_result"
    }
   ],
   "source": [
    "Solution().combine(4,1)"
   ]
  },
  {
   "cell_type": "code",
   "execution_count": 15,
   "metadata": {
    "collapsed": false,
    "pycharm": {
     "name": "#%%\n"
    }
   },
   "outputs": [
    {
     "data": {
      "text/plain": [
       "[[],\n",
       " [4],\n",
       " [3],\n",
       " [3, 4],\n",
       " [2],\n",
       " [2, 4],\n",
       " [2, 3],\n",
       " [2, 3, 4],\n",
       " [1],\n",
       " [1, 4],\n",
       " [1, 3],\n",
       " [1, 3, 4],\n",
       " [1, 2],\n",
       " [1, 2, 4],\n",
       " [1, 2, 3],\n",
       " [1, 2, 3, 4]]"
      ]
     },
     "execution_count": 15,
     "metadata": {},
     "output_type": "execute_result"
    }
   ],
   "source": [
    "Solution.get_all_combinations([1,2,3,4], 3)"
   ]
  },
  {
   "cell_type": "markdown",
   "metadata": {
    "collapsed": false,
    "pycharm": {
     "name": "#%% md\n"
    }
   },
   "source": [
    "### 1015. Smallest Integer Divisible by K\n",
    "[https://leetcode.com/problems/smallest-integer-divisible-by-k/](https://leetcode.com/problems/smallest-integer-divisible-by-k/)\n",
    "\n",
    "Given a positive integer k, you need to find the length of the smallest positive integer n such that n is divisible by k, and n only contains the digit 1.\n",
    "\n",
    "Return the length of n. If there is no such n, return -1.\n",
    "\n",
    "Note: n may not fit in a 64-bit signed integer.\n",
    "\n"
   ]
  },
  {
   "cell_type": "code",
   "execution_count": 16,
   "metadata": {
    "collapsed": false,
    "pycharm": {
     "name": "#%%\n"
    }
   },
   "outputs": [
    {
     "data": {
      "text/plain": [
       "1"
      ]
     },
     "execution_count": 16,
     "metadata": {},
     "output_type": "execute_result"
    }
   ],
   "source": [
    "class Solution:\n",
    "    def smallestRepunitDivByK(self, k: int) -> int:\n",
    "        # Key points:\n",
    "        # we only need to keep multiplying n * 10 and adding 1 until n%k == 0\n",
    "        # since n might overflow, we need to use the remainder\n",
    "        # the remainder and n have the same remainder of k, so it's\n",
    "        # okay to use the remainder instead of n\n",
    "        # note that if n does not exist, the while loop will continue\n",
    "        # endlessly, so we find a remainder that repeats, we return -1\n",
    "\n",
    "        remainder = 1\n",
    "        length_n = 1\n",
    "\n",
    "        seen_remainders = set()\n",
    "\n",
    "        while remainder % k != 0:\n",
    "            n = remainder*10 + 1\n",
    "            remainder = n % k\n",
    "            length_n += 1\n",
    "            if remainder in seen_remainders:\n",
    "                return -1\n",
    "            else:\n",
    "                seen_remainders.add(remainder)\n",
    "        return length_n\n",
    "Solution().smallestRepunitDivByK(1)"
   ]
  },
  {
   "cell_type": "markdown",
   "metadata": {
    "collapsed": false,
    "pycharm": {
     "name": "#%% md\n"
    }
   },
   "source": [
    "### Modular Exponentiation\n",
    "\n",
    "Given three numbers x, y and p, compute $(x^y) \\ \\% \\ p $.\n",
    "\n",
    "Modular property: $(x\\cdot  y) \\ mod \\ p = ( (x \\ mod  \\ p) \\cdot (y \\ mod \\ p) ) \\ mod \\ p $\n",
    "\n",
    "Note that any number can be represented by the sum of distinctc powers of 2\n",
    "\n",
    "e.g. 94 = 64 + 16 + 8 + 4 + 2\n",
    "e.g. 95 = 64 + 16 + 8 + 4 + 2 + 2^0\n",
    "\n",
    "\n"
   ]
  },
  {
   "cell_type": "code",
   "execution_count": 17,
   "metadata": {
    "collapsed": false,
    "pycharm": {
     "name": "#%%\n"
    }
   },
   "outputs": [],
   "source": [
    "# the following does not work for large values of x or y, as an overflow may occur\n",
    "def modular_exponentiation_naive(x, y, p):\n",
    "    return (x**y) % p"
   ]
  },
  {
   "cell_type": "code",
   "execution_count": 18,
   "metadata": {
    "collapsed": false,
    "pycharm": {
     "name": "#%%\n"
    }
   },
   "outputs": [
    {
     "name": "stdout",
     "output_type": "stream",
     "text": [
      "2 is even\n",
      "3 is odd\n"
     ]
    }
   ],
   "source": [
    "# Check if a number is even or odd by checking if 0th bit is 1 or 0:\n",
    "def check_even(num):\n",
    "    # 3     = 11\n",
    "    # 1     = 01\n",
    "    # 3 & 1 = 01  (3 is odd)\n",
    "\n",
    "    # 2     = 10\n",
    "    # 2 & 1 = 00  (2 is even)\n",
    "    if (num & 1) == 0:\n",
    "        print(f\"{num} is even\")\n",
    "    else:\n",
    "        print(f\"{num} is odd\")\n",
    "check_even(2)\n",
    "check_even(3)"
   ]
  },
  {
   "cell_type": "code",
   "execution_count": 19,
   "metadata": {
    "collapsed": false,
    "pycharm": {
     "name": "#%%\n"
    }
   },
   "outputs": [
    {
     "name": "stdout",
     "output_type": "stream",
     "text": [
      "4\n",
      "3\n"
     ]
    }
   ],
   "source": [
    "def divide_by_two(num):\n",
    "\n",
    "    # 8->4  1000 -> 0100\n",
    "    # 7->3 : 111 ->   11\n",
    "    #\n",
    "    return num >> 1 # y = y/2\n",
    "print(divide_by_two(8))\n",
    "print(divide_by_two(7))"
   ]
  },
  {
   "cell_type": "code",
   "execution_count": 20,
   "metadata": {
    "collapsed": false,
    "pycharm": {
     "name": "#%%\n"
    }
   },
   "outputs": [],
   "source": [
    "from typing import List, Union\n",
    "\n",
    "\n",
    "class Solution:\n",
    "    def superPow(self, x: int, b: Union[List[int], int], p: int = 1337) -> int:\n",
    "        if isinstance(b, int):\n",
    "            y = b\n",
    "        else:\n",
    "            y = int(\"\".join([str(c) for c in b]))\n",
    "        res = 1\n",
    "        x = x % p\n",
    "\n",
    "        # check whether x is a multiple of p\n",
    "        # e.g. x = 4, p = 2 or x = 2, p = 2\n",
    "        # if it is, taking x to any power y mod p will always return 0\n",
    "        if x == 0:\n",
    "            return 0\n",
    "\n",
    "        while y > 0:\n",
    "            # if y is odd. Let y = (a+b), then x^y mod p = x^(a+b) mod p = (x^a)(x^b) mod p\n",
    "            # then\n",
    "            if (y & 1 == 1):  # odd\n",
    "                res = (res * x) % p\n",
    "\n",
    "            # y is even so we can divide by 2\n",
    "            # without losing the remainder\n",
    "            y = y >> 1\n",
    "            x = (x * x) % p\n",
    "        return res\n",
    "\n",
    "assert Solution().superPow(2, 4, 3)  == 1 # 2^4 mod 3 = 16 mod 3 = 1"
   ]
  },
  {
   "cell_type": "code",
   "execution_count": 21,
   "metadata": {
    "collapsed": false,
    "pycharm": {
     "name": "#%%\n"
    }
   },
   "outputs": [],
   "source": [
    "class Solution:\n",
    "    def superPow(self, a: int, b: Union[List[int], int], N: int = 1337) -> int:\n",
    "\n",
    "        def mod_exp(x, y, N):\n",
    "            if y == 0:\n",
    "                return 1\n",
    "\n",
    "            z = mod_exp(x, y // 2, N)\n",
    "            if y & 1 != 1:  # y is even\n",
    "                return z**2 % N\n",
    "\n",
    "            return x*(z**2) % N\n",
    "\n",
    "        if isinstance(b, List):\n",
    "            b = int(\"\".join([str(each) for each in b]))\n",
    "        return mod_exp(a, b, N)\n",
    "\n",
    "assert Solution().superPow(2, 4, 3)  == 1 # 2^4 mod 3 = 16 mod 3 = 1"
   ]
  },
  {
   "cell_type": "markdown",
   "metadata": {
    "collapsed": false,
    "pycharm": {
     "name": "#%% md\n"
    }
   },
   "source": [
    "Fast modular exponentiation: [https://www.youtube.com/watch?v=8r4-5k-o1QE](https://www.youtube.com/watch?v=8r4-5k-o1QE)\n",
    "Time complexity: O(logy) where y is the exponent\n",
    "[https://leetcode.com/problems/super-pow/submissions/](https://leetcode.com/problems/super-pow/submissions/)\n"
   ]
  },
  {
   "cell_type": "code",
   "execution_count": 22,
   "metadata": {
    "collapsed": false,
    "pycharm": {
     "name": "#%%\n"
    }
   },
   "outputs": [
    {
     "ename": "FileNotFoundError",
     "evalue": "No such file or directory: 'media/fast_modular_exponentiation.png'",
     "output_type": "error",
     "traceback": [
      "\u001b[0;31m---------------------------------------------------------------------------\u001b[0m",
      "\u001b[0;31mTypeError\u001b[0m                                 Traceback (most recent call last)",
      "\u001b[0;32m~/.pyenv/versions/3.8.7/envs/algorithms/lib/python3.8/site-packages/IPython/core/display.py\u001b[0m in \u001b[0;36m_data_and_metadata\u001b[0;34m(self, always_both)\u001b[0m\n\u001b[1;32m   1299\u001b[0m         \u001b[0;32mtry\u001b[0m\u001b[0;34m:\u001b[0m\u001b[0;34m\u001b[0m\u001b[0;34m\u001b[0m\u001b[0m\n\u001b[0;32m-> 1300\u001b[0;31m             \u001b[0mb64_data\u001b[0m \u001b[0;34m=\u001b[0m \u001b[0mb2a_base64\u001b[0m\u001b[0;34m(\u001b[0m\u001b[0mself\u001b[0m\u001b[0;34m.\u001b[0m\u001b[0mdata\u001b[0m\u001b[0;34m)\u001b[0m\u001b[0;34m.\u001b[0m\u001b[0mdecode\u001b[0m\u001b[0;34m(\u001b[0m\u001b[0;34m'ascii'\u001b[0m\u001b[0;34m)\u001b[0m\u001b[0;34m\u001b[0m\u001b[0;34m\u001b[0m\u001b[0m\n\u001b[0m\u001b[1;32m   1301\u001b[0m         \u001b[0;32mexcept\u001b[0m \u001b[0mTypeError\u001b[0m\u001b[0;34m:\u001b[0m\u001b[0;34m\u001b[0m\u001b[0;34m\u001b[0m\u001b[0m\n",
      "\u001b[0;31mTypeError\u001b[0m: a bytes-like object is required, not 'str'",
      "\nDuring handling of the above exception, another exception occurred:\n",
      "\u001b[0;31mFileNotFoundError\u001b[0m                         Traceback (most recent call last)",
      "\u001b[0;32m~/.pyenv/versions/3.8.7/envs/algorithms/lib/python3.8/site-packages/IPython/core/formatters.py\u001b[0m in \u001b[0;36m__call__\u001b[0;34m(self, obj, include, exclude)\u001b[0m\n\u001b[1;32m    968\u001b[0m \u001b[0;34m\u001b[0m\u001b[0m\n\u001b[1;32m    969\u001b[0m             \u001b[0;32mif\u001b[0m \u001b[0mmethod\u001b[0m \u001b[0;32mis\u001b[0m \u001b[0;32mnot\u001b[0m \u001b[0;32mNone\u001b[0m\u001b[0;34m:\u001b[0m\u001b[0;34m\u001b[0m\u001b[0;34m\u001b[0m\u001b[0m\n\u001b[0;32m--> 970\u001b[0;31m                 \u001b[0;32mreturn\u001b[0m \u001b[0mmethod\u001b[0m\u001b[0;34m(\u001b[0m\u001b[0minclude\u001b[0m\u001b[0;34m=\u001b[0m\u001b[0minclude\u001b[0m\u001b[0;34m,\u001b[0m \u001b[0mexclude\u001b[0m\u001b[0;34m=\u001b[0m\u001b[0mexclude\u001b[0m\u001b[0;34m)\u001b[0m\u001b[0;34m\u001b[0m\u001b[0;34m\u001b[0m\u001b[0m\n\u001b[0m\u001b[1;32m    971\u001b[0m             \u001b[0;32mreturn\u001b[0m \u001b[0;32mNone\u001b[0m\u001b[0;34m\u001b[0m\u001b[0;34m\u001b[0m\u001b[0m\n\u001b[1;32m    972\u001b[0m         \u001b[0;32melse\u001b[0m\u001b[0;34m:\u001b[0m\u001b[0;34m\u001b[0m\u001b[0;34m\u001b[0m\u001b[0m\n",
      "\u001b[0;32m~/.pyenv/versions/3.8.7/envs/algorithms/lib/python3.8/site-packages/IPython/core/display.py\u001b[0m in \u001b[0;36m_repr_mimebundle_\u001b[0;34m(self, include, exclude)\u001b[0m\n\u001b[1;32m   1288\u001b[0m         \u001b[0;32mif\u001b[0m \u001b[0mself\u001b[0m\u001b[0;34m.\u001b[0m\u001b[0membed\u001b[0m\u001b[0;34m:\u001b[0m\u001b[0;34m\u001b[0m\u001b[0;34m\u001b[0m\u001b[0m\n\u001b[1;32m   1289\u001b[0m             \u001b[0mmimetype\u001b[0m \u001b[0;34m=\u001b[0m \u001b[0mself\u001b[0m\u001b[0;34m.\u001b[0m\u001b[0m_mimetype\u001b[0m\u001b[0;34m\u001b[0m\u001b[0;34m\u001b[0m\u001b[0m\n\u001b[0;32m-> 1290\u001b[0;31m             \u001b[0mdata\u001b[0m\u001b[0;34m,\u001b[0m \u001b[0mmetadata\u001b[0m \u001b[0;34m=\u001b[0m \u001b[0mself\u001b[0m\u001b[0;34m.\u001b[0m\u001b[0m_data_and_metadata\u001b[0m\u001b[0;34m(\u001b[0m\u001b[0malways_both\u001b[0m\u001b[0;34m=\u001b[0m\u001b[0;32mTrue\u001b[0m\u001b[0;34m)\u001b[0m\u001b[0;34m\u001b[0m\u001b[0;34m\u001b[0m\u001b[0m\n\u001b[0m\u001b[1;32m   1291\u001b[0m             \u001b[0;32mif\u001b[0m \u001b[0mmetadata\u001b[0m\u001b[0;34m:\u001b[0m\u001b[0;34m\u001b[0m\u001b[0;34m\u001b[0m\u001b[0m\n\u001b[1;32m   1292\u001b[0m                 \u001b[0mmetadata\u001b[0m \u001b[0;34m=\u001b[0m \u001b[0;34m{\u001b[0m\u001b[0mmimetype\u001b[0m\u001b[0;34m:\u001b[0m \u001b[0mmetadata\u001b[0m\u001b[0;34m}\u001b[0m\u001b[0;34m\u001b[0m\u001b[0;34m\u001b[0m\u001b[0m\n",
      "\u001b[0;32m~/.pyenv/versions/3.8.7/envs/algorithms/lib/python3.8/site-packages/IPython/core/display.py\u001b[0m in \u001b[0;36m_data_and_metadata\u001b[0;34m(self, always_both)\u001b[0m\n\u001b[1;32m   1300\u001b[0m             \u001b[0mb64_data\u001b[0m \u001b[0;34m=\u001b[0m \u001b[0mb2a_base64\u001b[0m\u001b[0;34m(\u001b[0m\u001b[0mself\u001b[0m\u001b[0;34m.\u001b[0m\u001b[0mdata\u001b[0m\u001b[0;34m)\u001b[0m\u001b[0;34m.\u001b[0m\u001b[0mdecode\u001b[0m\u001b[0;34m(\u001b[0m\u001b[0;34m'ascii'\u001b[0m\u001b[0;34m)\u001b[0m\u001b[0;34m\u001b[0m\u001b[0;34m\u001b[0m\u001b[0m\n\u001b[1;32m   1301\u001b[0m         \u001b[0;32mexcept\u001b[0m \u001b[0mTypeError\u001b[0m\u001b[0;34m:\u001b[0m\u001b[0;34m\u001b[0m\u001b[0;34m\u001b[0m\u001b[0m\n\u001b[0;32m-> 1302\u001b[0;31m             raise FileNotFoundError(\n\u001b[0m\u001b[1;32m   1303\u001b[0m                 \"No such file or directory: '%s'\" % (self.data))\n\u001b[1;32m   1304\u001b[0m         \u001b[0mmd\u001b[0m \u001b[0;34m=\u001b[0m \u001b[0;34m{\u001b[0m\u001b[0;34m}\u001b[0m\u001b[0;34m\u001b[0m\u001b[0;34m\u001b[0m\u001b[0m\n",
      "\u001b[0;31mFileNotFoundError\u001b[0m: No such file or directory: 'media/fast_modular_exponentiation.png'"
     ]
    },
    {
     "ename": "FileNotFoundError",
     "evalue": "No such file or directory: 'media/fast_modular_exponentiation.png'",
     "output_type": "error",
     "traceback": [
      "\u001b[0;31m---------------------------------------------------------------------------\u001b[0m",
      "\u001b[0;31mTypeError\u001b[0m                                 Traceback (most recent call last)",
      "\u001b[0;32m~/.pyenv/versions/3.8.7/envs/algorithms/lib/python3.8/site-packages/IPython/core/display.py\u001b[0m in \u001b[0;36m_data_and_metadata\u001b[0;34m(self, always_both)\u001b[0m\n\u001b[1;32m   1299\u001b[0m         \u001b[0;32mtry\u001b[0m\u001b[0;34m:\u001b[0m\u001b[0;34m\u001b[0m\u001b[0;34m\u001b[0m\u001b[0m\n\u001b[0;32m-> 1300\u001b[0;31m             \u001b[0mb64_data\u001b[0m \u001b[0;34m=\u001b[0m \u001b[0mb2a_base64\u001b[0m\u001b[0;34m(\u001b[0m\u001b[0mself\u001b[0m\u001b[0;34m.\u001b[0m\u001b[0mdata\u001b[0m\u001b[0;34m)\u001b[0m\u001b[0;34m.\u001b[0m\u001b[0mdecode\u001b[0m\u001b[0;34m(\u001b[0m\u001b[0;34m'ascii'\u001b[0m\u001b[0;34m)\u001b[0m\u001b[0;34m\u001b[0m\u001b[0;34m\u001b[0m\u001b[0m\n\u001b[0m\u001b[1;32m   1301\u001b[0m         \u001b[0;32mexcept\u001b[0m \u001b[0mTypeError\u001b[0m\u001b[0;34m:\u001b[0m\u001b[0;34m\u001b[0m\u001b[0;34m\u001b[0m\u001b[0m\n",
      "\u001b[0;31mTypeError\u001b[0m: a bytes-like object is required, not 'str'",
      "\nDuring handling of the above exception, another exception occurred:\n",
      "\u001b[0;31mFileNotFoundError\u001b[0m                         Traceback (most recent call last)",
      "\u001b[0;32m~/.pyenv/versions/3.8.7/envs/algorithms/lib/python3.8/site-packages/IPython/core/formatters.py\u001b[0m in \u001b[0;36m__call__\u001b[0;34m(self, obj)\u001b[0m\n\u001b[1;32m    343\u001b[0m             \u001b[0mmethod\u001b[0m \u001b[0;34m=\u001b[0m \u001b[0mget_real_method\u001b[0m\u001b[0;34m(\u001b[0m\u001b[0mobj\u001b[0m\u001b[0;34m,\u001b[0m \u001b[0mself\u001b[0m\u001b[0;34m.\u001b[0m\u001b[0mprint_method\u001b[0m\u001b[0;34m)\u001b[0m\u001b[0;34m\u001b[0m\u001b[0;34m\u001b[0m\u001b[0m\n\u001b[1;32m    344\u001b[0m             \u001b[0;32mif\u001b[0m \u001b[0mmethod\u001b[0m \u001b[0;32mis\u001b[0m \u001b[0;32mnot\u001b[0m \u001b[0;32mNone\u001b[0m\u001b[0;34m:\u001b[0m\u001b[0;34m\u001b[0m\u001b[0;34m\u001b[0m\u001b[0m\n\u001b[0;32m--> 345\u001b[0;31m                 \u001b[0;32mreturn\u001b[0m \u001b[0mmethod\u001b[0m\u001b[0;34m(\u001b[0m\u001b[0;34m)\u001b[0m\u001b[0;34m\u001b[0m\u001b[0;34m\u001b[0m\u001b[0m\n\u001b[0m\u001b[1;32m    346\u001b[0m             \u001b[0;32mreturn\u001b[0m \u001b[0;32mNone\u001b[0m\u001b[0;34m\u001b[0m\u001b[0;34m\u001b[0m\u001b[0m\n\u001b[1;32m    347\u001b[0m         \u001b[0;32melse\u001b[0m\u001b[0;34m:\u001b[0m\u001b[0;34m\u001b[0m\u001b[0;34m\u001b[0m\u001b[0m\n",
      "\u001b[0;32m~/.pyenv/versions/3.8.7/envs/algorithms/lib/python3.8/site-packages/IPython/core/display.py\u001b[0m in \u001b[0;36m_repr_png_\u001b[0;34m(self)\u001b[0m\n\u001b[1;32m   1318\u001b[0m     \u001b[0;32mdef\u001b[0m \u001b[0m_repr_png_\u001b[0m\u001b[0;34m(\u001b[0m\u001b[0mself\u001b[0m\u001b[0;34m)\u001b[0m\u001b[0;34m:\u001b[0m\u001b[0;34m\u001b[0m\u001b[0;34m\u001b[0m\u001b[0m\n\u001b[1;32m   1319\u001b[0m         \u001b[0;32mif\u001b[0m \u001b[0mself\u001b[0m\u001b[0;34m.\u001b[0m\u001b[0membed\u001b[0m \u001b[0;32mand\u001b[0m \u001b[0mself\u001b[0m\u001b[0;34m.\u001b[0m\u001b[0mformat\u001b[0m \u001b[0;34m==\u001b[0m \u001b[0mself\u001b[0m\u001b[0;34m.\u001b[0m\u001b[0m_FMT_PNG\u001b[0m\u001b[0;34m:\u001b[0m\u001b[0;34m\u001b[0m\u001b[0;34m\u001b[0m\u001b[0m\n\u001b[0;32m-> 1320\u001b[0;31m             \u001b[0;32mreturn\u001b[0m \u001b[0mself\u001b[0m\u001b[0;34m.\u001b[0m\u001b[0m_data_and_metadata\u001b[0m\u001b[0;34m(\u001b[0m\u001b[0;34m)\u001b[0m\u001b[0;34m\u001b[0m\u001b[0;34m\u001b[0m\u001b[0m\n\u001b[0m\u001b[1;32m   1321\u001b[0m \u001b[0;34m\u001b[0m\u001b[0m\n\u001b[1;32m   1322\u001b[0m     \u001b[0;32mdef\u001b[0m \u001b[0m_repr_jpeg_\u001b[0m\u001b[0;34m(\u001b[0m\u001b[0mself\u001b[0m\u001b[0;34m)\u001b[0m\u001b[0;34m:\u001b[0m\u001b[0;34m\u001b[0m\u001b[0;34m\u001b[0m\u001b[0m\n",
      "\u001b[0;32m~/.pyenv/versions/3.8.7/envs/algorithms/lib/python3.8/site-packages/IPython/core/display.py\u001b[0m in \u001b[0;36m_data_and_metadata\u001b[0;34m(self, always_both)\u001b[0m\n\u001b[1;32m   1300\u001b[0m             \u001b[0mb64_data\u001b[0m \u001b[0;34m=\u001b[0m \u001b[0mb2a_base64\u001b[0m\u001b[0;34m(\u001b[0m\u001b[0mself\u001b[0m\u001b[0;34m.\u001b[0m\u001b[0mdata\u001b[0m\u001b[0;34m)\u001b[0m\u001b[0;34m.\u001b[0m\u001b[0mdecode\u001b[0m\u001b[0;34m(\u001b[0m\u001b[0;34m'ascii'\u001b[0m\u001b[0;34m)\u001b[0m\u001b[0;34m\u001b[0m\u001b[0;34m\u001b[0m\u001b[0m\n\u001b[1;32m   1301\u001b[0m         \u001b[0;32mexcept\u001b[0m \u001b[0mTypeError\u001b[0m\u001b[0;34m:\u001b[0m\u001b[0;34m\u001b[0m\u001b[0;34m\u001b[0m\u001b[0m\n\u001b[0;32m-> 1302\u001b[0;31m             raise FileNotFoundError(\n\u001b[0m\u001b[1;32m   1303\u001b[0m                 \"No such file or directory: '%s'\" % (self.data))\n\u001b[1;32m   1304\u001b[0m         \u001b[0mmd\u001b[0m \u001b[0;34m=\u001b[0m \u001b[0;34m{\u001b[0m\u001b[0;34m}\u001b[0m\u001b[0;34m\u001b[0m\u001b[0;34m\u001b[0m\u001b[0m\n",
      "\u001b[0;31mFileNotFoundError\u001b[0m: No such file or directory: 'media/fast_modular_exponentiation.png'"
     ]
    },
    {
     "data": {
      "text/plain": [
       "<IPython.core.display.Image object>"
      ]
     },
     "execution_count": 22,
     "metadata": {},
     "output_type": "execute_result"
    }
   ],
   "source": [
    "from IPython import display\n",
    "display.Image(\"media/fast_modular_exponentiation.png\")"
   ]
  },
  {
   "cell_type": "code",
   "execution_count": 23,
   "metadata": {
    "collapsed": false,
    "pycharm": {
     "name": "#%%\n"
    }
   },
   "outputs": [],
   "source": [
    "# Fast modular exponentiation method\n",
    "\n",
    "from collections import deque\n",
    "class Solution:\n",
    "    def superPow(self, x: int, b: List[int]) -> int:\n",
    "        N = 1337\n",
    "        y = int(\"\".join([str(each) for each in b]))\n",
    "\n",
    "        y = deque([int(digit) for digit in bin(y)[2:]])\n",
    "\n",
    "        num = y.popleft()\n",
    "        assert num == 1\n",
    "        result = x\n",
    "\n",
    "        while y:\n",
    "            num = y.popleft()\n",
    "            if num == 0:\n",
    "                result = (result*result) % N\n",
    "            else:\n",
    "                result = (result*result) % N\n",
    "                result = (result*x) % N\n",
    "        return result\n"
   ]
  }
 ],
 "metadata": {
  "kernelspec": {
   "display_name": "Python 3",
   "language": "python",
   "name": "python3"
  },
  "language_info": {
   "codemirror_mode": {
    "name": "ipython",
    "version": 3
   },
   "file_extension": ".py",
   "mimetype": "text/x-python",
   "name": "python",
   "nbconvert_exporter": "python",
   "pygments_lexer": "ipython3",
   "version": "3.8.7"
  }
 },
 "nbformat": 4,
 "nbformat_minor": 0
}