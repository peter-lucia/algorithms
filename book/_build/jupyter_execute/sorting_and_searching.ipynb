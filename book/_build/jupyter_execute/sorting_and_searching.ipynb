{
 "cells": [
  {
   "cell_type": "markdown",
   "metadata": {
    "collapsed": true,
    "pycharm": {
     "name": "#%% md\n"
    }
   },
   "source": [
    "# Sorting and Searching"
   ]
  },
  {
   "cell_type": "markdown",
   "metadata": {
    "collapsed": false,
    "pycharm": {
     "name": "#%% md\n"
    }
   },
   "source": [
    "### Binary Search"
   ]
  },
  {
   "cell_type": "code",
   "execution_count": 1,
   "metadata": {
    "collapsed": false,
    "pycharm": {
     "name": "#%%\n"
    }
   },
   "outputs": [
    {
     "name": "stdout",
     "output_type": "stream",
     "text": [
      "2\n",
      "4\n",
      "-1\n"
     ]
    }
   ],
   "source": [
    "def binary_search(arr, key):\n",
    "    \"\"\"\n",
    "    Assumes the arr is sorted in increasing order\n",
    "    O(logn) time complexity\n",
    "    \"\"\"\n",
    "    if len(arr) == 0 or key == arr[0]:\n",
    "        return 0\n",
    "    low = 0\n",
    "    high = len(arr)\n",
    "    while low <= high:\n",
    "        mid = low + (high - low) // 2\n",
    "        if arr[mid] < key:\n",
    "            low = mid + 1\n",
    "        elif arr[mid] > key:\n",
    "            high = mid - 1\n",
    "        else:\n",
    "            return mid\n",
    "    return -1\n",
    "\n",
    "print(binary_search([4, 6, 10], 10))\n",
    "print(binary_search([1, 2, 3, 4, 5, 6, 7], 5))\n",
    "print(binary_search([10, 11, 12], 2))"
   ]
  },
  {
   "cell_type": "markdown",
   "metadata": {
    "collapsed": false,
    "pycharm": {
     "name": "#%% md\n"
    }
   },
   "source": [
    "### Binary Search Application\n",
    "* https://leetcode.com/problems/time-based-key-value-store/\n",
    "* See [Python](python.ipnb) for binary search application using the bisect built-in"
   ]
  },
  {
   "cell_type": "code",
   "execution_count": 2,
   "metadata": {
    "collapsed": false,
    "pycharm": {
     "name": "#%%\n"
    }
   },
   "outputs": [],
   "source": [
    "from collections import defaultdict\n",
    "from bisect import bisect_right\n",
    "class TimeMap:\n",
    "\n",
    "    # approach #1\n",
    "\n",
    "    # use a hashmap\n",
    "    # key: [(timestamp, value), (timestamp, value)]\n",
    "\n",
    "    # approach #2\n",
    "\n",
    "    def __init__(self):\n",
    "        self.lookup = defaultdict(list)\n",
    "\n",
    "    def set(self, key: str, value: str, timestamp: int) -> None:\n",
    "        # timestamp increases with each successive call,\n",
    "        # so we can just append and they will be sorted\n",
    "        # by timestamp in increasing order\n",
    "\n",
    "        # create two defaultdicts for timestamps and values\n",
    "\n",
    "        # we could use one lookup with a list of tuples\n",
    "        # where lookup[key] = [(timestamp, value), (timestamp1, value1)]\n",
    "        # but bisect only provides the key parameter in python 3.10+\n",
    "\n",
    "        self.lookup[key].append((timestamp, value))\n",
    "\n",
    "\n",
    "    def get(self, key: str, timestamp: int) -> str:\n",
    "        if self.lookup.get(key) is None:\n",
    "            return \"\"\n",
    "\n",
    "        # If the last (and greatest) timestamp for this key is smaller\n",
    "        # than the timestamp requested, return the last timestamp\n",
    "        if self.lookup[key][-1][0] < timestamp:\n",
    "            return self.lookup[key][-1][1]\n",
    "\n",
    "        low = 0\n",
    "        high = len(self.lookup[key]) - 1\n",
    "\n",
    "        while low <= high:\n",
    "            mid = low + (high - low) // 2\n",
    "            if self.lookup[key][mid][0] < timestamp:\n",
    "                low = mid + 1\n",
    "            elif self.lookup[key][mid][0] > timestamp:\n",
    "                high = mid - 1\n",
    "            else:\n",
    "                # found it, return the value\n",
    "                return self.lookup[key][mid][1]\n",
    "        # since low is 0, no values <= timestamp exist in the array for this key\n",
    "        if low == 0:\n",
    "            return \"\"\n",
    "        # the exact timestamp was not found, but since we completed binary search\n",
    "        # we know that all values < low are <= the desired timestamp,\n",
    "        # so we return the value just to the left of low\n",
    "        return self.lookup[key][low-1][1]  # all values <= to timestamp are to the left of low\n"
   ]
  },
  {
   "cell_type": "markdown",
   "metadata": {
    "collapsed": false,
    "pycharm": {
     "name": "#%% md\n"
    }
   },
   "source": [
    "[Master Theorem with explanation (pdf)](media/master_theorem.pdf)"
   ]
  },
  {
   "cell_type": "code",
   "execution_count": 3,
   "metadata": {
    "collapsed": false,
    "pycharm": {
     "name": "#%%\n"
    }
   },
   "outputs": [
    {
     "ename": "FileNotFoundError",
     "evalue": "No such file or directory: 'media/master_theorem.png'",
     "output_type": "error",
     "traceback": [
      "\u001b[0;31m---------------------------------------------------------------------------\u001b[0m",
      "\u001b[0;31mTypeError\u001b[0m                                 Traceback (most recent call last)",
      "\u001b[0;32m~/.pyenv/versions/3.8.7/envs/algorithms/lib/python3.8/site-packages/IPython/core/display.py\u001b[0m in \u001b[0;36m_data_and_metadata\u001b[0;34m(self, always_both)\u001b[0m\n\u001b[1;32m   1299\u001b[0m         \u001b[0;32mtry\u001b[0m\u001b[0;34m:\u001b[0m\u001b[0;34m\u001b[0m\u001b[0;34m\u001b[0m\u001b[0m\n\u001b[0;32m-> 1300\u001b[0;31m             \u001b[0mb64_data\u001b[0m \u001b[0;34m=\u001b[0m \u001b[0mb2a_base64\u001b[0m\u001b[0;34m(\u001b[0m\u001b[0mself\u001b[0m\u001b[0;34m.\u001b[0m\u001b[0mdata\u001b[0m\u001b[0;34m)\u001b[0m\u001b[0;34m.\u001b[0m\u001b[0mdecode\u001b[0m\u001b[0;34m(\u001b[0m\u001b[0;34m'ascii'\u001b[0m\u001b[0;34m)\u001b[0m\u001b[0;34m\u001b[0m\u001b[0;34m\u001b[0m\u001b[0m\n\u001b[0m\u001b[1;32m   1301\u001b[0m         \u001b[0;32mexcept\u001b[0m \u001b[0mTypeError\u001b[0m\u001b[0;34m:\u001b[0m\u001b[0;34m\u001b[0m\u001b[0;34m\u001b[0m\u001b[0m\n",
      "\u001b[0;31mTypeError\u001b[0m: a bytes-like object is required, not 'str'",
      "\nDuring handling of the above exception, another exception occurred:\n",
      "\u001b[0;31mFileNotFoundError\u001b[0m                         Traceback (most recent call last)",
      "\u001b[0;32m~/.pyenv/versions/3.8.7/envs/algorithms/lib/python3.8/site-packages/IPython/core/formatters.py\u001b[0m in \u001b[0;36m__call__\u001b[0;34m(self, obj, include, exclude)\u001b[0m\n\u001b[1;32m    968\u001b[0m \u001b[0;34m\u001b[0m\u001b[0m\n\u001b[1;32m    969\u001b[0m             \u001b[0;32mif\u001b[0m \u001b[0mmethod\u001b[0m \u001b[0;32mis\u001b[0m \u001b[0;32mnot\u001b[0m \u001b[0;32mNone\u001b[0m\u001b[0;34m:\u001b[0m\u001b[0;34m\u001b[0m\u001b[0;34m\u001b[0m\u001b[0m\n\u001b[0;32m--> 970\u001b[0;31m                 \u001b[0;32mreturn\u001b[0m \u001b[0mmethod\u001b[0m\u001b[0;34m(\u001b[0m\u001b[0minclude\u001b[0m\u001b[0;34m=\u001b[0m\u001b[0minclude\u001b[0m\u001b[0;34m,\u001b[0m \u001b[0mexclude\u001b[0m\u001b[0;34m=\u001b[0m\u001b[0mexclude\u001b[0m\u001b[0;34m)\u001b[0m\u001b[0;34m\u001b[0m\u001b[0;34m\u001b[0m\u001b[0m\n\u001b[0m\u001b[1;32m    971\u001b[0m             \u001b[0;32mreturn\u001b[0m \u001b[0;32mNone\u001b[0m\u001b[0;34m\u001b[0m\u001b[0;34m\u001b[0m\u001b[0m\n\u001b[1;32m    972\u001b[0m         \u001b[0;32melse\u001b[0m\u001b[0;34m:\u001b[0m\u001b[0;34m\u001b[0m\u001b[0;34m\u001b[0m\u001b[0m\n",
      "\u001b[0;32m~/.pyenv/versions/3.8.7/envs/algorithms/lib/python3.8/site-packages/IPython/core/display.py\u001b[0m in \u001b[0;36m_repr_mimebundle_\u001b[0;34m(self, include, exclude)\u001b[0m\n\u001b[1;32m   1288\u001b[0m         \u001b[0;32mif\u001b[0m \u001b[0mself\u001b[0m\u001b[0;34m.\u001b[0m\u001b[0membed\u001b[0m\u001b[0;34m:\u001b[0m\u001b[0;34m\u001b[0m\u001b[0;34m\u001b[0m\u001b[0m\n\u001b[1;32m   1289\u001b[0m             \u001b[0mmimetype\u001b[0m \u001b[0;34m=\u001b[0m \u001b[0mself\u001b[0m\u001b[0;34m.\u001b[0m\u001b[0m_mimetype\u001b[0m\u001b[0;34m\u001b[0m\u001b[0;34m\u001b[0m\u001b[0m\n\u001b[0;32m-> 1290\u001b[0;31m             \u001b[0mdata\u001b[0m\u001b[0;34m,\u001b[0m \u001b[0mmetadata\u001b[0m \u001b[0;34m=\u001b[0m \u001b[0mself\u001b[0m\u001b[0;34m.\u001b[0m\u001b[0m_data_and_metadata\u001b[0m\u001b[0;34m(\u001b[0m\u001b[0malways_both\u001b[0m\u001b[0;34m=\u001b[0m\u001b[0;32mTrue\u001b[0m\u001b[0;34m)\u001b[0m\u001b[0;34m\u001b[0m\u001b[0;34m\u001b[0m\u001b[0m\n\u001b[0m\u001b[1;32m   1291\u001b[0m             \u001b[0;32mif\u001b[0m \u001b[0mmetadata\u001b[0m\u001b[0;34m:\u001b[0m\u001b[0;34m\u001b[0m\u001b[0;34m\u001b[0m\u001b[0m\n\u001b[1;32m   1292\u001b[0m                 \u001b[0mmetadata\u001b[0m \u001b[0;34m=\u001b[0m \u001b[0;34m{\u001b[0m\u001b[0mmimetype\u001b[0m\u001b[0;34m:\u001b[0m \u001b[0mmetadata\u001b[0m\u001b[0;34m}\u001b[0m\u001b[0;34m\u001b[0m\u001b[0;34m\u001b[0m\u001b[0m\n",
      "\u001b[0;32m~/.pyenv/versions/3.8.7/envs/algorithms/lib/python3.8/site-packages/IPython/core/display.py\u001b[0m in \u001b[0;36m_data_and_metadata\u001b[0;34m(self, always_both)\u001b[0m\n\u001b[1;32m   1300\u001b[0m             \u001b[0mb64_data\u001b[0m \u001b[0;34m=\u001b[0m \u001b[0mb2a_base64\u001b[0m\u001b[0;34m(\u001b[0m\u001b[0mself\u001b[0m\u001b[0;34m.\u001b[0m\u001b[0mdata\u001b[0m\u001b[0;34m)\u001b[0m\u001b[0;34m.\u001b[0m\u001b[0mdecode\u001b[0m\u001b[0;34m(\u001b[0m\u001b[0;34m'ascii'\u001b[0m\u001b[0;34m)\u001b[0m\u001b[0;34m\u001b[0m\u001b[0;34m\u001b[0m\u001b[0m\n\u001b[1;32m   1301\u001b[0m         \u001b[0;32mexcept\u001b[0m \u001b[0mTypeError\u001b[0m\u001b[0;34m:\u001b[0m\u001b[0;34m\u001b[0m\u001b[0;34m\u001b[0m\u001b[0m\n\u001b[0;32m-> 1302\u001b[0;31m             raise FileNotFoundError(\n\u001b[0m\u001b[1;32m   1303\u001b[0m                 \"No such file or directory: '%s'\" % (self.data))\n\u001b[1;32m   1304\u001b[0m         \u001b[0mmd\u001b[0m \u001b[0;34m=\u001b[0m \u001b[0;34m{\u001b[0m\u001b[0;34m}\u001b[0m\u001b[0;34m\u001b[0m\u001b[0;34m\u001b[0m\u001b[0m\n",
      "\u001b[0;31mFileNotFoundError\u001b[0m: No such file or directory: 'media/master_theorem.png'"
     ]
    },
    {
     "ename": "FileNotFoundError",
     "evalue": "No such file or directory: 'media/master_theorem.png'",
     "output_type": "error",
     "traceback": [
      "\u001b[0;31m---------------------------------------------------------------------------\u001b[0m",
      "\u001b[0;31mTypeError\u001b[0m                                 Traceback (most recent call last)",
      "\u001b[0;32m~/.pyenv/versions/3.8.7/envs/algorithms/lib/python3.8/site-packages/IPython/core/display.py\u001b[0m in \u001b[0;36m_data_and_metadata\u001b[0;34m(self, always_both)\u001b[0m\n\u001b[1;32m   1299\u001b[0m         \u001b[0;32mtry\u001b[0m\u001b[0;34m:\u001b[0m\u001b[0;34m\u001b[0m\u001b[0;34m\u001b[0m\u001b[0m\n\u001b[0;32m-> 1300\u001b[0;31m             \u001b[0mb64_data\u001b[0m \u001b[0;34m=\u001b[0m \u001b[0mb2a_base64\u001b[0m\u001b[0;34m(\u001b[0m\u001b[0mself\u001b[0m\u001b[0;34m.\u001b[0m\u001b[0mdata\u001b[0m\u001b[0;34m)\u001b[0m\u001b[0;34m.\u001b[0m\u001b[0mdecode\u001b[0m\u001b[0;34m(\u001b[0m\u001b[0;34m'ascii'\u001b[0m\u001b[0;34m)\u001b[0m\u001b[0;34m\u001b[0m\u001b[0;34m\u001b[0m\u001b[0m\n\u001b[0m\u001b[1;32m   1301\u001b[0m         \u001b[0;32mexcept\u001b[0m \u001b[0mTypeError\u001b[0m\u001b[0;34m:\u001b[0m\u001b[0;34m\u001b[0m\u001b[0;34m\u001b[0m\u001b[0m\n",
      "\u001b[0;31mTypeError\u001b[0m: a bytes-like object is required, not 'str'",
      "\nDuring handling of the above exception, another exception occurred:\n",
      "\u001b[0;31mFileNotFoundError\u001b[0m                         Traceback (most recent call last)",
      "\u001b[0;32m~/.pyenv/versions/3.8.7/envs/algorithms/lib/python3.8/site-packages/IPython/core/formatters.py\u001b[0m in \u001b[0;36m__call__\u001b[0;34m(self, obj)\u001b[0m\n\u001b[1;32m    343\u001b[0m             \u001b[0mmethod\u001b[0m \u001b[0;34m=\u001b[0m \u001b[0mget_real_method\u001b[0m\u001b[0;34m(\u001b[0m\u001b[0mobj\u001b[0m\u001b[0;34m,\u001b[0m \u001b[0mself\u001b[0m\u001b[0;34m.\u001b[0m\u001b[0mprint_method\u001b[0m\u001b[0;34m)\u001b[0m\u001b[0;34m\u001b[0m\u001b[0;34m\u001b[0m\u001b[0m\n\u001b[1;32m    344\u001b[0m             \u001b[0;32mif\u001b[0m \u001b[0mmethod\u001b[0m \u001b[0;32mis\u001b[0m \u001b[0;32mnot\u001b[0m \u001b[0;32mNone\u001b[0m\u001b[0;34m:\u001b[0m\u001b[0;34m\u001b[0m\u001b[0;34m\u001b[0m\u001b[0m\n\u001b[0;32m--> 345\u001b[0;31m                 \u001b[0;32mreturn\u001b[0m \u001b[0mmethod\u001b[0m\u001b[0;34m(\u001b[0m\u001b[0;34m)\u001b[0m\u001b[0;34m\u001b[0m\u001b[0;34m\u001b[0m\u001b[0m\n\u001b[0m\u001b[1;32m    346\u001b[0m             \u001b[0;32mreturn\u001b[0m \u001b[0;32mNone\u001b[0m\u001b[0;34m\u001b[0m\u001b[0;34m\u001b[0m\u001b[0m\n\u001b[1;32m    347\u001b[0m         \u001b[0;32melse\u001b[0m\u001b[0;34m:\u001b[0m\u001b[0;34m\u001b[0m\u001b[0;34m\u001b[0m\u001b[0m\n",
      "\u001b[0;32m~/.pyenv/versions/3.8.7/envs/algorithms/lib/python3.8/site-packages/IPython/core/display.py\u001b[0m in \u001b[0;36m_repr_png_\u001b[0;34m(self)\u001b[0m\n\u001b[1;32m   1318\u001b[0m     \u001b[0;32mdef\u001b[0m \u001b[0m_repr_png_\u001b[0m\u001b[0;34m(\u001b[0m\u001b[0mself\u001b[0m\u001b[0;34m)\u001b[0m\u001b[0;34m:\u001b[0m\u001b[0;34m\u001b[0m\u001b[0;34m\u001b[0m\u001b[0m\n\u001b[1;32m   1319\u001b[0m         \u001b[0;32mif\u001b[0m \u001b[0mself\u001b[0m\u001b[0;34m.\u001b[0m\u001b[0membed\u001b[0m \u001b[0;32mand\u001b[0m \u001b[0mself\u001b[0m\u001b[0;34m.\u001b[0m\u001b[0mformat\u001b[0m \u001b[0;34m==\u001b[0m \u001b[0mself\u001b[0m\u001b[0;34m.\u001b[0m\u001b[0m_FMT_PNG\u001b[0m\u001b[0;34m:\u001b[0m\u001b[0;34m\u001b[0m\u001b[0;34m\u001b[0m\u001b[0m\n\u001b[0;32m-> 1320\u001b[0;31m             \u001b[0;32mreturn\u001b[0m \u001b[0mself\u001b[0m\u001b[0;34m.\u001b[0m\u001b[0m_data_and_metadata\u001b[0m\u001b[0;34m(\u001b[0m\u001b[0;34m)\u001b[0m\u001b[0;34m\u001b[0m\u001b[0;34m\u001b[0m\u001b[0m\n\u001b[0m\u001b[1;32m   1321\u001b[0m \u001b[0;34m\u001b[0m\u001b[0m\n\u001b[1;32m   1322\u001b[0m     \u001b[0;32mdef\u001b[0m \u001b[0m_repr_jpeg_\u001b[0m\u001b[0;34m(\u001b[0m\u001b[0mself\u001b[0m\u001b[0;34m)\u001b[0m\u001b[0;34m:\u001b[0m\u001b[0;34m\u001b[0m\u001b[0;34m\u001b[0m\u001b[0m\n",
      "\u001b[0;32m~/.pyenv/versions/3.8.7/envs/algorithms/lib/python3.8/site-packages/IPython/core/display.py\u001b[0m in \u001b[0;36m_data_and_metadata\u001b[0;34m(self, always_both)\u001b[0m\n\u001b[1;32m   1300\u001b[0m             \u001b[0mb64_data\u001b[0m \u001b[0;34m=\u001b[0m \u001b[0mb2a_base64\u001b[0m\u001b[0;34m(\u001b[0m\u001b[0mself\u001b[0m\u001b[0;34m.\u001b[0m\u001b[0mdata\u001b[0m\u001b[0;34m)\u001b[0m\u001b[0;34m.\u001b[0m\u001b[0mdecode\u001b[0m\u001b[0;34m(\u001b[0m\u001b[0;34m'ascii'\u001b[0m\u001b[0;34m)\u001b[0m\u001b[0;34m\u001b[0m\u001b[0;34m\u001b[0m\u001b[0m\n\u001b[1;32m   1301\u001b[0m         \u001b[0;32mexcept\u001b[0m \u001b[0mTypeError\u001b[0m\u001b[0;34m:\u001b[0m\u001b[0;34m\u001b[0m\u001b[0;34m\u001b[0m\u001b[0m\n\u001b[0;32m-> 1302\u001b[0;31m             raise FileNotFoundError(\n\u001b[0m\u001b[1;32m   1303\u001b[0m                 \"No such file or directory: '%s'\" % (self.data))\n\u001b[1;32m   1304\u001b[0m         \u001b[0mmd\u001b[0m \u001b[0;34m=\u001b[0m \u001b[0;34m{\u001b[0m\u001b[0;34m}\u001b[0m\u001b[0;34m\u001b[0m\u001b[0;34m\u001b[0m\u001b[0m\n",
      "\u001b[0;31mFileNotFoundError\u001b[0m: No such file or directory: 'media/master_theorem.png'"
     ]
    },
    {
     "data": {
      "text/plain": [
       "<IPython.core.display.Image object>"
      ]
     },
     "execution_count": 3,
     "metadata": {},
     "output_type": "execute_result"
    }
   ],
   "source": [
    "from IPython import display\n",
    "\n",
    "display.Image(\"media/master_theorem.png\")"
   ]
  },
  {
   "cell_type": "markdown",
   "metadata": {
    "collapsed": false,
    "pycharm": {
     "name": "#%% md\n"
    }
   },
   "source": [
    "### Mergesort (Divide and Conquer)\n",
    "\n",
    "$T(n) = aT(n/b) + O(n^{d}log^k{n})$\n",
    "\n",
    "* a = number of subproblems in the recursion\n",
    "* n/b = the size of each subproblem\n",
    "* $O(n^{d}log^k{n})$ = complexity of the merge\n",
    "\n",
    "$T(n) = 2T(n/2) + O(n) $\n",
    "\n",
    "- therefore, $b^d = a$ since b = 2, d = 1, a = 2\n",
    "\n",
    "$T(n) = O(nlogn)$"
   ]
  },
  {
   "cell_type": "code",
   "execution_count": 4,
   "metadata": {
    "collapsed": false,
    "pycharm": {
     "name": "#%%\n"
    }
   },
   "outputs": [
    {
     "name": "stdout",
     "output_type": "stream",
     "text": [
      "Given array is\n",
      "[12, 11, 13, 5, 6, 7]\n",
      "Sorted array is: \n",
      "[5, 6, 7, 11, 12, 13]\n"
     ]
    }
   ],
   "source": [
    "def merge_sort(arr):\n",
    "    \"\"\"\n",
    "    The merge sort algorithm\n",
    "    \"\"\"\n",
    "    if len(arr) > 1:\n",
    "\n",
    "        # Finding the middle index of the array\n",
    "        n = len(arr)\n",
    "\n",
    "        A = arr[:n//2]\n",
    "        B = arr[n//2:]\n",
    "\n",
    "        # recursively sort each half.\n",
    "        # This breaks the problem down into two subproblems (a = 2) each of size (n/2), so b = 2\n",
    "        merge_sort(A)\n",
    "        merge_sort(B)\n",
    "\n",
    "        # i = the idx for iterating over A\n",
    "        # j = the idx for iterating over B\n",
    "        # k = the idx we are at in the merged array\n",
    "        i = j = k = 0\n",
    "\n",
    "        # arr is copied over to A[...] and B[...]\n",
    "        # so we overwrite\n",
    "        while i < len(A) and j < len(B):\n",
    "            if A[i] < B[j]:\n",
    "                arr[k] = A[i]\n",
    "                i += 1\n",
    "            else:\n",
    "                arr[k] = B[j]\n",
    "                j += 1\n",
    "            k += 1\n",
    "\n",
    "        # at this point either we've added all elements of A or B to the result, arr.\n",
    "        # we need to add the left over elements which are guaranteed to be both\n",
    "        # pre-sorted in increasing order and larger than the last element of arr\n",
    "\n",
    "        # add remaining elements from A\n",
    "        while i < len(A):\n",
    "            arr[k] = A[i]\n",
    "            i += 1\n",
    "            k += 1\n",
    "\n",
    "        # add remaining elements from B\n",
    "        while j < len(B):\n",
    "            arr[k] = B[j]\n",
    "            j += 1\n",
    "            k += 1\n",
    "\n",
    "\n",
    "# Driver Code\n",
    "arr = [12, 11, 13, 5, 6, 7]\n",
    "print(\"Given array is\")\n",
    "print(arr)\n",
    "merge_sort(arr)\n",
    "print(\"Sorted array is: \")\n",
    "print(arr)\n"
   ]
  },
  {
   "cell_type": "markdown",
   "metadata": {
    "collapsed": false,
    "pycharm": {
     "name": "#%% md\n"
    }
   },
   "source": [
    "#### Mergesort application\n",
    "\n",
    "Get max profit from array of prices\n",
    "\n",
    "See other string / array solution [here](string_array.ipynb)."
   ]
  },
  {
   "cell_type": "code",
   "execution_count": 5,
   "metadata": {
    "collapsed": false,
    "pycharm": {
     "name": "#%%\n"
    }
   },
   "outputs": [
    {
     "name": "stdout",
     "output_type": "stream",
     "text": [
      "Prices: [10, 12, 17, 3, 9]\n",
      "Max profit 7,\n",
      "Lowest price: 3,\n",
      "Highest price: 17. \n"
     ]
    }
   ],
   "source": [
    "def max_profit(arr):\n",
    "    \"\"\"\n",
    "    Called recursively to find the max profit possible\n",
    "    of a single buy and sell order\n",
    "\n",
    "    @param arr: List[float] list of stock prices\n",
    "    @return: max profit, lowest price, highest price\n",
    "    \"\"\"\n",
    "    n = len(arr)\n",
    "    if n == 1:\n",
    "        return 0, arr[0], arr[0]\n",
    "\n",
    "    A = arr[:n//2]\n",
    "    B = arr[n//2:]\n",
    "\n",
    "    price_a, low_a, high_a = max_profit(A)\n",
    "    price_b, low_b, high_b = max_profit(B)\n",
    "\n",
    "    return max(price_a, price_b, high_b - low_a), min(low_a, low_b), max(high_a, high_b)\n",
    "\n",
    "arr = [10, 12, 17, 3, 9]\n",
    "profit, lowest_price, highest_price = max_profit(arr)\n",
    "\n",
    "print(f\"Prices: {arr}\\n\"\n",
    "      f\"Max profit {profit},\\n\"\n",
    "      f\"Lowest price: {lowest_price},\\n\"\n",
    "      f\"Highest price: {highest_price}. \")\n"
   ]
  },
  {
   "cell_type": "markdown",
   "execution_count": 1,
   "metadata": {
    "collapsed": false,
    "pycharm": {
     "name": "#%% md\n"
    }
   },
   "outputs": [],
   "source": [
    "### Quicksort (Divide and Conquer)\n",
    "\n",
    "```\n",
    "quicksort(arr, low, high):\n",
    "\"\"\"\n",
    "arr: array to sort\n",
    "low: left index for sort, typically 0\n",
    "high: right index for sort, typically last index in array\n",
    "\"\"\"\n",
    "    if (low < high) //\n",
    "        pivot = partition(arr, low, high)\n",
    "        quicksort(arr, low, pivot - 1)\n",
    "        quicksort(arr, pivot + 1, high)\n",
    "\n",
    "partition(arr, low, high)\n",
    "\"\"\"rearranges arr from low to high in place\"\"\"\n",
    "\n",
    "```\n",
    "Sources:\n",
    "* https://www.geeksforgeeks.org/quicksort-using-random-pivoting/\n",
    "* https://towardsdatascience.com/quicksort-in-python-dbefa7dcf9cc\n",
    "* https://www.geeksforgeeks.org/quick-sort/"
   ]
  },
  {
   "cell_type": "code",
   "execution_count": 6,
   "metadata": {
    "collapsed": false,
    "pycharm": {
     "name": "#%%\n"
    }
   },
   "outputs": [
    {
     "ename": "FileNotFoundError",
     "evalue": "No such file or directory: 'media/quicksort.png'",
     "output_type": "error",
     "traceback": [
      "\u001b[0;31m---------------------------------------------------------------------------\u001b[0m",
      "\u001b[0;31mTypeError\u001b[0m                                 Traceback (most recent call last)",
      "\u001b[0;32m~/.pyenv/versions/3.8.7/envs/algorithms/lib/python3.8/site-packages/IPython/core/display.py\u001b[0m in \u001b[0;36m_data_and_metadata\u001b[0;34m(self, always_both)\u001b[0m\n\u001b[1;32m   1299\u001b[0m         \u001b[0;32mtry\u001b[0m\u001b[0;34m:\u001b[0m\u001b[0;34m\u001b[0m\u001b[0;34m\u001b[0m\u001b[0m\n\u001b[0;32m-> 1300\u001b[0;31m             \u001b[0mb64_data\u001b[0m \u001b[0;34m=\u001b[0m \u001b[0mb2a_base64\u001b[0m\u001b[0;34m(\u001b[0m\u001b[0mself\u001b[0m\u001b[0;34m.\u001b[0m\u001b[0mdata\u001b[0m\u001b[0;34m)\u001b[0m\u001b[0;34m.\u001b[0m\u001b[0mdecode\u001b[0m\u001b[0;34m(\u001b[0m\u001b[0;34m'ascii'\u001b[0m\u001b[0;34m)\u001b[0m\u001b[0;34m\u001b[0m\u001b[0;34m\u001b[0m\u001b[0m\n\u001b[0m\u001b[1;32m   1301\u001b[0m         \u001b[0;32mexcept\u001b[0m \u001b[0mTypeError\u001b[0m\u001b[0;34m:\u001b[0m\u001b[0;34m\u001b[0m\u001b[0;34m\u001b[0m\u001b[0m\n",
      "\u001b[0;31mTypeError\u001b[0m: a bytes-like object is required, not 'str'",
      "\nDuring handling of the above exception, another exception occurred:\n",
      "\u001b[0;31mFileNotFoundError\u001b[0m                         Traceback (most recent call last)",
      "\u001b[0;32m~/.pyenv/versions/3.8.7/envs/algorithms/lib/python3.8/site-packages/IPython/core/formatters.py\u001b[0m in \u001b[0;36m__call__\u001b[0;34m(self, obj, include, exclude)\u001b[0m\n\u001b[1;32m    968\u001b[0m \u001b[0;34m\u001b[0m\u001b[0m\n\u001b[1;32m    969\u001b[0m             \u001b[0;32mif\u001b[0m \u001b[0mmethod\u001b[0m \u001b[0;32mis\u001b[0m \u001b[0;32mnot\u001b[0m \u001b[0;32mNone\u001b[0m\u001b[0;34m:\u001b[0m\u001b[0;34m\u001b[0m\u001b[0;34m\u001b[0m\u001b[0m\n\u001b[0;32m--> 970\u001b[0;31m                 \u001b[0;32mreturn\u001b[0m \u001b[0mmethod\u001b[0m\u001b[0;34m(\u001b[0m\u001b[0minclude\u001b[0m\u001b[0;34m=\u001b[0m\u001b[0minclude\u001b[0m\u001b[0;34m,\u001b[0m \u001b[0mexclude\u001b[0m\u001b[0;34m=\u001b[0m\u001b[0mexclude\u001b[0m\u001b[0;34m)\u001b[0m\u001b[0;34m\u001b[0m\u001b[0;34m\u001b[0m\u001b[0m\n\u001b[0m\u001b[1;32m    971\u001b[0m             \u001b[0;32mreturn\u001b[0m \u001b[0;32mNone\u001b[0m\u001b[0;34m\u001b[0m\u001b[0;34m\u001b[0m\u001b[0m\n\u001b[1;32m    972\u001b[0m         \u001b[0;32melse\u001b[0m\u001b[0;34m:\u001b[0m\u001b[0;34m\u001b[0m\u001b[0;34m\u001b[0m\u001b[0m\n",
      "\u001b[0;32m~/.pyenv/versions/3.8.7/envs/algorithms/lib/python3.8/site-packages/IPython/core/display.py\u001b[0m in \u001b[0;36m_repr_mimebundle_\u001b[0;34m(self, include, exclude)\u001b[0m\n\u001b[1;32m   1288\u001b[0m         \u001b[0;32mif\u001b[0m \u001b[0mself\u001b[0m\u001b[0;34m.\u001b[0m\u001b[0membed\u001b[0m\u001b[0;34m:\u001b[0m\u001b[0;34m\u001b[0m\u001b[0;34m\u001b[0m\u001b[0m\n\u001b[1;32m   1289\u001b[0m             \u001b[0mmimetype\u001b[0m \u001b[0;34m=\u001b[0m \u001b[0mself\u001b[0m\u001b[0;34m.\u001b[0m\u001b[0m_mimetype\u001b[0m\u001b[0;34m\u001b[0m\u001b[0;34m\u001b[0m\u001b[0m\n\u001b[0;32m-> 1290\u001b[0;31m             \u001b[0mdata\u001b[0m\u001b[0;34m,\u001b[0m \u001b[0mmetadata\u001b[0m \u001b[0;34m=\u001b[0m \u001b[0mself\u001b[0m\u001b[0;34m.\u001b[0m\u001b[0m_data_and_metadata\u001b[0m\u001b[0;34m(\u001b[0m\u001b[0malways_both\u001b[0m\u001b[0;34m=\u001b[0m\u001b[0;32mTrue\u001b[0m\u001b[0;34m)\u001b[0m\u001b[0;34m\u001b[0m\u001b[0;34m\u001b[0m\u001b[0m\n\u001b[0m\u001b[1;32m   1291\u001b[0m             \u001b[0;32mif\u001b[0m \u001b[0mmetadata\u001b[0m\u001b[0;34m:\u001b[0m\u001b[0;34m\u001b[0m\u001b[0;34m\u001b[0m\u001b[0m\n\u001b[1;32m   1292\u001b[0m                 \u001b[0mmetadata\u001b[0m \u001b[0;34m=\u001b[0m \u001b[0;34m{\u001b[0m\u001b[0mmimetype\u001b[0m\u001b[0;34m:\u001b[0m \u001b[0mmetadata\u001b[0m\u001b[0;34m}\u001b[0m\u001b[0;34m\u001b[0m\u001b[0;34m\u001b[0m\u001b[0m\n",
      "\u001b[0;32m~/.pyenv/versions/3.8.7/envs/algorithms/lib/python3.8/site-packages/IPython/core/display.py\u001b[0m in \u001b[0;36m_data_and_metadata\u001b[0;34m(self, always_both)\u001b[0m\n\u001b[1;32m   1300\u001b[0m             \u001b[0mb64_data\u001b[0m \u001b[0;34m=\u001b[0m \u001b[0mb2a_base64\u001b[0m\u001b[0;34m(\u001b[0m\u001b[0mself\u001b[0m\u001b[0;34m.\u001b[0m\u001b[0mdata\u001b[0m\u001b[0;34m)\u001b[0m\u001b[0;34m.\u001b[0m\u001b[0mdecode\u001b[0m\u001b[0;34m(\u001b[0m\u001b[0;34m'ascii'\u001b[0m\u001b[0;34m)\u001b[0m\u001b[0;34m\u001b[0m\u001b[0;34m\u001b[0m\u001b[0m\n\u001b[1;32m   1301\u001b[0m         \u001b[0;32mexcept\u001b[0m \u001b[0mTypeError\u001b[0m\u001b[0;34m:\u001b[0m\u001b[0;34m\u001b[0m\u001b[0;34m\u001b[0m\u001b[0m\n\u001b[0;32m-> 1302\u001b[0;31m             raise FileNotFoundError(\n\u001b[0m\u001b[1;32m   1303\u001b[0m                 \"No such file or directory: '%s'\" % (self.data))\n\u001b[1;32m   1304\u001b[0m         \u001b[0mmd\u001b[0m \u001b[0;34m=\u001b[0m \u001b[0;34m{\u001b[0m\u001b[0;34m}\u001b[0m\u001b[0;34m\u001b[0m\u001b[0;34m\u001b[0m\u001b[0m\n",
      "\u001b[0;31mFileNotFoundError\u001b[0m: No such file or directory: 'media/quicksort.png'"
     ]
    },
    {
     "ename": "FileNotFoundError",
     "evalue": "No such file or directory: 'media/quicksort.png'",
     "output_type": "error",
     "traceback": [
      "\u001b[0;31m---------------------------------------------------------------------------\u001b[0m",
      "\u001b[0;31mTypeError\u001b[0m                                 Traceback (most recent call last)",
      "\u001b[0;32m~/.pyenv/versions/3.8.7/envs/algorithms/lib/python3.8/site-packages/IPython/core/display.py\u001b[0m in \u001b[0;36m_data_and_metadata\u001b[0;34m(self, always_both)\u001b[0m\n\u001b[1;32m   1299\u001b[0m         \u001b[0;32mtry\u001b[0m\u001b[0;34m:\u001b[0m\u001b[0;34m\u001b[0m\u001b[0;34m\u001b[0m\u001b[0m\n\u001b[0;32m-> 1300\u001b[0;31m             \u001b[0mb64_data\u001b[0m \u001b[0;34m=\u001b[0m \u001b[0mb2a_base64\u001b[0m\u001b[0;34m(\u001b[0m\u001b[0mself\u001b[0m\u001b[0;34m.\u001b[0m\u001b[0mdata\u001b[0m\u001b[0;34m)\u001b[0m\u001b[0;34m.\u001b[0m\u001b[0mdecode\u001b[0m\u001b[0;34m(\u001b[0m\u001b[0;34m'ascii'\u001b[0m\u001b[0;34m)\u001b[0m\u001b[0;34m\u001b[0m\u001b[0;34m\u001b[0m\u001b[0m\n\u001b[0m\u001b[1;32m   1301\u001b[0m         \u001b[0;32mexcept\u001b[0m \u001b[0mTypeError\u001b[0m\u001b[0;34m:\u001b[0m\u001b[0;34m\u001b[0m\u001b[0;34m\u001b[0m\u001b[0m\n",
      "\u001b[0;31mTypeError\u001b[0m: a bytes-like object is required, not 'str'",
      "\nDuring handling of the above exception, another exception occurred:\n",
      "\u001b[0;31mFileNotFoundError\u001b[0m                         Traceback (most recent call last)",
      "\u001b[0;32m~/.pyenv/versions/3.8.7/envs/algorithms/lib/python3.8/site-packages/IPython/core/formatters.py\u001b[0m in \u001b[0;36m__call__\u001b[0;34m(self, obj)\u001b[0m\n\u001b[1;32m    343\u001b[0m             \u001b[0mmethod\u001b[0m \u001b[0;34m=\u001b[0m \u001b[0mget_real_method\u001b[0m\u001b[0;34m(\u001b[0m\u001b[0mobj\u001b[0m\u001b[0;34m,\u001b[0m \u001b[0mself\u001b[0m\u001b[0;34m.\u001b[0m\u001b[0mprint_method\u001b[0m\u001b[0;34m)\u001b[0m\u001b[0;34m\u001b[0m\u001b[0;34m\u001b[0m\u001b[0m\n\u001b[1;32m    344\u001b[0m             \u001b[0;32mif\u001b[0m \u001b[0mmethod\u001b[0m \u001b[0;32mis\u001b[0m \u001b[0;32mnot\u001b[0m \u001b[0;32mNone\u001b[0m\u001b[0;34m:\u001b[0m\u001b[0;34m\u001b[0m\u001b[0;34m\u001b[0m\u001b[0m\n\u001b[0;32m--> 345\u001b[0;31m                 \u001b[0;32mreturn\u001b[0m \u001b[0mmethod\u001b[0m\u001b[0;34m(\u001b[0m\u001b[0;34m)\u001b[0m\u001b[0;34m\u001b[0m\u001b[0;34m\u001b[0m\u001b[0m\n\u001b[0m\u001b[1;32m    346\u001b[0m             \u001b[0;32mreturn\u001b[0m \u001b[0;32mNone\u001b[0m\u001b[0;34m\u001b[0m\u001b[0;34m\u001b[0m\u001b[0m\n\u001b[1;32m    347\u001b[0m         \u001b[0;32melse\u001b[0m\u001b[0;34m:\u001b[0m\u001b[0;34m\u001b[0m\u001b[0;34m\u001b[0m\u001b[0m\n",
      "\u001b[0;32m~/.pyenv/versions/3.8.7/envs/algorithms/lib/python3.8/site-packages/IPython/core/display.py\u001b[0m in \u001b[0;36m_repr_png_\u001b[0;34m(self)\u001b[0m\n\u001b[1;32m   1318\u001b[0m     \u001b[0;32mdef\u001b[0m \u001b[0m_repr_png_\u001b[0m\u001b[0;34m(\u001b[0m\u001b[0mself\u001b[0m\u001b[0;34m)\u001b[0m\u001b[0;34m:\u001b[0m\u001b[0;34m\u001b[0m\u001b[0;34m\u001b[0m\u001b[0m\n\u001b[1;32m   1319\u001b[0m         \u001b[0;32mif\u001b[0m \u001b[0mself\u001b[0m\u001b[0;34m.\u001b[0m\u001b[0membed\u001b[0m \u001b[0;32mand\u001b[0m \u001b[0mself\u001b[0m\u001b[0;34m.\u001b[0m\u001b[0mformat\u001b[0m \u001b[0;34m==\u001b[0m \u001b[0mself\u001b[0m\u001b[0;34m.\u001b[0m\u001b[0m_FMT_PNG\u001b[0m\u001b[0;34m:\u001b[0m\u001b[0;34m\u001b[0m\u001b[0;34m\u001b[0m\u001b[0m\n\u001b[0;32m-> 1320\u001b[0;31m             \u001b[0;32mreturn\u001b[0m \u001b[0mself\u001b[0m\u001b[0;34m.\u001b[0m\u001b[0m_data_and_metadata\u001b[0m\u001b[0;34m(\u001b[0m\u001b[0;34m)\u001b[0m\u001b[0;34m\u001b[0m\u001b[0;34m\u001b[0m\u001b[0m\n\u001b[0m\u001b[1;32m   1321\u001b[0m \u001b[0;34m\u001b[0m\u001b[0m\n\u001b[1;32m   1322\u001b[0m     \u001b[0;32mdef\u001b[0m \u001b[0m_repr_jpeg_\u001b[0m\u001b[0;34m(\u001b[0m\u001b[0mself\u001b[0m\u001b[0;34m)\u001b[0m\u001b[0;34m:\u001b[0m\u001b[0;34m\u001b[0m\u001b[0;34m\u001b[0m\u001b[0m\n",
      "\u001b[0;32m~/.pyenv/versions/3.8.7/envs/algorithms/lib/python3.8/site-packages/IPython/core/display.py\u001b[0m in \u001b[0;36m_data_and_metadata\u001b[0;34m(self, always_both)\u001b[0m\n\u001b[1;32m   1300\u001b[0m             \u001b[0mb64_data\u001b[0m \u001b[0;34m=\u001b[0m \u001b[0mb2a_base64\u001b[0m\u001b[0;34m(\u001b[0m\u001b[0mself\u001b[0m\u001b[0;34m.\u001b[0m\u001b[0mdata\u001b[0m\u001b[0;34m)\u001b[0m\u001b[0;34m.\u001b[0m\u001b[0mdecode\u001b[0m\u001b[0;34m(\u001b[0m\u001b[0;34m'ascii'\u001b[0m\u001b[0;34m)\u001b[0m\u001b[0;34m\u001b[0m\u001b[0;34m\u001b[0m\u001b[0m\n\u001b[1;32m   1301\u001b[0m         \u001b[0;32mexcept\u001b[0m \u001b[0mTypeError\u001b[0m\u001b[0;34m:\u001b[0m\u001b[0;34m\u001b[0m\u001b[0;34m\u001b[0m\u001b[0m\n\u001b[0;32m-> 1302\u001b[0;31m             raise FileNotFoundError(\n\u001b[0m\u001b[1;32m   1303\u001b[0m                 \"No such file or directory: '%s'\" % (self.data))\n\u001b[1;32m   1304\u001b[0m         \u001b[0mmd\u001b[0m \u001b[0;34m=\u001b[0m \u001b[0;34m{\u001b[0m\u001b[0;34m}\u001b[0m\u001b[0;34m\u001b[0m\u001b[0;34m\u001b[0m\u001b[0m\n",
      "\u001b[0;31mFileNotFoundError\u001b[0m: No such file or directory: 'media/quicksort.png'"
     ]
    },
    {
     "data": {
      "text/plain": [
       "<IPython.core.display.Image object>"
      ]
     },
     "execution_count": 6,
     "metadata": {},
     "output_type": "execute_result"
    }
   ],
   "source": [
    "from IPython import display\n",
    "display.Image(\"media/quicksort.png\")"
   ]
  },
  {
   "cell_type": "code",
   "execution_count": 7,
   "metadata": {
    "collapsed": false,
    "pycharm": {
     "name": "#%%\n"
    }
   },
   "outputs": [
    {
     "data": {
      "text/plain": [
       "[3, 4, 5, 6, 7, 9]"
      ]
     },
     "execution_count": 7,
     "metadata": {},
     "output_type": "execute_result"
    }
   ],
   "source": [
    "from typing import List\n",
    "import random\n",
    "\n",
    "def partition_rand(arr: List[int], low: int, high: int):\n",
    "\n",
    "    # select a random pivot\n",
    "    pivot_idx = random.randrange(low, high)\n",
    "\n",
    "    # swap pivot and the last element to ensure\n",
    "    # pivot is the last element of the array\n",
    "    arr[high], arr[pivot_idx] = arr[pivot_idx], arr[high]\n",
    "\n",
    "    return partition(arr, low, high)\n",
    "\n",
    "\n",
    "def partition(arr: List[int], low: int, high: int):\n",
    "    \"\"\"\n",
    "    Rearranges arr in place from low to high\n",
    "    \"\"\"\n",
    "    # partition around the last element\n",
    "    pivot_idx = high\n",
    "    pivot = arr[pivot_idx]\n",
    "\n",
    "    # i will hold first index of any element that is\n",
    "    # greater than or equal to the pivot\n",
    "    # initially, potentially no elements are greater\n",
    "    # than the pivot, so we set i = low - 1\n",
    "    i = low - 1\n",
    "\n",
    "    # move all elements less than the pivot\n",
    "    # to the left of the pivot\n",
    "    for j in range(low, high):\n",
    "        # if current elem is smaller than the pivot\n",
    "        if arr[j] < pivot:\n",
    "            i += 1\n",
    "            # we don't know what's at arr[i],\n",
    "            # but we know arr[j] is less than pivot\n",
    "            # swap elems at i and j and keep going\n",
    "            arr[i], arr[j] = arr[j], arr[i]\n",
    "\n",
    "    # now any elements starting at i + 1 are greater than\n",
    "    # or equal to the pivot\n",
    "    # move the pivot to i + 1\n",
    "    arr[i+1], arr[pivot_idx] = arr[pivot_idx], arr[i+1]\n",
    "\n",
    "    # the pivot now resides at index i + 1\n",
    "    return i + 1\n",
    "\n",
    "def quicksort(arr, low, high):\n",
    "    \"\"\"\n",
    "    In-place sorting algorithm using a pivot\n",
    "    to partition elements\n",
    "    \"\"\"\n",
    "    if low < high:\n",
    "        # pivot index\n",
    "        # select a random pivot between low and high\n",
    "        pi = partition_rand(arr, low, high)\n",
    "        # choose arr[high] as the pivot\n",
    "        # pi = partition(arr, low, high)\n",
    "        quicksort(arr, low, pi - 1)\n",
    "        quicksort(arr, pi + 1, high)\n",
    "\n",
    "\n",
    "a = [5,4,3,6,7,9]\n",
    "quicksort(a, low=0, high=len(a)-1)\n",
    "a"
   ]
  },
  {
   "cell_type": "code",
   "execution_count": 8,
   "metadata": {
    "collapsed": false,
    "pycharm": {
     "name": "#%%\n"
    }
   },
   "outputs": [
    {
     "data": {
      "text/plain": [
       "[-6, -3, 1, 2, 3, 5, 6, 8, 9]"
      ]
     },
     "execution_count": 8,
     "metadata": {},
     "output_type": "execute_result"
    }
   ],
   "source": [
    "a = [9, -3, 5, 2, 6, 8, -6, 1, 3]\n",
    "quicksort(a, low=0, high = len(a)-1)\n",
    "a"
   ]
  },
  {
   "cell_type": "markdown",
   "metadata": {
    "collapsed": false,
    "pycharm": {
     "name": "#%% md\n"
    }
   },
   "source": []
  },
  {
   "cell_type": "markdown",
   "metadata": {
    "collapsed": false,
    "pycharm": {
     "name": "#%% md\n"
    }
   },
   "source": [
    "### Find median of two sorted arrays (mergesort application)\n"
   ]
  },
  {
   "cell_type": "code",
   "execution_count": 9,
   "metadata": {
    "collapsed": false,
    "pycharm": {
     "name": "#%%\n"
    }
   },
   "outputs": [
    {
     "data": {
      "text/plain": [
       "2.5"
      ]
     },
     "execution_count": 9,
     "metadata": {},
     "output_type": "execute_result"
    }
   ],
   "source": [
    "\n",
    "from typing import List\n",
    "\n",
    "class Solution:\n",
    "    def findMedianSortedArrays(self, nums1: List[int], nums2: List[int]) -> float:\n",
    "        # [1, 2, 3, 4]\n",
    "        # [1, 2, 3, 4, 5, 6]\n",
    "        # 1. Merged the sorted arrays into a single sorted array\n",
    "        # 2. If the # elements is even, return avg between two middle elements\n",
    "        # 3. If the # elements is odd, return the middle element\n",
    "        # Time: O(n+m) since we must iterate over both arrays\n",
    "        # Space: O(n+m) since we must store the merged array separately\n",
    "        if len(nums1) > len(nums2):\n",
    "            nums1, nums2 = nums2, nums1\n",
    "\n",
    "        # nums1 is the shortest length\n",
    "\n",
    "        n = len(nums1)\n",
    "        m = len(nums2)\n",
    "\n",
    "        is_even = False\n",
    "        if (n + m) % 2 == 0:\n",
    "            is_even = True\n",
    "\n",
    "        i = 0\n",
    "        j = 0\n",
    "\n",
    "        merged = []\n",
    "        while i < n and j < m:\n",
    "            if nums1[i] < nums2[j]:\n",
    "                merged.append(nums1[i])\n",
    "                i += 1\n",
    "            else:\n",
    "                merged.append(nums2[j])\n",
    "                j += 1\n",
    "\n",
    "        while i < n:\n",
    "            merged.append(nums1[i])\n",
    "            i += 1\n",
    "\n",
    "        while j < m:\n",
    "            merged.append(nums2[j])\n",
    "            j += 1\n",
    "\n",
    "        z = len(merged)\n",
    "        if is_even:\n",
    "            return (merged[(z // 2) - 1] + merged[z // 2]) / 2\n",
    "        return merged[z // 2]\n",
    "\n",
    "Solution().findMedianSortedArrays([1,2], [3,4])\n"
   ]
  },
  {
   "cell_type": "code",
   "execution_count": 10,
   "metadata": {
    "collapsed": false,
    "pycharm": {
     "name": "#%%\n"
    }
   },
   "outputs": [
    {
     "data": {
      "text/plain": [
       "2"
      ]
     },
     "execution_count": 10,
     "metadata": {},
     "output_type": "execute_result"
    }
   ],
   "source": [
    "Solution().findMedianSortedArrays([1,3], [2])"
   ]
  },
  {
   "cell_type": "markdown",
   "metadata": {
    "collapsed": false,
    "pycharm": {
     "name": "#%% md\n"
    }
   },
   "source": [
    "### Find median of two sorted arrays (binary search application)"
   ]
  },
  {
   "cell_type": "code",
   "execution_count": 11,
   "metadata": {
    "collapsed": false,
    "pycharm": {
     "name": "#%%\n"
    }
   },
   "outputs": [
    {
     "data": {
      "text/plain": [
       "2.5"
      ]
     },
     "execution_count": 11,
     "metadata": {},
     "output_type": "execute_result"
    }
   ],
   "source": [
    "class Solution:\n",
    "    def findMedianSortedArrays(self, nums1: List[int], nums2: List[int]) -> float:\n",
    "        \"\"\"\n",
    "        Source: https://www.youtube.com/watch?v=q6IEA26hvXc&t=510s\n",
    "        Time complexity: O(log(n+m))\n",
    "        Space complexity: O(1)\n",
    "\n",
    "        1. Finding a pivot point where all elements to the left are smaller and all\n",
    "        elements to the right are greater, you can find the median\n",
    "\n",
    "        x x [x]|[x] x x  long_l, long_r\n",
    "          y [y]|[y] y    short_l, short_r\n",
    "\n",
    "        x x [y] [x] | [y] y [x] x x\n",
    "\n",
    "        2. Any pivot point in the smaller array has a corresponding point on the\n",
    "        large array, that divides the total # of elements in two\n",
    "\n",
    "        x x x x x x\n",
    "          y y y y\n",
    "\n",
    "        3. After picking a pivot point, it's possible to determine whether we need to\n",
    "        go left or right\n",
    "\n",
    "        1 2 3|4 5 6\n",
    "          2 3|4 5\n",
    "\n",
    "        Code Outline\n",
    "        1. Binary search on small array\n",
    "        2. Get indices of long_l, long_r, short_l, short_r\n",
    "        3. Get direction we need to do binary search in (left (-1) or right (1) or 0 means we've found the right pivot)\n",
    "        4. At the end, calculate the median\n",
    "\n",
    "        \"\"\"\n",
    "\n",
    "\n",
    "        if len(nums1) > len(nums2):\n",
    "            nums1, nums2 = nums2, nums1\n",
    "\n",
    "        n = len(nums1)\n",
    "        m = len(nums2)\n",
    "        total = n + m\n",
    "\n",
    "        half =  total // 2\n",
    "\n",
    "        # binary search over best pivot in nums1\n",
    "        # pivot in nums2 is determined from pivot in nums1\n",
    "        low = 0\n",
    "        high = len(nums1) - 1\n",
    "        while True:\n",
    "            mid_nums1 = low + (high - low) // 2\n",
    "            mid_nums2 = half - mid_nums1 - 2\n",
    "\n",
    "            short_l = nums1[mid_nums1] if mid_nums1 >= 0 else float(\"-inf\")\n",
    "            short_r = nums1[mid_nums1+1] if mid_nums1+1 < n else float(\"inf\")\n",
    "            long_l = nums2[mid_nums2] if mid_nums2 >= 0 else float(\"-inf\")\n",
    "            long_r = nums2[mid_nums2+1] if mid_nums2+1 < m else float(\"inf\")\n",
    "\n",
    "            # if partition is correct, determine result\n",
    "            if short_l <= long_r and long_l <= short_r:\n",
    "                if total % 2 == 0:\n",
    "                    # determine two middle elements and then calculate their average\n",
    "                    return (max(short_l, long_l) + min(short_r, long_r)) / 2\n",
    "                # odd: it's the smaller element of the right hand partitions\n",
    "                # 1|2 3\n",
    "                # 1|2\n",
    "                # 1 1 2 2 3\n",
    "                return min(short_r, long_r)\n",
    "            elif short_l > long_r:\n",
    "                # x x [x]|[x] x x  long_l, long_r\n",
    "                #   y [y]|[y] y    short_l, short_r\n",
    "                high = mid_nums1 - 1\n",
    "            elif long_l > short_r:\n",
    "                # x x [x]|[x] x x  long_l, long_r\n",
    "                #   y [y]|[y] y    short_l, short_r\n",
    "                low = mid_nums1 + 1\n",
    "\n",
    "\n",
    "Solution().findMedianSortedArrays([1,2], [3,4])\n",
    "\n"
   ]
  },
  {
   "cell_type": "code",
   "execution_count": 12,
   "metadata": {
    "collapsed": false,
    "pycharm": {
     "name": "#%%\n"
    }
   },
   "outputs": [
    {
     "data": {
      "text/plain": [
       "2"
      ]
     },
     "execution_count": 12,
     "metadata": {},
     "output_type": "execute_result"
    }
   ],
   "source": [
    "Solution().findMedianSortedArrays([1,3], [2])"
   ]
  },
  {
   "cell_type": "markdown",
   "metadata": {
    "collapsed": false,
    "pycharm": {
     "name": "#%% md\n"
    }
   },
   "source": [
    "### 1146. Snapshot Array\n",
    "\n",
    "Implement a SnapshotArray that supports the following interface:\n",
    "\n",
    "SnapshotArray(int length) initializes an array-like data structure with the given length.  Initially, each element equals 0.\n",
    "void set(index, val) sets the element at the given index to be equal to val.\n",
    "int snap() takes a snapshot of the array and returns the snap_id: the total number of times we called snap() minus 1.\n",
    "int get(index, snap_id) returns the value at the given index, at the time we took the snapshot with the given snap_id\n",
    "\n",
    "```\n",
    "Example 1:\n",
    "\n",
    "Input: [\"SnapshotArray\",\"set\",\"snap\",\"set\",\"get\"]\n",
    "[[3],[0,5],[],[0,6],[0,0]]\n",
    "Output: [null,null,0,null,5]\n",
    "Explanation:\n",
    "SnapshotArray snapshotArr = new SnapshotArray(3); // set the length to be 3\n",
    "snapshotArr.set(0,5);  // Set array[0] = 5\n",
    "snapshotArr.snap();  // Take a snapshot, return snap_id = 0\n",
    "snapshotArr.set(0,6);\n",
    "snapshotArr.get(0,0);  // Get the value of array[0] with snap_id = 0, return 5\n",
    "```"
   ]
  },
  {
   "cell_type": "code",
   "execution_count": 13,
   "metadata": {
    "collapsed": false,
    "pycharm": {
     "name": "#%%\n"
    }
   },
   "outputs": [
    {
     "name": "stdout",
     "output_type": "stream",
     "text": [
      "defaultdict(<class 'list'>,\n",
      "            {0: [[0, 0], [0, 1], [0, 2]],\n",
      "             1: [[0, 0], [0, 2]],\n",
      "             2: [[0, 0]]})\n"
     ]
    }
   ],
   "source": [
    "from pprint import pprint\n",
    "import bisect\n",
    "from collections import defaultdict\n",
    "\n",
    "class SnapshotArray:\n",
    "    # Keep track of history of each element in a dictionary mapping\n",
    "    # indexes to a list of snap_ids and values:\n",
    "    # {\n",
    "    #   0: [[0, 0], [0, 3]],\n",
    "    #   1: [[0, 0], [0, 2]],\n",
    "    #   2: [[0, 0]],\n",
    "    #}\n",
    "\n",
    "\n",
    "    def __init__(self, length: int):\n",
    "        self.snapshots = defaultdict(list)\n",
    "        for i in range(length):\n",
    "            self.snapshots[i] = [[0, 0]]\n",
    "        self.snap_id = 0\n",
    "\n",
    "    def set(self, index: int, val: int) -> None:\n",
    "        self.snapshots[index].append([self.snap_id, val])\n",
    "\n",
    "    def snap(self) -> int:\n",
    "        ans = self.snap_id\n",
    "        self.snap_id += 1\n",
    "        return ans\n",
    "\n",
    "    def get(self, index: int, snap_id: int) -> int:\n",
    "        # O(logn) - binary search\n",
    "        # Get the idx of the last occurrence of the requested snap_id\n",
    "        # by getting the first index where all elements are less than snap_id + 1\n",
    "        # and then subracting one from that index\n",
    "        idx_last_snap_id = bisect.bisect(self.snapshots[index], [snap_id + 1]) - 1\n",
    "        return self.snapshots[index][idx_last_snap_id][1]\n",
    "\n",
    "# Your SnapshotArray object will be instantiated and called as such:\n",
    "# obj = SnapshotArray(length)\n",
    "# obj.set(index,val)\n",
    "# param_2 = obj.snap()\n",
    "# param_3 = obj.get(index,snap_id)\n",
    "a = SnapshotArray(length=3)\n",
    "\n",
    "a.set(0, 1)\n",
    "a.set(0, 2)\n",
    "a.set(1, 2)\n",
    "pprint(a.snapshots)"
   ]
  },
  {
   "cell_type": "code",
   "execution_count": 14,
   "metadata": {
    "collapsed": false,
    "pycharm": {
     "name": "#%%\n"
    }
   },
   "outputs": [
    {
     "data": {
      "text/plain": [
       "4"
      ]
     },
     "execution_count": 14,
     "metadata": {},
     "output_type": "execute_result"
    }
   ],
   "source": [
    "arr = [20, 21, 22, 22, 23, 24]\n",
    "#                   ^ we need the last index of the snapshot in the SnapshotArray class above\n",
    "idx_greater_than_x = bisect.bisect(arr, x=22)\n",
    "idx_greater_than_x"
   ]
  },
  {
   "cell_type": "code",
   "execution_count": 15,
   "metadata": {
    "collapsed": false,
    "pycharm": {
     "name": "#%%\n"
    }
   },
   "outputs": [
    {
     "data": {
      "text/plain": [
       "3"
      ]
     },
     "execution_count": 15,
     "metadata": {},
     "output_type": "execute_result"
    }
   ],
   "source": [
    "idx_last_val_of_x = bisect.bisect(arr, x=22) - 1\n",
    "idx_last_val_of_x"
   ]
  },
  {
   "cell_type": "markdown",
   "metadata": {
    "collapsed": false,
    "pycharm": {
     "name": "#%% md\n"
    }
   },
   "source": [
    "### Search an element in a sorted and rotated array\n",
    "\n",
    "Source: [https://www.geeksforgeeks.org/search-an-element-in-a-sorted-and-pivoted-array/](https://www.geeksforgeeks.org/search-an-element-in-a-sorted-and-pivoted-array/)\n",
    "```\n",
    "Input: arr[] = {5, 6, 7, 8, 9, 10, 1, 2, 3}; key = 3\n",
    "Output: Found at index 8\n",
    "```\n",
    "\n",
    "Approach\n",
    "1. Find the pivot point with binary search. It's the only index where the next element is smaller\n",
    "2. Divide the array into two sub-arrays\n",
    "3. Perform binary search"
   ]
  },
  {
   "cell_type": "code",
   "execution_count": 16,
   "metadata": {
    "collapsed": false,
    "pycharm": {
     "name": "#%%\n"
    }
   },
   "outputs": [
    {
     "name": "stdout",
     "output_type": "stream",
     "text": [
      "2\n",
      "3\n",
      "0\n",
      "-1\n",
      "Index of 1 in [3, 4, 5, 1, 2] is 3\n",
      "Index of 1 in [2, 3, 4, 5, 1] is 4\n",
      "Index of 1 in [5, 1, 2, 3, 4] is 1\n",
      "Index of 1 in [0, 1, 2, 3, 4] is 1\n",
      "Index of 0 in [4, 5, 6, 7, 0, 1, 2] is 4\n"
     ]
    }
   ],
   "source": [
    "\n",
    "class Solution:\n",
    "\n",
    "    @staticmethod\n",
    "    def find_pivot(arr: List[int]) -> int:\n",
    "        \"\"\"\n",
    "        Finds index where dropoff occurs\n",
    "        e.g. 3,4,5,1,2 would return 2 since that is the index of the pivot, 5\n",
    "        \"\"\"\n",
    "\n",
    "        low = 0\n",
    "        high = len(arr) - 1\n",
    "        n = len(arr)\n",
    "\n",
    "        while low <= high:\n",
    "            mid = low + (high - low) // 2\n",
    "            if mid + 1 < n and arr[mid] > arr[mid + 1]:\n",
    "                # found pivot at mid\n",
    "                return mid\n",
    "            elif mid - 1 > 0 and arr[mid] < arr[mid - 1]:\n",
    "                # found pivot at mid - 1\n",
    "                return mid-1\n",
    "            elif arr[low] >= arr[mid]:\n",
    "                # element furthest left >= element at mid, set high one less than mid\n",
    "                # drop-down is left so search left\n",
    "                high = mid - 1\n",
    "            else:\n",
    "                # element further right < element at mid, set low to one above mid\n",
    "                # drop down is right so search right\n",
    "                low = mid + 1\n",
    "        return -1\n",
    "\n",
    "\n",
    "    def search(self, arr: List[int], key: int) -> int:\n",
    "\n",
    "        if len(arr) < 1:\n",
    "            return -1\n",
    "\n",
    "        if len(arr) == 1:\n",
    "            if arr[0] == key:\n",
    "                return 0\n",
    "            else:\n",
    "                return -1\n",
    "\n",
    "        pivot = Solution.find_pivot(arr)\n",
    "\n",
    "        if arr[pivot] < key or arr[pivot+1] > key:\n",
    "            return -1\n",
    "\n",
    "\n",
    "        if pivot == -1:\n",
    "            low = 0\n",
    "            high = len(arr) - 1\n",
    "        elif arr[0] <= key:\n",
    "            low = 0\n",
    "            high = pivot\n",
    "        else:\n",
    "            low = pivot+1\n",
    "            high = len(arr) - 1\n",
    "\n",
    "        if arr[low] == key:\n",
    "            return low\n",
    "\n",
    "        while low <= high:\n",
    "            mid = low + (high - low) // 2\n",
    "            if arr[mid] < key:\n",
    "                low = mid + 1\n",
    "            elif arr[mid] > key:\n",
    "                high = mid - 1\n",
    "            else:\n",
    "                return mid\n",
    "        return -1\n",
    "\n",
    "\n",
    "print(Solution().find_pivot([3,4,5,1,2]))\n",
    "print(Solution().find_pivot([2,3,4,5,1]))\n",
    "print(Solution().find_pivot([5,1,2,3,4]))\n",
    "print(Solution().find_pivot([0,1,2,3,4]))\n",
    "\n",
    "a = [3,4,5,1,2]\n",
    "print(f\"Index of {1} in {a} is {Solution().search(a, 1)}\")\n",
    "a = [2,3,4,5,1]\n",
    "print(f\"Index of {1} in {a} is {Solution().search(a, 1)}\")\n",
    "a = [5,1,2,3,4]\n",
    "print(f\"Index of {1} in {a} is {Solution().search(a, 1)}\")\n",
    "a = [0,1,2,3,4]\n",
    "print(f\"Index of {1} in {a} is {Solution().search(a, 1)}\")\n",
    "a = [4,5,6,7,0,1,2]\n",
    "print(f\"Index of {0} in {a} is {Solution().search(a, 0)}\")\n"
   ]
  },
  {
   "cell_type": "markdown",
   "metadata": {
    "collapsed": false,
    "pycharm": {
     "name": "#%% md\n"
    }
   },
   "source": [
    "### Bubble Sort\n",
    "\n",
    "\n",
    "Repeatedly swap elements until they are all in place\n",
    "Time Complexity (Worst): O(n^2), Worst case occurs when array is reverse sorted.\n",
    "Best time Complexity: O(n) when the array is already sorted\n",
    "Space Complexity: O(1)\n",
    "\n",
    "Source: [https://www.geeksforgeeks.org/bubble-sort/](https://www.geeksforgeeks.org/bubble-sort/)\n"
   ]
  },
  {
   "cell_type": "code",
   "execution_count": 17,
   "metadata": {
    "collapsed": false,
    "pycharm": {
     "name": "#%%\n"
    }
   },
   "outputs": [
    {
     "data": {
      "text/plain": [
       "[1, 2, 3, 4, 5, 6, 7, 8]"
      ]
     },
     "execution_count": 17,
     "metadata": {},
     "output_type": "execute_result"
    }
   ],
   "source": [
    "def bubble_sort(arr):\n",
    "    n = len(arr)\n",
    "\n",
    "    for i in range(n):\n",
    "        swapped = False\n",
    "        for j in range(0, n-i-1):\n",
    "\n",
    "            if arr[j] > arr[j+1]:\n",
    "                arr[j], arr[j+1] = arr[j+1], arr[j]\n",
    "                swapped = True\n",
    "\n",
    "        if not swapped:\n",
    "            break\n",
    "\n",
    "    return arr\n",
    "\n",
    "bubble_sort([8,7,6,5,4,3,2,1])"
   ]
  },
  {
   "cell_type": "markdown",
   "metadata": {
    "collapsed": false,
    "pycharm": {
     "name": "#%% md\n"
    }
   },
   "source": [
    "### Insertion Sort\n",
    "\n",
    "Algorithm:\n",
    "\n",
    "1. Iterate over the array\n",
    "2. Compare the current element to its predecessor\n",
    "3. While the current element is less than it's predecessor, swap left\n",
    "\n",
    "Time complexity: O(n^2)\n",
    "Space complexity: O(1)\n",
    "\n",
    "Source: [https://www.geeksforgeeks.org/insertion-sort/](https://www.geeksforgeeks.org/insertion-sort/)"
   ]
  },
  {
   "cell_type": "code",
   "execution_count": 18,
   "metadata": {
    "collapsed": false,
    "pycharm": {
     "name": "#%%\n"
    }
   },
   "outputs": [
    {
     "data": {
      "text/plain": [
       "[1, 2, 3, 4, 5, 6, 7, 8, 9]"
      ]
     },
     "execution_count": 18,
     "metadata": {},
     "output_type": "execute_result"
    }
   ],
   "source": [
    "def insertion_sort(arr: List[int]) -> List[int]:\n",
    "\n",
    "    n = len(arr)\n",
    "\n",
    "    for i in range(n):\n",
    "\n",
    "        j = i-1\n",
    "\n",
    "        while j >= 0 and arr[j] > arr[i]:\n",
    "            arr[i], arr[j] = arr[j], arr[i]\n",
    "            i -= 1\n",
    "            j -= 1\n",
    "\n",
    "    return arr\n",
    "\n",
    "insertion_sort([9,8,7,6,5,4,3,2,1])"
   ]
  },
  {
   "cell_type": "markdown",
   "metadata": {
    "collapsed": false,
    "pycharm": {
     "name": "#%% md\n"
    }
   },
   "source": [
    "### Insertion Sort Linked List Example Problem\n",
    "[https://leetcode.com/problems/insertion-sort-list/](https://leetcode.com/problems/insertion-sort-list/)\n"
   ]
  },
  {
   "cell_type": "code",
   "execution_count": 19,
   "metadata": {
    "collapsed": false,
    "pycharm": {
     "name": "#%%\n"
    }
   },
   "outputs": [
    {
     "name": "stdout",
     "output_type": "stream",
     "text": [
      "4489869200\n",
      "4489871072\n",
      "1\n",
      "2\n",
      "3\n",
      "4\n",
      "5\n"
     ]
    }
   ],
   "source": [
    "from typing import Optional\n",
    "# Definition for singly-linked list.\n",
    "class ListNode:\n",
    "    def __init__(self, val=0, next=None):\n",
    "        self.val = val\n",
    "        self.next = next\n",
    "class Solution:\n",
    "    def insertionSortList(self, head: Optional[ListNode]) -> Optional[ListNode]:\n",
    "\n",
    "        # Time Complexity: O(n^2)\n",
    "        # Space Complexity: O(1)\n",
    "        # Insertion sort\n",
    "        # for each node, while it's greater than the previous node swap it (right) with the previous node\n",
    "        # head  5, 1, 3, 2\n",
    "        # result\n",
    "\n",
    "        # head 1, 3, 2       head  3, 2     head  2            head\n",
    "        # result 5           result 1, 5    result 1, 3, 5     result 1, 2, 3, 5\n",
    "\n",
    "        result = ListNode()\n",
    "        curr = head\n",
    "\n",
    "        while curr:\n",
    "\n",
    "            prev = result\n",
    "\n",
    "            # iterate over the resultant linked list and\n",
    "            # find the first position to insert the node there\n",
    "            # where the current node is greater\n",
    "            while prev.next and prev.next.val < curr.val:\n",
    "                prev = prev.next\n",
    "\n",
    "            tmp = curr.next\n",
    "\n",
    "            # insert the current node into the resultant linked list between prev and prev.next\n",
    "            # point prev -> curr -> prev.next\n",
    "            curr.next = prev.next\n",
    "            prev.next = curr\n",
    "\n",
    "            curr = tmp\n",
    "\n",
    "        return result.next\n",
    "\n",
    "head = ListNode(5)\n",
    "head.next = ListNode(4)\n",
    "head.next.next = ListNode(3)\n",
    "head.next.next.next = ListNode(2)\n",
    "head.next.next.next.next = ListNode(1)\n",
    "print(id(head))\n",
    "result = Solution().insertionSortList(head)\n",
    "print(id(result))\n",
    "while result:\n",
    "    print(result.val)\n",
    "    result = result.next"
   ]
  },
  {
   "cell_type": "markdown",
   "metadata": {
    "collapsed": false,
    "pycharm": {
     "name": "#%% md\n"
    }
   },
   "source": [
    "### 834. Guess the Word\n",
    "\n",
    "Source: [https://leetcode.com/problems/guess-the-word/](https://leetcode.com/problems/guess-the-word/)"
   ]
  },
  {
   "cell_type": "code",
   "execution_count": 20,
   "metadata": {
    "collapsed": false,
    "pycharm": {
     "is_executing": true,
     "name": "#%%\n"
    }
   },
   "outputs": [],
   "source": [
    "# \"\"\"\n",
    "# This is Master's API interface.\n",
    "# You should not implement it, or speculate about its implementation\n",
    "# \"\"\"\n",
    "# class Master:\n",
    "#     def guess(self, word: str) -> int:\n",
    "\n",
    "class Solution:\n",
    "    def findSecretWord(self, wordlist: List[str], master: 'Master') -> None:\n",
    "\n",
    "        # Observations\n",
    "\n",
    "        # If we get back a score of 0, eliminate all words that share > 0 letter positions in common with the last guessed word\n",
    "        # If we get back a score of 6, have our answer\n",
    "        # If we get back a score of 1-5, the correct word will have the same number of letter positions in common with the\n",
    "        # last guessed word as what was returned as the score.\n",
    "\n",
    "        # Approach\n",
    "\n",
    "        # 1. Make a function that filters the wordslist by the words that have\n",
    "        # at least x number of exact value and position matches as the input word\n",
    "\n",
    "        # 2. Guess a random word from the wordlist\n",
    "\n",
    "        def get_matches(word1: str, word2: str) -> bool:\n",
    "            # len(word1) == len(word2) since all words are of length 6\n",
    "            n = len(word1)\n",
    "\n",
    "            result = 0\n",
    "            for i in range(n):\n",
    "                if word1[i] == word2[i]:\n",
    "                    result += 1\n",
    "            return result\n",
    "\n",
    "        random.seed(100)\n",
    "\n",
    "        for _ in range(10):\n",
    "            guess = wordlist[random.randint(0, len(wordlist) - 1)]\n",
    "            score = master.guess(guess)\n",
    "\n",
    "            if score == 6:\n",
    "                return guess\n",
    "\n",
    "            i = 0\n",
    "            while i < len(wordlist):\n",
    "                matches = get_matches(guess, wordlist[i])\n",
    "                if score == 0 and matches > 0:\n",
    "                    wordlist.pop(i)\n",
    "                elif 0 < score < 6 and matches != score:\n",
    "                    wordlist.pop(i)\n",
    "                else:\n",
    "                    i += 1"
   ]
  },
  {
   "cell_type": "code",
   "execution_count": null,
   "metadata": {
    "collapsed": false,
    "pycharm": {
     "name": "#%%\n"
    }
   },
   "outputs": [],
   "source": []
  }
 ],
 "metadata": {
  "kernelspec": {
   "display_name": "Python 3",
   "language": "python",
   "name": "python3"
  },
  "language_info": {
   "codemirror_mode": {
    "name": "ipython",
    "version": 3
   },
   "file_extension": ".py",
   "mimetype": "text/x-python",
   "name": "python",
   "nbconvert_exporter": "python",
   "pygments_lexer": "ipython3",
   "version": "3.8.7"
  }
 },
 "nbformat": 4,
 "nbformat_minor": 0
}