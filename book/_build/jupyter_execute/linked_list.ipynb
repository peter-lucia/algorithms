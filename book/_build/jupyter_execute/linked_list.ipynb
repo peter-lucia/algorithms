{
 "cells": [
  {
   "cell_type": "markdown",
   "metadata": {
    "pycharm": {
     "name": "#%% md\n"
    }
   },
   "source": [
    "# Linked List\n"
   ]
  },
  {
   "cell_type": "markdown",
   "metadata": {
    "collapsed": false,
    "pycharm": {
     "name": "#%% md\n"
    }
   },
   "source": [
    "#### Reverse a Linked List"
   ]
  },
  {
   "cell_type": "code",
   "execution_count": 1,
   "metadata": {
    "pycharm": {
     "name": "#%%\n"
    }
   },
   "outputs": [
    {
     "name": "stdout",
     "output_type": "stream",
     "text": [
      "Original:\n",
      "\n",
      "1\n",
      "2\n",
      "3\n",
      "4\n",
      "5\n",
      "\n",
      "Reversed:\n",
      "\n",
      "5\n",
      "4\n",
      "3\n",
      "2\n",
      "1\n"
     ]
    }
   ],
   "source": [
    "from typing import Optional\n",
    "\n",
    "# Definition for singly-linked list.\n",
    "from IPython import display\n",
    "\n",
    "\n",
    "class ListNode:\n",
    "    def __init__(self, val=0, next=None):\n",
    "        self.val = val\n",
    "        self.next = next\n",
    "class Solution:\n",
    "    def printList(self, head: Optional[ListNode]):\n",
    "        while head:\n",
    "            print(head.val)\n",
    "            head = head.next\n",
    "\n",
    "    def reverseList(self, head: Optional[ListNode]) -> Optional[ListNode]:\n",
    "        # need three pointers: head, prev, and tmp\n",
    "        prev = None\n",
    "        while head:\n",
    "            # backup node after head\n",
    "            tmp = head.next\n",
    "\n",
    "            # point head in opposite direction\n",
    "            head.next = prev\n",
    "\n",
    "            # move prev forward\n",
    "            prev = head\n",
    "\n",
    "            # restore backup\n",
    "            head = tmp\n",
    "\n",
    "        # Set head back to prev since it will be None at the end\n",
    "        head = prev\n",
    "        return head\n",
    "\n",
    "a = ListNode(1)\n",
    "b = ListNode(2)\n",
    "c = ListNode(3)\n",
    "d = ListNode(4)\n",
    "e = ListNode(5)\n",
    "\n",
    "a.next = b\n",
    "b.next = c\n",
    "c.next = d\n",
    "d.next = e\n",
    "\n",
    "print(\"Original:\\n\")\n",
    "sol = Solution()\n",
    "sol.printList(a)\n",
    "a = Solution().reverseList(a)\n",
    "print(\"\\nReversed:\\n\")\n",
    "sol.printList(a)"
   ]
  },
  {
   "cell_type": "markdown",
   "metadata": {
    "collapsed": false,
    "pycharm": {
     "name": "#%% md\n"
    }
   },
   "source": [
    "[Reverse Linked List Verbose Steps](reverse_linked_list.pdf)"
   ]
  },
  {
   "cell_type": "code",
   "execution_count": 2,
   "metadata": {
    "collapsed": false,
    "pycharm": {
     "name": "#%%\n"
    }
   },
   "outputs": [
    {
     "ename": "FileNotFoundError",
     "evalue": "No such file or directory: 'media/reverse_linked_list_with_code.png'",
     "output_type": "error",
     "traceback": [
      "\u001b[0;31m---------------------------------------------------------------------------\u001b[0m",
      "\u001b[0;31mTypeError\u001b[0m                                 Traceback (most recent call last)",
      "\u001b[0;32m~/.pyenv/versions/3.8.7/envs/algorithms/lib/python3.8/site-packages/IPython/core/display.py\u001b[0m in \u001b[0;36m_data_and_metadata\u001b[0;34m(self, always_both)\u001b[0m\n\u001b[1;32m   1299\u001b[0m         \u001b[0;32mtry\u001b[0m\u001b[0;34m:\u001b[0m\u001b[0;34m\u001b[0m\u001b[0;34m\u001b[0m\u001b[0m\n\u001b[0;32m-> 1300\u001b[0;31m             \u001b[0mb64_data\u001b[0m \u001b[0;34m=\u001b[0m \u001b[0mb2a_base64\u001b[0m\u001b[0;34m(\u001b[0m\u001b[0mself\u001b[0m\u001b[0;34m.\u001b[0m\u001b[0mdata\u001b[0m\u001b[0;34m)\u001b[0m\u001b[0;34m.\u001b[0m\u001b[0mdecode\u001b[0m\u001b[0;34m(\u001b[0m\u001b[0;34m'ascii'\u001b[0m\u001b[0;34m)\u001b[0m\u001b[0;34m\u001b[0m\u001b[0;34m\u001b[0m\u001b[0m\n\u001b[0m\u001b[1;32m   1301\u001b[0m         \u001b[0;32mexcept\u001b[0m \u001b[0mTypeError\u001b[0m\u001b[0;34m:\u001b[0m\u001b[0;34m\u001b[0m\u001b[0;34m\u001b[0m\u001b[0m\n",
      "\u001b[0;31mTypeError\u001b[0m: a bytes-like object is required, not 'str'",
      "\nDuring handling of the above exception, another exception occurred:\n",
      "\u001b[0;31mFileNotFoundError\u001b[0m                         Traceback (most recent call last)",
      "\u001b[0;32m~/.pyenv/versions/3.8.7/envs/algorithms/lib/python3.8/site-packages/IPython/core/formatters.py\u001b[0m in \u001b[0;36m__call__\u001b[0;34m(self, obj, include, exclude)\u001b[0m\n\u001b[1;32m    968\u001b[0m \u001b[0;34m\u001b[0m\u001b[0m\n\u001b[1;32m    969\u001b[0m             \u001b[0;32mif\u001b[0m \u001b[0mmethod\u001b[0m \u001b[0;32mis\u001b[0m \u001b[0;32mnot\u001b[0m \u001b[0;32mNone\u001b[0m\u001b[0;34m:\u001b[0m\u001b[0;34m\u001b[0m\u001b[0;34m\u001b[0m\u001b[0m\n\u001b[0;32m--> 970\u001b[0;31m                 \u001b[0;32mreturn\u001b[0m \u001b[0mmethod\u001b[0m\u001b[0;34m(\u001b[0m\u001b[0minclude\u001b[0m\u001b[0;34m=\u001b[0m\u001b[0minclude\u001b[0m\u001b[0;34m,\u001b[0m \u001b[0mexclude\u001b[0m\u001b[0;34m=\u001b[0m\u001b[0mexclude\u001b[0m\u001b[0;34m)\u001b[0m\u001b[0;34m\u001b[0m\u001b[0;34m\u001b[0m\u001b[0m\n\u001b[0m\u001b[1;32m    971\u001b[0m             \u001b[0;32mreturn\u001b[0m \u001b[0;32mNone\u001b[0m\u001b[0;34m\u001b[0m\u001b[0;34m\u001b[0m\u001b[0m\n\u001b[1;32m    972\u001b[0m         \u001b[0;32melse\u001b[0m\u001b[0;34m:\u001b[0m\u001b[0;34m\u001b[0m\u001b[0;34m\u001b[0m\u001b[0m\n",
      "\u001b[0;32m~/.pyenv/versions/3.8.7/envs/algorithms/lib/python3.8/site-packages/IPython/core/display.py\u001b[0m in \u001b[0;36m_repr_mimebundle_\u001b[0;34m(self, include, exclude)\u001b[0m\n\u001b[1;32m   1288\u001b[0m         \u001b[0;32mif\u001b[0m \u001b[0mself\u001b[0m\u001b[0;34m.\u001b[0m\u001b[0membed\u001b[0m\u001b[0;34m:\u001b[0m\u001b[0;34m\u001b[0m\u001b[0;34m\u001b[0m\u001b[0m\n\u001b[1;32m   1289\u001b[0m             \u001b[0mmimetype\u001b[0m \u001b[0;34m=\u001b[0m \u001b[0mself\u001b[0m\u001b[0;34m.\u001b[0m\u001b[0m_mimetype\u001b[0m\u001b[0;34m\u001b[0m\u001b[0;34m\u001b[0m\u001b[0m\n\u001b[0;32m-> 1290\u001b[0;31m             \u001b[0mdata\u001b[0m\u001b[0;34m,\u001b[0m \u001b[0mmetadata\u001b[0m \u001b[0;34m=\u001b[0m \u001b[0mself\u001b[0m\u001b[0;34m.\u001b[0m\u001b[0m_data_and_metadata\u001b[0m\u001b[0;34m(\u001b[0m\u001b[0malways_both\u001b[0m\u001b[0;34m=\u001b[0m\u001b[0;32mTrue\u001b[0m\u001b[0;34m)\u001b[0m\u001b[0;34m\u001b[0m\u001b[0;34m\u001b[0m\u001b[0m\n\u001b[0m\u001b[1;32m   1291\u001b[0m             \u001b[0;32mif\u001b[0m \u001b[0mmetadata\u001b[0m\u001b[0;34m:\u001b[0m\u001b[0;34m\u001b[0m\u001b[0;34m\u001b[0m\u001b[0m\n\u001b[1;32m   1292\u001b[0m                 \u001b[0mmetadata\u001b[0m \u001b[0;34m=\u001b[0m \u001b[0;34m{\u001b[0m\u001b[0mmimetype\u001b[0m\u001b[0;34m:\u001b[0m \u001b[0mmetadata\u001b[0m\u001b[0;34m}\u001b[0m\u001b[0;34m\u001b[0m\u001b[0;34m\u001b[0m\u001b[0m\n",
      "\u001b[0;32m~/.pyenv/versions/3.8.7/envs/algorithms/lib/python3.8/site-packages/IPython/core/display.py\u001b[0m in \u001b[0;36m_data_and_metadata\u001b[0;34m(self, always_both)\u001b[0m\n\u001b[1;32m   1300\u001b[0m             \u001b[0mb64_data\u001b[0m \u001b[0;34m=\u001b[0m \u001b[0mb2a_base64\u001b[0m\u001b[0;34m(\u001b[0m\u001b[0mself\u001b[0m\u001b[0;34m.\u001b[0m\u001b[0mdata\u001b[0m\u001b[0;34m)\u001b[0m\u001b[0;34m.\u001b[0m\u001b[0mdecode\u001b[0m\u001b[0;34m(\u001b[0m\u001b[0;34m'ascii'\u001b[0m\u001b[0;34m)\u001b[0m\u001b[0;34m\u001b[0m\u001b[0;34m\u001b[0m\u001b[0m\n\u001b[1;32m   1301\u001b[0m         \u001b[0;32mexcept\u001b[0m \u001b[0mTypeError\u001b[0m\u001b[0;34m:\u001b[0m\u001b[0;34m\u001b[0m\u001b[0;34m\u001b[0m\u001b[0m\n\u001b[0;32m-> 1302\u001b[0;31m             raise FileNotFoundError(\n\u001b[0m\u001b[1;32m   1303\u001b[0m                 \"No such file or directory: '%s'\" % (self.data))\n\u001b[1;32m   1304\u001b[0m         \u001b[0mmd\u001b[0m \u001b[0;34m=\u001b[0m \u001b[0;34m{\u001b[0m\u001b[0;34m}\u001b[0m\u001b[0;34m\u001b[0m\u001b[0;34m\u001b[0m\u001b[0m\n",
      "\u001b[0;31mFileNotFoundError\u001b[0m: No such file or directory: 'media/reverse_linked_list_with_code.png'"
     ]
    },
    {
     "ename": "FileNotFoundError",
     "evalue": "No such file or directory: 'media/reverse_linked_list_with_code.png'",
     "output_type": "error",
     "traceback": [
      "\u001b[0;31m---------------------------------------------------------------------------\u001b[0m",
      "\u001b[0;31mTypeError\u001b[0m                                 Traceback (most recent call last)",
      "\u001b[0;32m~/.pyenv/versions/3.8.7/envs/algorithms/lib/python3.8/site-packages/IPython/core/display.py\u001b[0m in \u001b[0;36m_data_and_metadata\u001b[0;34m(self, always_both)\u001b[0m\n\u001b[1;32m   1299\u001b[0m         \u001b[0;32mtry\u001b[0m\u001b[0;34m:\u001b[0m\u001b[0;34m\u001b[0m\u001b[0;34m\u001b[0m\u001b[0m\n\u001b[0;32m-> 1300\u001b[0;31m             \u001b[0mb64_data\u001b[0m \u001b[0;34m=\u001b[0m \u001b[0mb2a_base64\u001b[0m\u001b[0;34m(\u001b[0m\u001b[0mself\u001b[0m\u001b[0;34m.\u001b[0m\u001b[0mdata\u001b[0m\u001b[0;34m)\u001b[0m\u001b[0;34m.\u001b[0m\u001b[0mdecode\u001b[0m\u001b[0;34m(\u001b[0m\u001b[0;34m'ascii'\u001b[0m\u001b[0;34m)\u001b[0m\u001b[0;34m\u001b[0m\u001b[0;34m\u001b[0m\u001b[0m\n\u001b[0m\u001b[1;32m   1301\u001b[0m         \u001b[0;32mexcept\u001b[0m \u001b[0mTypeError\u001b[0m\u001b[0;34m:\u001b[0m\u001b[0;34m\u001b[0m\u001b[0;34m\u001b[0m\u001b[0m\n",
      "\u001b[0;31mTypeError\u001b[0m: a bytes-like object is required, not 'str'",
      "\nDuring handling of the above exception, another exception occurred:\n",
      "\u001b[0;31mFileNotFoundError\u001b[0m                         Traceback (most recent call last)",
      "\u001b[0;32m~/.pyenv/versions/3.8.7/envs/algorithms/lib/python3.8/site-packages/IPython/core/formatters.py\u001b[0m in \u001b[0;36m__call__\u001b[0;34m(self, obj)\u001b[0m\n\u001b[1;32m    343\u001b[0m             \u001b[0mmethod\u001b[0m \u001b[0;34m=\u001b[0m \u001b[0mget_real_method\u001b[0m\u001b[0;34m(\u001b[0m\u001b[0mobj\u001b[0m\u001b[0;34m,\u001b[0m \u001b[0mself\u001b[0m\u001b[0;34m.\u001b[0m\u001b[0mprint_method\u001b[0m\u001b[0;34m)\u001b[0m\u001b[0;34m\u001b[0m\u001b[0;34m\u001b[0m\u001b[0m\n\u001b[1;32m    344\u001b[0m             \u001b[0;32mif\u001b[0m \u001b[0mmethod\u001b[0m \u001b[0;32mis\u001b[0m \u001b[0;32mnot\u001b[0m \u001b[0;32mNone\u001b[0m\u001b[0;34m:\u001b[0m\u001b[0;34m\u001b[0m\u001b[0;34m\u001b[0m\u001b[0m\n\u001b[0;32m--> 345\u001b[0;31m                 \u001b[0;32mreturn\u001b[0m \u001b[0mmethod\u001b[0m\u001b[0;34m(\u001b[0m\u001b[0;34m)\u001b[0m\u001b[0;34m\u001b[0m\u001b[0;34m\u001b[0m\u001b[0m\n\u001b[0m\u001b[1;32m    346\u001b[0m             \u001b[0;32mreturn\u001b[0m \u001b[0;32mNone\u001b[0m\u001b[0;34m\u001b[0m\u001b[0;34m\u001b[0m\u001b[0m\n\u001b[1;32m    347\u001b[0m         \u001b[0;32melse\u001b[0m\u001b[0;34m:\u001b[0m\u001b[0;34m\u001b[0m\u001b[0;34m\u001b[0m\u001b[0m\n",
      "\u001b[0;32m~/.pyenv/versions/3.8.7/envs/algorithms/lib/python3.8/site-packages/IPython/core/display.py\u001b[0m in \u001b[0;36m_repr_png_\u001b[0;34m(self)\u001b[0m\n\u001b[1;32m   1318\u001b[0m     \u001b[0;32mdef\u001b[0m \u001b[0m_repr_png_\u001b[0m\u001b[0;34m(\u001b[0m\u001b[0mself\u001b[0m\u001b[0;34m)\u001b[0m\u001b[0;34m:\u001b[0m\u001b[0;34m\u001b[0m\u001b[0;34m\u001b[0m\u001b[0m\n\u001b[1;32m   1319\u001b[0m         \u001b[0;32mif\u001b[0m \u001b[0mself\u001b[0m\u001b[0;34m.\u001b[0m\u001b[0membed\u001b[0m \u001b[0;32mand\u001b[0m \u001b[0mself\u001b[0m\u001b[0;34m.\u001b[0m\u001b[0mformat\u001b[0m \u001b[0;34m==\u001b[0m \u001b[0mself\u001b[0m\u001b[0;34m.\u001b[0m\u001b[0m_FMT_PNG\u001b[0m\u001b[0;34m:\u001b[0m\u001b[0;34m\u001b[0m\u001b[0;34m\u001b[0m\u001b[0m\n\u001b[0;32m-> 1320\u001b[0;31m             \u001b[0;32mreturn\u001b[0m \u001b[0mself\u001b[0m\u001b[0;34m.\u001b[0m\u001b[0m_data_and_metadata\u001b[0m\u001b[0;34m(\u001b[0m\u001b[0;34m)\u001b[0m\u001b[0;34m\u001b[0m\u001b[0;34m\u001b[0m\u001b[0m\n\u001b[0m\u001b[1;32m   1321\u001b[0m \u001b[0;34m\u001b[0m\u001b[0m\n\u001b[1;32m   1322\u001b[0m     \u001b[0;32mdef\u001b[0m \u001b[0m_repr_jpeg_\u001b[0m\u001b[0;34m(\u001b[0m\u001b[0mself\u001b[0m\u001b[0;34m)\u001b[0m\u001b[0;34m:\u001b[0m\u001b[0;34m\u001b[0m\u001b[0;34m\u001b[0m\u001b[0m\n",
      "\u001b[0;32m~/.pyenv/versions/3.8.7/envs/algorithms/lib/python3.8/site-packages/IPython/core/display.py\u001b[0m in \u001b[0;36m_data_and_metadata\u001b[0;34m(self, always_both)\u001b[0m\n\u001b[1;32m   1300\u001b[0m             \u001b[0mb64_data\u001b[0m \u001b[0;34m=\u001b[0m \u001b[0mb2a_base64\u001b[0m\u001b[0;34m(\u001b[0m\u001b[0mself\u001b[0m\u001b[0;34m.\u001b[0m\u001b[0mdata\u001b[0m\u001b[0;34m)\u001b[0m\u001b[0;34m.\u001b[0m\u001b[0mdecode\u001b[0m\u001b[0;34m(\u001b[0m\u001b[0;34m'ascii'\u001b[0m\u001b[0;34m)\u001b[0m\u001b[0;34m\u001b[0m\u001b[0;34m\u001b[0m\u001b[0m\n\u001b[1;32m   1301\u001b[0m         \u001b[0;32mexcept\u001b[0m \u001b[0mTypeError\u001b[0m\u001b[0;34m:\u001b[0m\u001b[0;34m\u001b[0m\u001b[0;34m\u001b[0m\u001b[0m\n\u001b[0;32m-> 1302\u001b[0;31m             raise FileNotFoundError(\n\u001b[0m\u001b[1;32m   1303\u001b[0m                 \"No such file or directory: '%s'\" % (self.data))\n\u001b[1;32m   1304\u001b[0m         \u001b[0mmd\u001b[0m \u001b[0;34m=\u001b[0m \u001b[0;34m{\u001b[0m\u001b[0;34m}\u001b[0m\u001b[0;34m\u001b[0m\u001b[0;34m\u001b[0m\u001b[0m\n",
      "\u001b[0;31mFileNotFoundError\u001b[0m: No such file or directory: 'media/reverse_linked_list_with_code.png'"
     ]
    },
    {
     "data": {
      "text/plain": [
       "<IPython.core.display.Image object>"
      ]
     },
     "execution_count": 2,
     "metadata": {},
     "output_type": "execute_result"
    }
   ],
   "source": [
    "display.Image(\"media/reverse_linked_list_with_code.png\")\n"
   ]
  },
  {
   "cell_type": "markdown",
   "metadata": {
    "collapsed": false,
    "pycharm": {
     "name": "#%% md\n"
    }
   },
   "source": [
    "### Insert element in sorted linked list while maintaining sorted order"
   ]
  },
  {
   "cell_type": "code",
   "execution_count": 3,
   "metadata": {
    "collapsed": false,
    "pycharm": {
     "name": "#%%\n"
    }
   },
   "outputs": [],
   "source": [
    "class Node:\n",
    "    def __init__(self, data):\n",
    "        self.data = data\n",
    "        self.next = None\n",
    "\n",
    "class LinkedList:\n",
    "\n",
    "    def __init__(self):\n",
    "        self.head = None\n",
    "\n",
    "    def sorted_insert(self, data):\n",
    "        \"\"\"\n",
    "        Time: O(n)\n",
    "        Space: O(1)\n",
    "        \"\"\"\n",
    "\n",
    "        if not self.head:\n",
    "            new_node = Node(data)\n",
    "            new_node.next = self.head\n",
    "            self.head = new_node\n",
    "            return\n",
    "\n",
    "        _head = self.head\n",
    "        _next = self.head.next\n",
    "        while _head:\n",
    "            if data > _head.data and data >= _next.data:\n",
    "                _head = _head.next\n",
    "                _next = _head.next\n",
    "            else:\n",
    "                # insert the new node\n",
    "                tmp = _head.next\n",
    "                new_node = Node(data)\n",
    "                _head.next = new_node\n",
    "                new_node.next = tmp\n",
    "                return\n",
    "\n",
    "    def delete(self, data):\n",
    "        # find where head.data = data\n",
    "        # point prev node to head.next\n",
    "        _head = self.head\n",
    "        _prev = None\n",
    "        while _head:\n",
    "            if data == _head.data:\n",
    "                if _prev is None:\n",
    "                    self.head = _head.next\n",
    "                else:\n",
    "                    _prev.next = _head.next\n",
    "                return\n",
    "\n",
    "            _prev = _head\n",
    "            _head = _head.next\n",
    "        print(f\"Can't delete {data} as it doesn't exist\")\n",
    "\n",
    "    def push(self, data):\n",
    "        \"\"\"\n",
    "        Inserts a new node at the beginning\n",
    "        \"\"\"\n",
    "        new_node = Node(data)\n",
    "        new_node.next = self.head\n",
    "        self.head = new_node\n",
    "\n",
    "    def display(self):\n",
    "        temp = self.head\n",
    "        while temp:\n",
    "            print(temp.data, end=\" \")\n",
    "            temp = temp.next"
   ]
  },
  {
   "cell_type": "code",
   "execution_count": 4,
   "metadata": {
    "collapsed": false,
    "pycharm": {
     "name": "#%%\n"
    }
   },
   "outputs": [
    {
     "name": "stdout",
     "output_type": "stream",
     "text": [
      "0 1 2 3 4 5 6 7 8 9 "
     ]
    }
   ],
   "source": [
    "linked_list = LinkedList()\n",
    "for i in range(10)[::-1]:\n",
    "    linked_list.push(i)\n",
    "linked_list.display()"
   ]
  },
  {
   "cell_type": "code",
   "execution_count": 5,
   "metadata": {
    "collapsed": false,
    "pycharm": {
     "name": "#%%\n"
    }
   },
   "outputs": [
    {
     "name": "stdout",
     "output_type": "stream",
     "text": [
      "0 1 2 2 3 3 4 5 6 7 8 9 "
     ]
    }
   ],
   "source": [
    "linked_list.sorted_insert(2)\n",
    "linked_list.sorted_insert(3)\n",
    "linked_list.display()"
   ]
  },
  {
   "cell_type": "code",
   "execution_count": 6,
   "metadata": {
    "collapsed": false,
    "pycharm": {
     "name": "#%%\n"
    }
   },
   "outputs": [],
   "source": [
    "ll = LinkedList()\n",
    "ll.sorted_insert(2)"
   ]
  },
  {
   "cell_type": "code",
   "execution_count": 7,
   "metadata": {
    "collapsed": false,
    "pycharm": {
     "name": "#%%\n"
    }
   },
   "outputs": [
    {
     "name": "stdout",
     "output_type": "stream",
     "text": [
      "2 "
     ]
    }
   ],
   "source": [
    "ll.display()"
   ]
  },
  {
   "cell_type": "code",
   "execution_count": 8,
   "metadata": {
    "collapsed": false,
    "pycharm": {
     "name": "#%%\n"
    }
   },
   "outputs": [
    {
     "name": "stdout",
     "output_type": "stream",
     "text": [
      "0 1 2 2 3 3 4 5 6 7 8 9 "
     ]
    }
   ],
   "source": [
    "linked_list.display()"
   ]
  },
  {
   "cell_type": "code",
   "execution_count": 9,
   "metadata": {
    "collapsed": false,
    "pycharm": {
     "name": "#%%\n"
    }
   },
   "outputs": [
    {
     "name": "stdout",
     "output_type": "stream",
     "text": [
      "0 1 2 3 3 4 5 6 7 8 9 "
     ]
    }
   ],
   "source": [
    "linked_list.delete(2)\n",
    "linked_list.display()"
   ]
  },
  {
   "cell_type": "code",
   "execution_count": 10,
   "metadata": {
    "collapsed": false,
    "pycharm": {
     "name": "#%%\n"
    }
   },
   "outputs": [
    {
     "name": "stdout",
     "output_type": "stream",
     "text": [
      "0 1 2 3 3 4 5 6 7 8 "
     ]
    }
   ],
   "source": [
    "linked_list.delete(9)\n",
    "linked_list.display()"
   ]
  },
  {
   "cell_type": "code",
   "execution_count": 11,
   "metadata": {
    "collapsed": false,
    "pycharm": {
     "name": "#%%\n"
    }
   },
   "outputs": [
    {
     "name": "stdout",
     "output_type": "stream",
     "text": [
      "Can't delete 9 as it doesn't exist\n",
      "0 1 2 3 3 4 5 6 7 8 "
     ]
    }
   ],
   "source": [
    "linked_list.delete(9)\n",
    "linked_list.display()"
   ]
  },
  {
   "cell_type": "markdown",
   "metadata": {
    "collapsed": false,
    "pycharm": {
     "name": "#%% md\n"
    }
   },
   "source": [
    "#### Compare two strings represented as linked lists\n",
    "Given two strings, represented as linked lists (every character is a node in a linked list). Write a function compare() that works similar to strcmp(), i.e., it returns 0 if both strings are the same, 1 if the first linked list is lexicographically greater, and -1 if the second string is lexicographically greater.\n",
    "\n",
    "Note: lexicographically means the unicode value of each character is compared\n",
    "```\n",
    "Examples:\n",
    "\n",
    "\n",
    "Input: list1 = g->e->e->k->s->a\n",
    "       list2 = g->e->e->k->s->b\n",
    "Output: -1 because list2 is lexicographically greater than list1\n",
    "\n",
    "Input: list1 = g->e->e->k->s->a\n",
    "       list2 = g->e->e->k->s\n",
    "Output: 1 because list1 is lexicographically greater than list2\n",
    "\n",
    "Input: list1 = g->e->e->k->s\n",
    "       list2 = g->e->e->k->s\n",
    "Output: 0 because list1 and list2 are the same\n",
    "```"
   ]
  },
  {
   "cell_type": "code",
   "execution_count": 12,
   "metadata": {
    "collapsed": false,
    "pycharm": {
     "name": "#%%\n"
    }
   },
   "outputs": [
    {
     "name": "stdout",
     "output_type": "stream",
     "text": [
      "List 2 is greater. Pass\n",
      "List1 == List2. Pass\n",
      "List 1 is greater. Pass\n"
     ]
    }
   ],
   "source": [
    "class Node:\n",
    "    def __init__(self, key):\n",
    "        self.c: str = key\n",
    "        self.next = None\n",
    "\n",
    "def compare(head1: Node, head2: Node) -> int:\n",
    "    \"\"\"\n",
    "    Assumes each node's data is a single character in both LinkedLists\n",
    "    returns 1 if list1 is lexicographically greater than other\n",
    "    returns -1 if list2 is lexicographically greater than list1\n",
    "    returns 0 if list1 is the same as list2\n",
    "    \"\"\"\n",
    "\n",
    "\n",
    "    # move forward until either list ends or the character 'c' is different\n",
    "    while head1 and head2 and head1.c == head2.c:\n",
    "        head1 = head1.next\n",
    "        head2 = head2.next\n",
    "\n",
    "    # if both lists are not empty, the characters are mismatched\n",
    "    if head1 and head2:\n",
    "        # we can assume head1.c != head2.c here\n",
    "        return 1 if head1.c > head2.c else -1\n",
    "\n",
    "    # if lengths are mismatched,\n",
    "    if head1 and not head2:\n",
    "        return 1\n",
    "    if not head1 and head2:\n",
    "        return -1\n",
    "\n",
    "    # both lists are empty and the characters are not mismatched.\n",
    "    return 0\n",
    "\n",
    "head1 = Node(\"a\")\n",
    "head1.next = Node(\"b\")\n",
    "head1.next.next = Node(\"c\")\n",
    "\n",
    "head2 = Node(\"a\")\n",
    "head2.next = Node(\"b\")\n",
    "head2.next.next = Node(\"c\")\n",
    "head2.next.next.next = Node(\"d\")\n",
    "\n",
    "def test(head1, head2, result):\n",
    "    res = compare(head1, head2)\n",
    "    if res == 1:\n",
    "        print(\"List 1 is greater.\", end=\" \")\n",
    "    elif res == -1:\n",
    "        print(\"List 2 is greater.\", end=\" \")\n",
    "    else:\n",
    "        print(\"List1 == List2.\", end=\" \")\n",
    "    assert res == result, \"Failure\"\n",
    "    print(\"Pass\")\n",
    "test(head1, head2, -1)\n",
    "head2.next.next.next = None\n",
    "test(head1, head2, 0)\n",
    "head1.next.next.c = \"d\"\n",
    "test(head1, head2, 1)"
   ]
  },
  {
   "cell_type": "markdown",
   "metadata": {
    "collapsed": false,
    "pycharm": {
     "name": "#%% md\n"
    }
   },
   "source": [
    "#### Check if linked list has a cycle in it or not\n",
    "\n",
    "[https://leetcode.com/problems/linked-list-cycle/](https://leetcode.com/problems/linked-list-cycle/)"
   ]
  },
  {
   "cell_type": "code",
   "execution_count": 13,
   "metadata": {
    "collapsed": false,
    "pycharm": {
     "name": "#%%\n"
    }
   },
   "outputs": [
    {
     "name": "stdout",
     "output_type": "stream",
     "text": [
      "True\n"
     ]
    }
   ],
   "source": [
    "from typing import Optional\n",
    "# Definition for singly-linked list.\n",
    "class ListNode:\n",
    "    def __init__(self, x):\n",
    "        self.val = x\n",
    "        self.next = None\n",
    "\n",
    "class Solution:\n",
    "    def hasCycle(self, head: Optional[ListNode]) -> bool:\n",
    "        visited = set()\n",
    "\n",
    "        while head:\n",
    "            visited.add(head)\n",
    "            head = head.next\n",
    "            if head in visited:\n",
    "                return True\n",
    "        return False\n",
    "\n",
    "neg_four = ListNode(-4)\n",
    "zero = ListNode(0)\n",
    "two = ListNode(2)\n",
    "three = ListNode(3)\n",
    "three.next = two\n",
    "two.next = zero\n",
    "zero.next = neg_four\n",
    "neg_four.next = two\n",
    "\n",
    "result = Solution().hasCycle(three)\n",
    "print(result)\n",
    "assert result == True"
   ]
  },
  {
   "cell_type": "markdown",
   "metadata": {
    "collapsed": false,
    "pycharm": {
     "name": "#%% md\n"
    }
   },
   "source": [
    "#### Add two numbers represented by linked lists\n",
    "\n",
    "[https://leetcode.com/problems/add-two-numbers/](https://leetcode.com/problems/add-two-numbers/)"
   ]
  },
  {
   "cell_type": "code",
   "execution_count": 14,
   "metadata": {
    "collapsed": false,
    "pycharm": {
     "name": "#%%\n"
    }
   },
   "outputs": [
    {
     "name": "stdout",
     "output_type": "stream",
     "text": [
      "321 + 321 =  642\n",
      "4321 + 321 =  4642\n"
     ]
    }
   ],
   "source": [
    "# Definition for singly-linked list.\n",
    "class ListNode:\n",
    "    def __init__(self, val=0, next=None):\n",
    "        self.val = val\n",
    "        self.next = next\n",
    "\n",
    "    def display(self):\n",
    "        result = []\n",
    "        head = self\n",
    "        while head:\n",
    "            # print(head.val, end=\" \")\n",
    "            result.append(head.val)\n",
    "            head = head.next\n",
    "        # because of the nature of this problem,\n",
    "        # the numbers are listed in reverse (it is actually helpful\n",
    "        # from an implementation perspective in Solution().addTwoNumbers(...)\n",
    "        print(\"\".join(str(each) for each in reversed(result)))\n",
    "\n",
    "\n",
    "class Solution:\n",
    "    def addTwoNumbers(self, l1: Optional[ListNode], l2: Optional[ListNode]) -> Optional[ListNode]:\n",
    "        # Time: O(n)\n",
    "        # Space: O(1)\n",
    "        # Assumptions:\n",
    "        # lists may not be equal in length\n",
    "        # no leading zeros\n",
    "\n",
    "        # Algorithm:\n",
    "        # traverse to end node keeping track of position from the leftmost number\n",
    "        # can only add two nodes if their positions are the same\n",
    "        # keep track of carry after each division, add it to next addition\n",
    "        # position is different for each linked list\n",
    "        #\n",
    "\n",
    "        # Simple example:\n",
    "        # 2 4 3\n",
    "        # 5 6 4\n",
    "        #     ^\n",
    "\n",
    "        #     7 ,carry = 0,\n",
    "        #   0   ,carry = 1  (take ones value of addition result only), add 1 to carry, position = 1\n",
    "        # 8     ,carry = 0,\n",
    "\n",
    "        # 2 5 3 4\n",
    "        #   5 6 4\n",
    "\n",
    "        #       8,carry = 0\n",
    "        #     9  ,carry = 0\n",
    "        #   0    ,carry = 1\n",
    "        # 3      ,carry = 0 stop.\n",
    "\n",
    "                # if either l1 or l2 is empty, whatever the other list is will be the answer,\n",
    "        # even if it's also empty\n",
    "        # if either l1 or l2 is empty, whatever the other list is will be the answer,\n",
    "        # even if it's also empty\n",
    "        if not l1:\n",
    "            return l2\n",
    "        if not l2:\n",
    "            return l1\n",
    "\n",
    "        result = None\n",
    "        prev = None\n",
    "        curr = None\n",
    "        carry = 0\n",
    "        while l1 or l2:\n",
    "            if l1 and l2:\n",
    "                # add val of both nodes together, add carry as well\n",
    "                new_node = ListNode((carry + l1.val + l2.val) % 10)\n",
    "                carry = (carry + l1.val + l2.val) // 10\n",
    "                l1 = l1.next\n",
    "                l2 = l2.next\n",
    "            elif l1 and not l2:\n",
    "                # only take into consideration the carry and l1's value since l2 is empty\n",
    "                new_node = ListNode((carry + l1.val) % 10)\n",
    "                carry = (carry + l1.val) // 10\n",
    "                l1 = l1.next\n",
    "            elif not l1 and l2:\n",
    "                # only take into consideration the carry and l2's value since l1 is empty\n",
    "                new_node = ListNode((carry + l2.val) % 10)\n",
    "                carry = (carry + l2.val) // 10\n",
    "                l2 = l2.next\n",
    "            # curr points to new node\n",
    "            # append curr to the result\n",
    "            curr = new_node\n",
    "            # if result is empty, curr will be the head. Set the result to the head\n",
    "            if not result:\n",
    "                # can't set result = curr because they will point to the same object\n",
    "                # and the curr will be updated which will also update result\n",
    "                # adding curr to a list then extracting it out is a workaround\n",
    "                # This preserves O(1) space complexity\n",
    "                # With O(n) space complexity, could add all elements to a list\n",
    "                # then pick out the first one, or any other element in the list\n",
    "                # kind of defeats the purpose of using linked lists though...\n",
    "                result = [curr][0]\n",
    "            # if prev is not None, set it's next value to the current node\n",
    "            if prev:\n",
    "                prev.next = curr\n",
    "            # move prev and curr forward one node each\n",
    "            prev = curr\n",
    "            curr = curr.next\n",
    "\n",
    "        # in case we have a carry at the end,\n",
    "        # create a new node with the carry's value\n",
    "        # carry will always be < 10\n",
    "        if carry > 0:\n",
    "            new_node = ListNode(carry)\n",
    "            prev.next = new_node\n",
    "\n",
    "        return result\n",
    "\n",
    "l1 = ListNode(1)\n",
    "l1.next = ListNode(2)\n",
    "l1.next.next = ListNode(3)\n",
    "\n",
    "l2 = ListNode(1)\n",
    "l2.next = ListNode(2)\n",
    "l2.next.next = ListNode(3)\n",
    "l2.next.next.next = ListNode(4)\n",
    "\n",
    "print(\"321 + 321 = \", end = \" \")\n",
    "Solution().addTwoNumbers(l1, l1).display()\n",
    "\n",
    "print(\"4321 + 321 = \", end = \" \")\n",
    "Solution().addTwoNumbers(l1, l2).display()\n"
   ]
  },
  {
   "cell_type": "markdown",
   "metadata": {
    "collapsed": false,
    "pycharm": {
     "name": "#%% md\n"
    }
   },
   "source": [
    "Note from [https://stackoverflow.com/questions/40425554/python-shallow-copy-and-deep-copy-in-using-append-method](https://stackoverflow.com/questions/40425554/python-shallow-copy-and-deep-copy-in-using-append-method)\n",
    "\n",
    ">  there's no copy whatsoever involved in an append operation. So you'll have to explicitly take care of this yourself, e.g. by replacing\n",
    "\n",
    "`basis.append(state)`\n",
    "with\n",
    "`basis.append(state[:])`\n",
    "The slicing operation with : creates a copy of state."
   ]
  },
  {
   "cell_type": "markdown",
   "metadata": {
    "collapsed": false,
    "pycharm": {
     "name": "#%% md\n"
    }
   },
   "source": [
    "\n",
    "### 2095. Delete the Middle Node of a Linked List\n",
    "[https://leetcode.com/problems/delete-the-middle-node-of-a-linked-list/](https://leetcode.com/problems/delete-the-middle-node-of-a-linked-list/)\n",
    "You are given the head of a linked list. Delete the middle node, and return the head of the modified linked list.\n",
    "\n",
    "The middle node of a linked list of size n is the ⌊n / 2⌋th node from the start using 0-based indexing, where ⌊x⌋ denotes the largest integer less than or equal to x."
   ]
  },
  {
   "cell_type": "code",
   "execution_count": 15,
   "metadata": {
    "collapsed": false,
    "pycharm": {
     "name": "#%%\n"
    }
   },
   "outputs": [],
   "source": [
    "from typing import Optional\n",
    "# Definition for singly-linked list.\n",
    "class ListNode:\n",
    "    def __init__(self, val=0, next=None):\n",
    "        self.val = val\n",
    "        self.next = next\n",
    "class Solution:\n",
    "    def deleteMiddle(self, head: Optional[ListNode]) -> Optional[ListNode]:\n",
    "\n",
    "        if not head.next:\n",
    "            return None\n",
    "\n",
    "        nodes = []\n",
    "        while head:\n",
    "            nodes.append(head)\n",
    "            head = head.next\n",
    "\n",
    "        prev_node = nodes[len(nodes) // 2 - 1]\n",
    "        middle_node = nodes[len(nodes) // 2]\n",
    "        if len(nodes) // 2 + 1 < len(nodes):\n",
    "            next_node = nodes[len(nodes) // 2 + 1]\n",
    "        else:\n",
    "            next_node = None\n",
    "        prev_node.next = next_node\n",
    "        return nodes[0]"
   ]
  },
  {
   "cell_type": "markdown",
   "metadata": {
    "collapsed": false,
    "pycharm": {
     "name": "#%% md\n"
    }
   },
   "source": [
    "### Linked List: find a random node using hashmap or array\n",
    "\n",
    "Time Complexity: O(n)\n",
    "Space Complexity: O(n)"
   ]
  },
  {
   "cell_type": "code",
   "execution_count": 16,
   "metadata": {
    "collapsed": false,
    "pycharm": {
     "name": "#%%\n"
    }
   },
   "outputs": [
    {
     "name": "stdout",
     "output_type": "stream",
     "text": [
      "3\n",
      "4\n",
      "5\n",
      "3\n",
      "5\n",
      "4\n",
      "3\n",
      "3\n",
      "4\n",
      "4\n"
     ]
    }
   ],
   "source": [
    "import random\n",
    "from typing import Optional\n",
    "# Definition for singly-linked list.\n",
    "class ListNode:\n",
    "    def __init__(self, val=0, next=None):\n",
    "        self.val = val\n",
    "        self.next = next\n",
    "class Solution:\n",
    "\n",
    "    def __init__(self, head: Optional[ListNode]):\n",
    "        ########### Approach 1 O(n) #######################\n",
    "        # Find the length of the linked list, n, here to get the upper bound\n",
    "\n",
    "        ########### Approach 2: O(n) #######################\n",
    "        # Use a hashmap to traverse the linked list once, mapping indexes to each node\n",
    "        # e.g.\n",
    "        # 0 -> head\n",
    "        # 1 -> head.next\n",
    "        # ...\n",
    "        # Edge cases: empty list\n",
    "        self.head = [head][0]\n",
    "        self.lookup = {}\n",
    "        self.n = 0\n",
    "        while head:\n",
    "            self.lookup[self.n] = [head][0]\n",
    "            head = head.next\n",
    "            self.n += 1\n",
    "\n",
    "    def getRandom(self) -> int:\n",
    "        ########### Approach 1: O(n) #######################\n",
    "        # How to generate a random number?\n",
    "        # choose a random number, called i, between 0 and n - 1 with random.randint\n",
    "        # and traverse the linekd list i times and return the value\n",
    "\n",
    "        ########### Approach 2: O(1) #######################\n",
    "        # pick a random number and return the node mapped by the lookup\n",
    "        # e.g.\n",
    "        # return lookup.get(random.randint(0, self.n-1))\n",
    "        return self.lookup[random.randint(0, self.n-1)].val\n",
    "\n",
    "head = ListNode(3)\n",
    "head.next = ListNode(4)\n",
    "head.next.next = ListNode(5)\n",
    "sol = Solution(head)\n",
    "for i in range(10):\n",
    "    print(sol.getRandom())"
   ]
  },
  {
   "cell_type": "markdown",
   "metadata": {
    "collapsed": false,
    "pycharm": {
     "name": "#%% md\n"
    }
   },
   "source": [
    "### Linked list: find a random node using reservoir sampling based approach"
   ]
  },
  {
   "cell_type": "code",
   "execution_count": 17,
   "metadata": {
    "collapsed": false,
    "pycharm": {
     "name": "#%%\n"
    }
   },
   "outputs": [
    {
     "name": "stdout",
     "output_type": "stream",
     "text": [
      "5\n",
      "3\n",
      "4\n",
      "4\n",
      "4\n",
      "3\n",
      "3\n",
      "3\n",
      "4\n",
      "5\n"
     ]
    }
   ],
   "source": [
    "# Definition for singly-linked list.\n",
    "# class ListNode:\n",
    "#     def __init__(self, val=0, next=None):\n",
    "#         self.val = val\n",
    "#         self.next = next\n",
    "class Solution:\n",
    "\n",
    "    def __init__(self, head: Optional[ListNode]):\n",
    "        self.head = head\n",
    "\n",
    "    def getRandom(self) -> int:\n",
    "        # Reservoir sampling based function\n",
    "\n",
    "        if self.head is None:\n",
    "            return\n",
    "\n",
    "        if self.head and not self.head.next:\n",
    "            return self.head.val\n",
    "\n",
    "        result = self.head.val\n",
    "\n",
    "        current = self.head.next\n",
    "        n = 1\n",
    "        # stop once we reach last node in linked list\n",
    "        while current is not None:\n",
    "\n",
    "            # there is a 1/n chance of getting 0\n",
    "            # when calling a random number between 0 and n-1\n",
    "            # only assign result to current.val when we get 0\n",
    "            if random.randint(0, n) == 0:\n",
    "                result = current.val\n",
    "\n",
    "            current = current.next\n",
    "            n += 1\n",
    "\n",
    "        return result\n",
    "head = ListNode(3)\n",
    "head.next = ListNode(4)\n",
    "head.next.next = ListNode(5)\n",
    "sol = Solution(head)\n",
    "for i in range(10):\n",
    "    print(sol.getRandom())"
   ]
  },
  {
   "cell_type": "markdown",
   "metadata": {
    "collapsed": false,
    "pycharm": {
     "name": "#%% md\n"
    }
   },
   "source": [
    "### Merge two sorted linked lists into a single sorted linked list\n",
    "Source:"
   ]
  },
  {
   "cell_type": "code",
   "execution_count": 18,
   "metadata": {
    "collapsed": false,
    "pycharm": {
     "name": "#%%\n"
    }
   },
   "outputs": [
    {
     "name": "stdout",
     "output_type": "stream",
     "text": [
      "1\n",
      "2\n",
      "2\n",
      "3\n",
      "5\n"
     ]
    }
   ],
   "source": [
    "from typing import Optional\n",
    "# Definition for singly-linked list.\n",
    "class ListNode:\n",
    "    def __init__(self, val=0, next=None):\n",
    "        self.val = val\n",
    "        self.next = next\n",
    "\n",
    "    def display(self):\n",
    "        head = self\n",
    "        while head:\n",
    "            print(head.val)\n",
    "            head = head.next\n",
    "\n",
    "class Solution:\n",
    "    def mergeTwoLists(self, list1: Optional[ListNode], list2: Optional[ListNode]) -> Optional[ListNode]:\n",
    "        # Approach\n",
    "        # Move list1 head and list2 head through both linked lists\n",
    "        # If list11 head is less than list2's head, add list1's head to the result\n",
    "        # repeat until we've traversed both lists\n",
    "\n",
    "        if not list1 and not list2:\n",
    "            return None\n",
    "        if list1 and not list2:\n",
    "            return list1\n",
    "        if list2 and not list1:\n",
    "            return list2\n",
    "        if list1.val < list2.val:\n",
    "            head = list1\n",
    "        else:\n",
    "            head = list2\n",
    "        starting_head = [head][0]\n",
    "        while list1 or list2:\n",
    "\n",
    "            if list1 and list2:\n",
    "                if list1.val < list2.val:\n",
    "                    new_node = list1\n",
    "                    list1 = list1.next\n",
    "                else:\n",
    "                    new_node = list2\n",
    "                    list2 = list2.next\n",
    "            elif list1:\n",
    "                new_node = list1\n",
    "                list1 = list1.next\n",
    "            elif list2:\n",
    "                new_node = list2\n",
    "                list2 = list2.next\n",
    "\n",
    "            head.next = new_node\n",
    "            head = head.next\n",
    "\n",
    "        return starting_head\n",
    "list1 = ListNode(1)\n",
    "list1.next = ListNode(2)\n",
    "list1.next.next = ListNode(3)\n",
    "\n",
    "list2 = ListNode(2)\n",
    "list2.next = ListNode(5)\n",
    "\n",
    "Solution().mergeTwoLists(list1, list2).display()"
   ]
  },
  {
   "cell_type": "markdown",
   "metadata": {
    "collapsed": false,
    "pycharm": {
     "name": "#%% md\n"
    }
   },
   "source": [
    "### Merge a linked list into another linked list at alternate positions\n",
    "Source: [https://www.geeksforgeeks.org/merge-a-linked-list-into-another-linked-list-at-alternate-positions/](https://www.geeksforgeeks.org/merge-a-linked-list-into-another-linked-list-at-alternate-positions/)\n"
   ]
  },
  {
   "cell_type": "code",
   "execution_count": 19,
   "metadata": {
    "collapsed": false,
    "pycharm": {
     "name": "#%%\n"
    }
   },
   "outputs": [
    {
     "name": "stdout",
     "output_type": "stream",
     "text": [
      "2\n",
      "3\n",
      "7\n",
      "4\n",
      "9\n",
      "5\n"
     ]
    }
   ],
   "source": [
    "class ListNode:\n",
    "    def __init__(self, val=0, next=None):\n",
    "        self.val = val\n",
    "        self.next = next\n",
    "\n",
    "    def display(self):\n",
    "        head = self\n",
    "        while head:\n",
    "            print(head.val)\n",
    "            head = head.next\n",
    "\n",
    "class Solution:\n",
    "    def merge_alternates(self, head1: ListNode, head2: ListNode) -> ListNode:\n",
    "        # Approach\n",
    "        # 1. Arbitrarily choose the starting node\n",
    "        # 2. While head1 or head2, alternately assign head1 to result.next\n",
    "\n",
    "        # start with head1 arbitrarily\n",
    "        if not head1 and not head2:\n",
    "            return None\n",
    "\n",
    "        # if head2 does not exist, return head1\n",
    "        if head1 and not head2:\n",
    "            return head1\n",
    "        # if head1 does not exist, return head2\n",
    "        if not head1 and head2:\n",
    "            return head2\n",
    "\n",
    "        # both head1 and head2 have nodes from here onward\n",
    "        result = head2\n",
    "        head2 = head2.next\n",
    "        result_head = [result][0]\n",
    "\n",
    "        while head1 or head2:\n",
    "            if head1:\n",
    "                # result's next node is now head1\n",
    "                result.next = head1\n",
    "                # move head1 pointer\n",
    "                head1 = head1.next\n",
    "                # move result pointer forward here in case head2 also exists\n",
    "                result = result.next\n",
    "            if head2:\n",
    "                # result's next node is now head2\n",
    "                result.next = head2\n",
    "                # move head2 pointer\n",
    "                head2 = head2.next\n",
    "                # move result pointer forward here a second time in case we already moved it\n",
    "                # when adding the node from head1\n",
    "                result = result.next\n",
    "\n",
    "        return result_head\n",
    "\n",
    "head1 = ListNode(3)\n",
    "head1.next = ListNode(4)\n",
    "head1.next.next = ListNode(5)\n",
    "\n",
    "head2 = ListNode(2)\n",
    "head2.next = ListNode(7)\n",
    "head2.next.next = ListNode(9)\n",
    "Solution().merge_alternates(head1, head2).display()"
   ]
  },
  {
   "cell_type": "code",
   "execution_count": 20,
   "metadata": {
    "collapsed": false,
    "pycharm": {
     "name": "#%%\n"
    }
   },
   "outputs": [
    {
     "name": "stdout",
     "output_type": "stream",
     "text": [
      "4\n",
      "1\n",
      "5\n",
      "2\n",
      "6\n",
      "3\n",
      "7\n",
      "8\n"
     ]
    }
   ],
   "source": [
    "head1 = ListNode(1)\n",
    "head1.next = ListNode(2)\n",
    "head1.next.next = ListNode(3)\n",
    "\n",
    "head2 = ListNode(4)\n",
    "head2.next = ListNode(5)\n",
    "head2.next.next = ListNode(6)\n",
    "head2.next.next.next = ListNode(7)\n",
    "head2.next.next.next.next = ListNode(8)\n",
    "Solution().merge_alternates(head1, head2).display()"
   ]
  },
  {
   "cell_type": "code",
   "execution_count": null,
   "metadata": {
    "collapsed": false,
    "pycharm": {
     "name": "#%%\n"
    }
   },
   "outputs": [],
   "source": []
  }
 ],
 "metadata": {
  "kernelspec": {
   "display_name": "Python 3 (ipykernel)",
   "language": "python",
   "name": "python3"
  },
  "language_info": {
   "codemirror_mode": {
    "name": "ipython",
    "version": 3
   },
   "file_extension": ".py",
   "mimetype": "text/x-python",
   "name": "python",
   "nbconvert_exporter": "python",
   "pygments_lexer": "ipython3",
   "version": "3.8.7"
  }
 },
 "nbformat": 4,
 "nbformat_minor": 1
}