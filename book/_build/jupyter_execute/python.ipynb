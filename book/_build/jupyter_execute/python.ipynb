{
 "cells": [
  {
   "cell_type": "markdown",
   "metadata": {
    "collapsed": false,
    "pycharm": {
     "name": "#%% md\n"
    }
   },
   "source": [
    "# Python"
   ]
  },
  {
   "cell_type": "markdown",
   "metadata": {
    "collapsed": true,
    "pycharm": {
     "name": "#%% md\n"
    }
   },
   "source": [
    "#### Defaultdict\n",
    "`(defaultdict(list))`\n",
    "\n"
   ]
  },
  {
   "cell_type": "code",
   "execution_count": 1,
   "metadata": {
    "collapsed": false,
    "pycharm": {
     "name": "#%%\n"
    }
   },
   "outputs": [
    {
     "data": {
      "text/plain": [
       "defaultdict(list, {0: [(1, 2)]})"
      ]
     },
     "execution_count": 1,
     "metadata": {},
     "output_type": "execute_result"
    }
   ],
   "source": [
    "from collections import defaultdict\n",
    "\n",
    "lookup = defaultdict(list)\n",
    "\n",
    "lookup[0].append((1, 2))\n",
    "lookup"
   ]
  },
  {
   "cell_type": "code",
   "execution_count": 2,
   "metadata": {
    "collapsed": false,
    "pycharm": {
     "name": "#%%\n"
    }
   },
   "outputs": [
    {
     "data": {
      "text/plain": [
       "defaultdict(list, {0: [(1, 2), (3, 4)]})"
      ]
     },
     "execution_count": 2,
     "metadata": {},
     "output_type": "execute_result"
    }
   ],
   "source": [
    "lookup[0].append((3, 4))\n",
    "lookup"
   ]
  },
  {
   "cell_type": "markdown",
   "metadata": {
    "collapsed": false,
    "pycharm": {
     "name": "#%% md\n"
    }
   },
   "source": [
    "Insert element into list at position i"
   ]
  },
  {
   "cell_type": "code",
   "execution_count": 3,
   "metadata": {
    "collapsed": false,
    "pycharm": {
     "name": "#%%\n"
    }
   },
   "outputs": [
    {
     "data": {
      "text/plain": [
       "[1, 2, 400, 3, 4]"
      ]
     },
     "execution_count": 3,
     "metadata": {},
     "output_type": "execute_result"
    }
   ],
   "source": [
    "a = [1,2,3,4]\n",
    "a.insert(2, 400)\n",
    "a"
   ]
  },
  {
   "cell_type": "markdown",
   "metadata": {
    "collapsed": false,
    "pycharm": {
     "name": "#%% md\n"
    }
   },
   "source": [
    "#### Bisect\n",
    "\n",
    "https://docs.python.org/3/library/bisect.html"
   ]
  },
  {
   "cell_type": "code",
   "execution_count": 4,
   "metadata": {
    "collapsed": false,
    "pycharm": {
     "name": "#%%\n"
    }
   },
   "outputs": [
    {
     "data": {
      "text/plain": [
       "1"
      ]
     },
     "execution_count": 4,
     "metadata": {},
     "output_type": "execute_result"
    }
   ],
   "source": [
    "from bisect import bisect_left, bisect_right, bisect\n",
    "\n",
    "nums = [1,50,100,150]\n",
    "\n",
    "# Locate the insertion point for x in nums to maintain sorted order.\n",
    "# The parameters lo and hi may be used to specify a subset of the list which should be considered;\n",
    "# bisect left inserts x to the left of any pre-existing entries of x\n",
    "bisect_left(nums, x=50)"
   ]
  },
  {
   "cell_type": "code",
   "execution_count": 5,
   "metadata": {
    "collapsed": false,
    "pycharm": {
     "name": "#%%\n"
    }
   },
   "outputs": [
    {
     "data": {
      "text/plain": [
       "2"
      ]
     },
     "execution_count": 5,
     "metadata": {},
     "output_type": "execute_result"
    }
   ],
   "source": [
    "# Similar to bisect_left(), but returns an insertion point which comes after (to the right of) any existing entries of x in a.\n",
    "\n",
    "# The returned insertion point i partitions the array a into two halves so that all(val <= x for val in a[lo : i]) for the left side and all(val > x for val in a[i : hi]) for the right side.\n",
    "# bisect_right = bisect\n",
    "# bisect right and bisect insert x to the right of any pre-existing entries of x\n",
    "bisect_right(nums, x=50)\n"
   ]
  },
  {
   "cell_type": "code",
   "execution_count": 6,
   "metadata": {
    "collapsed": false,
    "pycharm": {
     "name": "#%%\n"
    }
   },
   "outputs": [
    {
     "data": {
      "text/plain": [
       "2"
      ]
     },
     "execution_count": 6,
     "metadata": {},
     "output_type": "execute_result"
    }
   ],
   "source": [
    "bisect(nums, x=50)"
   ]
  },
  {
   "cell_type": "code",
   "execution_count": 7,
   "metadata": {
    "collapsed": false,
    "pycharm": {
     "name": "#%%\n"
    }
   },
   "outputs": [
    {
     "data": {
      "text/plain": [
       "4"
      ]
     },
     "execution_count": 7,
     "metadata": {},
     "output_type": "execute_result"
    }
   ],
   "source": [
    "# if x is greater than all elements of a, return 4 since 4 is the correct insertion point\n",
    "\n",
    "bisect(nums, x=151)\n"
   ]
  },
  {
   "cell_type": "code",
   "execution_count": 8,
   "metadata": {
    "collapsed": false,
    "pycharm": {
     "name": "#%%\n"
    }
   },
   "outputs": [
    {
     "data": {
      "text/plain": [
       "0"
      ]
     },
     "execution_count": 8,
     "metadata": {},
     "output_type": "execute_result"
    }
   ],
   "source": [
    "# if x is less than than all elements of a, returns 0, since 0 is the correct insertion point for -1\n",
    "\n",
    "bisect(nums, x=-1)\n"
   ]
  },
  {
   "cell_type": "code",
   "execution_count": 8,
   "metadata": {
    "collapsed": false,
    "pycharm": {
     "name": "#%%\n"
    }
   },
   "outputs": [],
   "source": []
  },
  {
   "cell_type": "markdown",
   "metadata": {
    "collapsed": false
   },
   "source": [
    "Bisect application (uses binary search and hashmap)\n",
    "\n",
    "https://leetcode.com/problems/time-based-key-value-store/submissions/"
   ]
  },
  {
   "cell_type": "code",
   "execution_count": 9,
   "metadata": {
    "collapsed": false,
    "pycharm": {
     "name": "#%%\n"
    }
   },
   "outputs": [],
   "source": [
    "from collections import defaultdict\n",
    "\n",
    "from bisect import bisect_right\n",
    "class TimeMap:\n",
    "\n",
    "    # approach #1\n",
    "\n",
    "    # use a hashmap\n",
    "    # key: [(timestamp, value), (timestamp, value)]\n",
    "\n",
    "    # approach #2\n",
    "\n",
    "    def __init__(self):\n",
    "        self.timestamps = defaultdict(list)\n",
    "        self.values = defaultdict(list)\n",
    "\n",
    "    def set(self, key: str, value: str, timestamp: int) -> None:\n",
    "        # timestamp increases with each successive call,\n",
    "        # so we can just append and they will be sorted\n",
    "        # by timestamp in increasing order\n",
    "\n",
    "        # create two defaultdicts for timestamps and values\n",
    "\n",
    "        # we could use one lookup with a list of tuples\n",
    "        # where lookup[key] = [(timestamp, value), (timestamp1, value1)]\n",
    "        # but bisect only provides the key parameter in python 3.10+\n",
    "\n",
    "        self.timestamps[key].append(timestamp)\n",
    "        self.values[key].append(value)\n",
    "\n",
    "\n",
    "    def get(self, key: str, timestamp: int) -> str:\n",
    "        if self.timestamps.get(key) is None:\n",
    "            return \"\"\n",
    "\n",
    "        # If the last (and greatest) timestamp for this key is smaller\n",
    "        # than the timestamp requested, return the last timestamp\n",
    "        if self.timestamps[key][-1] < timestamp:\n",
    "            return self.values[key][-1]\n",
    "\n",
    "        # find theoretical insertion point for timestamp in self.timestamps[key] to maintain sorted order\n",
    "        # bisect_right() and bisect() find idx to insert x to the right of any pre-existing entries of x\n",
    "        i = bisect_right(a=self.timestamps[key], x=timestamp)\n",
    "\n",
    "        # all timestamps are greater than the one requested\n",
    "        # return not found\n",
    "        if i == 0:\n",
    "            return \"\"\n",
    "\n",
    "        # since all elements with index <= i are <= timestamp,\n",
    "        # we return the value at i-1\n",
    "        # which has a timestamp <= the requested timestamp\n",
    "        return self.values[key][i-1]\n",
    "\n",
    "# Your TimeMap object will be instantiated and called as such:\n",
    "# obj = TimeMap()\n",
    "# obj.set(key,value,timestamp)\n",
    "# param_2 = obj.get(key,timestamp)"
   ]
  },
  {
   "cell_type": "markdown",
   "metadata": {
    "collapsed": false,
    "pycharm": {
     "name": "#%% md\n"
    }
   },
   "source": [
    "### Alternative approach\n",
    "\n",
    "TODO"
   ]
  },
  {
   "cell_type": "markdown",
   "metadata": {
    "collapsed": false,
    "pycharm": {
     "name": "#%% md\n"
    }
   },
   "source": [
    "### Min/Max Heap\n",
    "\n",
    "[https://docs.python.org/3/library/heapq.html](https://docs.python.org/3/library/heapq.html)\n",
    "\n",
    "> (b) Our pop method returns the smallest item, not the largest (called a “min heap” in textbooks;\n",
    "> a “max heap” is more common in texts because of its suitability for in-place sorting)."
   ]
  },
  {
   "cell_type": "code",
   "execution_count": 10,
   "metadata": {
    "collapsed": false,
    "pycharm": {
     "name": "#%%\n"
    }
   },
   "outputs": [],
   "source": [
    "nums = [10, 1, 5, 2, 7]"
   ]
  },
  {
   "cell_type": "code",
   "execution_count": 11,
   "metadata": {
    "collapsed": false,
    "pycharm": {
     "name": "#%%\n"
    }
   },
   "outputs": [],
   "source": [
    "import heapq\n",
    "heapq.heapify(nums)  # min-heap by default"
   ]
  },
  {
   "cell_type": "code",
   "execution_count": 12,
   "metadata": {
    "collapsed": false,
    "pycharm": {
     "name": "#%%\n"
    }
   },
   "outputs": [
    {
     "name": "stdout",
     "output_type": "stream",
     "text": [
      "1\n",
      "2\n",
      "5\n",
      "7\n",
      "10\n"
     ]
    }
   ],
   "source": [
    "n = len(nums)\n",
    "for i in range(n):\n",
    "    print(heapq.heappop(nums))"
   ]
  },
  {
   "cell_type": "markdown",
   "metadata": {
    "collapsed": false,
    "pycharm": {
     "name": "#%% md\n"
    }
   },
   "source": [
    "> A heapsort can be implemented by pushing all values onto a heap and then popping off the smallest\n",
    "> values one at a time:"
   ]
  },
  {
   "cell_type": "code",
   "execution_count": 13,
   "metadata": {
    "collapsed": false,
    "pycharm": {
     "name": "#%%\n"
    }
   },
   "outputs": [],
   "source": [
    "def heapsort(iterable):\n",
    "    h = []\n",
    "    for value in iterable:\n",
    "        heapq.heappush(h, value)\n",
    "    return [heapq.heappop(h) for _ in range(len(h))]"
   ]
  },
  {
   "cell_type": "code",
   "execution_count": 14,
   "metadata": {
    "collapsed": false,
    "pycharm": {
     "name": "#%%\n"
    }
   },
   "outputs": [
    {
     "name": "stdout",
     "output_type": "stream",
     "text": [
      "[1, 2, 3, 4, 8, 10]\n"
     ]
    }
   ],
   "source": [
    "nums = [10, 1, 4, 8, 2, 3]\n",
    "print(heapsort(nums))"
   ]
  },
  {
   "cell_type": "markdown",
   "metadata": {
    "collapsed": false,
    "pycharm": {
     "name": "#%% md\n"
    }
   },
   "source": [
    "From [Big-O CheatSheet](https://www.bigocheatsheet.com)\n",
    "The heapsort worst time complexity is O(nlogn) and the worst space complexity is O(1)\n",
    "It is effectively better than mergesort because mergesort has a space complexity of O(n)\n",
    "It is better than quicksort because quicksort has a 'worst' time complexity of O(n^2) and a space complexity of O(logn)"
   ]
  },
  {
   "cell_type": "code",
   "execution_count": 15,
   "metadata": {
    "collapsed": false,
    "pycharm": {
     "name": "#%%\n"
    }
   },
   "outputs": [
    {
     "data": {
      "text/plain": [
       "[5, 4, 3, 2, 1]"
      ]
     },
     "execution_count": 15,
     "metadata": {},
     "output_type": "execute_result"
    }
   ],
   "source": [
    "a = [1,2,3,4,5]\n",
    "a[::-1]"
   ]
  },
  {
   "cell_type": "markdown",
   "metadata": {
    "collapsed": false,
    "pycharm": {
     "name": "#%% md\n"
    }
   },
   "source": [
    "### Class variables vs. Instance variables in Python\n",
    "Source: [https://www.geeksforgeeks.org/g-fact-34-class-or-static-variables-in-python/](https://www.geeksforgeeks.org/g-fact-34-class-or-static-variables-in-python/)"
   ]
  },
  {
   "cell_type": "code",
   "execution_count": 16,
   "metadata": {
    "collapsed": false,
    "pycharm": {
     "name": "#%%\n"
    }
   },
   "outputs": [],
   "source": [
    "class CSStudent:\n",
    "    stream = 'cse'                  # Class Variable\n",
    "    def __init__(self,name,roll):\n",
    "        self.name = name            # Instance Variable\n",
    "        self.roll = roll            # Instance Variable"
   ]
  },
  {
   "cell_type": "markdown",
   "metadata": {
    "collapsed": false,
    "pycharm": {
     "name": "#%% md\n"
    }
   },
   "source": [
    "### Static variables in functions in Python"
   ]
  },
  {
   "cell_type": "code",
   "execution_count": 17,
   "metadata": {
    "collapsed": false,
    "pycharm": {
     "name": "#%%\n"
    }
   },
   "outputs": [
    {
     "name": "stdout",
     "output_type": "stream",
     "text": [
      "Raised 'function' object has no attribute 'val'\n",
      "3\n",
      "4\n"
     ]
    }
   ],
   "source": [
    "def testing123():\n",
    "    testing123.val = 3\n",
    "\n",
    "result = False\n",
    "try:\n",
    "    testing123.val\n",
    "except AttributeError as e:\n",
    "    print(f\"Raised {e}\")\n",
    "    result = True\n",
    "assert result\n",
    "\n",
    "testing123()\n",
    "print(testing123.val)\n",
    "testing123.val += 1\n",
    "print(testing123.val)"
   ]
  },
  {
   "cell_type": "markdown",
   "metadata": {
    "collapsed": false,
    "pycharm": {
     "name": "#%% md\n"
    }
   },
   "source": [
    "Sets [https://www.geeksforgeeks.org/unordered_set-in-cpp-stl/](https://www.geeksforgeeks.org/unordered_set-in-cpp-stl/)"
   ]
  },
  {
   "cell_type": "code",
   "execution_count": 18,
   "metadata": {
    "collapsed": false,
    "pycharm": {
     "name": "#%%\n"
    }
   },
   "outputs": [],
   "source": [
    "# Convert a list of 1s and 0s to binary using\n",
    "# Cast each digit to a string using the map() function\n",
    "# Cast the string to an int with base equal to 2\n",
    "digits = [1,0,1,0,0]\n",
    "num1 = int(\"\".join(map(str, digits)), base=2)\n",
    "\n"
   ]
  }
 ],
 "metadata": {
  "kernelspec": {
   "display_name": "Python 3",
   "language": "python",
   "name": "python3"
  },
  "language_info": {
   "codemirror_mode": {
    "name": "ipython",
    "version": 3
   },
   "file_extension": ".py",
   "mimetype": "text/x-python",
   "name": "python",
   "nbconvert_exporter": "python",
   "pygments_lexer": "ipython3",
   "version": "3.8.7"
  }
 },
 "nbformat": 4,
 "nbformat_minor": 0
}