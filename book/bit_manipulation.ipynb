{
 "cells": [
  {
   "cell_type": "markdown",
   "source": [
    "# Bit Manipulation"
   ],
   "metadata": {
    "collapsed": false,
    "pycharm": {
     "name": "#%% md\n"
    }
   }
  },
  {
   "cell_type": "markdown",
   "metadata": {
    "collapsed": true,
    "pycharm": {
     "name": "#%% md\n"
    }
   },
   "source": [
    "#### Convert $n_{10}$ to $n_2$\n",
    "Uses the & bit-wise operator"
   ]
  },
  {
   "cell_type": "code",
   "execution_count": 20,
   "outputs": [
    {
     "name": "stdout",
     "output_type": "stream",
     "text": [
      "8\n",
      "4\n",
      "2\n",
      "1\n",
      "0\n"
     ]
    },
    {
     "data": {
      "text/plain": "'00010'"
     },
     "execution_count": 20,
     "metadata": {},
     "output_type": "execute_result"
    }
   ],
   "source": [
    "def binary(num: int, width: int = 31) -> str:\n",
    "    \"\"\"\n",
    "    Converts a number from base 10 to base 2\n",
    "\n",
    "    Example:\n",
    "       num = 2 = 0010\n",
    "       width = 4\n",
    "\n",
    "         1 0 0 0\n",
    "       & 0 0 1 0 = 0, bool(0) = False, add 0\n",
    "\n",
    "         0 1 0 0\n",
    "       & 0 0 1 0 = 0, bool(0) = False, add 0\n",
    "\n",
    "         0 0 1 0\n",
    "       & 0 0 1 0 = 2, bool(2) = True, add 1\n",
    "\n",
    "         0 0 0 1\n",
    "       & 0 0 1 0 = 0, bool(0) = False, add 0\n",
    "\n",
    "    In general, the ith bit is on/off if 2^i & num is not 0.\n",
    "\n",
    "    @param num: the number to convert base from 10 to 2\n",
    "    @param width: the maximum digits to display\n",
    "    \"\"\"\n",
    "    i = 1 << width\n",
    "    result = \"\"\n",
    "    while i > 0:\n",
    "        if num & i != 0:\n",
    "            result += '1'\n",
    "        else:\n",
    "            result += '0'\n",
    "        i = i // 2\n",
    "        print(i)\n",
    "    return result\n",
    "\n",
    "binary(2, width=4)"
   ],
   "metadata": {
    "collapsed": false,
    "pycharm": {
     "name": "#%%\n"
    }
   }
  },
  {
   "cell_type": "code",
   "execution_count": 21,
   "outputs": [
    {
     "name": "stdout",
     "output_type": "stream",
     "text": [
      "128\n",
      "64\n",
      "32\n",
      "16\n",
      "8\n",
      "4\n",
      "2\n",
      "1\n",
      "0\n"
     ]
    },
    {
     "data": {
      "text/plain": "'000001100'"
     },
     "execution_count": 21,
     "metadata": {},
     "output_type": "execute_result"
    }
   ],
   "source": [
    "binary(12, 8)"
   ],
   "metadata": {
    "collapsed": false,
    "pycharm": {
     "name": "#%%\n"
    }
   }
  },
  {
   "cell_type": "markdown",
   "source": [
    "### XOR (Exclusive OR)\n",
    "```text\n",
    "A   = 0101 (5)\n",
    "B   = 0011 (3)\n",
    "A^B = 0110 (6)\n",
    "```"
   ],
   "metadata": {
    "collapsed": false,
    "pycharm": {
     "name": "#%% md\n"
    }
   }
  },
  {
   "cell_type": "markdown",
   "source": [
    "### Find the value of the maximum subarray XOR in a given array\n"
   ],
   "metadata": {
    "collapsed": false,
    "pycharm": {
     "name": "#%% md\n"
    }
   }
  },
  {
   "cell_type": "code",
   "execution_count": 45,
   "outputs": [],
   "source": [
    "def max_subarray_xor_continuous(arr):\n",
    "    \"\"\"\n",
    "    Tries starting maximum continuous subarray at where 1 <= i <= n\n",
    "\n",
    "    Time complexity: O(n^2)\n",
    "    Space complexity: O(1)\n",
    "    \"\"\"\n",
    "    ans = float(\"-inf\")\n",
    "    n = len(arr)\n",
    "    for i in range(n):\n",
    "        current_xor = 0\n",
    "        for j in range(i, n):\n",
    "            current_xor = current_xor ^ arr[j]\n",
    "            ans = max(ans, current_xor)\n",
    "    return ans\n"
   ],
   "metadata": {
    "collapsed": false,
    "pycharm": {
     "name": "#%%\n"
    }
   }
  },
  {
   "cell_type": "markdown",
   "source": [
    "```\n",
    "Input: arr[] = {1,2,3,4}\n",
    "Output: 7\n",
    "The subarray {3,4} has the maximum XOR value since 0011 ^ 0100 = 0111\n",
    "\n",
    "If we added 8 (1000) to the array, then {3,4,8} would be the largest sub array adding to 15\n",
    "```"
   ],
   "metadata": {
    "collapsed": false,
    "pycharm": {
     "name": "#%% md\n"
    }
   }
  },
  {
   "cell_type": "code",
   "execution_count": 54,
   "outputs": [
    {
     "data": {
      "text/plain": "7"
     },
     "execution_count": 54,
     "metadata": {},
     "output_type": "execute_result"
    }
   ],
   "source": [
    "max_subarray_xor_continuous([1,2,3,4])"
   ],
   "metadata": {
    "collapsed": false,
    "pycharm": {
     "name": "#%%\n"
    }
   }
  },
  {
   "cell_type": "code",
   "execution_count": 51,
   "outputs": [
    {
     "data": {
      "text/plain": "15"
     },
     "execution_count": 51,
     "metadata": {},
     "output_type": "execute_result"
    }
   ],
   "source": [
    "max_subarray_xor_continuous([1,2,3,4,8])"
   ],
   "metadata": {
    "collapsed": false,
    "pycharm": {
     "name": "#%%\n"
    }
   }
  },
  {
   "cell_type": "code",
   "execution_count": 52,
   "outputs": [
    {
     "data": {
      "text/plain": "7"
     },
     "execution_count": 52,
     "metadata": {},
     "output_type": "execute_result"
    }
   ],
   "source": [
    "max_subarray_xor_continuous([1,2,3,4])"
   ],
   "metadata": {
    "collapsed": false,
    "pycharm": {
     "name": "#%%\n"
    }
   }
  },
  {
   "cell_type": "code",
   "execution_count": 53,
   "outputs": [
    {
     "data": {
      "text/plain": "15"
     },
     "execution_count": 53,
     "metadata": {},
     "output_type": "execute_result"
    }
   ],
   "source": [
    "max_subarray_xor_continuous([8,1,2,12,7,6])"
   ],
   "metadata": {
    "collapsed": false,
    "pycharm": {
     "name": "#%%\n"
    }
   }
  },
  {
   "cell_type": "markdown",
   "source": [
    "### 476. Number Complement\n",
    "[https://leetcode.com/problems/number-complement/](https://leetcode.com/problems/number-complement/)"
   ],
   "metadata": {
    "collapsed": false,
    "pycharm": {
     "name": "#%% md\n"
    }
   }
  },
  {
   "cell_type": "code",
   "execution_count": 11,
   "outputs": [],
   "source": [
    "class Solution:\n",
    "    def findComplement(self, num: int) -> int:\n",
    "        # Finds the complement of for an unsigned number\n",
    "        # minimum number of bits needed to represent num in binary\n",
    "        bit_length = num.bit_length()    # e.g. num = 5, bit_length = 3\n",
    "        mask = ((1 << bit_length) - 1)   #      mask = 111\n",
    "        return num ^ mask                #      101 XOR 111 = 010\n",
    "assert Solution().findComplement(int('101', base=2)) == 2\n",
    "assert Solution().findComplement(int('10', base=2)) == 1\n",
    "assert Solution().findComplement(int('1010', base=2)) == 5\n",
    "assert Solution().findComplement(int('111', base=2)) == 0\n",
    "assert Solution().findComplement(int('110', base=2)) == 1"
   ],
   "metadata": {
    "collapsed": false,
    "pycharm": {
     "name": "#%%\n"
    }
   }
  },
  {
   "cell_type": "code",
   "execution_count": null,
   "outputs": [],
   "source": [],
   "metadata": {
    "collapsed": false,
    "pycharm": {
     "name": "#%%\n"
    }
   }
  }
 ],
 "metadata": {
  "kernelspec": {
   "display_name": "Python 3",
   "language": "python",
   "name": "python3"
  },
  "language_info": {
   "codemirror_mode": {
    "name": "ipython",
    "version": 2
   },
   "file_extension": ".py",
   "mimetype": "text/x-python",
   "name": "python",
   "nbconvert_exporter": "python",
   "pygments_lexer": "ipython2",
   "version": "2.7.6"
  }
 },
 "nbformat": 4,
 "nbformat_minor": 0
}